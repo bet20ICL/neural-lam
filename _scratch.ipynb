{
 "cells": [
  {
   "cell_type": "code",
   "execution_count": 64,
   "metadata": {},
   "outputs": [],
   "source": [
    "import torch\n",
    "import xarray as xr\n",
    "import numpy as np"
   ]
  },
  {
   "cell_type": "code",
   "execution_count": 65,
   "metadata": {},
   "outputs": [],
   "source": [
    "import scripts.constants as constants"
   ]
  },
  {
   "cell_type": "code",
   "execution_count": 112,
   "metadata": {},
   "outputs": [],
   "source": [
    "file_path = f\"{constants.DATASET_PATH}/global/2022_01.nc\"\n",
    "# file_path = f\"data/2022_01_03.nc\"\n",
    "# data = xr.open_dataset(file_path, engine=\"netcdf4\")\n",
    "data = xr.open_dataset(file_path)"
   ]
  },
  {
   "cell_type": "code",
   "execution_count": 113,
   "metadata": {},
   "outputs": [
    {
     "data": {
      "text/html": [
       "<div><svg style=\"position: absolute; width: 0; height: 0; overflow: hidden\">\n",
       "<defs>\n",
       "<symbol id=\"icon-database\" viewBox=\"0 0 32 32\">\n",
       "<path d=\"M16 0c-8.837 0-16 2.239-16 5v4c0 2.761 7.163 5 16 5s16-2.239 16-5v-4c0-2.761-7.163-5-16-5z\"></path>\n",
       "<path d=\"M16 17c-8.837 0-16-2.239-16-5v6c0 2.761 7.163 5 16 5s16-2.239 16-5v-6c0 2.761-7.163 5-16 5z\"></path>\n",
       "<path d=\"M16 26c-8.837 0-16-2.239-16-5v6c0 2.761 7.163 5 16 5s16-2.239 16-5v-6c0 2.761-7.163 5-16 5z\"></path>\n",
       "</symbol>\n",
       "<symbol id=\"icon-file-text2\" viewBox=\"0 0 32 32\">\n",
       "<path d=\"M28.681 7.159c-0.694-0.947-1.662-2.053-2.724-3.116s-2.169-2.030-3.116-2.724c-1.612-1.182-2.393-1.319-2.841-1.319h-15.5c-1.378 0-2.5 1.121-2.5 2.5v27c0 1.378 1.122 2.5 2.5 2.5h23c1.378 0 2.5-1.122 2.5-2.5v-19.5c0-0.448-0.137-1.23-1.319-2.841zM24.543 5.457c0.959 0.959 1.712 1.825 2.268 2.543h-4.811v-4.811c0.718 0.556 1.584 1.309 2.543 2.268zM28 29.5c0 0.271-0.229 0.5-0.5 0.5h-23c-0.271 0-0.5-0.229-0.5-0.5v-27c0-0.271 0.229-0.5 0.5-0.5 0 0 15.499-0 15.5 0v7c0 0.552 0.448 1 1 1h7v19.5z\"></path>\n",
       "<path d=\"M23 26h-14c-0.552 0-1-0.448-1-1s0.448-1 1-1h14c0.552 0 1 0.448 1 1s-0.448 1-1 1z\"></path>\n",
       "<path d=\"M23 22h-14c-0.552 0-1-0.448-1-1s0.448-1 1-1h14c0.552 0 1 0.448 1 1s-0.448 1-1 1z\"></path>\n",
       "<path d=\"M23 18h-14c-0.552 0-1-0.448-1-1s0.448-1 1-1h14c0.552 0 1 0.448 1 1s-0.448 1-1 1z\"></path>\n",
       "</symbol>\n",
       "</defs>\n",
       "</svg>\n",
       "<style>/* CSS stylesheet for displaying xarray objects in jupyterlab.\n",
       " *\n",
       " */\n",
       "\n",
       ":root {\n",
       "  --xr-font-color0: var(--jp-content-font-color0, rgba(0, 0, 0, 1));\n",
       "  --xr-font-color2: var(--jp-content-font-color2, rgba(0, 0, 0, 0.54));\n",
       "  --xr-font-color3: var(--jp-content-font-color3, rgba(0, 0, 0, 0.38));\n",
       "  --xr-border-color: var(--jp-border-color2, #e0e0e0);\n",
       "  --xr-disabled-color: var(--jp-layout-color3, #bdbdbd);\n",
       "  --xr-background-color: var(--jp-layout-color0, white);\n",
       "  --xr-background-color-row-even: var(--jp-layout-color1, white);\n",
       "  --xr-background-color-row-odd: var(--jp-layout-color2, #eeeeee);\n",
       "}\n",
       "\n",
       "html[theme=dark],\n",
       "body[data-theme=dark],\n",
       "body.vscode-dark {\n",
       "  --xr-font-color0: rgba(255, 255, 255, 1);\n",
       "  --xr-font-color2: rgba(255, 255, 255, 0.54);\n",
       "  --xr-font-color3: rgba(255, 255, 255, 0.38);\n",
       "  --xr-border-color: #1F1F1F;\n",
       "  --xr-disabled-color: #515151;\n",
       "  --xr-background-color: #111111;\n",
       "  --xr-background-color-row-even: #111111;\n",
       "  --xr-background-color-row-odd: #313131;\n",
       "}\n",
       "\n",
       ".xr-wrap {\n",
       "  display: block !important;\n",
       "  min-width: 300px;\n",
       "  max-width: 700px;\n",
       "}\n",
       "\n",
       ".xr-text-repr-fallback {\n",
       "  /* fallback to plain text repr when CSS is not injected (untrusted notebook) */\n",
       "  display: none;\n",
       "}\n",
       "\n",
       ".xr-header {\n",
       "  padding-top: 6px;\n",
       "  padding-bottom: 6px;\n",
       "  margin-bottom: 4px;\n",
       "  border-bottom: solid 1px var(--xr-border-color);\n",
       "}\n",
       "\n",
       ".xr-header > div,\n",
       ".xr-header > ul {\n",
       "  display: inline;\n",
       "  margin-top: 0;\n",
       "  margin-bottom: 0;\n",
       "}\n",
       "\n",
       ".xr-obj-type,\n",
       ".xr-array-name {\n",
       "  margin-left: 2px;\n",
       "  margin-right: 10px;\n",
       "}\n",
       "\n",
       ".xr-obj-type {\n",
       "  color: var(--xr-font-color2);\n",
       "}\n",
       "\n",
       ".xr-sections {\n",
       "  padding-left: 0 !important;\n",
       "  display: grid;\n",
       "  grid-template-columns: 150px auto auto 1fr 20px 20px;\n",
       "}\n",
       "\n",
       ".xr-section-item {\n",
       "  display: contents;\n",
       "}\n",
       "\n",
       ".xr-section-item input {\n",
       "  display: none;\n",
       "}\n",
       "\n",
       ".xr-section-item input + label {\n",
       "  color: var(--xr-disabled-color);\n",
       "}\n",
       "\n",
       ".xr-section-item input:enabled + label {\n",
       "  cursor: pointer;\n",
       "  color: var(--xr-font-color2);\n",
       "}\n",
       "\n",
       ".xr-section-item input:enabled + label:hover {\n",
       "  color: var(--xr-font-color0);\n",
       "}\n",
       "\n",
       ".xr-section-summary {\n",
       "  grid-column: 1;\n",
       "  color: var(--xr-font-color2);\n",
       "  font-weight: 500;\n",
       "}\n",
       "\n",
       ".xr-section-summary > span {\n",
       "  display: inline-block;\n",
       "  padding-left: 0.5em;\n",
       "}\n",
       "\n",
       ".xr-section-summary-in:disabled + label {\n",
       "  color: var(--xr-font-color2);\n",
       "}\n",
       "\n",
       ".xr-section-summary-in + label:before {\n",
       "  display: inline-block;\n",
       "  content: '►';\n",
       "  font-size: 11px;\n",
       "  width: 15px;\n",
       "  text-align: center;\n",
       "}\n",
       "\n",
       ".xr-section-summary-in:disabled + label:before {\n",
       "  color: var(--xr-disabled-color);\n",
       "}\n",
       "\n",
       ".xr-section-summary-in:checked + label:before {\n",
       "  content: '▼';\n",
       "}\n",
       "\n",
       ".xr-section-summary-in:checked + label > span {\n",
       "  display: none;\n",
       "}\n",
       "\n",
       ".xr-section-summary,\n",
       ".xr-section-inline-details {\n",
       "  padding-top: 4px;\n",
       "  padding-bottom: 4px;\n",
       "}\n",
       "\n",
       ".xr-section-inline-details {\n",
       "  grid-column: 2 / -1;\n",
       "}\n",
       "\n",
       ".xr-section-details {\n",
       "  display: none;\n",
       "  grid-column: 1 / -1;\n",
       "  margin-bottom: 5px;\n",
       "}\n",
       "\n",
       ".xr-section-summary-in:checked ~ .xr-section-details {\n",
       "  display: contents;\n",
       "}\n",
       "\n",
       ".xr-array-wrap {\n",
       "  grid-column: 1 / -1;\n",
       "  display: grid;\n",
       "  grid-template-columns: 20px auto;\n",
       "}\n",
       "\n",
       ".xr-array-wrap > label {\n",
       "  grid-column: 1;\n",
       "  vertical-align: top;\n",
       "}\n",
       "\n",
       ".xr-preview {\n",
       "  color: var(--xr-font-color3);\n",
       "}\n",
       "\n",
       ".xr-array-preview,\n",
       ".xr-array-data {\n",
       "  padding: 0 5px !important;\n",
       "  grid-column: 2;\n",
       "}\n",
       "\n",
       ".xr-array-data,\n",
       ".xr-array-in:checked ~ .xr-array-preview {\n",
       "  display: none;\n",
       "}\n",
       "\n",
       ".xr-array-in:checked ~ .xr-array-data,\n",
       ".xr-array-preview {\n",
       "  display: inline-block;\n",
       "}\n",
       "\n",
       ".xr-dim-list {\n",
       "  display: inline-block !important;\n",
       "  list-style: none;\n",
       "  padding: 0 !important;\n",
       "  margin: 0;\n",
       "}\n",
       "\n",
       ".xr-dim-list li {\n",
       "  display: inline-block;\n",
       "  padding: 0;\n",
       "  margin: 0;\n",
       "}\n",
       "\n",
       ".xr-dim-list:before {\n",
       "  content: '(';\n",
       "}\n",
       "\n",
       ".xr-dim-list:after {\n",
       "  content: ')';\n",
       "}\n",
       "\n",
       ".xr-dim-list li:not(:last-child):after {\n",
       "  content: ',';\n",
       "  padding-right: 5px;\n",
       "}\n",
       "\n",
       ".xr-has-index {\n",
       "  font-weight: bold;\n",
       "}\n",
       "\n",
       ".xr-var-list,\n",
       ".xr-var-item {\n",
       "  display: contents;\n",
       "}\n",
       "\n",
       ".xr-var-item > div,\n",
       ".xr-var-item label,\n",
       ".xr-var-item > .xr-var-name span {\n",
       "  background-color: var(--xr-background-color-row-even);\n",
       "  margin-bottom: 0;\n",
       "}\n",
       "\n",
       ".xr-var-item > .xr-var-name:hover span {\n",
       "  padding-right: 5px;\n",
       "}\n",
       "\n",
       ".xr-var-list > li:nth-child(odd) > div,\n",
       ".xr-var-list > li:nth-child(odd) > label,\n",
       ".xr-var-list > li:nth-child(odd) > .xr-var-name span {\n",
       "  background-color: var(--xr-background-color-row-odd);\n",
       "}\n",
       "\n",
       ".xr-var-name {\n",
       "  grid-column: 1;\n",
       "}\n",
       "\n",
       ".xr-var-dims {\n",
       "  grid-column: 2;\n",
       "}\n",
       "\n",
       ".xr-var-dtype {\n",
       "  grid-column: 3;\n",
       "  text-align: right;\n",
       "  color: var(--xr-font-color2);\n",
       "}\n",
       "\n",
       ".xr-var-preview {\n",
       "  grid-column: 4;\n",
       "}\n",
       "\n",
       ".xr-index-preview {\n",
       "  grid-column: 2 / 5;\n",
       "  color: var(--xr-font-color2);\n",
       "}\n",
       "\n",
       ".xr-var-name,\n",
       ".xr-var-dims,\n",
       ".xr-var-dtype,\n",
       ".xr-preview,\n",
       ".xr-attrs dt {\n",
       "  white-space: nowrap;\n",
       "  overflow: hidden;\n",
       "  text-overflow: ellipsis;\n",
       "  padding-right: 10px;\n",
       "}\n",
       "\n",
       ".xr-var-name:hover,\n",
       ".xr-var-dims:hover,\n",
       ".xr-var-dtype:hover,\n",
       ".xr-attrs dt:hover {\n",
       "  overflow: visible;\n",
       "  width: auto;\n",
       "  z-index: 1;\n",
       "}\n",
       "\n",
       ".xr-var-attrs,\n",
       ".xr-var-data,\n",
       ".xr-index-data {\n",
       "  display: none;\n",
       "  background-color: var(--xr-background-color) !important;\n",
       "  padding-bottom: 5px !important;\n",
       "}\n",
       "\n",
       ".xr-var-attrs-in:checked ~ .xr-var-attrs,\n",
       ".xr-var-data-in:checked ~ .xr-var-data,\n",
       ".xr-index-data-in:checked ~ .xr-index-data {\n",
       "  display: block;\n",
       "}\n",
       "\n",
       ".xr-var-data > table {\n",
       "  float: right;\n",
       "}\n",
       "\n",
       ".xr-var-name span,\n",
       ".xr-var-data,\n",
       ".xr-index-name div,\n",
       ".xr-index-data,\n",
       ".xr-attrs {\n",
       "  padding-left: 25px !important;\n",
       "}\n",
       "\n",
       ".xr-attrs,\n",
       ".xr-var-attrs,\n",
       ".xr-var-data,\n",
       ".xr-index-data {\n",
       "  grid-column: 1 / -1;\n",
       "}\n",
       "\n",
       "dl.xr-attrs {\n",
       "  padding: 0;\n",
       "  margin: 0;\n",
       "  display: grid;\n",
       "  grid-template-columns: 125px auto;\n",
       "}\n",
       "\n",
       ".xr-attrs dt,\n",
       ".xr-attrs dd {\n",
       "  padding: 0;\n",
       "  margin: 0;\n",
       "  float: left;\n",
       "  padding-right: 10px;\n",
       "  width: auto;\n",
       "}\n",
       "\n",
       ".xr-attrs dt {\n",
       "  font-weight: normal;\n",
       "  grid-column: 1;\n",
       "}\n",
       "\n",
       ".xr-attrs dt:hover span {\n",
       "  display: inline-block;\n",
       "  background: var(--xr-background-color);\n",
       "  padding-right: 10px;\n",
       "}\n",
       "\n",
       ".xr-attrs dd {\n",
       "  grid-column: 2;\n",
       "  white-space: pre-wrap;\n",
       "  word-break: break-all;\n",
       "}\n",
       "\n",
       ".xr-icon-database,\n",
       ".xr-icon-file-text2,\n",
       ".xr-no-icon {\n",
       "  display: inline-block;\n",
       "  vertical-align: middle;\n",
       "  width: 1em;\n",
       "  height: 1.5em !important;\n",
       "  stroke-width: 0;\n",
       "  stroke: currentColor;\n",
       "  fill: currentColor;\n",
       "}\n",
       "</style><pre class='xr-text-repr-fallback'>&lt;xarray.Dataset&gt;\n",
       "Dimensions:    (longitude: 1440, latitude: 721, level: 7, time: 124)\n",
       "Coordinates:\n",
       "  * longitude  (longitude) float32 0.0 0.25 0.5 0.75 ... 359.0 359.2 359.5 359.8\n",
       "  * latitude   (latitude) float32 90.0 89.75 89.5 89.25 ... -89.5 -89.75 -90.0\n",
       "  * level      (level) int32 50 150 250 400 600 850 1000\n",
       "  * time       (time) datetime64[ns] 2022-01-01 ... 2022-01-31T18:00:00\n",
       "Data variables:\n",
       "    z          (time, level, latitude, longitude) float32 ...\n",
       "    q          (time, level, latitude, longitude) float32 ...\n",
       "    t          (time, level, latitude, longitude) float32 ...\n",
       "    u          (time, level, latitude, longitude) float32 ...\n",
       "    v          (time, level, latitude, longitude) float32 ...\n",
       "    w          (time, level, latitude, longitude) float32 ...\n",
       "Attributes:\n",
       "    Conventions:  CF-1.6\n",
       "    history:      2023-11-28 00:56:11 GMT by grib_to_netcdf-2.25.1: /opt/ecmw...</pre><div class='xr-wrap' style='display:none'><div class='xr-header'><div class='xr-obj-type'>xarray.Dataset</div></div><ul class='xr-sections'><li class='xr-section-item'><input id='section-23873c4f-e154-416d-9383-dca598447d3d' class='xr-section-summary-in' type='checkbox' disabled ><label for='section-23873c4f-e154-416d-9383-dca598447d3d' class='xr-section-summary'  title='Expand/collapse section'>Dimensions:</label><div class='xr-section-inline-details'><ul class='xr-dim-list'><li><span class='xr-has-index'>longitude</span>: 1440</li><li><span class='xr-has-index'>latitude</span>: 721</li><li><span class='xr-has-index'>level</span>: 7</li><li><span class='xr-has-index'>time</span>: 124</li></ul></div><div class='xr-section-details'></div></li><li class='xr-section-item'><input id='section-45c5545f-599d-4fa2-9435-16a9a6800f52' class='xr-section-summary-in' type='checkbox'  checked><label for='section-45c5545f-599d-4fa2-9435-16a9a6800f52' class='xr-section-summary' >Coordinates: <span>(4)</span></label><div class='xr-section-inline-details'></div><div class='xr-section-details'><ul class='xr-var-list'><li class='xr-var-item'><div class='xr-var-name'><span class='xr-has-index'>longitude</span></div><div class='xr-var-dims'>(longitude)</div><div class='xr-var-dtype'>float32</div><div class='xr-var-preview xr-preview'>0.0 0.25 0.5 ... 359.2 359.5 359.8</div><input id='attrs-eb04f864-af92-4b76-8953-421f28bdf222' class='xr-var-attrs-in' type='checkbox' ><label for='attrs-eb04f864-af92-4b76-8953-421f28bdf222' title='Show/Hide attributes'><svg class='icon xr-icon-file-text2'><use xlink:href='#icon-file-text2'></use></svg></label><input id='data-c0115e2c-3f91-428a-af42-30c6ee01639b' class='xr-var-data-in' type='checkbox'><label for='data-c0115e2c-3f91-428a-af42-30c6ee01639b' title='Show/Hide data repr'><svg class='icon xr-icon-database'><use xlink:href='#icon-database'></use></svg></label><div class='xr-var-attrs'><dl class='xr-attrs'><dt><span>units :</span></dt><dd>degrees_east</dd><dt><span>long_name :</span></dt><dd>longitude</dd></dl></div><div class='xr-var-data'><pre>array([0.0000e+00, 2.5000e-01, 5.0000e-01, ..., 3.5925e+02, 3.5950e+02,\n",
       "       3.5975e+02], dtype=float32)</pre></div></li><li class='xr-var-item'><div class='xr-var-name'><span class='xr-has-index'>latitude</span></div><div class='xr-var-dims'>(latitude)</div><div class='xr-var-dtype'>float32</div><div class='xr-var-preview xr-preview'>90.0 89.75 89.5 ... -89.75 -90.0</div><input id='attrs-c875ff1d-149b-4f2e-a467-085171d6406d' class='xr-var-attrs-in' type='checkbox' ><label for='attrs-c875ff1d-149b-4f2e-a467-085171d6406d' title='Show/Hide attributes'><svg class='icon xr-icon-file-text2'><use xlink:href='#icon-file-text2'></use></svg></label><input id='data-0185674a-d79a-4498-b147-cd266d619965' class='xr-var-data-in' type='checkbox'><label for='data-0185674a-d79a-4498-b147-cd266d619965' title='Show/Hide data repr'><svg class='icon xr-icon-database'><use xlink:href='#icon-database'></use></svg></label><div class='xr-var-attrs'><dl class='xr-attrs'><dt><span>units :</span></dt><dd>degrees_north</dd><dt><span>long_name :</span></dt><dd>latitude</dd></dl></div><div class='xr-var-data'><pre>array([ 90.  ,  89.75,  89.5 , ..., -89.5 , -89.75, -90.  ], dtype=float32)</pre></div></li><li class='xr-var-item'><div class='xr-var-name'><span class='xr-has-index'>level</span></div><div class='xr-var-dims'>(level)</div><div class='xr-var-dtype'>int32</div><div class='xr-var-preview xr-preview'>50 150 250 400 600 850 1000</div><input id='attrs-e30a6d8f-24ea-489e-81ec-4a6c71cb80af' class='xr-var-attrs-in' type='checkbox' ><label for='attrs-e30a6d8f-24ea-489e-81ec-4a6c71cb80af' title='Show/Hide attributes'><svg class='icon xr-icon-file-text2'><use xlink:href='#icon-file-text2'></use></svg></label><input id='data-89525e21-ce15-4235-bd65-885ff382d1d0' class='xr-var-data-in' type='checkbox'><label for='data-89525e21-ce15-4235-bd65-885ff382d1d0' title='Show/Hide data repr'><svg class='icon xr-icon-database'><use xlink:href='#icon-database'></use></svg></label><div class='xr-var-attrs'><dl class='xr-attrs'><dt><span>units :</span></dt><dd>millibars</dd><dt><span>long_name :</span></dt><dd>pressure_level</dd></dl></div><div class='xr-var-data'><pre>array([  50,  150,  250,  400,  600,  850, 1000], dtype=int32)</pre></div></li><li class='xr-var-item'><div class='xr-var-name'><span class='xr-has-index'>time</span></div><div class='xr-var-dims'>(time)</div><div class='xr-var-dtype'>datetime64[ns]</div><div class='xr-var-preview xr-preview'>2022-01-01 ... 2022-01-31T18:00:00</div><input id='attrs-98dd715c-7c16-4387-9e9d-2efdae49afe6' class='xr-var-attrs-in' type='checkbox' ><label for='attrs-98dd715c-7c16-4387-9e9d-2efdae49afe6' title='Show/Hide attributes'><svg class='icon xr-icon-file-text2'><use xlink:href='#icon-file-text2'></use></svg></label><input id='data-519f287e-b299-453e-9124-2fdb88223e86' class='xr-var-data-in' type='checkbox'><label for='data-519f287e-b299-453e-9124-2fdb88223e86' title='Show/Hide data repr'><svg class='icon xr-icon-database'><use xlink:href='#icon-database'></use></svg></label><div class='xr-var-attrs'><dl class='xr-attrs'><dt><span>long_name :</span></dt><dd>time</dd></dl></div><div class='xr-var-data'><pre>array([&#x27;2022-01-01T00:00:00.000000000&#x27;, &#x27;2022-01-01T06:00:00.000000000&#x27;,\n",
       "       &#x27;2022-01-01T12:00:00.000000000&#x27;, &#x27;2022-01-01T18:00:00.000000000&#x27;,\n",
       "       &#x27;2022-01-02T00:00:00.000000000&#x27;, &#x27;2022-01-02T06:00:00.000000000&#x27;,\n",
       "       &#x27;2022-01-02T12:00:00.000000000&#x27;, &#x27;2022-01-02T18:00:00.000000000&#x27;,\n",
       "       &#x27;2022-01-03T00:00:00.000000000&#x27;, &#x27;2022-01-03T06:00:00.000000000&#x27;,\n",
       "       &#x27;2022-01-03T12:00:00.000000000&#x27;, &#x27;2022-01-03T18:00:00.000000000&#x27;,\n",
       "       &#x27;2022-01-04T00:00:00.000000000&#x27;, &#x27;2022-01-04T06:00:00.000000000&#x27;,\n",
       "       &#x27;2022-01-04T12:00:00.000000000&#x27;, &#x27;2022-01-04T18:00:00.000000000&#x27;,\n",
       "       &#x27;2022-01-05T00:00:00.000000000&#x27;, &#x27;2022-01-05T06:00:00.000000000&#x27;,\n",
       "       &#x27;2022-01-05T12:00:00.000000000&#x27;, &#x27;2022-01-05T18:00:00.000000000&#x27;,\n",
       "       &#x27;2022-01-06T00:00:00.000000000&#x27;, &#x27;2022-01-06T06:00:00.000000000&#x27;,\n",
       "       &#x27;2022-01-06T12:00:00.000000000&#x27;, &#x27;2022-01-06T18:00:00.000000000&#x27;,\n",
       "       &#x27;2022-01-07T00:00:00.000000000&#x27;, &#x27;2022-01-07T06:00:00.000000000&#x27;,\n",
       "       &#x27;2022-01-07T12:00:00.000000000&#x27;, &#x27;2022-01-07T18:00:00.000000000&#x27;,\n",
       "       &#x27;2022-01-08T00:00:00.000000000&#x27;, &#x27;2022-01-08T06:00:00.000000000&#x27;,\n",
       "       &#x27;2022-01-08T12:00:00.000000000&#x27;, &#x27;2022-01-08T18:00:00.000000000&#x27;,\n",
       "       &#x27;2022-01-09T00:00:00.000000000&#x27;, &#x27;2022-01-09T06:00:00.000000000&#x27;,\n",
       "       &#x27;2022-01-09T12:00:00.000000000&#x27;, &#x27;2022-01-09T18:00:00.000000000&#x27;,\n",
       "       &#x27;2022-01-10T00:00:00.000000000&#x27;, &#x27;2022-01-10T06:00:00.000000000&#x27;,\n",
       "       &#x27;2022-01-10T12:00:00.000000000&#x27;, &#x27;2022-01-10T18:00:00.000000000&#x27;,\n",
       "       &#x27;2022-01-11T00:00:00.000000000&#x27;, &#x27;2022-01-11T06:00:00.000000000&#x27;,\n",
       "       &#x27;2022-01-11T12:00:00.000000000&#x27;, &#x27;2022-01-11T18:00:00.000000000&#x27;,\n",
       "       &#x27;2022-01-12T00:00:00.000000000&#x27;, &#x27;2022-01-12T06:00:00.000000000&#x27;,\n",
       "       &#x27;2022-01-12T12:00:00.000000000&#x27;, &#x27;2022-01-12T18:00:00.000000000&#x27;,\n",
       "       &#x27;2022-01-13T00:00:00.000000000&#x27;, &#x27;2022-01-13T06:00:00.000000000&#x27;,\n",
       "       &#x27;2022-01-13T12:00:00.000000000&#x27;, &#x27;2022-01-13T18:00:00.000000000&#x27;,\n",
       "       &#x27;2022-01-14T00:00:00.000000000&#x27;, &#x27;2022-01-14T06:00:00.000000000&#x27;,\n",
       "       &#x27;2022-01-14T12:00:00.000000000&#x27;, &#x27;2022-01-14T18:00:00.000000000&#x27;,\n",
       "       &#x27;2022-01-15T00:00:00.000000000&#x27;, &#x27;2022-01-15T06:00:00.000000000&#x27;,\n",
       "       &#x27;2022-01-15T12:00:00.000000000&#x27;, &#x27;2022-01-15T18:00:00.000000000&#x27;,\n",
       "       &#x27;2022-01-16T00:00:00.000000000&#x27;, &#x27;2022-01-16T06:00:00.000000000&#x27;,\n",
       "       &#x27;2022-01-16T12:00:00.000000000&#x27;, &#x27;2022-01-16T18:00:00.000000000&#x27;,\n",
       "       &#x27;2022-01-17T00:00:00.000000000&#x27;, &#x27;2022-01-17T06:00:00.000000000&#x27;,\n",
       "       &#x27;2022-01-17T12:00:00.000000000&#x27;, &#x27;2022-01-17T18:00:00.000000000&#x27;,\n",
       "       &#x27;2022-01-18T00:00:00.000000000&#x27;, &#x27;2022-01-18T06:00:00.000000000&#x27;,\n",
       "       &#x27;2022-01-18T12:00:00.000000000&#x27;, &#x27;2022-01-18T18:00:00.000000000&#x27;,\n",
       "       &#x27;2022-01-19T00:00:00.000000000&#x27;, &#x27;2022-01-19T06:00:00.000000000&#x27;,\n",
       "       &#x27;2022-01-19T12:00:00.000000000&#x27;, &#x27;2022-01-19T18:00:00.000000000&#x27;,\n",
       "       &#x27;2022-01-20T00:00:00.000000000&#x27;, &#x27;2022-01-20T06:00:00.000000000&#x27;,\n",
       "       &#x27;2022-01-20T12:00:00.000000000&#x27;, &#x27;2022-01-20T18:00:00.000000000&#x27;,\n",
       "       &#x27;2022-01-21T00:00:00.000000000&#x27;, &#x27;2022-01-21T06:00:00.000000000&#x27;,\n",
       "       &#x27;2022-01-21T12:00:00.000000000&#x27;, &#x27;2022-01-21T18:00:00.000000000&#x27;,\n",
       "       &#x27;2022-01-22T00:00:00.000000000&#x27;, &#x27;2022-01-22T06:00:00.000000000&#x27;,\n",
       "       &#x27;2022-01-22T12:00:00.000000000&#x27;, &#x27;2022-01-22T18:00:00.000000000&#x27;,\n",
       "       &#x27;2022-01-23T00:00:00.000000000&#x27;, &#x27;2022-01-23T06:00:00.000000000&#x27;,\n",
       "       &#x27;2022-01-23T12:00:00.000000000&#x27;, &#x27;2022-01-23T18:00:00.000000000&#x27;,\n",
       "       &#x27;2022-01-24T00:00:00.000000000&#x27;, &#x27;2022-01-24T06:00:00.000000000&#x27;,\n",
       "       &#x27;2022-01-24T12:00:00.000000000&#x27;, &#x27;2022-01-24T18:00:00.000000000&#x27;,\n",
       "       &#x27;2022-01-25T00:00:00.000000000&#x27;, &#x27;2022-01-25T06:00:00.000000000&#x27;,\n",
       "       &#x27;2022-01-25T12:00:00.000000000&#x27;, &#x27;2022-01-25T18:00:00.000000000&#x27;,\n",
       "       &#x27;2022-01-26T00:00:00.000000000&#x27;, &#x27;2022-01-26T06:00:00.000000000&#x27;,\n",
       "       &#x27;2022-01-26T12:00:00.000000000&#x27;, &#x27;2022-01-26T18:00:00.000000000&#x27;,\n",
       "       &#x27;2022-01-27T00:00:00.000000000&#x27;, &#x27;2022-01-27T06:00:00.000000000&#x27;,\n",
       "       &#x27;2022-01-27T12:00:00.000000000&#x27;, &#x27;2022-01-27T18:00:00.000000000&#x27;,\n",
       "       &#x27;2022-01-28T00:00:00.000000000&#x27;, &#x27;2022-01-28T06:00:00.000000000&#x27;,\n",
       "       &#x27;2022-01-28T12:00:00.000000000&#x27;, &#x27;2022-01-28T18:00:00.000000000&#x27;,\n",
       "       &#x27;2022-01-29T00:00:00.000000000&#x27;, &#x27;2022-01-29T06:00:00.000000000&#x27;,\n",
       "       &#x27;2022-01-29T12:00:00.000000000&#x27;, &#x27;2022-01-29T18:00:00.000000000&#x27;,\n",
       "       &#x27;2022-01-30T00:00:00.000000000&#x27;, &#x27;2022-01-30T06:00:00.000000000&#x27;,\n",
       "       &#x27;2022-01-30T12:00:00.000000000&#x27;, &#x27;2022-01-30T18:00:00.000000000&#x27;,\n",
       "       &#x27;2022-01-31T00:00:00.000000000&#x27;, &#x27;2022-01-31T06:00:00.000000000&#x27;,\n",
       "       &#x27;2022-01-31T12:00:00.000000000&#x27;, &#x27;2022-01-31T18:00:00.000000000&#x27;],\n",
       "      dtype=&#x27;datetime64[ns]&#x27;)</pre></div></li></ul></div></li><li class='xr-section-item'><input id='section-1eb538f5-3dfb-4676-b3e9-0e24a0ff26bd' class='xr-section-summary-in' type='checkbox'  checked><label for='section-1eb538f5-3dfb-4676-b3e9-0e24a0ff26bd' class='xr-section-summary' >Data variables: <span>(6)</span></label><div class='xr-section-inline-details'></div><div class='xr-section-details'><ul class='xr-var-list'><li class='xr-var-item'><div class='xr-var-name'><span>z</span></div><div class='xr-var-dims'>(time, level, latitude, longitude)</div><div class='xr-var-dtype'>float32</div><div class='xr-var-preview xr-preview'>...</div><input id='attrs-b1e49ce0-1786-4bda-aab0-06796f58b700' class='xr-var-attrs-in' type='checkbox' ><label for='attrs-b1e49ce0-1786-4bda-aab0-06796f58b700' title='Show/Hide attributes'><svg class='icon xr-icon-file-text2'><use xlink:href='#icon-file-text2'></use></svg></label><input id='data-9378f800-5ba8-44ed-b681-f27d52483292' class='xr-var-data-in' type='checkbox'><label for='data-9378f800-5ba8-44ed-b681-f27d52483292' title='Show/Hide data repr'><svg class='icon xr-icon-database'><use xlink:href='#icon-database'></use></svg></label><div class='xr-var-attrs'><dl class='xr-attrs'><dt><span>units :</span></dt><dd>m**2 s**-2</dd><dt><span>long_name :</span></dt><dd>Geopotential</dd><dt><span>standard_name :</span></dt><dd>geopotential</dd></dl></div><div class='xr-var-data'><pre>[901192320 values with dtype=float32]</pre></div></li><li class='xr-var-item'><div class='xr-var-name'><span>q</span></div><div class='xr-var-dims'>(time, level, latitude, longitude)</div><div class='xr-var-dtype'>float32</div><div class='xr-var-preview xr-preview'>...</div><input id='attrs-b85a9e1d-2d10-4c7f-81e4-2bb1d629573a' class='xr-var-attrs-in' type='checkbox' ><label for='attrs-b85a9e1d-2d10-4c7f-81e4-2bb1d629573a' title='Show/Hide attributes'><svg class='icon xr-icon-file-text2'><use xlink:href='#icon-file-text2'></use></svg></label><input id='data-616a7cfb-ff25-46de-b5cd-9ffc89c255cb' class='xr-var-data-in' type='checkbox'><label for='data-616a7cfb-ff25-46de-b5cd-9ffc89c255cb' title='Show/Hide data repr'><svg class='icon xr-icon-database'><use xlink:href='#icon-database'></use></svg></label><div class='xr-var-attrs'><dl class='xr-attrs'><dt><span>units :</span></dt><dd>kg kg**-1</dd><dt><span>long_name :</span></dt><dd>Specific humidity</dd><dt><span>standard_name :</span></dt><dd>specific_humidity</dd></dl></div><div class='xr-var-data'><pre>[901192320 values with dtype=float32]</pre></div></li><li class='xr-var-item'><div class='xr-var-name'><span>t</span></div><div class='xr-var-dims'>(time, level, latitude, longitude)</div><div class='xr-var-dtype'>float32</div><div class='xr-var-preview xr-preview'>...</div><input id='attrs-818a8625-026d-4193-8732-05c573d206b2' class='xr-var-attrs-in' type='checkbox' ><label for='attrs-818a8625-026d-4193-8732-05c573d206b2' title='Show/Hide attributes'><svg class='icon xr-icon-file-text2'><use xlink:href='#icon-file-text2'></use></svg></label><input id='data-bf65011f-1730-4c6b-b9d1-bc54f2ddbc06' class='xr-var-data-in' type='checkbox'><label for='data-bf65011f-1730-4c6b-b9d1-bc54f2ddbc06' title='Show/Hide data repr'><svg class='icon xr-icon-database'><use xlink:href='#icon-database'></use></svg></label><div class='xr-var-attrs'><dl class='xr-attrs'><dt><span>units :</span></dt><dd>K</dd><dt><span>long_name :</span></dt><dd>Temperature</dd><dt><span>standard_name :</span></dt><dd>air_temperature</dd></dl></div><div class='xr-var-data'><pre>[901192320 values with dtype=float32]</pre></div></li><li class='xr-var-item'><div class='xr-var-name'><span>u</span></div><div class='xr-var-dims'>(time, level, latitude, longitude)</div><div class='xr-var-dtype'>float32</div><div class='xr-var-preview xr-preview'>...</div><input id='attrs-b30ed85d-12bc-4a0e-8abd-244198434551' class='xr-var-attrs-in' type='checkbox' ><label for='attrs-b30ed85d-12bc-4a0e-8abd-244198434551' title='Show/Hide attributes'><svg class='icon xr-icon-file-text2'><use xlink:href='#icon-file-text2'></use></svg></label><input id='data-e4247f42-4af3-4820-a340-0066399a3bc3' class='xr-var-data-in' type='checkbox'><label for='data-e4247f42-4af3-4820-a340-0066399a3bc3' title='Show/Hide data repr'><svg class='icon xr-icon-database'><use xlink:href='#icon-database'></use></svg></label><div class='xr-var-attrs'><dl class='xr-attrs'><dt><span>units :</span></dt><dd>m s**-1</dd><dt><span>long_name :</span></dt><dd>U component of wind</dd><dt><span>standard_name :</span></dt><dd>eastward_wind</dd></dl></div><div class='xr-var-data'><pre>[901192320 values with dtype=float32]</pre></div></li><li class='xr-var-item'><div class='xr-var-name'><span>v</span></div><div class='xr-var-dims'>(time, level, latitude, longitude)</div><div class='xr-var-dtype'>float32</div><div class='xr-var-preview xr-preview'>...</div><input id='attrs-fa8120f5-ef12-4c5b-a575-7898bbbe40e1' class='xr-var-attrs-in' type='checkbox' ><label for='attrs-fa8120f5-ef12-4c5b-a575-7898bbbe40e1' title='Show/Hide attributes'><svg class='icon xr-icon-file-text2'><use xlink:href='#icon-file-text2'></use></svg></label><input id='data-9272db40-fe35-4125-842b-6c10a31a695c' class='xr-var-data-in' type='checkbox'><label for='data-9272db40-fe35-4125-842b-6c10a31a695c' title='Show/Hide data repr'><svg class='icon xr-icon-database'><use xlink:href='#icon-database'></use></svg></label><div class='xr-var-attrs'><dl class='xr-attrs'><dt><span>units :</span></dt><dd>m s**-1</dd><dt><span>long_name :</span></dt><dd>V component of wind</dd><dt><span>standard_name :</span></dt><dd>northward_wind</dd></dl></div><div class='xr-var-data'><pre>[901192320 values with dtype=float32]</pre></div></li><li class='xr-var-item'><div class='xr-var-name'><span>w</span></div><div class='xr-var-dims'>(time, level, latitude, longitude)</div><div class='xr-var-dtype'>float32</div><div class='xr-var-preview xr-preview'>...</div><input id='attrs-5b3af0af-3feb-4b2a-ab51-a7026c6fa219' class='xr-var-attrs-in' type='checkbox' ><label for='attrs-5b3af0af-3feb-4b2a-ab51-a7026c6fa219' title='Show/Hide attributes'><svg class='icon xr-icon-file-text2'><use xlink:href='#icon-file-text2'></use></svg></label><input id='data-5ce4852d-50ee-4567-98a2-19bd9d41a3e3' class='xr-var-data-in' type='checkbox'><label for='data-5ce4852d-50ee-4567-98a2-19bd9d41a3e3' title='Show/Hide data repr'><svg class='icon xr-icon-database'><use xlink:href='#icon-database'></use></svg></label><div class='xr-var-attrs'><dl class='xr-attrs'><dt><span>units :</span></dt><dd>Pa s**-1</dd><dt><span>long_name :</span></dt><dd>Vertical velocity</dd><dt><span>standard_name :</span></dt><dd>lagrangian_tendency_of_air_pressure</dd></dl></div><div class='xr-var-data'><pre>[901192320 values with dtype=float32]</pre></div></li></ul></div></li><li class='xr-section-item'><input id='section-94c79717-81df-4b12-bea3-f5a3713b60c0' class='xr-section-summary-in' type='checkbox'  ><label for='section-94c79717-81df-4b12-bea3-f5a3713b60c0' class='xr-section-summary' >Indexes: <span>(4)</span></label><div class='xr-section-inline-details'></div><div class='xr-section-details'><ul class='xr-var-list'><li class='xr-var-item'><div class='xr-index-name'><div>longitude</div></div><div class='xr-index-preview'>PandasIndex</div><div></div><input id='index-022307ae-439c-4b67-8fdf-5a9ec1369a70' class='xr-index-data-in' type='checkbox'/><label for='index-022307ae-439c-4b67-8fdf-5a9ec1369a70' title='Show/Hide index repr'><svg class='icon xr-icon-database'><use xlink:href='#icon-database'></use></svg></label><div class='xr-index-data'><pre>PandasIndex(Float64Index([   0.0,   0.25,    0.5,   0.75,    1.0,   1.25,    1.5,   1.75,\n",
       "                 2.0,   2.25,\n",
       "              ...\n",
       "               357.5, 357.75,  358.0, 358.25,  358.5, 358.75,  359.0, 359.25,\n",
       "               359.5, 359.75],\n",
       "             dtype=&#x27;float64&#x27;, name=&#x27;longitude&#x27;, length=1440))</pre></div></li><li class='xr-var-item'><div class='xr-index-name'><div>latitude</div></div><div class='xr-index-preview'>PandasIndex</div><div></div><input id='index-fe461550-92c1-4f0e-accb-fb2fa3dd3573' class='xr-index-data-in' type='checkbox'/><label for='index-fe461550-92c1-4f0e-accb-fb2fa3dd3573' title='Show/Hide index repr'><svg class='icon xr-icon-database'><use xlink:href='#icon-database'></use></svg></label><div class='xr-index-data'><pre>PandasIndex(Float64Index([  90.0,  89.75,   89.5,  89.25,   89.0,  88.75,   88.5,  88.25,\n",
       "                88.0,  87.75,\n",
       "              ...\n",
       "              -87.75,  -88.0, -88.25,  -88.5, -88.75,  -89.0, -89.25,  -89.5,\n",
       "              -89.75,  -90.0],\n",
       "             dtype=&#x27;float64&#x27;, name=&#x27;latitude&#x27;, length=721))</pre></div></li><li class='xr-var-item'><div class='xr-index-name'><div>level</div></div><div class='xr-index-preview'>PandasIndex</div><div></div><input id='index-db083d30-d8d4-41d9-bfd3-5637d73ff1db' class='xr-index-data-in' type='checkbox'/><label for='index-db083d30-d8d4-41d9-bfd3-5637d73ff1db' title='Show/Hide index repr'><svg class='icon xr-icon-database'><use xlink:href='#icon-database'></use></svg></label><div class='xr-index-data'><pre>PandasIndex(Int64Index([50, 150, 250, 400, 600, 850, 1000], dtype=&#x27;int64&#x27;, name=&#x27;level&#x27;))</pre></div></li><li class='xr-var-item'><div class='xr-index-name'><div>time</div></div><div class='xr-index-preview'>PandasIndex</div><div></div><input id='index-2b9e7651-b1f5-4653-b3f4-0b4f4df08cba' class='xr-index-data-in' type='checkbox'/><label for='index-2b9e7651-b1f5-4653-b3f4-0b4f4df08cba' title='Show/Hide index repr'><svg class='icon xr-icon-database'><use xlink:href='#icon-database'></use></svg></label><div class='xr-index-data'><pre>PandasIndex(DatetimeIndex([&#x27;2022-01-01 00:00:00&#x27;, &#x27;2022-01-01 06:00:00&#x27;,\n",
       "               &#x27;2022-01-01 12:00:00&#x27;, &#x27;2022-01-01 18:00:00&#x27;,\n",
       "               &#x27;2022-01-02 00:00:00&#x27;, &#x27;2022-01-02 06:00:00&#x27;,\n",
       "               &#x27;2022-01-02 12:00:00&#x27;, &#x27;2022-01-02 18:00:00&#x27;,\n",
       "               &#x27;2022-01-03 00:00:00&#x27;, &#x27;2022-01-03 06:00:00&#x27;,\n",
       "               ...\n",
       "               &#x27;2022-01-29 12:00:00&#x27;, &#x27;2022-01-29 18:00:00&#x27;,\n",
       "               &#x27;2022-01-30 00:00:00&#x27;, &#x27;2022-01-30 06:00:00&#x27;,\n",
       "               &#x27;2022-01-30 12:00:00&#x27;, &#x27;2022-01-30 18:00:00&#x27;,\n",
       "               &#x27;2022-01-31 00:00:00&#x27;, &#x27;2022-01-31 06:00:00&#x27;,\n",
       "               &#x27;2022-01-31 12:00:00&#x27;, &#x27;2022-01-31 18:00:00&#x27;],\n",
       "              dtype=&#x27;datetime64[ns]&#x27;, name=&#x27;time&#x27;, length=124, freq=None))</pre></div></li></ul></div></li><li class='xr-section-item'><input id='section-887f811e-040c-4b8c-9140-3995ad28542f' class='xr-section-summary-in' type='checkbox'  checked><label for='section-887f811e-040c-4b8c-9140-3995ad28542f' class='xr-section-summary' >Attributes: <span>(2)</span></label><div class='xr-section-inline-details'></div><div class='xr-section-details'><dl class='xr-attrs'><dt><span>Conventions :</span></dt><dd>CF-1.6</dd><dt><span>history :</span></dt><dd>2023-11-28 00:56:11 GMT by grib_to_netcdf-2.25.1: /opt/ecmwf/mars-client/bin/grib_to_netcdf.bin -S param -o /cache/data1/adaptor.mars.internal-1701132624.172768-7363-17-8aa047ba-86f2-467f-a119-a8706b804e14.nc /cache/tmp/8aa047ba-86f2-467f-a119-a8706b804e14-adaptor.mars.internal-1701132473.5672493-7363-24-tmp.grib</dd></dl></div></li></ul></div></div>"
      ],
      "text/plain": [
       "<xarray.Dataset>\n",
       "Dimensions:    (longitude: 1440, latitude: 721, level: 7, time: 124)\n",
       "Coordinates:\n",
       "  * longitude  (longitude) float32 0.0 0.25 0.5 0.75 ... 359.0 359.2 359.5 359.8\n",
       "  * latitude   (latitude) float32 90.0 89.75 89.5 89.25 ... -89.5 -89.75 -90.0\n",
       "  * level      (level) int32 50 150 250 400 600 850 1000\n",
       "  * time       (time) datetime64[ns] 2022-01-01 ... 2022-01-31T18:00:00\n",
       "Data variables:\n",
       "    z          (time, level, latitude, longitude) float32 ...\n",
       "    q          (time, level, latitude, longitude) float32 ...\n",
       "    t          (time, level, latitude, longitude) float32 ...\n",
       "    u          (time, level, latitude, longitude) float32 ...\n",
       "    v          (time, level, latitude, longitude) float32 ...\n",
       "    w          (time, level, latitude, longitude) float32 ...\n",
       "Attributes:\n",
       "    Conventions:  CF-1.6\n",
       "    history:      2023-11-28 00:56:11 GMT by grib_to_netcdf-2.25.1: /opt/ecmw..."
      ]
     },
     "execution_count": 113,
     "metadata": {},
     "output_type": "execute_result"
    }
   ],
   "source": [
    "data"
   ]
  },
  {
   "cell_type": "code",
   "execution_count": 115,
   "metadata": {},
   "outputs": [
    {
     "data": {
      "text/plain": [
       "array([[ 90.  ,  89.75],\n",
       "       [ 89.5 ,  89.25],\n",
       "       [ 89.  ,  88.75],\n",
       "       ...,\n",
       "       [359.75, 359.75],\n",
       "       [359.75, 359.75],\n",
       "       [359.75, 359.75]], dtype=float32)"
      ]
     },
     "execution_count": 115,
     "metadata": {},
     "output_type": "execute_result"
    }
   ],
   "source": [
    "mesh = np.array(np.meshgrid(data.latitude.values, data.longitude.values))\n",
    "meshT = mesh.T\n",
    "mesh_rs = mesh.reshape(-1, 2)\n",
    "# mesh_rs.shape\n",
    "# mesh[0]\n",
    "\n",
    "# mesh[1]\n",
    "mesh_rs"
   ]
  },
  {
   "cell_type": "code",
   "execution_count": 116,
   "metadata": {},
   "outputs": [
    {
     "data": {
      "text/plain": [
       "Frozen({'longitude': 1440, 'latitude': 721, 'level': 7, 'time': 124})"
      ]
     },
     "execution_count": 116,
     "metadata": {},
     "output_type": "execute_result"
    }
   ],
   "source": [
    "data.dims"
   ]
  },
  {
   "cell_type": "code",
   "execution_count": 117,
   "metadata": {},
   "outputs": [
    {
     "data": {
      "text/plain": [
       "Data variables:\n",
       "    z        (time, level, latitude, longitude) float32 ...\n",
       "    q        (time, level, latitude, longitude) float32 ...\n",
       "    t        (time, level, latitude, longitude) float32 ...\n",
       "    u        (time, level, latitude, longitude) float32 ...\n",
       "    v        (time, level, latitude, longitude) float32 ...\n",
       "    w        (time, level, latitude, longitude) float32 ..."
      ]
     },
     "execution_count": 117,
     "metadata": {},
     "output_type": "execute_result"
    }
   ],
   "source": [
    "data.data_vars"
   ]
  },
  {
   "cell_type": "code",
   "execution_count": 71,
   "metadata": {},
   "outputs": [],
   "source": [
    "# d = data.chunk({'time': 1}) # doesn't work"
   ]
  },
  {
   "cell_type": "code",
   "execution_count": 118,
   "metadata": {},
   "outputs": [
    {
     "data": {
      "text/plain": [
       "(124, 7, 721, 1440)"
      ]
     },
     "execution_count": 118,
     "metadata": {},
     "output_type": "execute_result"
    }
   ],
   "source": [
    "data[\"z\"].values.shape"
   ]
  },
  {
   "cell_type": "code",
   "execution_count": 73,
   "metadata": {},
   "outputs": [
    {
     "data": {
      "text/plain": [
       "(7, 721, 1440)"
      ]
     },
     "execution_count": 73,
     "metadata": {},
     "output_type": "execute_result"
    }
   ],
   "source": [
    "slice_z_0 = data[\"z\"].values[0]\n",
    "slice_q_0 = data[\"q\"].values[0]\n",
    "slice_q_0.shape"
   ]
  },
  {
   "cell_type": "code",
   "execution_count": 74,
   "metadata": {},
   "outputs": [
    {
     "data": {
      "text/plain": [
       "(14, 721, 1440)"
      ]
     },
     "execution_count": 74,
     "metadata": {},
     "output_type": "execute_result"
    }
   ],
   "source": [
    "np_data = np.concatenate([\n",
    "    slice_z_0,\n",
    "    slice_q_0\n",
    "])\n",
    "np_data.shape"
   ]
  },
  {
   "cell_type": "code",
   "execution_count": 75,
   "metadata": {},
   "outputs": [
    {
     "data": {
      "text/plain": [
       "(1440, 721, 14)"
      ]
     },
     "execution_count": 75,
     "metadata": {},
     "output_type": "execute_result"
    }
   ],
   "source": [
    "np_data = np_data.T\n",
    "np_data.shape"
   ]
  },
  {
   "cell_type": "code",
   "execution_count": 58,
   "metadata": {},
   "outputs": [],
   "source": [
    "reshape_data = np.reshape(np_data, (-1, np_data.shape[-1]))"
   ]
  },
  {
   "cell_type": "code",
   "execution_count": 76,
   "metadata": {},
   "outputs": [
    {
     "data": {
      "text/plain": [
       "(1038240, 14)"
      ]
     },
     "execution_count": 76,
     "metadata": {},
     "output_type": "execute_result"
    }
   ],
   "source": [
    "reshape_data.shape"
   ]
  },
  {
   "cell_type": "code",
   "execution_count": 78,
   "metadata": {},
   "outputs": [
    {
     "ename": "ValueError",
     "evalue": "operands could not be broadcast together with shapes (1038240,14) (42,) ",
     "output_type": "error",
     "traceback": [
      "\u001b[0;31m---------------------------------------------------------------------------\u001b[0m",
      "\u001b[0;31mValueError\u001b[0m                                Traceback (most recent call last)",
      "Cell \u001b[0;32mIn[78], line 1\u001b[0m\n\u001b[0;32m----> 1\u001b[0m reshape_data \u001b[39m-\u001b[39;49m means\n",
      "\u001b[0;31mValueError\u001b[0m: operands could not be broadcast together with shapes (1038240,14) (42,) "
     ]
    }
   ],
   "source": [
    "reshape_data - means"
   ]
  },
  {
   "cell_type": "code",
   "execution_count": null,
   "metadata": {},
   "outputs": [],
   "source": [
    "data.close()"
   ]
  },
  {
   "cell_type": "code",
   "execution_count": 77,
   "metadata": {},
   "outputs": [],
   "source": [
    "means = [3.0166762157579455e-06, 3.9560930879360215e-06, 3.8351314814273384e-05, 0.0003396595888137118, 0.0012867776079310803, \n",
    "                0.003833464493499311, 0.006286048431357801, 215.33928634354638, 217.76054517424703, 219.7321800302087, 241.1157702580787, \n",
    "                261.77968952403296, 276.3531956476422, 283.3917086280774, 8.895224371150183, 14.194233130727183, 17.267192941886787, \n",
    "                13.521757991065273, 9.715120118654424, 5.963451454067497, 2.61615314171837, -2.8521758652591993, -1.6414841911736555, \n",
    "                -0.5453749043898468, 0.38463832072662013, 0.8972209794270624, 1.3065404441973123, 1.2073039467007576, 0.0001799281565135242, \n",
    "                -8.623624376444664e-05, -0.00397386423372239, -0.0045973597422843265, -0.0035422798913821124, 0.000349529344915178, 0.0018045873695415, \n",
    "                201652.69816816857, 133495.76988445988, 101584.00499884949, 70620.3051726795, 41317.35425607574, 14337.780164844866, 1256.5864153205666]"
   ]
  },
  {
   "cell_type": "code",
   "execution_count": 62,
   "metadata": {},
   "outputs": [
    {
     "data": {
      "text/plain": [
       "42"
      ]
     },
     "execution_count": 62,
     "metadata": {},
     "output_type": "execute_result"
    }
   ],
   "source": [
    "len(means)"
   ]
  }
 ],
 "metadata": {
  "kernelspec": {
   "display_name": "pgraph",
   "language": "python",
   "name": "python3"
  },
  "language_info": {
   "codemirror_mode": {
    "name": "ipython",
    "version": 3
   },
   "file_extension": ".py",
   "mimetype": "text/x-python",
   "name": "python",
   "nbconvert_exporter": "python",
   "pygments_lexer": "ipython3",
   "version": "3.10.6"
  },
  "orig_nbformat": 4
 },
 "nbformat": 4,
 "nbformat_minor": 2
}
