{
 "cells": [
  {
   "cell_type": "code",
   "execution_count": 1,
   "metadata": {},
   "outputs": [
    {
     "name": "stderr",
     "output_type": "stream",
     "text": [
      "/home/ec249/ec249/bet20/miniconda3/envs/graph/lib/python3.10/site-packages/tqdm/auto.py:21: TqdmWarning: IProgress not found. Please update jupyter and ipywidgets. See https://ipywidgets.readthedocs.io/en/stable/user_install.html\n",
      "  from .autonotebook import tqdm as notebook_tqdm\n"
     ]
    }
   ],
   "source": [
    "import torch"
   ]
  },
  {
   "cell_type": "code",
   "execution_count": 2,
   "metadata": {},
   "outputs": [
    {
     "name": "stdout",
     "output_type": "stream",
     "text": [
      "2.0.1+cu117\n",
      "11.7\n"
     ]
    },
    {
     "data": {
      "text/plain": [
       "'\\npython -m pip install pyg_lib torch_scatter torch_sparse torch_cluster torch_spline_conv -f https://data.pyg.org/whl/torch-2.0.1+cu117.html\\n'"
      ]
     },
     "execution_count": 2,
     "metadata": {},
     "output_type": "execute_result"
    }
   ],
   "source": [
    "print(torch.__version__)\n",
    "print(torch.version.cuda)\n",
    "\n",
    "\n",
    "\"\"\"\n",
    "python -m pip install pyg_lib torch_scatter torch_sparse torch_cluster torch_spline_conv -f https://data.pyg.org/whl/torch-2.0.1+cu117.html\n",
    "\"\"\""
   ]
  },
  {
   "cell_type": "code",
   "execution_count": 4,
   "metadata": {},
   "outputs": [
    {
     "name": "stdout",
     "output_type": "stream",
     "text": [
      "2.1.3\n"
     ]
    }
   ],
   "source": [
    "import pytorch_lightning as pl\n",
    "\n",
    "print(pl.__version__)"
   ]
  },
  {
   "cell_type": "code",
   "execution_count": null,
   "metadata": {},
   "outputs": [],
   "source": []
  },
  {
   "cell_type": "code",
   "execution_count": 3,
   "metadata": {},
   "outputs": [],
   "source": [
    "import torch_geometric as pyg"
   ]
  },
  {
   "cell_type": "code",
   "execution_count": null,
   "metadata": {},
   "outputs": [],
   "source": [
    "forcing_features = torch.Tensor()"
   ]
  },
  {
   "cell_type": "code",
   "execution_count": 6,
   "metadata": {},
   "outputs": [
    {
     "name": "stdout",
     "output_type": "stream",
     "text": [
      "tensor([[[[0.2073, 0.9328],\n",
      "          [0.0552, 0.0168],\n",
      "          [0.4485, 0.4042],\n",
      "          [0.6726, 0.8975],\n",
      "          [0.7965, 0.6579]],\n",
      "\n",
      "         [[0.1493, 0.5579],\n",
      "          [0.8077, 0.4184],\n",
      "          [0.1707, 0.4574],\n",
      "          [0.2736, 0.9490],\n",
      "          [0.1274, 0.1470]],\n",
      "\n",
      "         [[0.3195, 0.2642],\n",
      "          [0.3741, 0.0540],\n",
      "          [0.0459, 0.7240],\n",
      "          [0.0199, 0.2304],\n",
      "          [0.8819, 0.9447]],\n",
      "\n",
      "         [[0.5381, 0.9773],\n",
      "          [0.3556, 0.6832],\n",
      "          [0.6837, 0.1063],\n",
      "          [0.4686, 0.1840],\n",
      "          [0.7881, 0.6901]]],\n",
      "\n",
      "\n",
      "        [[[0.2895, 0.4023],\n",
      "          [0.2026, 0.9206],\n",
      "          [0.0335, 0.1871],\n",
      "          [0.4629, 0.8396],\n",
      "          [0.5807, 0.8292]],\n",
      "\n",
      "         [[0.4396, 0.9451],\n",
      "          [0.5021, 0.2842],\n",
      "          [0.8192, 0.7179],\n",
      "          [0.2106, 0.2227],\n",
      "          [0.4139, 0.7533]],\n",
      "\n",
      "         [[0.9342, 0.6943],\n",
      "          [0.0597, 0.4271],\n",
      "          [0.3841, 0.3039],\n",
      "          [0.1548, 0.0843],\n",
      "          [0.6821, 0.0592]],\n",
      "\n",
      "         [[0.2751, 0.2167],\n",
      "          [0.9796, 0.7312],\n",
      "          [0.1066, 0.9319],\n",
      "          [0.6578, 0.5832],\n",
      "          [0.8417, 0.1518]]],\n",
      "\n",
      "\n",
      "        [[[0.5858, 0.2719],\n",
      "          [0.4993, 0.4740],\n",
      "          [0.8492, 0.7668],\n",
      "          [0.9399, 0.4347],\n",
      "          [0.3166, 0.9343]],\n",
      "\n",
      "         [[0.0646, 0.9978],\n",
      "          [0.8535, 0.4639],\n",
      "          [0.3927, 0.1582],\n",
      "          [0.6122, 0.8058],\n",
      "          [0.3176, 0.8671]],\n",
      "\n",
      "         [[0.8736, 0.7822],\n",
      "          [0.5506, 0.8968],\n",
      "          [0.4312, 0.4262],\n",
      "          [0.2347, 0.1815],\n",
      "          [0.5306, 0.3177]],\n",
      "\n",
      "         [[0.2710, 0.9422],\n",
      "          [1.0000, 0.9802],\n",
      "          [0.5303, 0.4934],\n",
      "          [0.8600, 0.5605],\n",
      "          [0.0916, 0.8607]]]])\n"
     ]
    }
   ],
   "source": [
    "import torch\n",
    "\n",
    "# Define the dimensions\n",
    "B = 3  # Batch size\n",
    "pred_steps = 4\n",
    "N_grid = 5\n",
    "d_static_f = 2\n",
    "\n",
    "# Create a random tensor with the specified shape\n",
    "forcing_features = torch.rand((B, pred_steps, N_grid, d_static_f))\n",
    "\n",
    "# Print the created tensor\n",
    "print(forcing_features)\n"
   ]
  },
  {
   "cell_type": "code",
   "execution_count": 8,
   "metadata": {},
   "outputs": [
    {
     "data": {
      "text/plain": [
       "4"
      ]
     },
     "execution_count": 8,
     "metadata": {},
     "output_type": "execute_result"
    }
   ],
   "source": [
    "pred_steps = forcing_features.shape[1]\n",
    "pred_steps"
   ]
  },
  {
   "cell_type": "code",
   "execution_count": 16,
   "metadata": {},
   "outputs": [
    {
     "name": "stdout",
     "output_type": "stream",
     "text": [
      "tensor([[[0.1493, 0.5579],\n",
      "         [0.8077, 0.4184],\n",
      "         [0.1707, 0.4574],\n",
      "         [0.2736, 0.9490],\n",
      "         [0.1274, 0.1470]],\n",
      "\n",
      "        [[0.4396, 0.9451],\n",
      "         [0.5021, 0.2842],\n",
      "         [0.8192, 0.7179],\n",
      "         [0.2106, 0.2227],\n",
      "         [0.4139, 0.7533]],\n",
      "\n",
      "        [[0.0646, 0.9978],\n",
      "         [0.8535, 0.4639],\n",
      "         [0.3927, 0.1582],\n",
      "         [0.6122, 0.8058],\n",
      "         [0.3176, 0.8671]]])\n",
      "torch.Size([3, 5, 2])\n"
     ]
    }
   ],
   "source": [
    "forcing = forcing_features[:, 1, :, :]\n",
    "print(forcing)\n",
    "print(forcing.shape)"
   ]
  },
  {
   "cell_type": "code",
   "execution_count": 2,
   "metadata": {},
   "outputs": [],
   "source": [
    "import torch\n",
    "from torch.nn import Linear, Parameter\n",
    "from torch_geometric.nn import MessagePassing\n",
    "from torch_geometric.utils import add_self_loops, degree\n",
    "\n",
    "class GCNConv(MessagePassing):\n",
    "    def __init__(self, in_channels, out_channels):\n",
    "        super().__init__(aggr='add')  # \"Add\" aggregation (Step 5).\n",
    "        self.lin = Linear(in_channels, out_channels, bias=False)\n",
    "        self.bias = Parameter(torch.empty(out_channels))\n",
    "\n",
    "        self.reset_parameters()\n",
    "\n",
    "    def reset_parameters(self):\n",
    "        self.lin.reset_parameters()\n",
    "        self.bias.data.zero_()\n",
    "\n",
    "    def forward(self, x, edge_index):\n",
    "        # x has shape [N, in_channels]\n",
    "        # edge_index has shape [2, E]\n",
    "\n",
    "        # Step 1: Add self-loops to the adjacency matrix.\n",
    "        edge_index, _ = add_self_loops(edge_index, num_nodes=x.size(0))\n",
    "\n",
    "        # Step 2: Linearly transform node feature matrix.\n",
    "        x = self.lin(x)\n",
    "\n",
    "        # Step 3: Compute normalization.\n",
    "        row, col = edge_index\n",
    "        # Diagonal of degree matrix (all elements not on diagonal are 0)\n",
    "        deg = degree(col, x.size(0), dtype=x.dtype)\n",
    "        deg_inv_sqrt = deg.pow(-0.5)\n",
    "        deg_inv_sqrt[deg_inv_sqrt == float('inf')] = 0\n",
    "        \n",
    "        # Elementwise multiplication\n",
    "        norm = deg_inv_sqrt[row] * deg_inv_sqrt[col]\n",
    "\n",
    "        # Step 4-5: Start propagating messages.\n",
    "        # calculate message by passing x, norm to self.message() (internally)\n",
    "        # for each node, use edge_index to determine incoming messages\n",
    "        out = self.propagate(edge_index, x=x, norm=norm)\n",
    "\n",
    "        # Step 6: Apply a final bias vector.\n",
    "        out += self.bias\n",
    "\n",
    "        return out\n",
    "\n",
    "    def message(self, x_j, norm):\n",
    "        # calculates the message for node i (that is, x_i)\n",
    "        # x_j has shape [E, out_channels]\n",
    "        # x_j is the node feature matrix of the neighbors of node i\n",
    "        # Step 4: Normalize node features.\n",
    "        print(\"x_j.shape\")\n",
    "        print(x_j.shape)\n",
    "        return norm.view(-1, 1) * x_j\n",
    "    \n",
    "    def update(self, aggr_out, x):\n",
    "        print(\"aggr_out.shape\")\n",
    "        print(aggr_out.shape)\n",
    "        print(\"x.shape\")\n",
    "        print(x.shape)\n",
    "        return aggr_out + x"
   ]
  },
  {
   "cell_type": "code",
   "execution_count": 4,
   "metadata": {},
   "outputs": [
    {
     "name": "stdout",
     "output_type": "stream",
     "text": [
      "x_j.shape\n",
      "torch.Size([20, 128])\n",
      "aggr_out.shape\n",
      "torch.Size([10, 128])\n",
      "x.shape\n",
      "torch.Size([10, 128])\n",
      "tensor([[-1.6726,  0.7789,  0.2470,  ...,  0.8314,  0.1620, -0.6875],\n",
      "        [-1.4641,  0.7125,  0.5356,  ..., -0.3258, -1.4977, -0.9814],\n",
      "        [-0.3235, -0.3885,  2.7501,  ...,  2.8464,  0.5815, -0.6574],\n",
      "        ...,\n",
      "        [-0.3898, -0.1143, -0.4869,  ..., -0.0704,  0.3540, -0.3842],\n",
      "        [ 1.2987,  0.6214, -1.4607,  ...,  0.4991,  1.9813, -0.2139],\n",
      "        [ 0.4233,  2.5467, -1.2930,  ...,  1.2293,  0.1719, -0.5277]],\n",
      "       grad_fn=<AddBackward0>)\n",
      "torch.Size([10, 128])\n"
     ]
    }
   ],
   "source": [
    "# Create an instance of GCNConv\n",
    "gcn = GCNConv(in_channels=64, out_channels=128)\n",
    "\n",
    "# Create sample input data\n",
    "x = torch.randn(10, 64)  # Node feature matrix\n",
    "edge_index = torch.tensor([[0, 1, 2, 3, 4, 5, 6, 7, 8, 9],\n",
    "                           [1, 0, 3, 2, 5, 4, 7, 6, 9, 8]])  # Edge indices\n",
    "\n",
    "# Pass the input data through GCNConv\n",
    "output = gcn(x, edge_index)\n",
    "\n",
    "# Print the output\n",
    "print(output)\n",
    "print(output.shape)"
   ]
  },
  {
   "cell_type": "code",
   "execution_count": 5,
   "metadata": {},
   "outputs": [
    {
     "name": "stdout",
     "output_type": "stream",
     "text": [
      "tensor([[0, 1, 2, 3, 4, 5, 6, 7, 8, 9, 0, 1, 2, 3, 4, 5, 6, 7, 8, 9],\n",
      "        [1, 0, 3, 2, 5, 4, 7, 6, 9, 8, 0, 1, 2, 3, 4, 5, 6, 7, 8, 9]])\n",
      "torch.Size([2, 20])\n",
      "tensor([2., 2., 2., 2., 2., 2., 2., 2., 2., 2.])\n",
      "tensor([0.7071, 0.7071, 0.7071, 0.7071, 0.7071, 0.7071, 0.7071, 0.7071, 0.7071,\n",
      "        0.7071, 0.7071, 0.7071, 0.7071, 0.7071, 0.7071, 0.7071, 0.7071, 0.7071,\n",
      "        0.7071, 0.7071])\n",
      "tensor([0.7071, 0.7071, 0.7071, 0.7071, 0.7071, 0.7071, 0.7071, 0.7071, 0.7071,\n",
      "        0.7071, 0.7071, 0.7071, 0.7071, 0.7071, 0.7071, 0.7071, 0.7071, 0.7071,\n",
      "        0.7071, 0.7071])\n",
      "tensor([0.5000, 0.5000, 0.5000, 0.5000, 0.5000, 0.5000, 0.5000, 0.5000, 0.5000,\n",
      "        0.5000, 0.5000, 0.5000, 0.5000, 0.5000, 0.5000, 0.5000, 0.5000, 0.5000,\n",
      "        0.5000, 0.5000])\n",
      "torch.Size([20])\n",
      "tensor([[0.5000],\n",
      "        [0.5000],\n",
      "        [0.5000],\n",
      "        [0.5000],\n",
      "        [0.5000],\n",
      "        [0.5000],\n",
      "        [0.5000],\n",
      "        [0.5000],\n",
      "        [0.5000],\n",
      "        [0.5000],\n",
      "        [0.5000],\n",
      "        [0.5000],\n",
      "        [0.5000],\n",
      "        [0.5000],\n",
      "        [0.5000],\n",
      "        [0.5000],\n",
      "        [0.5000],\n",
      "        [0.5000],\n",
      "        [0.5000],\n",
      "        [0.5000]])\n"
     ]
    }
   ],
   "source": [
    "x = torch.randn(10, 128)  # Node feature matrix\n",
    "_edge_index, _ = add_self_loops(edge_index, num_nodes=x.size(0))\n",
    "print(_edge_index)\n",
    "print(_edge_index.shape)\n",
    "\n",
    "row, col = _edge_index\n",
    "# Diagonal of degree matrix\n",
    "deg = degree(col, x.size(0), dtype=x.dtype)\n",
    "print(deg)\n",
    "\n",
    "deg_inv_sqrt = deg.pow(-0.5)\n",
    "deg_inv_sqrt[deg_inv_sqrt == float('inf')] = 0\n",
    "\n",
    "norm = deg_inv_sqrt[row] * deg_inv_sqrt[col]\n",
    "print(deg_inv_sqrt[row])\n",
    "print(deg_inv_sqrt[col])\n",
    "print(norm)\n",
    "print(norm.shape)\n",
    "\n",
    "print(norm.view(-1, 1))"
   ]
  },
  {
   "cell_type": "code",
   "execution_count": 29,
   "metadata": {},
   "outputs": [],
   "source": [
    "import matplotlib.pyplot as plt\n",
    "import numpy as np"
   ]
  },
  {
   "cell_type": "code",
   "execution_count": 31,
   "metadata": {},
   "outputs": [
    {
     "data": {
      "image/png": "[encoded data removed]",
      "text/plain": [
       "<Figure size 640x480 with 1 Axes>"
      ]
     },
     "metadata": {},
     "output_type": "display_data"
    }
   ],
   "source": [
    "\n",
    "# Generate data\n",
    "x = np.linspace(0, 2 * np.pi, 100)\n",
    "y1 = np.sin(x)\n",
    "y2 = np.cos(x)\n",
    "\n",
    "# Create a plot with multiple curves\n",
    "plt.plot(x, y1, label=r'$\\sin(x)$')\n",
    "plt.plot(x, y2, label=r'$\\cos(x)$')\n",
    "\n",
    "# Add labels and title with complex LaTeX formatting\n",
    "plt.xlabel(r'$\\theta$')\n",
    "plt.ylabel(r'$f(\\theta)$')\n",
    "plt.title(r'Plot of $\\sin(\\theta)$ and $\\cos(\\theta)$')\n",
    "\n",
    "# Add a legend\n",
    "plt.legend()\n",
    "\n",
    "# Display the plot\n",
    "plt.show()\n"
   ]
  },
  {
   "cell_type": "code",
   "execution_count": 8,
   "metadata": {},
   "outputs": [
    {
     "name": "stdout",
     "output_type": "stream",
     "text": [
      "Tensor 1: tensor([[1, 2],\n",
      "        [3, 4],\n",
      "        [5, 6]])\n",
      "Tensor 2: tensor([[ 7,  8],\n",
      "        [ 9, 10],\n",
      "        [11, 12]])\n",
      "Concatenation along dim=1:\n",
      "tensor([[ 1,  2],\n",
      "        [ 3,  4],\n",
      "        [ 5,  6],\n",
      "        [ 7,  8],\n",
      "        [ 9, 10],\n",
      "        [11, 12]])\n",
      "Concatenation along dim=-1:\n",
      "tensor([[ 1,  2,  7,  8],\n",
      "        [ 3,  4,  9, 10],\n",
      "        [ 5,  6, 11, 12]])\n"
     ]
    }
   ],
   "source": [
    "# Create two tensors of shape (3, 2)\n",
    "tensor1 = torch.tensor([[1, 2], [3, 4], [5, 6]])\n",
    "tensor2 = torch.tensor([[7, 8], [9, 10], [11, 12]])\n",
    "\n",
    "print(\"Tensor 1:\", tensor1)\n",
    "print(\"Tensor 2:\", tensor2)\n",
    "\n",
    "# Concatenate along dim=1 (columns)\n",
    "concat_dim1 = torch.cat((tensor1, tensor2), dim=0)\n",
    "print(\"Concatenation along dim=1:\")\n",
    "print(concat_dim1)\n",
    "\n",
    "# Concatenate along dim=-1 (also columns, since -1 refers to the last dimension)\n",
    "concat_dim_minus1 = torch.cat((tensor1, tensor2), dim=-1)\n",
    "print(\"Concatenation along dim=-1:\")\n",
    "print(concat_dim_minus1)"
   ]
  },
  {
   "cell_type": "code",
   "execution_count": 4,
   "metadata": {},
   "outputs": [
    {
     "name": "stderr",
     "output_type": "stream",
     "text": [
      "Downloading https://github.com/kimiyoung/planetoid/raw/master/data/ind.cora.x\n",
      "Downloading https://github.com/kimiyoung/planetoid/raw/master/data/ind.cora.tx\n",
      "Downloading https://github.com/kimiyoung/planetoid/raw/master/data/ind.cora.allx\n",
      "Downloading https://github.com/kimiyoung/planetoid/raw/master/data/ind.cora.y\n",
      "Downloading https://github.com/kimiyoung/planetoid/raw/master/data/ind.cora.ty\n",
      "Downloading https://github.com/kimiyoung/planetoid/raw/master/data/ind.cora.ally\n",
      "Downloading https://github.com/kimiyoung/planetoid/raw/master/data/ind.cora.graph\n",
      "Downloading https://github.com/kimiyoung/planetoid/raw/master/data/ind.cora.test.index\n",
      "Processing...\n",
      "Done!\n"
     ]
    }
   ],
   "source": [
    "from torch_geometric.datasets import Planetoid\n",
    "\n",
    "dataset = Planetoid(root='/tmp/Cora', name='Cora')"
   ]
  },
  {
   "cell_type": "code",
   "execution_count": 5,
   "metadata": {},
   "outputs": [],
   "source": [
    "import torch\n",
    "import torch.nn.functional as F\n",
    "from torch_geometric.nn import GCNConv, MessagePassing\n",
    "\n",
    "class GCN(torch.nn.Module):\n",
    "    def __init__(self):\n",
    "        super().__init__()\n",
    "        self.conv1 = GCNConv(dataset.num_node_features, 16)\n",
    "        self.conv2 = GCNConv(16, dataset.num_classes)\n",
    "\n",
    "    def forward(self, data):\n",
    "        x, edge_index = data.x, data.edge_index\n",
    "\n",
    "        x = self.conv1(x, edge_index)\n",
    "        x = F.relu(x)\n",
    "        x = F.dropout(x, training=self.training)\n",
    "        x = self.conv2(x, edge_index)\n",
    "\n",
    "        return F.log_softmax(x, dim=1)\n",
    "    \n",
    "# class MyGCNLayer()\n",
    "    \n",
    "class MyGCN(torch.nn.Module):\n",
    "    def __init__(self):\n",
    "        super().__init__()\n",
    "        self.conv1 = GCNConv(dataset.num_node_features, 16)\n",
    "        self.conv2 = GCNConv(16, dataset.num_classes)\n",
    "\n",
    "    def forward(self, data):\n",
    "        x, edge_index = data.x, data.edge_index\n",
    "\n",
    "        x = self.conv1(x, edge_index)\n",
    "        x = F.relu(x)\n",
    "        x = F.dropout(x, training=self.training)\n",
    "        x = self.conv2(x, edge_index)\n",
    "\n",
    "        return F.log_softmax(x, dim=1)"
   ]
  },
  {
   "cell_type": "code",
   "execution_count": null,
   "metadata": {},
   "outputs": [],
   "source": []
  },
  {
   "cell_type": "code",
   "execution_count": 6,
   "metadata": {},
   "outputs": [
    {
     "data": {
      "text/plain": [
       "tensor([[-1.9817, -1.9444, -1.8894,  ..., -1.9485, -1.8887, -1.9793],\n",
       "        [-1.9635, -1.8561, -1.9005,  ..., -1.8483, -1.9641, -2.0171],\n",
       "        [-1.9568, -1.8734, -1.9262,  ..., -1.8644, -1.9764, -1.9931],\n",
       "        ...,\n",
       "        [-1.9272, -2.0221, -1.8778,  ..., -1.9461, -1.9262, -1.9260],\n",
       "        [-1.9655, -1.8769, -1.9582,  ..., -1.9549, -1.8858, -2.0054],\n",
       "        [-1.9539, -1.9086, -1.9447,  ..., -1.9528, -1.9099, -1.9771]],\n",
       "       grad_fn=<LogSoftmaxBackward0>)"
      ]
     },
     "execution_count": 6,
     "metadata": {},
     "output_type": "execute_result"
    }
   ],
   "source": [
    "model = GCN()\n",
    "data = dataset[0]\n",
    "out = model(data)\n",
    "\n",
    "out"
   ]
  },
  {
   "cell_type": "code",
   "execution_count": 9,
   "metadata": {},
   "outputs": [],
   "source": [
    "from torchsummary import summary"
   ]
  },
  {
   "cell_type": "code",
   "execution_count": 7,
   "metadata": {},
   "outputs": [],
   "source": [
    "model = GCN()\n",
    "total_params = sum(p.numel() for p in model.parameters())"
   ]
  },
  {
   "cell_type": "code",
   "execution_count": 8,
   "metadata": {},
   "outputs": [
    {
     "data": {
      "text/plain": [
       "23063"
      ]
     },
     "execution_count": 8,
     "metadata": {},
     "output_type": "execute_result"
    }
   ],
   "source": [
    "total_params"
   ]
  },
  {
   "cell_type": "code",
   "execution_count": 10,
   "metadata": {},
   "outputs": [
    {
     "ename": "AttributeError",
     "evalue": "'Tensor' object has no attribute 'x'",
     "output_type": "error",
     "traceback": [
      "\u001b[0;31m---------------------------------------------------------------------------\u001b[0m",
      "\u001b[0;31mAttributeError\u001b[0m                            Traceback (most recent call last)",
      "Cell \u001b[0;32mIn[10], line 1\u001b[0m\n\u001b[0;32m----> 1\u001b[0m \u001b[43msummary\u001b[49m\u001b[43m(\u001b[49m\u001b[43mmodel\u001b[49m\u001b[43m,\u001b[49m\u001b[43m \u001b[49m\u001b[43m(\u001b[49m\u001b[38;5;241;43m1433\u001b[39;49m\u001b[43m,\u001b[49m\u001b[43m \u001b[49m\u001b[38;5;241;43m2708\u001b[39;49m\u001b[43m)\u001b[49m\u001b[43m)\u001b[49m\n",
      "File \u001b[0;32m/work/ec249/ec249/bet20/nlam/lib/python3.9/site-packages/torchsummary/torchsummary.py:72\u001b[0m, in \u001b[0;36msummary\u001b[0;34m(model, input_size, batch_size, device)\u001b[0m\n\u001b[1;32m     68\u001b[0m model\u001b[38;5;241m.\u001b[39mapply(register_hook)\n\u001b[1;32m     70\u001b[0m \u001b[38;5;66;03m# make a forward pass\u001b[39;00m\n\u001b[1;32m     71\u001b[0m \u001b[38;5;66;03m# print(x.shape)\u001b[39;00m\n\u001b[0;32m---> 72\u001b[0m \u001b[43mmodel\u001b[49m\u001b[43m(\u001b[49m\u001b[38;5;241;43m*\u001b[39;49m\u001b[43mx\u001b[49m\u001b[43m)\u001b[49m\n\u001b[1;32m     74\u001b[0m \u001b[38;5;66;03m# remove these hooks\u001b[39;00m\n\u001b[1;32m     75\u001b[0m \u001b[38;5;28;01mfor\u001b[39;00m h \u001b[38;5;129;01min\u001b[39;00m hooks:\n",
      "File \u001b[0;32m/work/ec249/ec249/bet20/nlam/lib/python3.9/site-packages/torch/nn/modules/module.py:1501\u001b[0m, in \u001b[0;36mModule._call_impl\u001b[0;34m(self, *args, **kwargs)\u001b[0m\n\u001b[1;32m   1496\u001b[0m \u001b[38;5;66;03m# If we don't have any hooks, we want to skip the rest of the logic in\u001b[39;00m\n\u001b[1;32m   1497\u001b[0m \u001b[38;5;66;03m# this function, and just call forward.\u001b[39;00m\n\u001b[1;32m   1498\u001b[0m \u001b[38;5;28;01mif\u001b[39;00m \u001b[38;5;129;01mnot\u001b[39;00m (\u001b[38;5;28mself\u001b[39m\u001b[38;5;241m.\u001b[39m_backward_hooks \u001b[38;5;129;01mor\u001b[39;00m \u001b[38;5;28mself\u001b[39m\u001b[38;5;241m.\u001b[39m_backward_pre_hooks \u001b[38;5;129;01mor\u001b[39;00m \u001b[38;5;28mself\u001b[39m\u001b[38;5;241m.\u001b[39m_forward_hooks \u001b[38;5;129;01mor\u001b[39;00m \u001b[38;5;28mself\u001b[39m\u001b[38;5;241m.\u001b[39m_forward_pre_hooks\n\u001b[1;32m   1499\u001b[0m         \u001b[38;5;129;01mor\u001b[39;00m _global_backward_pre_hooks \u001b[38;5;129;01mor\u001b[39;00m _global_backward_hooks\n\u001b[1;32m   1500\u001b[0m         \u001b[38;5;129;01mor\u001b[39;00m _global_forward_hooks \u001b[38;5;129;01mor\u001b[39;00m _global_forward_pre_hooks):\n\u001b[0;32m-> 1501\u001b[0m     \u001b[38;5;28;01mreturn\u001b[39;00m \u001b[43mforward_call\u001b[49m\u001b[43m(\u001b[49m\u001b[38;5;241;43m*\u001b[39;49m\u001b[43margs\u001b[49m\u001b[43m,\u001b[49m\u001b[43m \u001b[49m\u001b[38;5;241;43m*\u001b[39;49m\u001b[38;5;241;43m*\u001b[39;49m\u001b[43mkwargs\u001b[49m\u001b[43m)\u001b[49m\n\u001b[1;32m   1502\u001b[0m \u001b[38;5;66;03m# Do not call functions when jit is used\u001b[39;00m\n\u001b[1;32m   1503\u001b[0m full_backward_hooks, non_full_backward_hooks \u001b[38;5;241m=\u001b[39m [], []\n",
      "Cell \u001b[0;32mIn[5], line 12\u001b[0m, in \u001b[0;36mGCN.forward\u001b[0;34m(self, data)\u001b[0m\n\u001b[1;32m     11\u001b[0m \u001b[38;5;28;01mdef\u001b[39;00m \u001b[38;5;21mforward\u001b[39m(\u001b[38;5;28mself\u001b[39m, data):\n\u001b[0;32m---> 12\u001b[0m     x, edge_index \u001b[38;5;241m=\u001b[39m \u001b[43mdata\u001b[49m\u001b[38;5;241;43m.\u001b[39;49m\u001b[43mx\u001b[49m, data\u001b[38;5;241m.\u001b[39medge_index\n\u001b[1;32m     14\u001b[0m     x \u001b[38;5;241m=\u001b[39m \u001b[38;5;28mself\u001b[39m\u001b[38;5;241m.\u001b[39mconv1(x, edge_index)\n\u001b[1;32m     15\u001b[0m     x \u001b[38;5;241m=\u001b[39m F\u001b[38;5;241m.\u001b[39mrelu(x)\n",
      "\u001b[0;31mAttributeError\u001b[0m: 'Tensor' object has no attribute 'x'"
     ]
    }
   ],
   "source": [
    "summary(model, (1433, 2708))"
   ]
  },
  {
   "cell_type": "code",
   "execution_count": null,
   "metadata": {},
   "outputs": [],
   "source": [
    "import networkx\n",
    "import numpy as np\n",
    "import matplotlib.pyplot as plt\n",
    "import matplotlib\n",
    "from argparse import ArgumentParser\n",
    "import scipy.spatial\n",
    "import torch\n",
    "import torch_geometric as pyg\n",
    "import os\n",
    "from torch_geometric.utils.convert import from_networkx\n",
    "\n",
    "static_dir_path = os.path.join(\"data\", args.dataset, \"static\")\n",
    "graph_dir_path = os.path.join(\"graphs\", args.graph)\n",
    "os.makedirs(graph_dir_path, exist_ok=True)\n",
    "\n",
    "xy = np.load(os.path.join(static_dir_path, \"nwp_xy.npy\"))"
   ]
  },
  {
   "cell_type": "code",
   "execution_count": 1,
   "metadata": {},
   "outputs": [],
   "source": [
    "import os\n",
    "import glob\n",
    "import torch\n",
    "import numpy as np\n",
    "import datetime as dt"
   ]
  },
  {
   "cell_type": "code",
   "execution_count": 1,
   "metadata": {},
   "outputs": [
    {
     "name": "stdout",
     "output_type": "stream",
     "text": [
      "1\n",
      "0\n",
      "1\n",
      "4\n",
      "0\n",
      "0\n",
      "0\n",
      "1\n",
      "1\n",
      "2\n"
     ]
    }
   ],
   "source": [
    "import random\n",
    "\n",
    "r = random.randint(0, 4)\n",
    "\n",
    "for _ in range(10):\n",
    "    print(random.randint(0, 4))"
   ]
  },
  {
   "cell_type": "code",
   "execution_count": 13,
   "metadata": {},
   "outputs": [],
   "source": [
    "import random\n",
    "import torch\n",
    "import pytorch_lightning as pl\n",
    "from lightning_fabric.utilities import seed\n",
    "from argparse import ArgumentParser\n",
    "import time\n",
    "import os\n",
    "\n",
    "import torch_geometric as pyg\n",
    "\n",
    "from neural_lam.models.graph_lam import GraphLAM\n",
    "from neural_lam.models.hi_lam import HiLAM\n",
    "from neural_lam.models.hi_lam_parallel import HiLAMParallel\n",
    "from neural_lam.models.gcn_model import GCNModel\n",
    "from neural_lam.models.gat_model import GATModel\n",
    "\n",
    "from neural_lam.weather_dataset import WeatherDataset\n",
    "from neural_lam import constants, utils\n",
    "\n",
    "# Required for running jobs on GPU node\n",
    "os.environ[\"WANDB_CONFIG_DIR\"] = \"/work/ec249/ec249/bet20/.config/wandb\"\n",
    "\n",
    "MODELS = {\n",
    "    \"graph_lam\": GraphLAM,\n",
    "    \"hi_lam\": HiLAM,\n",
    "    \"hi_lam_parallel\": HiLAMParallel,\n",
    "    \"gcn\": GCNModel,\n",
    "    \"gat\": GATModel,\n",
    "}\n",
    "\n",
    "def get_args():\n",
    "    parser = ArgumentParser(description='Train or evaluate NeurWP models for LAM')\n",
    "\n",
    "    # General options\n",
    "    parser.add_argument('--dataset', type=str, default=\"meps_example\",\n",
    "        help='Dataset, corresponding to name in data directory (default: meps_example)')\n",
    "    parser.add_argument('--model', type=str, default=\"graph_lam\",\n",
    "        help='Model architecture to train/evaluate (default: graph_lam)')\n",
    "    parser.add_argument('--subset_ds', type=int, default=0,\n",
    "        help='Use only a small subset of the dataset, for debugging (default: 0=false)')\n",
    "    parser.add_argument('--seed', type=int, default=42,\n",
    "        help='random seed (default: 42)')\n",
    "    parser.add_argument('--n_workers', type=int, default=4,\n",
    "        help='Number of workers in data loader (default: 4)')\n",
    "    parser.add_argument('--epochs', type=int, default=200,\n",
    "        help='upper epoch limit (default: 200)')\n",
    "    parser.add_argument('--batch_size', type=int, default=4,\n",
    "        help='batch size (default: 4)')\n",
    "    parser.add_argument('--load', type=str,\n",
    "        help='Path to load model parameters from (default: None)')\n",
    "    parser.add_argument('--restore_opt', type=int, default=0,\n",
    "        help='If optimizer state shoudl be restored with model (default: 0 (false))')\n",
    "    parser.add_argument('--precision', type=str, default=32,\n",
    "        help='Numerical precision to use for model (32/16/bf16) (default: 32)')\n",
    "\n",
    "    # Model architecture\n",
    "    parser.add_argument('--graph', type=str, default=\"multiscale\",\n",
    "        help='Graph to load and use in graph-based model (default: multiscale)')\n",
    "    parser.add_argument('--hidden_dim', type=int, default=64,\n",
    "        help='Dimensionality of all hidden representations (default: 64)')\n",
    "    parser.add_argument('--hidden_layers', type=int, default=1,\n",
    "        help='Number of hidden layers in all MLPs (default: 1)')\n",
    "    parser.add_argument('--processor_layers', type=int, default=4,\n",
    "        help='Number of GNN layers in processor GNN (default: 4)')\n",
    "    parser.add_argument('--mesh_aggr', type=str, default=\"sum\",\n",
    "        help='Aggregation to use for m2m processor GNN layers (sum/mean) (default: sum)')\n",
    "\n",
    "    # Training options\n",
    "    parser.add_argument('--ar_steps', type=int, default=1,\n",
    "        help='Number of steps to unroll prediction for in loss (1-19) (default: 1)')\n",
    "    parser.add_argument('--control_only', type=int, default=0,\n",
    "        help='Train only on control member of ensemble data (default: 0 (False))')\n",
    "    parser.add_argument('--loss', type=str, default=\"mse\",\n",
    "        help='Loss function to use (default: mse)')\n",
    "    parser.add_argument('--step_length', type=int, default=3,\n",
    "        help='Step length in hours to consider single time step 1-3 (default: 3)')\n",
    "    parser.add_argument('--lr', type=float, default=1e-3,\n",
    "        help='learning rate (default: 0.001)')\n",
    "    parser.add_argument('--val_interval', type=int, default=1,\n",
    "        help='Number of epochs training between each validation run (default: 1)')\n",
    "\n",
    "    # Evaluation options\n",
    "    parser.add_argument('--eval', type=str,\n",
    "        help='Eval model on given data split (val/test) (default: None (train model))')\n",
    "    parser.add_argument('--n_example_pred', type=int, default=1,\n",
    "        help='Number of example predictions to plot during evaluation (default: 1)')\n",
    "    args = parser.parse_known_args()\n",
    "    print(args)\n",
    "    \n",
    "    args = args[0]\n",
    "\n",
    "    # Asserts for arguments\n",
    "    assert args.model in MODELS, f\"Unknown model: {args.model}\"\n",
    "    assert args.step_length <= 3, \"Too high step length\"\n",
    "    assert args.eval in (None, \"val\", \"test\"), f\"Unknown eval setting: {args.eval}\"\n",
    "    \n",
    "    return args\n",
    "\n",
    "def main():\n",
    "    args = get_args() \n",
    "    # Get an (actual) random run id as a unique identifier\n",
    "    random_run_id = random.randint(0, 9999)\n",
    "\n",
    "    # Set seed\n",
    "    seed.seed_everything(args.seed)\n",
    "\n",
    "    # Load data\n",
    "    # train_loader = torch.utils.data.DataLoader(\n",
    "    train_loader = pyg.loader.DataLoader(\n",
    "            WeatherDataset(\n",
    "                args.dataset, pred_length=args.ar_steps, split=\"train\",\n",
    "                subsample_step=args.step_length, subset=bool(args.subset_ds),\n",
    "                control_only=args.control_only),\n",
    "            args.batch_size, shuffle=True, num_workers=args.n_workers)\n",
    "    \n",
    "    _train_loader = torch.utils.data.DataLoader(\n",
    "            WeatherDataset(\n",
    "                args.dataset, pred_length=args.ar_steps, split=\"train\",\n",
    "                subsample_step=args.step_length, subset=bool(args.subset_ds),\n",
    "                control_only=args.control_only),\n",
    "            args.batch_size, shuffle=True, num_workers=args.n_workers)"
   ]
  },
  {
   "cell_type": "code",
   "execution_count": 14,
   "metadata": {},
   "outputs": [
    {
     "name": "stderr",
     "output_type": "stream",
     "text": [
      "Seed set to 42\n"
     ]
    },
    {
     "name": "stdout",
     "output_type": "stream",
     "text": [
      "(Namespace(dataset='meps_example', model='graph_lam', subset_ds=0, seed=42, n_workers=4, epochs=200, batch_size=4, load=None, restore_opt=0, precision=32, graph='multiscale', hidden_dim=64, hidden_layers=1, processor_layers=4, mesh_aggr='sum', ar_steps=1, control_only=0, loss='mse', step_length=3, lr=0.001, val_interval=1, eval=None, n_example_pred=1), ['--f=/home/ec249/ec249/bet20/.local/share/jupyter/runtime/kernel-v2-2715940MDsDcFYO90E7.json'])\n"
     ]
    }
   ],
   "source": [
    "args = get_args() \n",
    "# Get an (actual) random run id as a unique identifier\n",
    "random_run_id = random.randint(0, 9999)\n",
    "\n",
    "# Set seed\n",
    "seed.seed_everything(args.seed)\n",
    "\n",
    "# Load data\n",
    "# train_loader = torch.utils.data.DataLoader(\n",
    "train_loader = pyg.loader.DataLoader(\n",
    "        WeatherDataset(\n",
    "            args.dataset, pred_length=args.ar_steps, split=\"train\",\n",
    "            subsample_step=args.step_length, subset=bool(args.subset_ds),\n",
    "            control_only=args.control_only),\n",
    "        args.batch_size, shuffle=True, num_workers=args.n_workers)\n",
    "\n",
    "_train_loader = torch.utils.data.DataLoader(\n",
    "        WeatherDataset(\n",
    "            args.dataset, pred_length=args.ar_steps, split=\"train\",\n",
    "            subsample_step=args.step_length, subset=bool(args.subset_ds),\n",
    "            control_only=args.control_only),\n",
    "        args.batch_size, shuffle=True, num_workers=args.n_workers)"
   ]
  },
  {
   "cell_type": "code",
   "execution_count": 15,
   "metadata": {},
   "outputs": [
    {
     "data": {
      "text/plain": [
       "[tensor([[[[  0.5905,   0.3072,  -9.3784,  ...,   0.7652,   0.3488,   0.5860],\n",
       "           [  0.5708,   0.2327,  -9.1929,  ...,   0.8077,   0.2928,   0.5229],\n",
       "           [  0.5505,   0.1978,  -9.1671,  ...,   0.8002,   0.2413,   0.4957],\n",
       "           ...,\n",
       "           [ -1.6278,  -1.8812,  -7.0008,  ...,  -0.6392,  -1.8694,  -1.8600],\n",
       "           [ -1.1297,  -1.8723,  -7.1282,  ...,  -0.5700,  -1.8791,  -1.8622],\n",
       "           [ -1.0482,  -1.9241,  -7.1505,  ...,  -0.5596,  -1.8231,  -1.8124]],\n",
       " \n",
       "          [[  0.6466,   0.4870,  -9.5760,  ...,   0.6107,   0.5314,   0.7626],\n",
       "           [  0.6309,   0.4244,  -9.4844,  ...,   0.6547,   0.4932,   0.7110],\n",
       "           [  0.6133,   0.3992,  -9.4304,  ...,   0.6834,   0.4511,   0.6896],\n",
       "           ...,\n",
       "           [ -1.5658,  -1.6781,  -7.2143,  ...,  -0.6277,  -1.6747,  -1.7936],\n",
       "           [ -1.0655,  -1.6639,  -7.4349,  ...,  -0.5550,  -1.6798,  -1.7961],\n",
       "           [ -0.9823,  -1.7122,  -7.3610,  ...,  -0.5431,  -1.6236,  -1.7474]]],\n",
       " \n",
       " \n",
       "         [[[  0.6729,   0.5688,  -5.7041,  ...,   0.5455,   0.6212,   0.7167],\n",
       "           [  0.6599,   0.5144,  -5.5048,  ...,   0.5275,   0.5913,   0.6660],\n",
       "           [  0.6447,   0.4967,  -5.3892,  ...,   0.4750,   0.5557,   0.6496],\n",
       "           ...,\n",
       "           [ -1.5853,  -1.7271,  -2.8183,  ...,  -0.6127,  -1.7337,  -1.8107],\n",
       "           [ -1.0774,  -1.6863,  -2.4576,  ...,  -0.5484,  -1.7095,  -1.8102],\n",
       "           [ -0.9858,  -1.7105,  -2.2184,  ...,  -0.5458,  -1.6254,  -1.7556]],\n",
       " \n",
       "          [[  0.7100,   0.6896,  -9.5323,  ...,   0.2306,   0.7379,   0.9176],\n",
       "           [  0.6983,   0.6372,  -9.6136,  ...,   0.1855,   0.7141,   0.8740],\n",
       "           [  0.6835,   0.6205,  -9.6887,  ...,   0.1670,   0.6802,   0.8562],\n",
       "           ...,\n",
       "           [ -1.5873,  -1.7141,  -4.8429,  ...,  -0.6465,  -1.7394,  -1.8369],\n",
       "           [ -1.0800,  -1.6779,  -3.9217,  ...,  -0.5869,  -1.7107,  -1.8405],\n",
       "           [ -0.9911,  -1.7084,  -3.6039,  ...,  -0.5820,  -1.6357,  -1.7911]]],\n",
       " \n",
       " \n",
       "         [[[  0.9210,   1.3663, -10.0695,  ...,  -0.1181,   1.3708,   1.0372],\n",
       "           [  0.9173,   1.3326,  -9.9356,  ...,  -0.0424,   1.3868,   1.0143],\n",
       "           [  0.9066,   1.3276,  -9.8042,  ...,   0.0450,   1.3666,   1.0013],\n",
       "           ...,\n",
       "           [ -1.3408,  -0.9097,  -6.4306,  ...,  -0.8236,  -0.9291,  -1.5760],\n",
       "           [ -0.8315,  -0.8862,  -7.0997,  ...,  -0.7830,  -0.9271,  -1.5918],\n",
       "           [ -0.7424,  -0.9252,  -7.6349,  ...,  -0.7800,  -0.8637,  -1.5602]],\n",
       " \n",
       "          [[  0.9522,   1.4636,  -9.9156,  ...,   0.0153,   1.4762,   1.1177],\n",
       "           [  0.9446,   1.4190,  -9.8194,  ...,   0.0685,   1.4830,   1.0924],\n",
       "           [  0.9352,   1.4182,  -9.7325,  ...,   0.0993,   1.4664,   1.0811],\n",
       "           ...,\n",
       "           [ -1.2745,  -0.6926,  -9.3311,  ...,  -0.8106,  -0.7188,  -1.4491],\n",
       "           [ -0.7647,  -0.6728,  -9.5212,  ...,  -0.7678,  -0.7197,  -1.4632],\n",
       "           [ -0.6770,  -0.7145,  -9.7067,  ...,  -0.7689,  -0.6620,  -1.4333]]],\n",
       " \n",
       " \n",
       "         [[[  0.8297,   1.0739,  -9.8891,  ...,  -0.2728,   1.0986,   1.0580],\n",
       "           [  0.8239,   1.0349,  -9.8627,  ...,  -0.1263,   1.0992,   1.0272],\n",
       "           [  0.8106,   1.0232,  -9.8375,  ...,  -0.0154,   1.0712,   1.0120],\n",
       "           ...,\n",
       "           [ -1.4728,  -1.3179,  -5.0799,  ...,  -0.7313,  -1.3661,  -1.7364],\n",
       "           [ -0.9653,  -1.2831,  -4.0282,  ...,  -0.6743,  -1.3389,  -1.7485],\n",
       "           [ -0.8766,  -1.3083,  -3.9138,  ...,  -0.6837,  -1.2685,  -1.7087]],\n",
       " \n",
       "          [[  0.8354,   1.0926, -10.0160,  ...,  -0.2750,   1.1084,   1.0186],\n",
       "           [  0.8280,   1.0491,  -9.8927,  ...,  -0.1710,   1.1086,   0.9822],\n",
       "           [  0.8174,   1.0439,  -9.8387,  ...,  -0.0437,   1.0880,   0.9669],\n",
       "           ...,\n",
       "           [ -1.4576,  -1.3036,  -5.5085,  ...,  -0.7252,  -1.3245,  -1.7438],\n",
       "           [ -0.9561,  -1.2916,  -4.5894,  ...,  -0.6633,  -1.3321,  -1.7581],\n",
       "           [ -0.8709,  -1.3367,  -3.9602,  ...,  -0.6553,  -1.2748,  -1.7209]]]]),\n",
       " tensor([[[[ 6.7426e-01,  5.7654e-01, -9.6140e+00,  ...,  8.7587e-02,\n",
       "             6.2233e-01,  8.7971e-01],\n",
       "           [ 6.6276e-01,  5.2409e-01, -9.5682e+00,  ...,  7.0158e-02,\n",
       "             5.9881e-01,  8.3505e-01],\n",
       "           [ 6.4715e-01,  5.0409e-01, -9.5236e+00,  ...,  6.3720e-02,\n",
       "             5.6211e-01,  8.1674e-01],\n",
       "           ...,\n",
       "           [-1.5451e+00, -1.6000e+00, -5.9059e+00,  ..., -6.3613e-01,\n",
       "            -1.6097e+00, -1.7896e+00],\n",
       "           [-1.0429e+00, -1.5791e+00, -5.7205e+00,  ..., -5.6626e-01,\n",
       "            -1.6086e+00, -1.7926e+00],\n",
       "           [-9.5665e-01, -1.6191e+00, -5.4235e+00,  ..., -5.5652e-01,\n",
       "            -1.5439e+00, -1.7427e+00]]],\n",
       " \n",
       " \n",
       "         [[[ 8.1114e-01,  1.0120e+00, -9.7680e+00,  ..., -5.5203e-06,\n",
       "             1.0480e+00,  1.0610e+00],\n",
       "           [ 8.0170e-01,  9.6365e-01, -9.7521e+00,  ...,  9.9547e-02,\n",
       "             1.0351e+00,  1.0223e+00],\n",
       "           [ 7.8650e-01,  9.4601e-01, -9.7093e+00,  ...,  1.9879e-01,\n",
       "             1.0001e+00,  1.0043e+00],\n",
       "           ...,\n",
       "           [-1.5269e+00, -1.4578e+00, -4.3643e+00,  ..., -7.3425e-01,\n",
       "            -1.5125e+00, -1.8161e+00],\n",
       "           [-1.0165e+00, -1.4325e+00, -3.5778e+00,  ..., -6.8164e-01,\n",
       "            -1.4855e+00, -1.8268e+00],\n",
       "           [-9.3170e-01, -1.4802e+00, -3.7322e+00,  ..., -6.7709e-01,\n",
       "            -1.4311e+00, -1.7882e+00]]],\n",
       " \n",
       " \n",
       "         [[[ 9.5611e-01,  1.4739e+00, -9.6926e+00,  ...,  7.6253e-02,\n",
       "             1.4953e+00,  1.1872e+00],\n",
       "           [ 9.5057e-01,  1.4363e+00, -9.6644e+00,  ..., -1.0022e-03,\n",
       "             1.5087e+00,  1.1676e+00],\n",
       "           [ 9.3927e-01,  1.4332e+00, -9.6668e+00,  ..., -7.7473e-02,\n",
       "             1.4869e+00,  1.1555e+00],\n",
       "           ...,\n",
       "           [-1.2501e+00, -5.9999e-01, -8.3310e+00,  ..., -8.0747e-01,\n",
       "            -6.3721e-01, -1.3842e+00],\n",
       "           [-7.3436e-01, -5.6438e-01, -8.4836e+00,  ..., -7.6837e-01,\n",
       "            -6.2393e-01, -1.3898e+00],\n",
       "           [-6.4584e-01, -6.0390e-01, -8.5423e+00,  ..., -7.7199e-01,\n",
       "            -5.6518e-01, -1.3585e+00]]],\n",
       " \n",
       " \n",
       "         [[[ 8.5088e-01,  1.1391e+00, -1.0031e+01,  ..., -8.8163e-02,\n",
       "             1.1525e+00,  1.0019e+00],\n",
       "           [ 8.4369e-01,  1.0966e+00, -9.9136e+00,  ...,  2.4737e-02,\n",
       "             1.1541e+00,  9.6898e-01],\n",
       "           [ 8.3506e-01,  1.0994e+00, -9.7458e+00,  ...,  1.5507e-01,\n",
       "             1.1392e+00,  9.5575e-01],\n",
       "           ...,\n",
       "           [-1.4348e+00, -1.2239e+00, -4.5011e+00,  ..., -7.4625e-01,\n",
       "            -1.2378e+00, -1.7270e+00],\n",
       "           [-9.2401e-01, -1.1853e+00, -3.9259e+00,  ..., -7.0244e-01,\n",
       "            -1.2191e+00, -1.7415e+00],\n",
       "           [-8.3713e-01, -1.2194e+00, -3.9858e+00,  ..., -7.1217e-01,\n",
       "            -1.1545e+00, -1.7125e+00]]]]),\n",
       " tensor([[[1.],\n",
       "          [1.],\n",
       "          [1.],\n",
       "          ...,\n",
       "          [0.],\n",
       "          [0.],\n",
       "          [0.]],\n",
       " \n",
       "         [[1.],\n",
       "          [1.],\n",
       "          [1.],\n",
       "          ...,\n",
       "          [0.],\n",
       "          [0.],\n",
       "          [0.]],\n",
       " \n",
       "         [[1.],\n",
       "          [1.],\n",
       "          [1.],\n",
       "          ...,\n",
       "          [0.],\n",
       "          [0.],\n",
       "          [0.]],\n",
       " \n",
       "         [[1.],\n",
       "          [1.],\n",
       "          [1.],\n",
       "          ...,\n",
       "          [0.],\n",
       "          [0.],\n",
       "          [0.]]]),\n",
       " tensor([[[[ 1.7819,  0.9330,  0.7500,  ...,  0.0670,  0.9999,  0.5072],\n",
       "           [ 1.7854,  0.9330,  0.7500,  ...,  0.0670,  0.9999,  0.5072],\n",
       "           [ 1.7888,  0.9330,  0.7500,  ...,  0.0670,  0.9999,  0.5072],\n",
       "           ...,\n",
       "           [ 0.9143,  0.9330,  0.7500,  ...,  0.0670,  0.9999,  0.5072],\n",
       "           [ 0.9165,  0.9330,  0.7500,  ...,  0.0670,  0.9999,  0.5072],\n",
       "           [ 0.9187,  0.9330,  0.7500,  ...,  0.0670,  0.9999,  0.5072]]],\n",
       " \n",
       " \n",
       "         [[[ 1.8315,  0.1464,  0.1464,  ...,  0.8536,  1.0000,  0.5032],\n",
       "           [ 1.8264,  0.1464,  0.1464,  ...,  0.8536,  1.0000,  0.5032],\n",
       "           [ 1.8211,  0.1464,  0.1464,  ...,  0.8536,  1.0000,  0.5032],\n",
       "           ...,\n",
       "           [-0.5176,  0.1464,  0.1464,  ...,  0.8536,  1.0000,  0.5032],\n",
       "           [-0.5238,  0.1464,  0.1464,  ...,  0.8536,  1.0000,  0.5032],\n",
       "           [-0.5299,  0.1464,  0.1464,  ...,  0.8536,  1.0000,  0.5032]]],\n",
       " \n",
       " \n",
       "         [[[ 1.2431,  0.8536,  0.8536,  ...,  0.1464,  0.9999,  0.5075],\n",
       "           [ 1.2481,  0.8536,  0.8536,  ...,  0.1464,  0.9999,  0.5075],\n",
       "           [ 1.2530,  0.8536,  0.8536,  ...,  0.1464,  0.9999,  0.5075],\n",
       "           ...,\n",
       "           [ 0.9935,  0.8536,  0.8536,  ...,  0.1464,  0.9999,  0.5075],\n",
       "           [ 0.9980,  0.8536,  0.8536,  ...,  0.1464,  0.9999,  0.5075],\n",
       "           [ 1.0019,  0.8536,  0.8536,  ...,  0.1464,  0.9999,  0.5075]]],\n",
       " \n",
       " \n",
       "         [[[-0.8784,  0.2500,  0.0670,  ...,  0.7500,  1.0000,  0.5036],\n",
       "           [-0.8784,  0.2500,  0.0670,  ...,  0.7500,  1.0000,  0.5036],\n",
       "           [-0.8784,  0.2500,  0.0670,  ...,  0.7500,  1.0000,  0.5036],\n",
       "           ...,\n",
       "           [-0.8784,  0.2500,  0.0670,  ...,  0.7500,  1.0000,  0.5036],\n",
       "           [-0.8784,  0.2500,  0.0670,  ...,  0.7500,  1.0000,  0.5036],\n",
       "           [-0.8784,  0.2500,  0.0670,  ...,  0.7500,  1.0000,  0.5036]]]])]"
      ]
     },
     "execution_count": 15,
     "metadata": {},
     "output_type": "execute_result"
    }
   ],
   "source": [
    "batch = next(iter(train_loader))\n",
    "\n",
    "batch"
   ]
  },
  {
   "cell_type": "code",
   "execution_count": 16,
   "metadata": {},
   "outputs": [
    {
     "data": {
      "text/plain": [
       "list"
      ]
     },
     "execution_count": 16,
     "metadata": {},
     "output_type": "execute_result"
    }
   ],
   "source": [
    "type(batch)"
   ]
  },
  {
   "cell_type": "code",
   "execution_count": 2,
   "metadata": {},
   "outputs": [],
   "source": [
    "import torch\n",
    "from torch_geometric.data import Data"
   ]
  },
  {
   "cell_type": "code",
   "execution_count": 9,
   "metadata": {},
   "outputs": [],
   "source": [
    "edge_index = torch.tensor([[0, 1, 1, 2, 3],\n",
    "                           [1, 0, 2, 1, 2]], dtype=torch.long)\n",
    "x = torch.tensor([[-1], [0], [1], [2]], dtype=torch.float)\n",
    "\n",
    "# data = Data(x=x, edge_index=edge_index)\n",
    "data = Data(x=x)"
   ]
  },
  {
   "cell_type": "code",
   "execution_count": 10,
   "metadata": {},
   "outputs": [
    {
     "data": {
      "text/plain": [
       "True"
      ]
     },
     "execution_count": 10,
     "metadata": {},
     "output_type": "execute_result"
    }
   ],
   "source": [
    "data.validate()"
   ]
  },
  {
   "cell_type": "code",
   "execution_count": 12,
   "metadata": {},
   "outputs": [
    {
     "data": {
      "text/plain": [
       "4"
      ]
     },
     "execution_count": 12,
     "metadata": {},
     "output_type": "execute_result"
    }
   ],
   "source": [
    "data.num_nodes\n",
    "# data.num_edges"
   ]
  },
  {
   "cell_type": "code",
   "execution_count": 1,
   "metadata": {},
   "outputs": [
    {
     "name": "stderr",
     "output_type": "stream",
     "text": [
      "Downloading https://www.chrsmrrs.com/graphkerneldatasets/ENZYMES.zip\n",
      "Extracting /tmp/ENZYMES/ENZYMES/ENZYMES.zip\n",
      "Processing...\n",
      "Done!\n"
     ]
    }
   ],
   "source": [
    "from torch_geometric.utils import scatter\n",
    "from torch_geometric.datasets import TUDataset\n",
    "from torch_geometric.loader import DataLoader\n",
    "\n",
    "dataset = TUDataset(root='/tmp/ENZYMES', name='ENZYMES', use_node_attr=True)\n",
    "loader = DataLoader(dataset, batch_size=32, shuffle=True)"
   ]
  },
  {
   "cell_type": "code",
   "execution_count": 3,
   "metadata": {},
   "outputs": [
    {
     "data": {
      "text/plain": [
       "Data(edge_index=[2, 168], x=[37, 21], y=[1])"
      ]
     },
     "execution_count": 3,
     "metadata": {},
     "output_type": "execute_result"
    }
   ],
   "source": [
    "data = dataset[0]\n",
    "data"
   ]
  },
  {
   "cell_type": "code",
   "execution_count": 18,
   "metadata": {},
   "outputs": [],
   "source": [
    "btch = next(iter(loader))"
   ]
  },
  {
   "cell_type": "code",
   "execution_count": 19,
   "metadata": {},
   "outputs": [
    {
     "data": {
      "text/plain": [
       "DataBatch(edge_index=[2, 4020], x=[1015, 21], y=[32], batch=[1015], ptr=[33])"
      ]
     },
     "execution_count": 19,
     "metadata": {},
     "output_type": "execute_result"
    }
   ],
   "source": [
    "btch"
   ]
  },
  {
   "cell_type": "code",
   "execution_count": null,
   "metadata": {},
   "outputs": [],
   "source": []
  }
 ],
 "metadata": {
  "kernelspec": {
   "display_name": "nlam",
   "language": "python",
   "name": "python3"
  },
  "language_info": {
   "codemirror_mode": {
    "name": "ipython",
    "version": 3
   },
   "file_extension": ".py",
   "mimetype": "text/x-python",
   "name": "python",
   "nbconvert_exporter": "python",
   "pygments_lexer": "ipython3",
   "version": "3.10.6"
  }
 },
 "nbformat": 4,
 "nbformat_minor": 2
}
