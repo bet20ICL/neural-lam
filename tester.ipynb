{
 "cells": [
  {
   "cell_type": "markdown",
   "metadata": {},
   "source": []
  },
  {
   "cell_type": "code",
   "execution_count": 2,
   "metadata": {},
   "outputs": [],
   "source": [
    "l = ['z50', 'z150', 'z250', 'z400', 'z500', 'z700', 'z850', 'z1000', 'q50', 'q150', 'q250', 'q400', 'q500', 'q700', 'q850', 'q1000', 't50', 't150', 't250', 't400', 't500', 't700', 't850', 't1000', 'u50', 'u150', 'u250', 'u400', 'u500', 'u700', 'u850', 'u1000', 'v50', 'v150', 'v250', 'v400', 'v500', 'v700', 'v850', 'v1000', 'w50', 'w150', 'w250', 'w400', 'w500', 'w700', 'w850', 'w1000']"
   ]
  },
  {
   "cell_type": "code",
   "execution_count": 7,
   "metadata": {},
   "outputs": [
    {
     "data": {
      "text/plain": [
       "46"
      ]
     },
     "execution_count": 7,
     "metadata": {},
     "output_type": "execute_result"
    }
   ],
   "source": [
    "l.index(\"w850\")"
   ]
  },
  {
   "cell_type": "markdown",
   "metadata": {},
   "source": []
  },
  {
   "cell_type": "markdown",
   "metadata": {},
   "source": [
    "# Normalisation"
   ]
  },
  {
   "cell_type": "code",
   "execution_count": 1,
   "metadata": {},
   "outputs": [],
   "source": [
    "import xarray as xr\n",
    "import zarr\n",
    "import numcodecs\n",
    "import numpy as np\n",
    "import glob\n",
    "import torch\n",
    "import era5_data_proc\n",
    "import os\n",
    "\n",
    "RAW_ERA5_PATH = \"/vol/bitbucket/bet20/dataset/era5/global_full\""
   ]
  },
  {
   "cell_type": "markdown",
   "metadata": {},
   "source": [
    "## Checking MEPS files"
   ]
  },
  {
   "cell_type": "code",
   "execution_count": 7,
   "metadata": {},
   "outputs": [
    {
     "name": "stdout",
     "output_type": "stream",
     "text": [
      "data_mean torch.Size([17])\n",
      "data_std torch.Size([17])\n",
      "flux_mean torch.Size([])\n",
      "flux_std torch.Size([])\n"
     ]
    }
   ],
   "source": [
    "import neural_lam.utils\n",
    "\n",
    "stats = neural_lam.utils.load_dataset_stats(\"meps_example\")\n",
    "\n",
    "for k, v in stats.items():\n",
    "    print(k, v.shape)"
   ]
  },
  {
   "cell_type": "code",
   "execution_count": 8,
   "metadata": {},
   "outputs": [
    {
     "data": {
      "text/plain": [
       "{'data_mean': tensor([ 9.9905e+04,  1.0110e+05, -2.1808e+05,  3.4544e+05,  7.1781e-01,\n",
       "          7.1459e-01,  2.7186e+02,  2.7192e+02,  2.3915e+02,  2.6271e+02,\n",
       "          2.4146e-01,  8.8596e-01, -2.5360e+00, -3.9970e+00,  6.2696e+00,\n",
       "          8.5077e+02,  5.1629e+04]),\n",
       " 'data_std': tensor([2.4345e+03, 7.6800e+02, 1.0905e+05, 5.0245e+05, 1.4583e-01, 1.6231e-01,\n",
       "         4.8396e+00, 4.4669e+00, 5.4922e+00, 3.9706e+00, 4.3646e+00, 6.7067e+00,\n",
       "         4.2867e+00, 5.2042e+00, 3.1096e+00, 5.9784e+02, 1.0582e+03]),\n",
       " 'flux_mean': tensor(911702.5625),\n",
       " 'flux_std': tensor(1037960.1250)}"
      ]
     },
     "execution_count": 8,
     "metadata": {},
     "output_type": "execute_result"
    }
   ],
   "source": [
    "stats"
   ]
  },
  {
   "cell_type": "markdown",
   "metadata": {},
   "source": [
    "## ERA5 Norm"
   ]
  },
  {
   "cell_type": "code",
   "execution_count": 52,
   "metadata": {},
   "outputs": [
    {
     "data": {
      "text/plain": [
       "['/vol/bitbucket/bet20/dataset/era5/global_full/2022_01.nc',\n",
       " '/vol/bitbucket/bet20/dataset/era5/global_full/2022_02.nc',\n",
       " '/vol/bitbucket/bet20/dataset/era5/global_full/2022_03.nc',\n",
       " '/vol/bitbucket/bet20/dataset/era5/global_full/2022_04.nc',\n",
       " '/vol/bitbucket/bet20/dataset/era5/global_full/2022_05.nc',\n",
       " '/vol/bitbucket/bet20/dataset/era5/global_full/2022_06.nc',\n",
       " '/vol/bitbucket/bet20/dataset/era5/global_full/2022_07.nc',\n",
       " '/vol/bitbucket/bet20/dataset/era5/global_full/2022_08.nc',\n",
       " '/vol/bitbucket/bet20/dataset/era5/global_full/2022_09.nc',\n",
       " '/vol/bitbucket/bet20/dataset/era5/global_full/2022_10.nc',\n",
       " '/vol/bitbucket/bet20/dataset/era5/global_full/2022_11.nc',\n",
       " '/vol/bitbucket/bet20/dataset/era5/global_full/2022_12.nc']"
      ]
     },
     "execution_count": 52,
     "metadata": {},
     "output_type": "execute_result"
    }
   ],
   "source": [
    "nc_files = glob.glob(f'{RAW_ERA5_PATH}/*.nc')\n",
    "nc_files.sort()\n",
    "nc_files = nc_files[:12]\n",
    "nc_files"
   ]
  },
  {
   "cell_type": "code",
   "execution_count": 53,
   "metadata": {},
   "outputs": [],
   "source": [
    "parameter_sums = np.array([0]) # (N_vars, N_levels)\n",
    "var_sums = np.array([0]) # (N_vars, N_levels)\n",
    "total_points = 0"
   ]
  },
  {
   "cell_type": "code",
   "execution_count": 54,
   "metadata": {},
   "outputs": [
    {
     "name": "stdout",
     "output_type": "stream",
     "text": [
      "(6, 8)\n",
      "(6, 8, 124, 65, 57)\n",
      "/vol/bitbucket/bet20/dataset/era5/global_full/2022_01.nc\n",
      "459420\n",
      "(6, 8)\n",
      "(6, 8, 112, 65, 57)\n",
      "/vol/bitbucket/bet20/dataset/era5/global_full/2022_02.nc\n",
      "414960\n",
      "(6, 8)\n",
      "(6, 8, 124, 65, 57)\n",
      "/vol/bitbucket/bet20/dataset/era5/global_full/2022_03.nc\n",
      "459420\n"
     ]
    },
    {
     "data": {
      "text/plain": [
       "True"
      ]
     },
     "execution_count": 54,
     "metadata": {},
     "output_type": "execute_result"
    }
   ],
   "source": [
    "i = 0\n",
    "\n",
    "for i in range(len(nc_files[:3])):\n",
    "    data = xr.open_dataset(nc_files[i])\n",
    "    data = era5_data_proc.uk_subset(data)\n",
    "\n",
    "    num_points = len(data['time']) * len(data[\"latitude\"]) * len(data[\"longitude\"])\n",
    "    total_points = total_points + num_points\n",
    "\n",
    "    sums = np.array([data[var].sum(['time', 'latitude', 'longitude']).values for var in data.data_vars])\n",
    "    print(sums.shape)\n",
    "    parameter_sums = parameter_sums + sums\n",
    "    \n",
    "    vals = data.to_array().values\n",
    "    vals = np.transpose(vals, (0, 2, 1, 3, 4))\n",
    "    print(vals.shape)\n",
    "    var_sums = var_sums + np.sum(vals, axis=(2, 3, 4))\n",
    "\n",
    "    print(nc_files[i])\n",
    "    print(num_points)\n",
    "    \n",
    "np.isclose(parameter_sums, var_sums).all()"
   ]
  },
  {
   "cell_type": "markdown",
   "metadata": {},
   "source": [
    "## ERA5 Normalisation from Xarray"
   ]
  },
  {
   "cell_type": "code",
   "execution_count": null,
   "metadata": {},
   "outputs": [
    {
     "name": "stdout",
     "output_type": "stream",
     "text": [
      "/vol/bitbucket/bet20/dataset/era5/global_full/2022_01.nc\n",
      "459420\n",
      "/vol/bitbucket/bet20/dataset/era5/global_full/2022_02.nc\n",
      "414960\n",
      "/vol/bitbucket/bet20/dataset/era5/global_full/2022_03.nc\n",
      "459420\n",
      "/vol/bitbucket/bet20/dataset/era5/global_full/2022_01.nc\n",
      "459420\n",
      "/vol/bitbucket/bet20/dataset/era5/global_full/2022_02.nc\n",
      "459420\n",
      "/vol/bitbucket/bet20/dataset/era5/global_full/2022_03.nc\n",
      "459420\n"
     ]
    }
   ],
   "source": [
    "var_sums = np.array([0]) # (N_vars, N_levels)\n",
    "total_points = 0\n",
    "\n",
    "for i in range(len(nc_files[:3])):\n",
    "    data = xr.open_dataset(nc_files[i])\n",
    "    data = era5_data_proc.uk_subset(data)\n",
    "\n",
    "    num_points = len(data['time']) * len(data[\"latitude\"]) * len(data[\"longitude\"])\n",
    "    total_points = total_points + num_points\n",
    "\n",
    "    vals = data.to_array().values # (N_vars, N_times, N_levels, N_lats, N_lons)\n",
    "    vals = np.transpose(vals, (0, 2, 1, 3, 4)) # (N_vars, N_levels, N_times, N_lats, N_lons)\n",
    "    var_sums = var_sums + np.sum(vals, axis=(2, 3, 4)) # (N_vars, N_levels)\n",
    "    \n",
    "    print(nc_files[i])\n",
    "    print(num_points)\n",
    "    \n",
    "var_means = var_sums / total_points\n",
    "\n",
    "var_stds = np.array([0]) # (N_vars, N_levels)\n",
    "for i in range(len(nc_files[:3])):\n",
    "    data = xr.open_dataset(nc_files[i])\n",
    "    data = era5_data_proc.uk_subset(data)\n",
    "\n",
    "    vals = data.to_array().values # (N_vars, N_times, N_levels, N_lats, N_lons)\n",
    "    vals = np.transpose(vals, (0, 2, 1, 3, 4)) # (N_vars, N_levels, N_times, N_lats, N_lons)\n",
    "    var_squared_diff = (vals - var_means.reshape(*var_means.shape, 1, 1, 1)) ** 2\n",
    "    var_stds = var_stds + np.sum(var_squared_diff, axis=(2, 3, 4)) # (N_vars, N_levels)\n",
    "    \n",
    "    print(nc_files[i])\n",
    "    print(num_points)\n"
   ]
  },
  {
   "cell_type": "code",
   "execution_count": 74,
   "metadata": {},
   "outputs": [
    {
     "data": {
      "text/plain": [
       "array([[ 1.98566816e+05,  1.31345204e+05,  9.99637114e+04,\n",
       "         6.94915794e+04,  5.39460403e+04,  3.31474312e+04,\n",
       "         1.41598198e+04,  1.26508139e+03],\n",
       "       [ 2.98321743e-06,  3.56682817e-06,  1.98416057e-05,\n",
       "         1.88308410e-04,  4.45394453e-04,  1.11086685e-03,\n",
       "         2.72969379e-03,  4.69097381e-03],\n",
       "       [ 2.11742015e+02,  2.14685919e+02,  2.16439728e+02,\n",
       "         2.36899708e+02,  2.48358562e+02,  2.62084934e+02,\n",
       "         2.72406160e+02,  2.79824492e+02],\n",
       "       [ 2.52679674e+01,  1.99496947e+01,  1.96528285e+01,\n",
       "         1.57890576e+01,  1.36483263e+01,  1.05181391e+01,\n",
       "         7.96240956e+00,  3.91867843e+00],\n",
       "       [-2.01051010e+00, -2.21252477e+00, -2.24673299e+00,\n",
       "        -3.94239711e-01,  3.00932753e-01,  8.27003147e-01,\n",
       "         1.69441152e+00,  2.29910446e+00],\n",
       "       [ 2.05483847e-03,  3.22094799e-03,  4.52772609e-04,\n",
       "         8.94847508e-04, -2.17357494e-03, -6.33947440e-03,\n",
       "        -5.22065071e-03, -1.16850669e-03]])"
      ]
     },
     "execution_count": 74,
     "metadata": {},
     "output_type": "execute_result"
    }
   ],
   "source": [
    "var_means"
   ]
  },
  {
   "cell_type": "markdown",
   "metadata": {},
   "source": [
    "## ERA5 Normalisation with dataloader"
   ]
  },
  {
   "cell_type": "code",
   "execution_count": 76,
   "metadata": {},
   "outputs": [],
   "source": [
    "import glob\n",
    "import os\n",
    "import torch\n",
    "from tqdm import tqdm\n",
    "from neural_lam.era5_dataset import ERA5UKDataset\n",
    "from neural_lam import utils\n",
    "\n",
    "dataset = \"era5_uk_full\"\n",
    "batch_size = 2\n",
    "n_workers = 4"
   ]
  },
  {
   "cell_type": "code",
   "execution_count": 77,
   "metadata": {},
   "outputs": [],
   "source": [
    "static = utils.load_static_data(dataset)"
   ]
  },
  {
   "cell_type": "code",
   "execution_count": 79,
   "metadata": {},
   "outputs": [
    {
     "data": {
      "text/plain": [
       "tensor([2.5464e+03, 2.0264e+03, 2.2975e+03, 2.0187e+03, 1.7620e+03, 5.8213e+03,\n",
       "        1.2267e+03, 1.1808e+03, 1.6962e-07, 1.1838e-06, 1.2919e-05, 1.5098e-04,\n",
       "        3.6187e-04, 9.0703e-04, 1.3290e-03, 1.1877e-03, 6.1122e+00, 5.6558e+00,\n",
       "        3.5887e+00, 4.8513e+00, 5.2299e+00, 5.2967e+00, 4.2371e+00, 2.8118e+00,\n",
       "        1.4652e+01, 1.2807e+01, 1.9964e+01, 1.7005e+01, 1.4406e+01, 1.1302e+01,\n",
       "        9.8326e+00, 7.3897e+00, 1.1996e+01, 1.2976e+01, 2.1520e+01, 1.8191e+01,\n",
       "        1.5043e+01, 1.1692e+01, 9.7814e+00, 7.3720e+00, 3.0445e-02, 6.3717e-02,\n",
       "        1.3932e-01, 2.6964e-01, 3.2182e-01, 3.4959e-01, 3.4065e-01, 1.1852e-01])"
      ]
     },
     "execution_count": 79,
     "metadata": {},
     "output_type": "execute_result"
    }
   ],
   "source": [
    "static[\"data_std\"]"
   ]
  },
  {
   "cell_type": "code",
   "execution_count": 82,
   "metadata": {},
   "outputs": [],
   "source": [
    "ds = ERA5UKDataset(\n",
    "    dataset,\n",
    "    split=\"train\",\n",
    "    standardize=False,\n",
    ")  # Without standardization"
   ]
  },
  {
   "cell_type": "code",
   "execution_count": 83,
   "metadata": {},
   "outputs": [],
   "source": [
    "loader = torch.utils.data.DataLoader(\n",
    "    ds, batch_size, shuffle=False, num_workers=n_workers\n",
    ")"
   ]
  },
  {
   "cell_type": "code",
   "execution_count": 73,
   "metadata": {},
   "outputs": [
    {
     "name": "stderr",
     "output_type": "stream",
     "text": [
      " 25%|██▌       | 180/716 [00:10<00:32, 16.52it/s]\n"
     ]
    }
   ],
   "source": [
    "means = []\n",
    "squares = []\n",
    "flux_means = []\n",
    "flux_squares = []\n",
    "i = 0\n",
    "LIMIT = (31 * 4 + 28 * 4 + 31 * 4) // batch_size\n",
    "for init_batch, target_batch, forcing_batch in tqdm(loader):\n",
    "    if i == LIMIT:\n",
    "        break\n",
    "    i += 1\n",
    "    batch = torch.cat(\n",
    "        (init_batch, target_batch), dim=1\n",
    "    )  # (N_batch, N_t, N_grid, d_features)\n",
    "    means.append(torch.mean(batch, dim=(1, 2)))  # (N_batch, d_features,)\n",
    "    squares.append(\n",
    "        torch.mean(batch**2, dim=(1, 2))\n",
    "    )  # (N_batch, d_features,)\n",
    "\n",
    "\n",
    "mean = torch.mean(torch.cat(means, dim=0), dim=0)  # (d_features)"
   ]
  },
  {
   "cell_type": "markdown",
   "metadata": {},
   "source": [
    "# Test ERA5 dataset"
   ]
  },
  {
   "cell_type": "markdown",
   "metadata": {},
   "source": [
    "## Train Split"
   ]
  },
  {
   "cell_type": "code",
   "execution_count": 1,
   "metadata": {},
   "outputs": [],
   "source": [
    "import glob\n",
    "import os\n",
    "import torch\n",
    "from neural_lam.era5_dataset import ERA5UKDataset\n",
    "\n",
    "dataset_name = \"era5_uk_full\"\n",
    "batch_size = 2\n",
    "n_workers = 4\n"
   ]
  },
  {
   "cell_type": "code",
   "execution_count": 5,
   "metadata": {},
   "outputs": [
    {
     "name": "stdout",
     "output_type": "stream",
     "text": [
      "729\n"
     ]
    },
    {
     "data": {
      "text/plain": [
       "tensor([[[[ 1.9736e+05,  1.3203e+05,  1.0197e+05,  ..., -2.6944e-01,\n",
       "           -2.1301e-01, -1.2030e-02],\n",
       "          [ 1.9744e+05,  1.3210e+05,  1.0204e+05,  ..., -2.9039e-01,\n",
       "           -1.7324e-01, -3.4319e-03],\n",
       "          [ 1.9754e+05,  1.3218e+05,  1.0212e+05,  ..., -2.5708e-01,\n",
       "           -6.5231e-02,  1.8601e-02],\n",
       "          ...,\n",
       "          [ 2.0049e+05,  1.3320e+05,  1.0142e+05,  ...,  4.6545e-02,\n",
       "            4.2540e-01, -9.6399e-02],\n",
       "          [ 2.0052e+05,  1.3320e+05,  1.0142e+05,  ...,  1.3091e-01,\n",
       "            2.2012e-01, -3.8899e-02],\n",
       "          [ 2.0055e+05,  1.3319e+05,  1.0142e+05,  ...,  1.5402e-01,\n",
       "           -2.2430e-01,  9.8133e-02]],\n",
       "\n",
       "         [[ 1.9758e+05,  1.3228e+05,  1.0215e+05,  ..., -1.1360e-01,\n",
       "            1.1694e-01, -1.1252e-01],\n",
       "          [ 1.9765e+05,  1.3235e+05,  1.0221e+05,  ..., -9.8804e-03,\n",
       "            1.9138e-02, -1.3778e-01],\n",
       "          [ 1.9772e+05,  1.3242e+05,  1.0227e+05,  ...,  7.9325e-02,\n",
       "           -6.4693e-02, -1.1628e-01],\n",
       "          ...,\n",
       "          [ 2.0032e+05,  1.3314e+05,  1.0145e+05,  ...,  3.2437e-01,\n",
       "            6.2047e-01,  8.0937e-02],\n",
       "          [ 2.0036e+05,  1.3316e+05,  1.0146e+05,  ...,  2.5935e-01,\n",
       "            7.3977e-01,  1.0243e-01],\n",
       "          [ 2.0039e+05,  1.3318e+05,  1.0146e+05,  ...,  3.3082e-01,\n",
       "            6.9678e-01,  1.6262e-01]]],\n",
       "\n",
       "\n",
       "        [[[ 1.9309e+05,  1.2685e+05,  9.5603e+04,  ...,  2.3680e-01,\n",
       "            1.7176e-01,  7.7234e-02],\n",
       "          [ 1.9330e+05,  1.2699e+05,  9.5703e+04,  ...,  1.3230e-01,\n",
       "            1.7480e-01,  7.2464e-02],\n",
       "          [ 1.9352e+05,  1.2713e+05,  9.5812e+04,  ...,  8.3305e-02,\n",
       "            1.3230e-01,  6.5960e-02],\n",
       "          ...,\n",
       "          [ 2.0116e+05,  1.3273e+05,  9.9477e+04,  ..., -4.0538e-01,\n",
       "           -5.3937e-01, -2.2196e-01],\n",
       "          [ 2.0120e+05,  1.3283e+05,  9.9647e+04,  ...,  3.8857e-01,\n",
       "           -4.0885e-01, -2.6142e-01],\n",
       "          [ 2.0124e+05,  1.3291e+05,  9.9849e+04,  ...,  8.0527e-01,\n",
       "            5.7721e-02, -1.4868e-01]],\n",
       "\n",
       "         [[ 1.9368e+05,  1.2791e+05,  9.6971e+04,  ...,  6.0321e-01,\n",
       "            3.5215e-01,  4.2545e-02],\n",
       "          [ 1.9389e+05,  1.2806e+05,  9.7112e+04,  ...,  5.0608e-01,\n",
       "            2.7453e-01,  4.5147e-02],\n",
       "          [ 1.9408e+05,  1.2820e+05,  9.7247e+04,  ...,  3.3307e-01,\n",
       "            1.4618e-01,  4.0377e-02],\n",
       "          ...,\n",
       "          [ 2.0138e+05,  1.3250e+05,  9.9589e+04,  ..., -5.7015e-01,\n",
       "           -6.3476e-01, -9.7513e-02],\n",
       "          [ 2.0141e+05,  1.3259e+05,  9.9702e+04,  ...,  1.3059e-02,\n",
       "           -3.0391e-01, -1.4651e-01],\n",
       "          [ 2.0143e+05,  1.3267e+05,  9.9827e+04,  ...,  2.7323e-01,\n",
       "           -3.5681e-01, -2.3887e-01]]]])"
      ]
     },
     "execution_count": 5,
     "metadata": {},
     "output_type": "execute_result"
    }
   ],
   "source": [
    "train_set = ERA5UKDataset(\n",
    "    dataset_name,\n",
    "    pred_length=1,\n",
    "    split=\"train\",\n",
    "    standardize=False,\n",
    ")\n",
    "train_loader = torch.utils.data.DataLoader(\n",
    "    train_set,\n",
    "    batch_size,\n",
    "    shuffle=True,\n",
    "    num_workers=n_workers,\n",
    ")\n",
    "\n",
    "print(len(train_loader))\n",
    "dataiter = iter(train_loader)\n",
    "init_states, target_states, forcing = next(dataiter)\n",
    "init_states"
   ]
  },
  {
   "cell_type": "code",
   "execution_count": 4,
   "metadata": {},
   "outputs": [
    {
     "name": "stdout",
     "output_type": "stream",
     "text": [
      "729\n"
     ]
    },
    {
     "data": {
      "text/plain": [
       "tensor([[[[ 2.9441,  2.0760,  1.3319,  ...,  0.7017,  0.3570, -0.1295],\n",
       "          [ 2.9493,  2.1082,  1.3931,  ...,  0.7084,  0.3536, -0.0852],\n",
       "          [ 2.9531,  2.1405,  1.4528,  ...,  0.6300,  0.3673, -0.0114],\n",
       "          ...,\n",
       "          [ 2.9980,  3.2260,  2.6165,  ...,  0.7734,  0.6669, -0.6510],\n",
       "          [ 2.9916,  3.2405,  2.6165,  ...,  1.1254,  0.8740, -0.1344],\n",
       "          [ 2.9865,  3.2550,  2.6151,  ...,  1.1254,  0.8997,  1.0021]],\n",
       "\n",
       "         [[ 2.9018,  2.1098,  1.4884,  ..., -2.6577,  0.3793, -0.2131],\n",
       "          [ 2.9095,  2.1502,  1.5538,  ..., -3.5968,  0.0506, -0.4788],\n",
       "          [ 2.9159,  2.1921,  1.6164,  ..., -3.8821, -0.5536, -0.5477],\n",
       "          ...,\n",
       "          [ 2.9005,  3.1873,  2.5810,  ..., -0.1290,  0.9322, -0.0507],\n",
       "          [ 2.8941,  3.1970,  2.5781,  ...,  0.0828,  1.2078,  0.2100],\n",
       "          [ 2.8877,  3.2099,  2.5753,  ...,  0.1179,  1.2232,  1.0464]]],\n",
       "\n",
       "\n",
       "        [[[ 3.1045,  1.8560,  0.5640,  ..., -0.2758, -0.7146, -0.1385],\n",
       "          [ 3.1032,  1.8738,  0.6039,  ..., -0.1671, -0.7923, -0.0963],\n",
       "          [ 3.1019,  1.8916,  0.6453,  ..., -0.0942, -0.8760, -0.1469],\n",
       "          ...,\n",
       "          [ 2.9810,  3.3770,  2.8463,  ...,  0.3477,  0.7029,  0.2031],\n",
       "          [ 2.9810,  3.4012,  2.8620,  ...,  0.4878,  0.7983,  0.5447],\n",
       "          [ 2.9797,  3.4271,  2.8748,  ...,  0.6722,  0.7748,  1.0550]],\n",
       "\n",
       "         [[ 3.1636,  1.9175,  0.5911,  ..., -0.1128,  0.0221, -0.2228],\n",
       "          [ 3.1598,  1.9417,  0.6395,  ..., -0.1070,  0.2656, -0.1343],\n",
       "          [ 3.1572,  1.9643,  0.6923,  ..., -0.1042,  0.3992, -0.0120],\n",
       "          ...,\n",
       "          [ 3.0247,  3.4820,  2.9219,  ...,  0.4463,  0.6325, -0.5729],\n",
       "          [ 3.0183,  3.5014,  2.9418,  ...,  0.7452,  0.8086, -0.3367],\n",
       "          [ 3.0131,  3.5208,  2.9589,  ...,  1.0597,  0.8878,  0.4899]]]])"
      ]
     },
     "execution_count": 4,
     "metadata": {},
     "output_type": "execute_result"
    }
   ],
   "source": [
    "train_set = ERA5UKDataset(\n",
    "    dataset_name,\n",
    "    pred_length=1,\n",
    "    split=\"train\",\n",
    "    standardize=True,\n",
    ")\n",
    "train_loader = torch.utils.data.DataLoader(\n",
    "    train_set,\n",
    "    batch_size,\n",
    "    shuffle=True,\n",
    "    num_workers=n_workers,\n",
    ")\n",
    "\n",
    "print(len(train_loader))\n",
    "dataiter = iter(train_loader)\n",
    "init_states, target_states, forcing = next(dataiter)\n",
    "init_states"
   ]
  },
  {
   "cell_type": "code",
   "execution_count": 88,
   "metadata": {},
   "outputs": [
    {
     "data": {
      "text/plain": [
       "1460"
      ]
     },
     "execution_count": 88,
     "metadata": {},
     "output_type": "execute_result"
    }
   ],
   "source": [
    "path = \"/vol/bitbucket/bet20/neural-lam/data/era5_uk_full/samples/train\"\n",
    "files = glob.glob(os.path.join(path, \"*.npy\"))\n",
    "len(files)"
   ]
  },
  {
   "cell_type": "code",
   "execution_count": 91,
   "metadata": {},
   "outputs": [
    {
     "data": {
      "text/plain": [
       "tensor([[[[ 2.0524e+05,  1.3322e+05,  9.9049e+04,  ...,  1.1326e-01,\n",
       "           -1.4440e-02, -5.1097e-03],\n",
       "          [ 2.0525e+05,  1.3323e+05,  9.9068e+04,  ...,  1.3484e-01,\n",
       "           -5.9924e-02,  1.3047e-03],\n",
       "          [ 2.0525e+05,  1.3325e+05,  9.9091e+04,  ...,  1.2143e-01,\n",
       "           -1.8522e-02, -1.0278e-03],\n",
       "          ...,\n",
       "          [ 2.0605e+05,  1.3706e+05,  1.0462e+05,  ...,  3.1328e-01,\n",
       "            1.0160e-01,  7.7191e-03],\n",
       "          [ 2.0604e+05,  1.3711e+05,  1.0469e+05,  ...,  2.6721e-01,\n",
       "            1.4300e-01,  4.8034e-03],\n",
       "          [ 2.0603e+05,  1.3717e+05,  1.0475e+05,  ...,  1.7216e-01,\n",
       "            8.1193e-02, -3.3100e-02]],\n",
       "\n",
       "         [[ 2.0510e+05,  1.3317e+05,  9.9026e+04,  ..., -5.4675e-02,\n",
       "           -5.9924e-02,  1.0052e-02],\n",
       "          [ 2.0511e+05,  1.3318e+05,  9.9026e+04,  ...,  4.9704e-02,\n",
       "           -4.8261e-02,  1.0052e-02],\n",
       "          [ 2.0512e+05,  1.3320e+05,  9.9026e+04,  ...,  4.4456e-02,\n",
       "           -7.9167e-02,  7.1359e-03],\n",
       "          ...,\n",
       "          [ 2.0582e+05,  1.3689e+05,  1.0439e+05,  ...,  1.6466e-02,\n",
       "           -1.3273e-02, -1.5147e-01],\n",
       "          [ 2.0581e+05,  1.3693e+05,  1.0445e+05,  ...,  3.6292e-02,\n",
       "            1.1968e-01, -1.0541e-01],\n",
       "          [ 2.0581e+05,  1.3697e+05,  1.0452e+05,  ...,  6.3116e-02,\n",
       "            2.1648e-01,  1.0052e-02]]],\n",
       "\n",
       "\n",
       "        [[[ 2.0315e+05,  1.3223e+05,  9.8715e+04,  ...,  1.1484e-01,\n",
       "           -4.4990e-02,  2.5111e-02],\n",
       "          [ 2.0315e+05,  1.3225e+05,  9.8740e+04,  ...,  1.1671e-01,\n",
       "           -1.8352e-02,  3.5393e-02],\n",
       "          [ 2.0315e+05,  1.3227e+05,  9.8766e+04,  ...,  1.1905e-01,\n",
       "           -2.9295e-03,  3.0719e-02],\n",
       "          ...,\n",
       "          [ 2.0284e+05,  1.3436e+05,  1.0189e+05,  ..., -7.2965e-01,\n",
       "           -3.4175e-01, -1.0715e-01],\n",
       "          [ 2.0285e+05,  1.3440e+05,  1.0204e+05,  ..., -4.7588e-01,\n",
       "           -1.0528e-01, -1.2911e-01],\n",
       "          [ 2.0287e+05,  1.3444e+05,  1.0218e+05,  ..., -3.9643e-01,\n",
       "           -1.2543e-04, -1.3566e-01]],\n",
       "\n",
       "         [[ 2.0299e+05,  1.3221e+05,  9.8757e+04,  ...,  1.2886e-01,\n",
       "            7.1846e-02, -5.9277e-04],\n",
       "          [ 2.0299e+05,  1.3224e+05,  9.8802e+04,  ...,  1.1998e-01,\n",
       "            5.3152e-02, -1.5275e-03],\n",
       "          [ 2.0298e+05,  1.3226e+05,  9.8850e+04,  ...,  1.4849e-01,\n",
       "            6.5303e-02,  3.4192e-04],\n",
       "          ...,\n",
       "          [ 2.0276e+05,  1.3394e+05,  1.0157e+05,  ...,  4.0319e-01,\n",
       "           -8.0976e-02, -4.7989e-03],\n",
       "          [ 2.0275e+05,  1.3399e+05,  1.0168e+05,  ...,  4.4852e-01,\n",
       "           -3.1905e-02, -5.2001e-02],\n",
       "          [ 2.0275e+05,  1.3405e+05,  1.0177e+05,  ...,  3.5506e-01,\n",
       "            2.1439e-01, -9.8268e-02]]]])"
      ]
     },
     "execution_count": 91,
     "metadata": {},
     "output_type": "execute_result"
    }
   ],
   "source": []
  },
  {
   "cell_type": "code",
   "execution_count": 90,
   "metadata": {},
   "outputs": [
    {
     "name": "stdout",
     "output_type": "stream",
     "text": [
      "torch.Size([2, 2, 3705, 48])\n",
      "torch.Size([2, 1, 3705, 48])\n",
      "torch.Size([2, 1, 3705, 0])\n"
     ]
    }
   ],
   "source": [
    "print(init_states.shape)\n",
    "print(target_states.shape)\n",
    "print(forcing.shape)"
   ]
  },
  {
   "cell_type": "code",
   "execution_count": 5,
   "metadata": {},
   "outputs": [
    {
     "name": "stdout",
     "output_type": "stream",
     "text": [
      "376\n",
      "torch.Size([2, 2, 3705, 48])\n",
      "torch.Size([2, 28, 3705, 48])\n",
      "torch.Size([2, 28, 3705, 0])\n"
     ]
    }
   ],
   "source": [
    "val_set = ERA5UKDataset(\n",
    "    dataset_name,\n",
    "    pred_length=28,\n",
    "    split=\"val\",\n",
    ")\n",
    "\n",
    "val_loader = torch.utils.data.DataLoader(\n",
    "    val_set,\n",
    "    batch_size,\n",
    "    shuffle=True,\n",
    "    num_workers=n_workers,\n",
    ")\n",
    "\n",
    "valiter = iter(val_loader)\n",
    "init_states, target_states, forcing = next(valiter)\n",
    "\n",
    "print(len(val_set))\n",
    "print(init_states.shape)\n",
    "print(target_states.shape)\n",
    "print(forcing.shape)"
   ]
  },
  {
   "cell_type": "markdown",
   "metadata": {},
   "source": [
    "## Train Val Split"
   ]
  },
  {
   "cell_type": "code",
   "execution_count": 8,
   "metadata": {},
   "outputs": [],
   "source": [
    "import os\n",
    "import glob\n",
    "import datetime"
   ]
  },
  {
   "cell_type": "code",
   "execution_count": 23,
   "metadata": {},
   "outputs": [],
   "source": [
    "# load time step data\n",
    "sample_dir_path = \"data/era5_uk_full/samples/train\"\n",
    "sample_files = glob.glob(f'{sample_dir_path}/*.npy')\n",
    "sample_files.sort()\n",
    "sample_files = [os.path.basename(f)[:-4] for f in sample_files]\n",
    "sample_times = [datetime.datetime.strptime(f, '%Y%m%d%H%M%S') for f in sample_files]"
   ]
  },
  {
   "cell_type": "code",
   "execution_count": 24,
   "metadata": {},
   "outputs": [
    {
     "data": {
      "text/plain": [
       "'20221231180000'"
      ]
     },
     "execution_count": 24,
     "metadata": {},
     "output_type": "execute_result"
    }
   ],
   "source": [
    "sample_files[-1]"
   ]
  },
  {
   "cell_type": "code",
   "execution_count": 14,
   "metadata": {},
   "outputs": [
    {
     "name": "stdout",
     "output_type": "stream",
     "text": [
      "Missing time step: 2022-12-31 18:00:00 -> 2023-02-01 00:00:00 (31 days, 6:00:00)\n"
     ]
    }
   ],
   "source": [
    "for i in range(1, len(sample_times)):\n",
    "    delta = sample_times[i] - sample_times[i-1]\n",
    "    if delta != datetime.timedelta(hours=6):\n",
    "        print(f\"Missing time step: {sample_times[i-1]} -> {sample_times[i]} ({delta})\")"
   ]
  },
  {
   "cell_type": "code",
   "execution_count": 53,
   "metadata": {},
   "outputs": [],
   "source": [
    "sample_dir_path = \"data/era5_uk_full/samples/val\"\n",
    "# directories = [name for name in os.listdir(sample_dir_path)]\n",
    "# directories.sort()\n",
    "# directories\n",
    "val_months = [\"01\", \"04\", \"07\", \"10\"]"
   ]
  },
  {
   "cell_type": "code",
   "execution_count": 58,
   "metadata": {},
   "outputs": [
    {
     "name": "stdout",
     "output_type": "stream",
     "text": [
      "data/era5_uk_full/samples/val/04\n"
     ]
    },
    {
     "data": {
      "text/plain": [
       "['data/era5_uk_full/samples/val/04/20230401000000.npy',\n",
       " 'data/era5_uk_full/samples/val/04/20230401060000.npy',\n",
       " 'data/era5_uk_full/samples/val/04/20230401120000.npy',\n",
       " 'data/era5_uk_full/samples/val/04/20230401180000.npy',\n",
       " 'data/era5_uk_full/samples/val/04/20230402000000.npy',\n",
       " 'data/era5_uk_full/samples/val/04/20230402060000.npy',\n",
       " 'data/era5_uk_full/samples/val/04/20230402120000.npy',\n",
       " 'data/era5_uk_full/samples/val/04/20230402180000.npy',\n",
       " 'data/era5_uk_full/samples/val/04/20230403000000.npy',\n",
       " 'data/era5_uk_full/samples/val/04/20230403060000.npy',\n",
       " 'data/era5_uk_full/samples/val/04/20230403120000.npy',\n",
       " 'data/era5_uk_full/samples/val/04/20230403180000.npy',\n",
       " 'data/era5_uk_full/samples/val/04/20230404000000.npy',\n",
       " 'data/era5_uk_full/samples/val/04/20230404060000.npy',\n",
       " 'data/era5_uk_full/samples/val/04/20230404120000.npy',\n",
       " 'data/era5_uk_full/samples/val/04/20230404180000.npy',\n",
       " 'data/era5_uk_full/samples/val/04/20230405000000.npy',\n",
       " 'data/era5_uk_full/samples/val/04/20230405060000.npy',\n",
       " 'data/era5_uk_full/samples/val/04/20230405120000.npy',\n",
       " 'data/era5_uk_full/samples/val/04/20230405180000.npy',\n",
       " 'data/era5_uk_full/samples/val/04/20230406000000.npy',\n",
       " 'data/era5_uk_full/samples/val/04/20230406060000.npy',\n",
       " 'data/era5_uk_full/samples/val/04/20230406120000.npy',\n",
       " 'data/era5_uk_full/samples/val/04/20230406180000.npy',\n",
       " 'data/era5_uk_full/samples/val/04/20230407000000.npy',\n",
       " 'data/era5_uk_full/samples/val/04/20230407060000.npy',\n",
       " 'data/era5_uk_full/samples/val/04/20230407120000.npy',\n",
       " 'data/era5_uk_full/samples/val/04/20230407180000.npy',\n",
       " 'data/era5_uk_full/samples/val/04/20230408000000.npy',\n",
       " 'data/era5_uk_full/samples/val/04/20230408060000.npy',\n",
       " 'data/era5_uk_full/samples/val/04/20230408120000.npy',\n",
       " 'data/era5_uk_full/samples/val/04/20230408180000.npy',\n",
       " 'data/era5_uk_full/samples/val/04/20230409000000.npy',\n",
       " 'data/era5_uk_full/samples/val/04/20230409060000.npy',\n",
       " 'data/era5_uk_full/samples/val/04/20230409120000.npy',\n",
       " 'data/era5_uk_full/samples/val/04/20230409180000.npy',\n",
       " 'data/era5_uk_full/samples/val/04/20230410000000.npy',\n",
       " 'data/era5_uk_full/samples/val/04/20230410060000.npy',\n",
       " 'data/era5_uk_full/samples/val/04/20230410120000.npy',\n",
       " 'data/era5_uk_full/samples/val/04/20230410180000.npy',\n",
       " 'data/era5_uk_full/samples/val/04/20230411000000.npy',\n",
       " 'data/era5_uk_full/samples/val/04/20230411060000.npy',\n",
       " 'data/era5_uk_full/samples/val/04/20230411120000.npy',\n",
       " 'data/era5_uk_full/samples/val/04/20230411180000.npy',\n",
       " 'data/era5_uk_full/samples/val/04/20230412000000.npy',\n",
       " 'data/era5_uk_full/samples/val/04/20230412060000.npy',\n",
       " 'data/era5_uk_full/samples/val/04/20230412120000.npy',\n",
       " 'data/era5_uk_full/samples/val/04/20230412180000.npy',\n",
       " 'data/era5_uk_full/samples/val/04/20230413000000.npy',\n",
       " 'data/era5_uk_full/samples/val/04/20230413060000.npy',\n",
       " 'data/era5_uk_full/samples/val/04/20230413120000.npy',\n",
       " 'data/era5_uk_full/samples/val/04/20230413180000.npy',\n",
       " 'data/era5_uk_full/samples/val/04/20230414000000.npy',\n",
       " 'data/era5_uk_full/samples/val/04/20230414060000.npy',\n",
       " 'data/era5_uk_full/samples/val/04/20230414120000.npy',\n",
       " 'data/era5_uk_full/samples/val/04/20230414180000.npy',\n",
       " 'data/era5_uk_full/samples/val/04/20230415000000.npy',\n",
       " 'data/era5_uk_full/samples/val/04/20230415060000.npy',\n",
       " 'data/era5_uk_full/samples/val/04/20230415120000.npy',\n",
       " 'data/era5_uk_full/samples/val/04/20230415180000.npy',\n",
       " 'data/era5_uk_full/samples/val/04/20230416000000.npy',\n",
       " 'data/era5_uk_full/samples/val/04/20230416060000.npy',\n",
       " 'data/era5_uk_full/samples/val/04/20230416120000.npy',\n",
       " 'data/era5_uk_full/samples/val/04/20230416180000.npy',\n",
       " 'data/era5_uk_full/samples/val/04/20230417000000.npy',\n",
       " 'data/era5_uk_full/samples/val/04/20230417060000.npy',\n",
       " 'data/era5_uk_full/samples/val/04/20230417120000.npy',\n",
       " 'data/era5_uk_full/samples/val/04/20230417180000.npy',\n",
       " 'data/era5_uk_full/samples/val/04/20230418000000.npy',\n",
       " 'data/era5_uk_full/samples/val/04/20230418060000.npy',\n",
       " 'data/era5_uk_full/samples/val/04/20230418120000.npy',\n",
       " 'data/era5_uk_full/samples/val/04/20230418180000.npy',\n",
       " 'data/era5_uk_full/samples/val/04/20230419000000.npy',\n",
       " 'data/era5_uk_full/samples/val/04/20230419060000.npy',\n",
       " 'data/era5_uk_full/samples/val/04/20230419120000.npy',\n",
       " 'data/era5_uk_full/samples/val/04/20230419180000.npy',\n",
       " 'data/era5_uk_full/samples/val/04/20230420000000.npy',\n",
       " 'data/era5_uk_full/samples/val/04/20230420060000.npy',\n",
       " 'data/era5_uk_full/samples/val/04/20230420120000.npy',\n",
       " 'data/era5_uk_full/samples/val/04/20230420180000.npy',\n",
       " 'data/era5_uk_full/samples/val/04/20230421000000.npy',\n",
       " 'data/era5_uk_full/samples/val/04/20230421060000.npy',\n",
       " 'data/era5_uk_full/samples/val/04/20230421120000.npy',\n",
       " 'data/era5_uk_full/samples/val/04/20230421180000.npy',\n",
       " 'data/era5_uk_full/samples/val/04/20230422000000.npy',\n",
       " 'data/era5_uk_full/samples/val/04/20230422060000.npy',\n",
       " 'data/era5_uk_full/samples/val/04/20230422120000.npy',\n",
       " 'data/era5_uk_full/samples/val/04/20230422180000.npy',\n",
       " 'data/era5_uk_full/samples/val/04/20230423000000.npy',\n",
       " 'data/era5_uk_full/samples/val/04/20230423060000.npy',\n",
       " 'data/era5_uk_full/samples/val/04/20230423120000.npy',\n",
       " 'data/era5_uk_full/samples/val/04/20230423180000.npy',\n",
       " 'data/era5_uk_full/samples/val/04/20230424000000.npy',\n",
       " 'data/era5_uk_full/samples/val/04/20230424060000.npy',\n",
       " 'data/era5_uk_full/samples/val/04/20230424120000.npy',\n",
       " 'data/era5_uk_full/samples/val/04/20230424180000.npy',\n",
       " 'data/era5_uk_full/samples/val/04/20230425000000.npy',\n",
       " 'data/era5_uk_full/samples/val/04/20230425060000.npy',\n",
       " 'data/era5_uk_full/samples/val/04/20230425120000.npy',\n",
       " 'data/era5_uk_full/samples/val/04/20230425180000.npy',\n",
       " 'data/era5_uk_full/samples/val/04/20230426000000.npy',\n",
       " 'data/era5_uk_full/samples/val/04/20230426060000.npy',\n",
       " 'data/era5_uk_full/samples/val/04/20230426120000.npy',\n",
       " 'data/era5_uk_full/samples/val/04/20230426180000.npy',\n",
       " 'data/era5_uk_full/samples/val/04/20230427000000.npy',\n",
       " 'data/era5_uk_full/samples/val/04/20230427060000.npy',\n",
       " 'data/era5_uk_full/samples/val/04/20230427120000.npy',\n",
       " 'data/era5_uk_full/samples/val/04/20230427180000.npy',\n",
       " 'data/era5_uk_full/samples/val/04/20230428000000.npy',\n",
       " 'data/era5_uk_full/samples/val/04/20230428060000.npy',\n",
       " 'data/era5_uk_full/samples/val/04/20230428120000.npy',\n",
       " 'data/era5_uk_full/samples/val/04/20230428180000.npy',\n",
       " 'data/era5_uk_full/samples/val/04/20230429000000.npy',\n",
       " 'data/era5_uk_full/samples/val/04/20230429060000.npy',\n",
       " 'data/era5_uk_full/samples/val/04/20230429120000.npy',\n",
       " 'data/era5_uk_full/samples/val/04/20230429180000.npy',\n",
       " 'data/era5_uk_full/samples/val/04/20230430000000.npy',\n",
       " 'data/era5_uk_full/samples/val/04/20230430060000.npy',\n",
       " 'data/era5_uk_full/samples/val/04/20230430120000.npy',\n",
       " 'data/era5_uk_full/samples/val/04/20230430180000.npy']"
      ]
     },
     "execution_count": 58,
     "metadata": {},
     "output_type": "execute_result"
    }
   ],
   "source": [
    "month_path = os.path.join(sample_dir_path, val_months[1])\n",
    "print(month_path)\n",
    "sample_files = glob.glob(f'{month_path}/*.npy')\n",
    "sample_files.sort()\n",
    "sample_files"
   ]
  },
  {
   "cell_type": "code",
   "execution_count": 60,
   "metadata": {},
   "outputs": [],
   "source": [
    "import shutil\n",
    "import glob\n",
    "import os\n",
    "\n",
    "# Specify the source and destination directories\n",
    "src_dir = 'data/era5_uk_full/samples/train/'\n",
    "dst_dir = 'data/era5_uk_full/samples/val/01'\n",
    "\n",
    "os.makedirs(dst_dir, exist_ok=True)\n",
    "\n",
    "# Use glob to get all .npy files that start with 2023 in the source directory\n",
    "files = glob.glob(os.path.join(src_dir, '202301*.npy'))\n",
    "\n",
    "# print(files)\n",
    "# print(len(files))\n",
    "\n",
    "# Move each file to the destination directory\n",
    "for file in files:\n",
    "    shutil.move(file, dst_dir)"
   ]
  },
  {
   "cell_type": "code",
   "execution_count": 42,
   "metadata": {},
   "outputs": [
    {
     "data": {
      "text/plain": [
       "124"
      ]
     },
     "execution_count": 42,
     "metadata": {},
     "output_type": "execute_result"
    }
   ],
   "source": [
    "31 * 4"
   ]
  },
  {
   "cell_type": "code",
   "execution_count": 75,
   "metadata": {},
   "outputs": [
    {
     "data": {
      "text/plain": [
       "376"
      ]
     },
     "execution_count": 75,
     "metadata": {},
     "output_type": "execute_result"
    }
   ],
   "source": [
    "\n",
    "pred_length = 28\n",
    "sample_length = pred_length + 2\n",
    "val_samples = []\n",
    "sample_dir_path = \"./data/era5_uk_full/samples/val\"\n",
    "month_samples = {}\n",
    "\n",
    "for month in val_months:\n",
    "    month_dir = os.path.join(sample_dir_path, month)\n",
    "    data_files = glob.glob(os.path.join(month_dir, \"*.npy\"))\n",
    "    data_files.sort()\n",
    "    month_samples[month] = data_files\n",
    "    n_samples = len(data_files) - sample_length + 1\n",
    "    for i in range(n_samples):\n",
    "        val_samples.append((month, i))\n",
    "    \n",
    "\n",
    "N = len(val_samples)\n",
    "N"
   ]
  },
  {
   "cell_type": "code",
   "execution_count": 77,
   "metadata": {},
   "outputs": [
    {
     "data": {
      "text/plain": [
       "('./data/era5_uk_full/samples/val/10/20231013180000.npy', 51)"
      ]
     },
     "execution_count": 77,
     "metadata": {},
     "output_type": "execute_result"
    }
   ],
   "source": [
    "idx = 332\n",
    "month, idx = val_samples[idx]\n",
    "sample_names = month_samples[month]\n",
    "\n",
    "sample_names[idx], idx"
   ]
  },
  {
   "cell_type": "code",
   "execution_count": 48,
   "metadata": {},
   "outputs": [
    {
     "data": {
      "text/plain": [
       "124"
      ]
     },
     "execution_count": 48,
     "metadata": {},
     "output_type": "execute_result"
    }
   ],
   "source": [
    "# verify number of time steps\n",
    "val_files = glob.glob(f'{src_dir}/10/*.npy')\n",
    "len(val_files)"
   ]
  },
  {
   "cell_type": "code",
   "execution_count": 35,
   "metadata": {},
   "outputs": [
    {
     "data": {
      "text/plain": [
       "[]"
      ]
     },
     "execution_count": 35,
     "metadata": {},
     "output_type": "execute_result"
    }
   ],
   "source": [
    "val_files = glob.glob(f'{src_dir}/*.npy')\n",
    "# val_files.sort()\n",
    "# wanted = [v for v in val_files if \"202301\" in v or \"202310\" in v or \"202304\" in v or \"202307\" in v]\n",
    "# wanted"
   ]
  },
  {
   "cell_type": "code",
   "execution_count": null,
   "metadata": {},
   "outputs": [],
   "source": []
  },
  {
   "cell_type": "markdown",
   "metadata": {},
   "source": [
    "# Modulus GraphCast "
   ]
  },
  {
   "cell_type": "code",
   "execution_count": 32,
   "metadata": {},
   "outputs": [],
   "source": [
    "import torch"
   ]
  },
  {
   "cell_type": "code",
   "execution_count": 33,
   "metadata": {},
   "outputs": [
    {
     "data": {
      "text/plain": [
       "tensor([-90.0000, -89.7500, -89.5000, -89.2500, -89.0000, -88.7500, -88.5000,\n",
       "        -88.2500, -88.0000, -87.7500, -87.5000, -87.2500, -87.0000, -86.7500,\n",
       "        -86.5000, -86.2500, -86.0000, -85.7500, -85.5000, -85.2500, -85.0000,\n",
       "        -84.7500, -84.5000, -84.2500, -84.0000, -83.7500, -83.5000, -83.2500,\n",
       "        -83.0000, -82.7500, -82.5000, -82.2500, -82.0000, -81.7500, -81.5000,\n",
       "        -81.2500, -81.0000, -80.7500, -80.5000, -80.2500, -80.0000, -79.7500,\n",
       "        -79.5000, -79.2500, -79.0000, -78.7500, -78.5000, -78.2500, -78.0000,\n",
       "        -77.7500, -77.5000, -77.2500, -77.0000, -76.7500, -76.5000, -76.2500,\n",
       "        -76.0000, -75.7500, -75.5000, -75.2500, -75.0000, -74.7500, -74.5000,\n",
       "        -74.2500, -74.0000, -73.7500, -73.5000, -73.2500, -73.0000, -72.7500,\n",
       "        -72.5000, -72.2500, -72.0000, -71.7500, -71.5000, -71.2500, -71.0000,\n",
       "        -70.7500, -70.5000, -70.2500, -70.0000, -69.7500, -69.5000, -69.2500,\n",
       "        -69.0000, -68.7500, -68.5000, -68.2500, -68.0000, -67.7500, -67.5000,\n",
       "        -67.2500, -67.0000, -66.7500, -66.5000, -66.2500, -66.0000, -65.7500,\n",
       "        -65.5000, -65.2500, -65.0000, -64.7500, -64.5000, -64.2500, -64.0000,\n",
       "        -63.7500, -63.5000, -63.2500, -63.0000, -62.7500, -62.5000, -62.2500,\n",
       "        -62.0000, -61.7500, -61.5000, -61.2500, -61.0000, -60.7500, -60.5000,\n",
       "        -60.2500, -60.0000, -59.7500, -59.5000, -59.2500, -59.0000, -58.7500,\n",
       "        -58.5000, -58.2500, -58.0000, -57.7500, -57.5000, -57.2500, -57.0000,\n",
       "        -56.7500, -56.5000, -56.2500, -56.0000, -55.7500, -55.5000, -55.2500,\n",
       "        -55.0000, -54.7500, -54.5000, -54.2500, -54.0000, -53.7500, -53.5000,\n",
       "        -53.2500, -53.0000, -52.7500, -52.5000, -52.2500, -52.0000, -51.7500,\n",
       "        -51.5000, -51.2500, -51.0000, -50.7500, -50.5000, -50.2500, -50.0000,\n",
       "        -49.7500, -49.5000, -49.2500, -49.0000, -48.7500, -48.5000, -48.2500,\n",
       "        -48.0000, -47.7500, -47.5000, -47.2500, -47.0000, -46.7500, -46.5000,\n",
       "        -46.2500, -46.0000, -45.7500, -45.5000, -45.2500, -45.0000, -44.7500,\n",
       "        -44.5000, -44.2500, -44.0000, -43.7500, -43.5000, -43.2500, -43.0000,\n",
       "        -42.7500, -42.5000, -42.2500, -42.0000, -41.7500, -41.5000, -41.2500,\n",
       "        -41.0000, -40.7500, -40.5000, -40.2500, -40.0000, -39.7500, -39.5000,\n",
       "        -39.2500, -39.0000, -38.7500, -38.5000, -38.2500, -38.0000, -37.7500,\n",
       "        -37.5000, -37.2500, -37.0000, -36.7500, -36.5000, -36.2500, -36.0000,\n",
       "        -35.7500, -35.5000, -35.2500, -35.0000, -34.7500, -34.5000, -34.2500,\n",
       "        -34.0000, -33.7500, -33.5000, -33.2500, -33.0000, -32.7500, -32.5000,\n",
       "        -32.2500, -32.0000, -31.7500, -31.5000, -31.2500, -31.0000, -30.7500,\n",
       "        -30.5000, -30.2500, -30.0000, -29.7500, -29.5000, -29.2500, -29.0000,\n",
       "        -28.7500, -28.5000, -28.2500, -28.0000, -27.7500, -27.5000, -27.2500,\n",
       "        -27.0000, -26.7500, -26.5000, -26.2500, -26.0000, -25.7500, -25.5000,\n",
       "        -25.2500, -25.0000, -24.7500, -24.5000, -24.2500, -24.0000, -23.7500,\n",
       "        -23.5000, -23.2500, -23.0000, -22.7500, -22.5000, -22.2500, -22.0000,\n",
       "        -21.7500, -21.5000, -21.2500, -21.0000, -20.7500, -20.5000, -20.2500,\n",
       "        -20.0000, -19.7500, -19.5000, -19.2500, -19.0000, -18.7500, -18.5000,\n",
       "        -18.2500, -18.0000, -17.7500, -17.5000, -17.2500, -17.0000, -16.7500,\n",
       "        -16.5000, -16.2500, -16.0000, -15.7500, -15.5000, -15.2500, -15.0000,\n",
       "        -14.7500, -14.5000, -14.2500, -14.0000, -13.7500, -13.5000, -13.2500,\n",
       "        -13.0000, -12.7500, -12.5000, -12.2500, -12.0000, -11.7500, -11.5000,\n",
       "        -11.2500, -11.0000, -10.7500, -10.5000, -10.2500, -10.0000,  -9.7500,\n",
       "         -9.5000,  -9.2500,  -9.0000,  -8.7500,  -8.5000,  -8.2500,  -8.0000,\n",
       "         -7.7500,  -7.5000,  -7.2500,  -7.0000,  -6.7500,  -6.5000,  -6.2500,\n",
       "         -6.0000,  -5.7500,  -5.5000,  -5.2500,  -5.0000,  -4.7500,  -4.5000,\n",
       "         -4.2500,  -4.0000,  -3.7500,  -3.5000,  -3.2500,  -3.0000,  -2.7500,\n",
       "         -2.5000,  -2.2500,  -2.0000,  -1.7500,  -1.5000,  -1.2500,  -1.0000,\n",
       "         -0.7500,  -0.5000,  -0.2500,   0.0000,   0.2500,   0.5000,   0.7500,\n",
       "          1.0000,   1.2500,   1.5000,   1.7500,   2.0000,   2.2500,   2.5000,\n",
       "          2.7500,   3.0000,   3.2500,   3.5000,   3.7500,   4.0000,   4.2500,\n",
       "          4.5000,   4.7500,   5.0000,   5.2500,   5.5000,   5.7500,   6.0000,\n",
       "          6.2500,   6.5000,   6.7500,   7.0000,   7.2500,   7.5000,   7.7500,\n",
       "          8.0000,   8.2500,   8.5000,   8.7500,   9.0000,   9.2500,   9.5000,\n",
       "          9.7500,  10.0000,  10.2500,  10.5000,  10.7500,  11.0000,  11.2500,\n",
       "         11.5000,  11.7500,  12.0000,  12.2500,  12.5000,  12.7500,  13.0000,\n",
       "         13.2500,  13.5000,  13.7500,  14.0000,  14.2500,  14.5000,  14.7500,\n",
       "         15.0000,  15.2500,  15.5000,  15.7500,  16.0000,  16.2500,  16.5000,\n",
       "         16.7500,  17.0000,  17.2500,  17.5000,  17.7500,  18.0000,  18.2500,\n",
       "         18.5000,  18.7500,  19.0000,  19.2500,  19.5000,  19.7500,  20.0000,\n",
       "         20.2500,  20.5000,  20.7500,  21.0000,  21.2500,  21.5000,  21.7500,\n",
       "         22.0000,  22.2500,  22.5000,  22.7500,  23.0000,  23.2500,  23.5000,\n",
       "         23.7500,  24.0000,  24.2500,  24.5000,  24.7500,  25.0000,  25.2500,\n",
       "         25.5000,  25.7500,  26.0000,  26.2500,  26.5000,  26.7500,  27.0000,\n",
       "         27.2500,  27.5000,  27.7500,  28.0000,  28.2500,  28.5000,  28.7500,\n",
       "         29.0000,  29.2500,  29.5000,  29.7500,  30.0000,  30.2500,  30.5000,\n",
       "         30.7500,  31.0000,  31.2500,  31.5000,  31.7500,  32.0000,  32.2500,\n",
       "         32.5000,  32.7500,  33.0000,  33.2500,  33.5000,  33.7500,  34.0000,\n",
       "         34.2500,  34.5000,  34.7500,  35.0000,  35.2500,  35.5000,  35.7500,\n",
       "         36.0000,  36.2500,  36.5000,  36.7500,  37.0000,  37.2500,  37.5000,\n",
       "         37.7500,  38.0000,  38.2500,  38.5000,  38.7500,  39.0000,  39.2500,\n",
       "         39.5000,  39.7500,  40.0000,  40.2500,  40.5000,  40.7500,  41.0000,\n",
       "         41.2500,  41.5000,  41.7500,  42.0000,  42.2500,  42.5000,  42.7500,\n",
       "         43.0000,  43.2500,  43.5000,  43.7500,  44.0000,  44.2500,  44.5000,\n",
       "         44.7500,  45.0000,  45.2500,  45.5000,  45.7500,  46.0000,  46.2500,\n",
       "         46.5000,  46.7500,  47.0000,  47.2500,  47.5000,  47.7500,  48.0000,\n",
       "         48.2500,  48.5000,  48.7500,  49.0000,  49.2500,  49.5000,  49.7500,\n",
       "         50.0000,  50.2500,  50.5000,  50.7500,  51.0000,  51.2500,  51.5000,\n",
       "         51.7500,  52.0000,  52.2500,  52.5000,  52.7500,  53.0000,  53.2500,\n",
       "         53.5000,  53.7500,  54.0000,  54.2500,  54.5000,  54.7500,  55.0000,\n",
       "         55.2500,  55.5000,  55.7500,  56.0000,  56.2500,  56.5000,  56.7500,\n",
       "         57.0000,  57.2500,  57.5000,  57.7500,  58.0000,  58.2500,  58.5000,\n",
       "         58.7500,  59.0000,  59.2500,  59.5000,  59.7500,  60.0000,  60.2500,\n",
       "         60.5000,  60.7500,  61.0000,  61.2500,  61.5000,  61.7500,  62.0000,\n",
       "         62.2500,  62.5000,  62.7500,  63.0000,  63.2500,  63.5000,  63.7500,\n",
       "         64.0000,  64.2500,  64.5000,  64.7500,  65.0000,  65.2500,  65.5000,\n",
       "         65.7500,  66.0000,  66.2500,  66.5000,  66.7500,  67.0000,  67.2500,\n",
       "         67.5000,  67.7500,  68.0000,  68.2500,  68.5000,  68.7500,  69.0000,\n",
       "         69.2500,  69.5000,  69.7500,  70.0000,  70.2500,  70.5000,  70.7500,\n",
       "         71.0000,  71.2500,  71.5000,  71.7500,  72.0000,  72.2500,  72.5000,\n",
       "         72.7500,  73.0000,  73.2500,  73.5000,  73.7500,  74.0000,  74.2500,\n",
       "         74.5000,  74.7500,  75.0000,  75.2500,  75.5000,  75.7500,  76.0000,\n",
       "         76.2500,  76.5000,  76.7500,  77.0000,  77.2500,  77.5000,  77.7500,\n",
       "         78.0000,  78.2500,  78.5000,  78.7500,  79.0000,  79.2500,  79.5000,\n",
       "         79.7500,  80.0000,  80.2500,  80.5000,  80.7500,  81.0000,  81.2500,\n",
       "         81.5000,  81.7500,  82.0000,  82.2500,  82.5000,  82.7500,  83.0000,\n",
       "         83.2500,  83.5000,  83.7500,  84.0000,  84.2500,  84.5000,  84.7500,\n",
       "         85.0000,  85.2500,  85.5000,  85.7500,  86.0000,  86.2500,  86.5000,\n",
       "         86.7500,  87.0000,  87.2500,  87.5000,  87.7500,  88.0000,  88.2500,\n",
       "         88.5000,  88.7500,  89.0000,  89.2500,  89.5000,  89.7500,  90.0000])"
      ]
     },
     "execution_count": 33,
     "metadata": {},
     "output_type": "execute_result"
    }
   ],
   "source": [
    "# lat, lon\n",
    "input_res = (721, 1440)\n",
    "latitudes = torch.linspace(-90, 90, steps=input_res[0])\n",
    "latitudes"
   ]
  },
  {
   "cell_type": "code",
   "execution_count": 34,
   "metadata": {},
   "outputs": [
    {
     "data": {
      "text/plain": [
       "tensor([-179.7500, -179.5000, -179.2500,  ...,  179.5000,  179.7500,\n",
       "         180.0000])"
      ]
     },
     "execution_count": 34,
     "metadata": {},
     "output_type": "execute_result"
    }
   ],
   "source": [
    "longitudes = torch.linspace(-180, 180, steps=input_res[1] + 1)[1:]\n",
    "longitudes"
   ]
  },
  {
   "cell_type": "code",
   "execution_count": 35,
   "metadata": {},
   "outputs": [],
   "source": [
    "lat_lon_grid = torch.stack(\n",
    "    torch.meshgrid(latitudes, longitudes, indexing=\"ij\"), dim=-1\n",
    ")"
   ]
  },
  {
   "cell_type": "code",
   "execution_count": 36,
   "metadata": {},
   "outputs": [
    {
     "data": {
      "text/plain": [
       "torch.Size([721, 1440, 2])"
      ]
     },
     "execution_count": 36,
     "metadata": {},
     "output_type": "execute_result"
    }
   ],
   "source": [
    "lat_lon_grid.shape"
   ]
  },
  {
   "cell_type": "code",
   "execution_count": 47,
   "metadata": {},
   "outputs": [],
   "source": [
    "import os\n",
    "import numpy as np"
   ]
  },
  {
   "cell_type": "code",
   "execution_count": 54,
   "metadata": {},
   "outputs": [
    {
     "name": "stdout",
     "output_type": "stream",
     "text": [
      "torch.Size([65, 57, 2])\n",
      "torch.Size([3705, 2])\n"
     ]
    }
   ],
   "source": [
    "nwp_xy_path = os.path.join(\"./data/era5_uk_full/\", \"static\", \"nwp_xy.npy\")\n",
    "local_lat_lon_grid = np.load(nwp_xy_path) # (2, lon, lat) or (2, x, y)\n",
    "local_lat_lon_grid = torch.from_numpy(local_lat_lon_grid).permute(2, 1, 0) # (lat, lon, 2)\n",
    "print(local_lat_lon_grid.shape)\n",
    "local_lat_lon_grid_flat = local_lat_lon_grid.permute(2, 0, 1).reshape(2, -1).permute(1, 0)\n",
    "print(local_lat_lon_grid_flat.shape)"
   ]
  },
  {
   "cell_type": "code",
   "execution_count": 52,
   "metadata": {},
   "outputs": [
    {
     "ename": "RuntimeError",
     "evalue": "view size is not compatible with input tensor's size and stride (at least one dimension spans across two contiguous subspaces). Use .reshape(...) instead.",
     "output_type": "error",
     "traceback": [
      "\u001b[0;31m---------------------------------------------------------------------------\u001b[0m",
      "\u001b[0;31mRuntimeError\u001b[0m                              Traceback (most recent call last)",
      "Cell \u001b[0;32mIn[52], line 1\u001b[0m\n\u001b[0;32m----> 1\u001b[0m local_lat_lon_grid_flat \u001b[38;5;241m=\u001b[39m \u001b[43mlocal_lat_lon_grid\u001b[49m\u001b[38;5;241;43m.\u001b[39;49m\u001b[43mpermute\u001b[49m\u001b[43m(\u001b[49m\u001b[38;5;241;43m2\u001b[39;49m\u001b[43m,\u001b[49m\u001b[43m \u001b[49m\u001b[38;5;241;43m0\u001b[39;49m\u001b[43m,\u001b[49m\u001b[43m \u001b[49m\u001b[38;5;241;43m1\u001b[39;49m\u001b[43m)\u001b[49m\u001b[38;5;241;43m.\u001b[39;49m\u001b[43mview\u001b[49m\u001b[43m(\u001b[49m\u001b[38;5;241;43m2\u001b[39;49m\u001b[43m,\u001b[49m\u001b[43m \u001b[49m\u001b[38;5;241;43m-\u001b[39;49m\u001b[38;5;241;43m1\u001b[39;49m\u001b[43m)\u001b[49m\u001b[38;5;241m.\u001b[39mpermute(\u001b[38;5;241m1\u001b[39m, \u001b[38;5;241m0\u001b[39m)\n",
      "\u001b[0;31mRuntimeError\u001b[0m: view size is not compatible with input tensor's size and stride (at least one dimension spans across two contiguous subspaces). Use .reshape(...) instead."
     ]
    }
   ],
   "source": []
  },
  {
   "cell_type": "markdown",
   "metadata": {},
   "source": [
    "# Sanity Check Graph"
   ]
  },
  {
   "cell_type": "code",
   "execution_count": 55,
   "metadata": {},
   "outputs": [],
   "source": [
    "import numpy as np\n",
    "import torch\n",
    "import os"
   ]
  },
  {
   "cell_type": "code",
   "execution_count": 56,
   "metadata": {},
   "outputs": [],
   "source": [
    "dir = \"./data/era5_uk_full/static/nwp_xy.npy\"\n",
    "grid_xy = torch.tensor(np.load(dir))\n",
    "_, lon, lat = grid_xy.shape\n",
    "\n",
    "graph_name = \"uk_graphcast\"\n",
    "graph_dir_path = os.path.join(\"graphs\", graph_name)"
   ]
  },
  {
   "cell_type": "code",
   "execution_count": 57,
   "metadata": {},
   "outputs": [
    {
     "name": "stdout",
     "output_type": "stream",
     "text": [
      "57 65\n",
      "Local grid nodes 3705\n",
      "Global grid nodes 1038240\n",
      "Local : Global 0.0035685390661118815\n"
     ]
    }
   ],
   "source": [
    "print(lon, lat)\n",
    "print(\"Local grid nodes\", lon * lat)\n",
    "\n",
    "X, Y = 1440, 721\n",
    "fraction = (lon * lat) / (X * Y)\n",
    "print(\"Global grid nodes\", X * Y)\n",
    "print(\"Local : Global\", fraction)"
   ]
  },
  {
   "cell_type": "markdown",
   "metadata": {},
   "source": [
    "### Verify M2M Graph"
   ]
  },
  {
   "cell_type": "code",
   "execution_count": 61,
   "metadata": {},
   "outputs": [
    {
     "name": "stdout",
     "output_type": "stream",
     "text": [
      "torch.Size([355, 3])\n",
      "torch.Size([2584, 4])\n",
      "torch.Size([2, 2584])\n",
      "torch.Size([355])\n",
      "Expected mesh nodes 146.1744972260749\n",
      "Expected mesh edges 1169.2675104022192\n"
     ]
    }
   ],
   "source": [
    "N_MESH_NODES = 40962\n",
    "N_MESH_EDGES = 327660 \n",
    "\n",
    "mesh_features = torch.load(os.path.join(graph_dir_path, \"mesh_features.pt\"))\n",
    "m2m_features = torch.load(os.path.join(graph_dir_path, \"m2m_features.pt\"))\n",
    "m2m_edge_index = torch.load(os.path.join(graph_dir_path, \"m2m_edge_index.pt\"))\n",
    "\n",
    "print(mesh_features[0].shape)\n",
    "print(m2m_features[0].shape)\n",
    "print(m2m_edge_index[0].shape)\n",
    "print(m2m_edge_index[0].unique().shape)\n",
    "\n",
    "print(\"Expected mesh nodes\", N_MESH_NODES * fraction)\n",
    "print(\"Expected mesh edges\", N_MESH_EDGES * fraction)"
   ]
  },
  {
   "cell_type": "markdown",
   "metadata": {},
   "source": [
    "### Verify G2M Graph"
   ]
  },
  {
   "cell_type": "code",
   "execution_count": 63,
   "metadata": {},
   "outputs": [
    {
     "name": "stdout",
     "output_type": "stream",
     "text": [
      "torch.Size([7719, 4])\n",
      "torch.Size([2, 7719])\n",
      "torch.Size([3705])\n",
      "torch.Size([355])\n",
      "3705\n",
      "Expected g2m edges 5776.558339112344\n"
     ]
    }
   ],
   "source": [
    "N_G2M_EDGES = 1618746\n",
    "\n",
    "g2m_features = torch.load(os.path.join(graph_dir_path, \"g2m_features.pt\"))\n",
    "g2m_edge_index = torch.load(os.path.join(graph_dir_path, \"g2m_edge_index.pt\"))\n",
    "\n",
    "print(g2m_features.shape)\n",
    "print(g2m_edge_index.shape)\n",
    "print(g2m_edge_index[0].unique().shape)\n",
    "print(g2m_edge_index[1].unique().shape)\n",
    "print(lat * lon)\n",
    "print(\"Expected g2m edges\", N_G2M_EDGES * fraction)"
   ]
  },
  {
   "cell_type": "markdown",
   "metadata": {},
   "source": [
    "### Verify M2G Graph"
   ]
  },
  {
   "cell_type": "code",
   "execution_count": 64,
   "metadata": {},
   "outputs": [
    {
     "name": "stdout",
     "output_type": "stream",
     "text": [
      "torch.Size([11094, 4])\n",
      "torch.Size([2, 11094])\n",
      "torch.Size([355])\n",
      "torch.Size([3705])\n",
      "3705\n",
      "Expected m2g edges 11115.0\n"
     ]
    }
   ],
   "source": [
    "N_M2G_EDGES = 3114720\n",
    "\n",
    "m2g_features = torch.load(os.path.join(graph_dir_path, \"m2g_features.pt\"))\n",
    "m2g_edge_index = torch.load(os.path.join(graph_dir_path, \"m2g_edge_index.pt\"))\n",
    "\n",
    "print(m2g_features.shape)\n",
    "print(m2g_edge_index.shape)\n",
    "print(m2g_edge_index[0].unique().shape)\n",
    "print(m2g_edge_index[1].unique().shape)\n",
    "print(lat * lon)\n",
    "print(\"Expected m2g edges\", N_M2G_EDGES * fraction)"
   ]
  },
  {
   "cell_type": "markdown",
   "metadata": {},
   "source": [
    "### Verify against full graphcast"
   ]
  },
  {
   "cell_type": "code",
   "execution_count": null,
   "metadata": {},
   "outputs": [],
   "source": [
    "num_grid_nodes = \n",
    "num_m2m_edges = 327660\n",
    "num_m2g_edges = 3114720\n",
    "  "
   ]
  },
  {
   "cell_type": "markdown",
   "metadata": {},
   "source": [
    "```\n",
    "g2m graph: Graph(num_nodes={'grid': 3705, 'mesh': 355},\n",
    "      num_edges={('grid', 'g2m', 'mesh'): 7719},\n",
    "      metagraph=[('grid', 'mesh', 'g2m')])\n",
    "m2g graph: Graph(num_nodes={'grid': 3705, 'mesh': 355},\n",
    "      num_edges={('mesh', 'm2g', 'grid'): 11094},\n",
    "      metagraph=[('mesh', 'grid', 'm2g')])\n",
    "mesh graph: Graph(num_nodes=355, num_edges=2584,\n",
    "      ndata_schemes={'x': Scheme(shape=(3,), dtype=torch.float32)}\n",
    "      edata_schemes={'x': Scheme(shape=(4,), dtype=torch.float32)})\n",
    "```"
   ]
  },
  {
   "cell_type": "markdown",
   "metadata": {},
   "source": [
    "# Parameter weighting"
   ]
  },
  {
   "cell_type": "code",
   "execution_count": null,
   "metadata": {},
   "outputs": [],
   "source": [
    "import numpy as np\n",
    "import matplotlib.pyplot as plt"
   ]
  },
  {
   "cell_type": "code",
   "execution_count": null,
   "metadata": {},
   "outputs": [],
   "source": [
    "pressure_levels = np.array([1, 2, 3, 5, 7, 10, 20, 30, 50, 70, 100, 125, 150, 175, 200, 225, 250, 300, 350,\n",
    "400, 450, 500, 550, 600, 650, 700, 750, 775, 800, 825, 850, 875, 900, 925, 950, 975, 1000])\n",
    "# x_axis = np.linspace(0, )\n",
    "\n",
    "weighting = pressure_levels / sum(pressure_levels)\n",
    "fig, ax = plt.subplots()\n",
    "\n",
    "ax.plot(pressure_levels, weighting, marker='o')\n",
    "y_ticks = np.arange(0, 0.07, 0.005)\n",
    "ax.set_yticks(y_ticks)"
   ]
  },
  {
   "cell_type": "code",
   "execution_count": null,
   "metadata": {},
   "outputs": [],
   "source": [
    "subset_levels = [int(i) for i in ['50', '150', '250', '400', '500', '600', '850', '1000']]\n",
    "subset_weighting = np.array([weighting[pressure_levels == i][0] for i in subset_levels])\n",
    "subset_weighting"
   ]
  },
  {
   "cell_type": "markdown",
   "metadata": {},
   "source": [
    "# Download Progress"
   ]
  },
  {
   "cell_type": "code",
   "execution_count": null,
   "metadata": {},
   "outputs": [],
   "source": [
    "a = \"\"\"2022_02.nc  2022_04.nc  2022_06.nc  2022_08.nc  2022_10.nc  2022_12.nc  2023_03.nc  2023_05.nc  2023_07.nc\n",
    "2022_03.nc  2022_05.nc  2022_07.nc  2022_09.nc  2022_11.nc  2023_02.nc  2023_04.nc  2023_06.nc  2023_08.nc\n",
    "\"\"\"\n",
    "\n",
    "b = a.split()\n",
    "b.sort()"
   ]
  },
  {
   "cell_type": "code",
   "execution_count": null,
   "metadata": {},
   "outputs": [],
   "source": [
    "b"
   ]
  },
  {
   "cell_type": "markdown",
   "metadata": {},
   "source": [
    "# PyTorch and NumPy"
   ]
  },
  {
   "cell_type": "code",
   "execution_count": null,
   "metadata": {},
   "outputs": [],
   "source": [
    "import torch"
   ]
  },
  {
   "cell_type": "code",
   "execution_count": null,
   "metadata": {},
   "outputs": [],
   "source": [
    "batch_size = 4\n",
    "N_grid = 250\n",
    "d_features = 42\n",
    "\n",
    "prev_prev_state = torch.rand((batch_size, N_grid, d_features))\n",
    "prev_state = torch.rand((batch_size, N_grid, d_features))\n",
    "# sample_len = 5\n",
    "target_states = [torch.rand((N_grid, d_features)), torch.rand((N_grid, d_features)), torch.rand((N_grid, d_features))]\n",
    "target_states = torch.stack(target_states, dim=0)\n",
    "target_states = target_states.unsqueeze(0).repeat(batch_size, 1, 1, 1)\n",
    "\n",
    "forcings = torch.zeros(batch_size, target_states.shape[1], target_states.shape[2], 0) # (batch_size, sample_len-2, N_grid, d_forcing)\n",
    "forcing = forcings[:, 2]"
   ]
  },
  {
   "cell_type": "code",
   "execution_count": null,
   "metadata": {},
   "outputs": [],
   "source": [
    "print(prev_prev_state.shape)\n",
    "print(prev_state.shape)\n",
    "print(target_states.shape)\n",
    "print(forcings.shape)\n",
    "print(forcing.shape)"
   ]
  },
  {
   "cell_type": "code",
   "execution_count": null,
   "metadata": {},
   "outputs": [],
   "source": [
    "grid_features = torch.cat(\n",
    "    (\n",
    "        prev_prev_state,\n",
    "        prev_state,\n",
    "        forcing\n",
    "    ),\n",
    "    dim=-1\n",
    ")"
   ]
  },
  {
   "cell_type": "code",
   "execution_count": null,
   "metadata": {},
   "outputs": [],
   "source": [
    "grid_features.shape"
   ]
  },
  {
   "cell_type": "code",
   "execution_count": null,
   "metadata": {},
   "outputs": [],
   "source": []
  },
  {
   "cell_type": "markdown",
   "metadata": {},
   "source": [
    "# ERA5 Dataset"
   ]
  },
  {
   "cell_type": "code",
   "execution_count": 13,
   "metadata": {},
   "outputs": [],
   "source": [
    "import xarray as xr\n",
    "import zarr\n",
    "import numcodecs\n",
    "import numpy as np\n",
    "import glob\n",
    "import torch\n",
    "import era5_data_proc\n",
    "import os\n",
    "\n",
    "RAW_ERA5_PATH = \"/vol/bitbucket/bet20/dataset/era5/global_full\""
   ]
  },
  {
   "cell_type": "markdown",
   "metadata": {},
   "source": [
    "### Verify nwp_xy.npy and time step files"
   ]
  },
  {
   "cell_type": "code",
   "execution_count": 14,
   "metadata": {},
   "outputs": [
    {
     "name": "stdout",
     "output_type": "stream",
     "text": [
      "/vol/bitbucket/bet20/dataset/era5/global_full/2022_02.nc\n",
      "2022-02-01T00:00:00.000000000\n"
     ]
    },
    {
     "data": {
      "text/html": [
       "<div><svg style=\"position: absolute; width: 0; height: 0; overflow: hidden\">\n",
       "<defs>\n",
       "<symbol id=\"icon-database\" viewBox=\"0 0 32 32\">\n",
       "<path d=\"M16 0c-8.837 0-16 2.239-16 5v4c0 2.761 7.163 5 16 5s16-2.239 16-5v-4c0-2.761-7.163-5-16-5z\"></path>\n",
       "<path d=\"M16 17c-8.837 0-16-2.239-16-5v6c0 2.761 7.163 5 16 5s16-2.239 16-5v-6c0 2.761-7.163 5-16 5z\"></path>\n",
       "<path d=\"M16 26c-8.837 0-16-2.239-16-5v6c0 2.761 7.163 5 16 5s16-2.239 16-5v-6c0 2.761-7.163 5-16 5z\"></path>\n",
       "</symbol>\n",
       "<symbol id=\"icon-file-text2\" viewBox=\"0 0 32 32\">\n",
       "<path d=\"M28.681 7.159c-0.694-0.947-1.662-2.053-2.724-3.116s-2.169-2.030-3.116-2.724c-1.612-1.182-2.393-1.319-2.841-1.319h-15.5c-1.378 0-2.5 1.121-2.5 2.5v27c0 1.378 1.122 2.5 2.5 2.5h23c1.378 0 2.5-1.122 2.5-2.5v-19.5c0-0.448-0.137-1.23-1.319-2.841zM24.543 5.457c0.959 0.959 1.712 1.825 2.268 2.543h-4.811v-4.811c0.718 0.556 1.584 1.309 2.543 2.268zM28 29.5c0 0.271-0.229 0.5-0.5 0.5h-23c-0.271 0-0.5-0.229-0.5-0.5v-27c0-0.271 0.229-0.5 0.5-0.5 0 0 15.499-0 15.5 0v7c0 0.552 0.448 1 1 1h7v19.5z\"></path>\n",
       "<path d=\"M23 26h-14c-0.552 0-1-0.448-1-1s0.448-1 1-1h14c0.552 0 1 0.448 1 1s-0.448 1-1 1z\"></path>\n",
       "<path d=\"M23 22h-14c-0.552 0-1-0.448-1-1s0.448-1 1-1h14c0.552 0 1 0.448 1 1s-0.448 1-1 1z\"></path>\n",
       "<path d=\"M23 18h-14c-0.552 0-1-0.448-1-1s0.448-1 1-1h14c0.552 0 1 0.448 1 1s-0.448 1-1 1z\"></path>\n",
       "</symbol>\n",
       "</defs>\n",
       "</svg>\n",
       "<style>/* CSS stylesheet for displaying xarray objects in jupyterlab.\n",
       " *\n",
       " */\n",
       "\n",
       ":root {\n",
       "  --xr-font-color0: var(--jp-content-font-color0, rgba(0, 0, 0, 1));\n",
       "  --xr-font-color2: var(--jp-content-font-color2, rgba(0, 0, 0, 0.54));\n",
       "  --xr-font-color3: var(--jp-content-font-color3, rgba(0, 0, 0, 0.38));\n",
       "  --xr-border-color: var(--jp-border-color2, #e0e0e0);\n",
       "  --xr-disabled-color: var(--jp-layout-color3, #bdbdbd);\n",
       "  --xr-background-color: var(--jp-layout-color0, white);\n",
       "  --xr-background-color-row-even: var(--jp-layout-color1, white);\n",
       "  --xr-background-color-row-odd: var(--jp-layout-color2, #eeeeee);\n",
       "}\n",
       "\n",
       "html[theme=dark],\n",
       "body[data-theme=dark],\n",
       "body.vscode-dark {\n",
       "  --xr-font-color0: rgba(255, 255, 255, 1);\n",
       "  --xr-font-color2: rgba(255, 255, 255, 0.54);\n",
       "  --xr-font-color3: rgba(255, 255, 255, 0.38);\n",
       "  --xr-border-color: #1F1F1F;\n",
       "  --xr-disabled-color: #515151;\n",
       "  --xr-background-color: #111111;\n",
       "  --xr-background-color-row-even: #111111;\n",
       "  --xr-background-color-row-odd: #313131;\n",
       "}\n",
       "\n",
       ".xr-wrap {\n",
       "  display: block !important;\n",
       "  min-width: 300px;\n",
       "  max-width: 700px;\n",
       "}\n",
       "\n",
       ".xr-text-repr-fallback {\n",
       "  /* fallback to plain text repr when CSS is not injected (untrusted notebook) */\n",
       "  display: none;\n",
       "}\n",
       "\n",
       ".xr-header {\n",
       "  padding-top: 6px;\n",
       "  padding-bottom: 6px;\n",
       "  margin-bottom: 4px;\n",
       "  border-bottom: solid 1px var(--xr-border-color);\n",
       "}\n",
       "\n",
       ".xr-header > div,\n",
       ".xr-header > ul {\n",
       "  display: inline;\n",
       "  margin-top: 0;\n",
       "  margin-bottom: 0;\n",
       "}\n",
       "\n",
       ".xr-obj-type,\n",
       ".xr-array-name {\n",
       "  margin-left: 2px;\n",
       "  margin-right: 10px;\n",
       "}\n",
       "\n",
       ".xr-obj-type {\n",
       "  color: var(--xr-font-color2);\n",
       "}\n",
       "\n",
       ".xr-sections {\n",
       "  padding-left: 0 !important;\n",
       "  display: grid;\n",
       "  grid-template-columns: 150px auto auto 1fr 20px 20px;\n",
       "}\n",
       "\n",
       ".xr-section-item {\n",
       "  display: contents;\n",
       "}\n",
       "\n",
       ".xr-section-item input {\n",
       "  display: none;\n",
       "}\n",
       "\n",
       ".xr-section-item input + label {\n",
       "  color: var(--xr-disabled-color);\n",
       "}\n",
       "\n",
       ".xr-section-item input:enabled + label {\n",
       "  cursor: pointer;\n",
       "  color: var(--xr-font-color2);\n",
       "}\n",
       "\n",
       ".xr-section-item input:enabled + label:hover {\n",
       "  color: var(--xr-font-color0);\n",
       "}\n",
       "\n",
       ".xr-section-summary {\n",
       "  grid-column: 1;\n",
       "  color: var(--xr-font-color2);\n",
       "  font-weight: 500;\n",
       "}\n",
       "\n",
       ".xr-section-summary > span {\n",
       "  display: inline-block;\n",
       "  padding-left: 0.5em;\n",
       "}\n",
       "\n",
       ".xr-section-summary-in:disabled + label {\n",
       "  color: var(--xr-font-color2);\n",
       "}\n",
       "\n",
       ".xr-section-summary-in + label:before {\n",
       "  display: inline-block;\n",
       "  content: '►';\n",
       "  font-size: 11px;\n",
       "  width: 15px;\n",
       "  text-align: center;\n",
       "}\n",
       "\n",
       ".xr-section-summary-in:disabled + label:before {\n",
       "  color: var(--xr-disabled-color);\n",
       "}\n",
       "\n",
       ".xr-section-summary-in:checked + label:before {\n",
       "  content: '▼';\n",
       "}\n",
       "\n",
       ".xr-section-summary-in:checked + label > span {\n",
       "  display: none;\n",
       "}\n",
       "\n",
       ".xr-section-summary,\n",
       ".xr-section-inline-details {\n",
       "  padding-top: 4px;\n",
       "  padding-bottom: 4px;\n",
       "}\n",
       "\n",
       ".xr-section-inline-details {\n",
       "  grid-column: 2 / -1;\n",
       "}\n",
       "\n",
       ".xr-section-details {\n",
       "  display: none;\n",
       "  grid-column: 1 / -1;\n",
       "  margin-bottom: 5px;\n",
       "}\n",
       "\n",
       ".xr-section-summary-in:checked ~ .xr-section-details {\n",
       "  display: contents;\n",
       "}\n",
       "\n",
       ".xr-array-wrap {\n",
       "  grid-column: 1 / -1;\n",
       "  display: grid;\n",
       "  grid-template-columns: 20px auto;\n",
       "}\n",
       "\n",
       ".xr-array-wrap > label {\n",
       "  grid-column: 1;\n",
       "  vertical-align: top;\n",
       "}\n",
       "\n",
       ".xr-preview {\n",
       "  color: var(--xr-font-color3);\n",
       "}\n",
       "\n",
       ".xr-array-preview,\n",
       ".xr-array-data {\n",
       "  padding: 0 5px !important;\n",
       "  grid-column: 2;\n",
       "}\n",
       "\n",
       ".xr-array-data,\n",
       ".xr-array-in:checked ~ .xr-array-preview {\n",
       "  display: none;\n",
       "}\n",
       "\n",
       ".xr-array-in:checked ~ .xr-array-data,\n",
       ".xr-array-preview {\n",
       "  display: inline-block;\n",
       "}\n",
       "\n",
       ".xr-dim-list {\n",
       "  display: inline-block !important;\n",
       "  list-style: none;\n",
       "  padding: 0 !important;\n",
       "  margin: 0;\n",
       "}\n",
       "\n",
       ".xr-dim-list li {\n",
       "  display: inline-block;\n",
       "  padding: 0;\n",
       "  margin: 0;\n",
       "}\n",
       "\n",
       ".xr-dim-list:before {\n",
       "  content: '(';\n",
       "}\n",
       "\n",
       ".xr-dim-list:after {\n",
       "  content: ')';\n",
       "}\n",
       "\n",
       ".xr-dim-list li:not(:last-child):after {\n",
       "  content: ',';\n",
       "  padding-right: 5px;\n",
       "}\n",
       "\n",
       ".xr-has-index {\n",
       "  font-weight: bold;\n",
       "}\n",
       "\n",
       ".xr-var-list,\n",
       ".xr-var-item {\n",
       "  display: contents;\n",
       "}\n",
       "\n",
       ".xr-var-item > div,\n",
       ".xr-var-item label,\n",
       ".xr-var-item > .xr-var-name span {\n",
       "  background-color: var(--xr-background-color-row-even);\n",
       "  margin-bottom: 0;\n",
       "}\n",
       "\n",
       ".xr-var-item > .xr-var-name:hover span {\n",
       "  padding-right: 5px;\n",
       "}\n",
       "\n",
       ".xr-var-list > li:nth-child(odd) > div,\n",
       ".xr-var-list > li:nth-child(odd) > label,\n",
       ".xr-var-list > li:nth-child(odd) > .xr-var-name span {\n",
       "  background-color: var(--xr-background-color-row-odd);\n",
       "}\n",
       "\n",
       ".xr-var-name {\n",
       "  grid-column: 1;\n",
       "}\n",
       "\n",
       ".xr-var-dims {\n",
       "  grid-column: 2;\n",
       "}\n",
       "\n",
       ".xr-var-dtype {\n",
       "  grid-column: 3;\n",
       "  text-align: right;\n",
       "  color: var(--xr-font-color2);\n",
       "}\n",
       "\n",
       ".xr-var-preview {\n",
       "  grid-column: 4;\n",
       "}\n",
       "\n",
       ".xr-index-preview {\n",
       "  grid-column: 2 / 5;\n",
       "  color: var(--xr-font-color2);\n",
       "}\n",
       "\n",
       ".xr-var-name,\n",
       ".xr-var-dims,\n",
       ".xr-var-dtype,\n",
       ".xr-preview,\n",
       ".xr-attrs dt {\n",
       "  white-space: nowrap;\n",
       "  overflow: hidden;\n",
       "  text-overflow: ellipsis;\n",
       "  padding-right: 10px;\n",
       "}\n",
       "\n",
       ".xr-var-name:hover,\n",
       ".xr-var-dims:hover,\n",
       ".xr-var-dtype:hover,\n",
       ".xr-attrs dt:hover {\n",
       "  overflow: visible;\n",
       "  width: auto;\n",
       "  z-index: 1;\n",
       "}\n",
       "\n",
       ".xr-var-attrs,\n",
       ".xr-var-data,\n",
       ".xr-index-data {\n",
       "  display: none;\n",
       "  background-color: var(--xr-background-color) !important;\n",
       "  padding-bottom: 5px !important;\n",
       "}\n",
       "\n",
       ".xr-var-attrs-in:checked ~ .xr-var-attrs,\n",
       ".xr-var-data-in:checked ~ .xr-var-data,\n",
       ".xr-index-data-in:checked ~ .xr-index-data {\n",
       "  display: block;\n",
       "}\n",
       "\n",
       ".xr-var-data > table {\n",
       "  float: right;\n",
       "}\n",
       "\n",
       ".xr-var-name span,\n",
       ".xr-var-data,\n",
       ".xr-index-name div,\n",
       ".xr-index-data,\n",
       ".xr-attrs {\n",
       "  padding-left: 25px !important;\n",
       "}\n",
       "\n",
       ".xr-attrs,\n",
       ".xr-var-attrs,\n",
       ".xr-var-data,\n",
       ".xr-index-data {\n",
       "  grid-column: 1 / -1;\n",
       "}\n",
       "\n",
       "dl.xr-attrs {\n",
       "  padding: 0;\n",
       "  margin: 0;\n",
       "  display: grid;\n",
       "  grid-template-columns: 125px auto;\n",
       "}\n",
       "\n",
       ".xr-attrs dt,\n",
       ".xr-attrs dd {\n",
       "  padding: 0;\n",
       "  margin: 0;\n",
       "  float: left;\n",
       "  padding-right: 10px;\n",
       "  width: auto;\n",
       "}\n",
       "\n",
       ".xr-attrs dt {\n",
       "  font-weight: normal;\n",
       "  grid-column: 1;\n",
       "}\n",
       "\n",
       ".xr-attrs dt:hover span {\n",
       "  display: inline-block;\n",
       "  background: var(--xr-background-color);\n",
       "  padding-right: 10px;\n",
       "}\n",
       "\n",
       ".xr-attrs dd {\n",
       "  grid-column: 2;\n",
       "  white-space: pre-wrap;\n",
       "  word-break: break-all;\n",
       "}\n",
       "\n",
       ".xr-icon-database,\n",
       ".xr-icon-file-text2,\n",
       ".xr-no-icon {\n",
       "  display: inline-block;\n",
       "  vertical-align: middle;\n",
       "  width: 1em;\n",
       "  height: 1.5em !important;\n",
       "  stroke-width: 0;\n",
       "  stroke: currentColor;\n",
       "  fill: currentColor;\n",
       "}\n",
       "</style><pre class='xr-text-repr-fallback'>&lt;xarray.Dataset&gt; Size: 1MB\n",
       "Dimensions:    (level: 8, latitude: 65, longitude: 57)\n",
       "Coordinates:\n",
       "  * longitude  (longitude) float32 228B 350.0 350.2 350.5 350.8 ... 3.5 3.75 4.0\n",
       "  * latitude   (latitude) float32 260B 63.0 62.75 62.5 62.25 ... 47.5 47.25 47.0\n",
       "  * level      (level) int32 32B 50 150 250 400 500 700 850 1000\n",
       "    time       datetime64[ns] 8B 2022-02-01\n",
       "Data variables:\n",
       "    z          (level, latitude, longitude) float64 237kB 1.915e+05 ... 2.237...\n",
       "    q          (level, latitude, longitude) float64 237kB 3.163e-06 ... 0.00278\n",
       "    t          (level, latitude, longitude) float64 237kB 191.8 192.0 ... 275.5\n",
       "    u          (level, latitude, longitude) float64 237kB 58.46 58.45 ... 1.674\n",
       "    v          (level, latitude, longitude) float64 237kB -13.31 ... -1.532\n",
       "    w          (level, latitude, longitude) float64 237kB 0.06596 ... -0.05892\n",
       "Attributes:\n",
       "    Conventions:  CF-1.6\n",
       "    history:      2024-05-14 03:03:28 GMT by grib_to_netcdf-2.28.1: /opt/ecmw...</pre><div class='xr-wrap' style='display:none'><div class='xr-header'><div class='xr-obj-type'>xarray.Dataset</div></div><ul class='xr-sections'><li class='xr-section-item'><input id='section-e7a555fb-1ccf-4d3b-bccb-748ee9cb9d7a' class='xr-section-summary-in' type='checkbox' disabled ><label for='section-e7a555fb-1ccf-4d3b-bccb-748ee9cb9d7a' class='xr-section-summary'  title='Expand/collapse section'>Dimensions:</label><div class='xr-section-inline-details'><ul class='xr-dim-list'><li><span class='xr-has-index'>level</span>: 8</li><li><span class='xr-has-index'>latitude</span>: 65</li><li><span class='xr-has-index'>longitude</span>: 57</li></ul></div><div class='xr-section-details'></div></li><li class='xr-section-item'><input id='section-6dc4c14b-a7fb-4614-901a-42e835c83db1' class='xr-section-summary-in' type='checkbox'  checked><label for='section-6dc4c14b-a7fb-4614-901a-42e835c83db1' class='xr-section-summary' >Coordinates: <span>(4)</span></label><div class='xr-section-inline-details'></div><div class='xr-section-details'><ul class='xr-var-list'><li class='xr-var-item'><div class='xr-var-name'><span class='xr-has-index'>longitude</span></div><div class='xr-var-dims'>(longitude)</div><div class='xr-var-dtype'>float32</div><div class='xr-var-preview xr-preview'>350.0 350.2 350.5 ... 3.5 3.75 4.0</div><input id='attrs-2fbafea7-acfa-46cf-8157-4e145ae62b46' class='xr-var-attrs-in' type='checkbox' ><label for='attrs-2fbafea7-acfa-46cf-8157-4e145ae62b46' title='Show/Hide attributes'><svg class='icon xr-icon-file-text2'><use xlink:href='#icon-file-text2'></use></svg></label><input id='data-d20574ff-dcd2-41fa-b9cd-c3ec661270fd' class='xr-var-data-in' type='checkbox'><label for='data-d20574ff-dcd2-41fa-b9cd-c3ec661270fd' title='Show/Hide data repr'><svg class='icon xr-icon-database'><use xlink:href='#icon-database'></use></svg></label><div class='xr-var-attrs'><dl class='xr-attrs'><dt><span>units :</span></dt><dd>degrees_east</dd><dt><span>long_name :</span></dt><dd>longitude</dd></dl></div><div class='xr-var-data'><pre>array([3.5000e+02, 3.5025e+02, 3.5050e+02, 3.5075e+02, 3.5100e+02, 3.5125e+02,\n",
       "       3.5150e+02, 3.5175e+02, 3.5200e+02, 3.5225e+02, 3.5250e+02, 3.5275e+02,\n",
       "       3.5300e+02, 3.5325e+02, 3.5350e+02, 3.5375e+02, 3.5400e+02, 3.5425e+02,\n",
       "       3.5450e+02, 3.5475e+02, 3.5500e+02, 3.5525e+02, 3.5550e+02, 3.5575e+02,\n",
       "       3.5600e+02, 3.5625e+02, 3.5650e+02, 3.5675e+02, 3.5700e+02, 3.5725e+02,\n",
       "       3.5750e+02, 3.5775e+02, 3.5800e+02, 3.5825e+02, 3.5850e+02, 3.5875e+02,\n",
       "       3.5900e+02, 3.5925e+02, 3.5950e+02, 3.5975e+02, 0.0000e+00, 2.5000e-01,\n",
       "       5.0000e-01, 7.5000e-01, 1.0000e+00, 1.2500e+00, 1.5000e+00, 1.7500e+00,\n",
       "       2.0000e+00, 2.2500e+00, 2.5000e+00, 2.7500e+00, 3.0000e+00, 3.2500e+00,\n",
       "       3.5000e+00, 3.7500e+00, 4.0000e+00], dtype=float32)</pre></div></li><li class='xr-var-item'><div class='xr-var-name'><span class='xr-has-index'>latitude</span></div><div class='xr-var-dims'>(latitude)</div><div class='xr-var-dtype'>float32</div><div class='xr-var-preview xr-preview'>63.0 62.75 62.5 ... 47.5 47.25 47.0</div><input id='attrs-6cfa6a0f-78c9-475a-b53d-06655e509d47' class='xr-var-attrs-in' type='checkbox' ><label for='attrs-6cfa6a0f-78c9-475a-b53d-06655e509d47' title='Show/Hide attributes'><svg class='icon xr-icon-file-text2'><use xlink:href='#icon-file-text2'></use></svg></label><input id='data-3d407d3c-19ea-4cf6-96b6-976a6cb1f913' class='xr-var-data-in' type='checkbox'><label for='data-3d407d3c-19ea-4cf6-96b6-976a6cb1f913' title='Show/Hide data repr'><svg class='icon xr-icon-database'><use xlink:href='#icon-database'></use></svg></label><div class='xr-var-attrs'><dl class='xr-attrs'><dt><span>units :</span></dt><dd>degrees_north</dd><dt><span>long_name :</span></dt><dd>latitude</dd></dl></div><div class='xr-var-data'><pre>array([63.  , 62.75, 62.5 , 62.25, 62.  , 61.75, 61.5 , 61.25, 61.  , 60.75,\n",
       "       60.5 , 60.25, 60.  , 59.75, 59.5 , 59.25, 59.  , 58.75, 58.5 , 58.25,\n",
       "       58.  , 57.75, 57.5 , 57.25, 57.  , 56.75, 56.5 , 56.25, 56.  , 55.75,\n",
       "       55.5 , 55.25, 55.  , 54.75, 54.5 , 54.25, 54.  , 53.75, 53.5 , 53.25,\n",
       "       53.  , 52.75, 52.5 , 52.25, 52.  , 51.75, 51.5 , 51.25, 51.  , 50.75,\n",
       "       50.5 , 50.25, 50.  , 49.75, 49.5 , 49.25, 49.  , 48.75, 48.5 , 48.25,\n",
       "       48.  , 47.75, 47.5 , 47.25, 47.  ], dtype=float32)</pre></div></li><li class='xr-var-item'><div class='xr-var-name'><span class='xr-has-index'>level</span></div><div class='xr-var-dims'>(level)</div><div class='xr-var-dtype'>int32</div><div class='xr-var-preview xr-preview'>50 150 250 400 500 700 850 1000</div><input id='attrs-a44efc63-5177-4ef6-948a-4735168fff23' class='xr-var-attrs-in' type='checkbox' ><label for='attrs-a44efc63-5177-4ef6-948a-4735168fff23' title='Show/Hide attributes'><svg class='icon xr-icon-file-text2'><use xlink:href='#icon-file-text2'></use></svg></label><input id='data-b187c5f4-a5e0-49cc-8d43-0b56c5e12213' class='xr-var-data-in' type='checkbox'><label for='data-b187c5f4-a5e0-49cc-8d43-0b56c5e12213' title='Show/Hide data repr'><svg class='icon xr-icon-database'><use xlink:href='#icon-database'></use></svg></label><div class='xr-var-attrs'><dl class='xr-attrs'><dt><span>units :</span></dt><dd>millibars</dd><dt><span>long_name :</span></dt><dd>pressure_level</dd></dl></div><div class='xr-var-data'><pre>array([  50,  150,  250,  400,  500,  700,  850, 1000], dtype=int32)</pre></div></li><li class='xr-var-item'><div class='xr-var-name'><span>time</span></div><div class='xr-var-dims'>()</div><div class='xr-var-dtype'>datetime64[ns]</div><div class='xr-var-preview xr-preview'>2022-02-01</div><input id='attrs-c6a17326-574c-4ad9-a40d-82afea229917' class='xr-var-attrs-in' type='checkbox' ><label for='attrs-c6a17326-574c-4ad9-a40d-82afea229917' title='Show/Hide attributes'><svg class='icon xr-icon-file-text2'><use xlink:href='#icon-file-text2'></use></svg></label><input id='data-984f51f6-86f0-4f70-8828-c09980cd0293' class='xr-var-data-in' type='checkbox'><label for='data-984f51f6-86f0-4f70-8828-c09980cd0293' title='Show/Hide data repr'><svg class='icon xr-icon-database'><use xlink:href='#icon-database'></use></svg></label><div class='xr-var-attrs'><dl class='xr-attrs'><dt><span>long_name :</span></dt><dd>time</dd></dl></div><div class='xr-var-data'><pre>array(&#x27;2022-02-01T00:00:00.000000000&#x27;, dtype=&#x27;datetime64[ns]&#x27;)</pre></div></li></ul></div></li><li class='xr-section-item'><input id='section-61a33afe-2e4c-47d3-acf2-a5acd1c377c8' class='xr-section-summary-in' type='checkbox'  checked><label for='section-61a33afe-2e4c-47d3-acf2-a5acd1c377c8' class='xr-section-summary' >Data variables: <span>(6)</span></label><div class='xr-section-inline-details'></div><div class='xr-section-details'><ul class='xr-var-list'><li class='xr-var-item'><div class='xr-var-name'><span>z</span></div><div class='xr-var-dims'>(level, latitude, longitude)</div><div class='xr-var-dtype'>float64</div><div class='xr-var-preview xr-preview'>1.915e+05 1.914e+05 ... 2.237e+03</div><input id='attrs-5be5de1f-1b6a-45db-b223-956bc68f0f8e' class='xr-var-attrs-in' type='checkbox' ><label for='attrs-5be5de1f-1b6a-45db-b223-956bc68f0f8e' title='Show/Hide attributes'><svg class='icon xr-icon-file-text2'><use xlink:href='#icon-file-text2'></use></svg></label><input id='data-648be216-9ede-44a3-bb16-de0b5a5682d9' class='xr-var-data-in' type='checkbox'><label for='data-648be216-9ede-44a3-bb16-de0b5a5682d9' title='Show/Hide data repr'><svg class='icon xr-icon-database'><use xlink:href='#icon-database'></use></svg></label><div class='xr-var-attrs'><dl class='xr-attrs'><dt><span>units :</span></dt><dd>m**2 s**-2</dd><dt><span>long_name :</span></dt><dd>Geopotential</dd><dt><span>standard_name :</span></dt><dd>geopotential</dd></dl></div><div class='xr-var-data'><pre>array([[[ 1.91469817e+05,  1.91444144e+05,  1.91421680e+05, ...,\n",
       "          1.90067427e+05,  1.90035335e+05,  1.90003244e+05],\n",
       "        [ 1.91662365e+05,  1.91633482e+05,  1.91601391e+05, ...,\n",
       "          1.90227883e+05,  1.90199001e+05,  1.90170119e+05],\n",
       "        [ 1.91874167e+05,  1.91842076e+05,  1.91806775e+05, ...,\n",
       "          1.90391549e+05,  1.90362667e+05,  1.90336994e+05],\n",
       "        ...,\n",
       "        [ 1.99742955e+05,  1.99714073e+05,  1.99688400e+05, ...,\n",
       "          1.98148018e+05,  1.98103090e+05,  1.98045325e+05],\n",
       "        [ 1.99816765e+05,  1.99787883e+05,  1.99759001e+05, ...,\n",
       "          1.98196155e+05,  1.98141599e+05,  1.98077417e+05],\n",
       "        [ 1.99887366e+05,  1.99858484e+05,  1.99829602e+05, ...,\n",
       "          1.98234664e+05,  1.98170481e+05,  1.98099881e+05]],\n",
       "\n",
       "       [[ 1.28869306e+05,  1.28869306e+05,  1.28869306e+05, ...,\n",
       "          1.27643418e+05,  1.27608117e+05,  1.27569608e+05],\n",
       "        [ 1.29052226e+05,  1.29052226e+05,  1.29049017e+05, ...,\n",
       "          1.27771783e+05,  1.27730064e+05,  1.27691555e+05],\n",
       "        [ 1.29244774e+05,  1.29238356e+05,  1.29231937e+05, ...,\n",
       "          1.27896939e+05,  1.27858430e+05,  1.27813502e+05],\n",
       "...\n",
       "        [ 1.62224026e+04,  1.62063570e+04,  1.61871022e+04, ...,\n",
       "          1.49291230e+04,  1.49098682e+04,  1.48809860e+04],\n",
       "        [ 1.62288209e+04,  1.62095661e+04,  1.61935204e+04, ...,\n",
       "          1.49387504e+04,  1.49130773e+04,  1.48841951e+04],\n",
       "        [ 1.62320300e+04,  1.62159844e+04,  1.61967296e+04, ...,\n",
       "          1.49419595e+04,  1.49162865e+04,  1.48906134e+04]],\n",
       "\n",
       "       [[-7.31434455e+02, -7.47480108e+02, -7.63525761e+02, ...,\n",
       "          1.95021103e+01,  3.23386328e+01,  4.19660246e+01],\n",
       "        [-6.51206190e+02, -6.67251843e+02, -6.80088365e+02, ...,\n",
       "          5.15934165e+01,  6.76390696e+01,  7.72664615e+01],\n",
       "        [-5.67768793e+02, -5.87023577e+02, -5.99860100e+02, ...,\n",
       "          8.68938533e+01,  9.97303758e+01,  1.12566898e+02],\n",
       "        ...,\n",
       "        [ 3.16445012e+03,  3.14840447e+03,  3.13235881e+03, ...,\n",
       "          2.25626615e+03,  2.24022050e+03,  2.21775659e+03],\n",
       "        [ 3.17407751e+03,  3.15803186e+03,  3.14519534e+03, ...,\n",
       "          2.27552094e+03,  2.25626615e+03,  2.23059311e+03],\n",
       "        [ 3.18370490e+03,  3.16765925e+03,  3.15161360e+03, ...,\n",
       "          2.28514833e+03,  2.25947528e+03,  2.23701137e+03]]])</pre></div></li><li class='xr-var-item'><div class='xr-var-name'><span>q</span></div><div class='xr-var-dims'>(level, latitude, longitude)</div><div class='xr-var-dtype'>float64</div><div class='xr-var-preview xr-preview'>3.163e-06 3.163e-06 ... 0.00278</div><input id='attrs-bdf4b0cb-1822-4c12-8044-46c6b1e725c9' class='xr-var-attrs-in' type='checkbox' ><label for='attrs-bdf4b0cb-1822-4c12-8044-46c6b1e725c9' title='Show/Hide attributes'><svg class='icon xr-icon-file-text2'><use xlink:href='#icon-file-text2'></use></svg></label><input id='data-a5689904-b6f0-438b-88cd-0ebbde49cec0' class='xr-var-data-in' type='checkbox'><label for='data-a5689904-b6f0-438b-88cd-0ebbde49cec0' title='Show/Hide data repr'><svg class='icon xr-icon-database'><use xlink:href='#icon-database'></use></svg></label><div class='xr-var-attrs'><dl class='xr-attrs'><dt><span>units :</span></dt><dd>kg kg**-1</dd><dt><span>long_name :</span></dt><dd>Specific humidity</dd><dt><span>standard_name :</span></dt><dd>specific_humidity</dd></dl></div><div class='xr-var-data'><pre>array([[[3.16304429e-06, 3.16304429e-06, 3.16304429e-06, ...,\n",
       "         3.16304429e-06, 3.16304429e-06, 3.16304429e-06],\n",
       "        [3.16304429e-06, 3.16304429e-06, 3.16304429e-06, ...,\n",
       "         3.16304429e-06, 3.16304429e-06, 3.16304429e-06],\n",
       "        [3.16304429e-06, 3.16304429e-06, 3.16304429e-06, ...,\n",
       "         3.16304429e-06, 3.16304429e-06, 3.16304429e-06],\n",
       "        ...,\n",
       "        [3.16304429e-06, 3.16304429e-06, 3.16304429e-06, ...,\n",
       "         3.16304429e-06, 3.16304429e-06, 3.16304429e-06],\n",
       "        [3.16304429e-06, 3.16304429e-06, 3.16304429e-06, ...,\n",
       "         3.16304429e-06, 3.16304429e-06, 3.16304429e-06],\n",
       "        [3.16304429e-06, 3.16304429e-06, 3.16304429e-06, ...,\n",
       "         3.16304429e-06, 3.16304429e-06, 3.16304429e-06]],\n",
       "\n",
       "       [[4.67819812e-06, 4.67819812e-06, 4.67819812e-06, ...,\n",
       "         4.29940966e-06, 4.29940966e-06, 4.29940966e-06],\n",
       "        [4.67819812e-06, 4.67819812e-06, 4.67819812e-06, ...,\n",
       "         4.67819812e-06, 4.67819812e-06, 4.29940966e-06],\n",
       "        [5.05698658e-06, 5.05698658e-06, 5.05698658e-06, ...,\n",
       "         4.67819812e-06, 4.67819812e-06, 4.67819812e-06],\n",
       "...\n",
       "        [4.77406193e-04, 4.63012232e-04, 4.47103116e-04, ...,\n",
       "         2.24521192e-03, 2.34786360e-03, 2.45013648e-03],\n",
       "        [5.14527462e-04, 4.99754712e-04, 4.88391058e-04, ...,\n",
       "         2.20392398e-03, 2.30695444e-03, 2.35127269e-03],\n",
       "        [5.40663865e-04, 5.33088096e-04, 5.21724442e-04, ...,\n",
       "         2.22096946e-03, 2.21718158e-03, 2.23006039e-03]],\n",
       "\n",
       "       [[5.36832275e-03, 5.36718639e-03, 5.36756518e-03, ...,\n",
       "         2.16301483e-03, 2.21907552e-03, 2.24407556e-03],\n",
       "        [5.26150441e-03, 5.26983776e-03, 5.29711052e-03, ...,\n",
       "         2.21490885e-03, 2.28271198e-03, 2.31149990e-03],\n",
       "        [5.20468614e-03, 5.23991347e-03, 5.27438322e-03, ...,\n",
       "         2.27324227e-03, 2.28649987e-03, 2.30127262e-03],\n",
       "        ...,\n",
       "        [5.10165568e-03, 5.08385262e-03, 5.04976166e-03, ...,\n",
       "         2.51756082e-03, 2.50733354e-03, 2.55733361e-03],\n",
       "        [5.04407983e-03, 5.04407983e-03, 5.04256468e-03, ...,\n",
       "         2.57475788e-03, 2.56453059e-03, 2.60316702e-03],\n",
       "        [5.04142832e-03, 5.04256468e-03, 5.04104953e-03, ...,\n",
       "         2.71036415e-03, 2.72134901e-03, 2.78044001e-03]]])</pre></div></li><li class='xr-var-item'><div class='xr-var-name'><span>t</span></div><div class='xr-var-dims'>(level, latitude, longitude)</div><div class='xr-var-dtype'>float64</div><div class='xr-var-preview xr-preview'>191.8 192.0 192.1 ... 275.8 275.5</div><input id='attrs-acc644b9-b79c-4e7a-b756-927fb6fc2427' class='xr-var-attrs-in' type='checkbox' ><label for='attrs-acc644b9-b79c-4e7a-b756-927fb6fc2427' title='Show/Hide attributes'><svg class='icon xr-icon-file-text2'><use xlink:href='#icon-file-text2'></use></svg></label><input id='data-b727b9ad-b26a-44ee-bc73-0ca089f93bf2' class='xr-var-data-in' type='checkbox'><label for='data-b727b9ad-b26a-44ee-bc73-0ca089f93bf2' title='Show/Hide data repr'><svg class='icon xr-icon-database'><use xlink:href='#icon-database'></use></svg></label><div class='xr-var-attrs'><dl class='xr-attrs'><dt><span>units :</span></dt><dd>K</dd><dt><span>long_name :</span></dt><dd>Temperature</dd><dt><span>standard_name :</span></dt><dd>air_temperature</dd></dl></div><div class='xr-var-data'><pre>array([[[191.84154676, 191.98943369, 192.13532214, ..., 190.97820685,\n",
       "         190.79834437, 190.59849717],\n",
       "        [191.77359871, 191.90549786, 192.0813634 , ..., 191.24000668,\n",
       "         191.08612434, 190.91225727],\n",
       "        [191.88351467, 191.90549786, 191.99942605, ..., 191.48581874,\n",
       "         191.359915  , 191.20203572],\n",
       "        ...,\n",
       "        [202.6692681 , 202.59532463, 202.53537047, ..., 203.00900834,\n",
       "         202.67126657, 202.30754466],\n",
       "        [203.15489679, 203.09094569, 203.03299   , ..., 203.05297472,\n",
       "         202.74321156, 202.43744534],\n",
       "        [203.6185423 , 203.58057133, 203.54060189, ..., 203.21285248,\n",
       "         202.99901598, 202.83713974]],\n",
       "\n",
       "       [[206.49834046, 206.4603695 , 206.40241381, ..., 206.83608223,\n",
       "         206.87005626, 206.91402264],\n",
       "        [206.01870718, 206.06866898, 206.0886537 , ..., 206.75614335,\n",
       "         206.78212349, 206.82209293],\n",
       "        [205.79487832, 205.91678511, 205.99672399, ..., 206.674206  ,\n",
       "         206.70418308, 206.74015558],\n",
       "...\n",
       "        [281.24319203, 281.20122412, 281.18523634, ..., 265.7310523 ,\n",
       "         265.84696368, 265.8669484 ],\n",
       "        [281.20122412, 281.18323787, 281.16924856, ..., 265.44127386,\n",
       "         265.56118218, 265.62913023],\n",
       "        [281.17724245, 281.1592562 , 281.11728829, ..., 265.217445  ,\n",
       "         265.40130442, 265.54519441]],\n",
       "\n",
       "       [[280.62766265, 280.70360459, 280.78154499, ..., 274.18858584,\n",
       "         274.2345507 , 274.35246054],\n",
       "        [280.77954652, 280.83950068, 280.92543498, ..., 274.66022523,\n",
       "         274.77213967, 274.85407702],\n",
       "        [280.98738761, 281.03535094, 281.11728829, ..., 274.94200979,\n",
       "         274.97798228, 274.9480052 ],\n",
       "        ...,\n",
       "        [280.90545026, 280.95341359, 281.031354  , ..., 275.66545665,\n",
       "         275.67944596, 275.80934664],\n",
       "        [281.06532802, 281.1092944 , 281.1952287 , ..., 276.069148  ,\n",
       "         275.78736345, 275.59950708],\n",
       "        [281.22120884, 281.26717369, 281.34311563, ..., 275.91526566,\n",
       "         275.75338942, 275.54954528]]])</pre></div></li><li class='xr-var-item'><div class='xr-var-name'><span>u</span></div><div class='xr-var-dims'>(level, latitude, longitude)</div><div class='xr-var-dtype'>float64</div><div class='xr-var-preview xr-preview'>58.46 58.45 58.37 ... 1.726 1.674</div><input id='attrs-562f14b3-86ba-4f00-9e95-3d39618d42b1' class='xr-var-attrs-in' type='checkbox' ><label for='attrs-562f14b3-86ba-4f00-9e95-3d39618d42b1' title='Show/Hide attributes'><svg class='icon xr-icon-file-text2'><use xlink:href='#icon-file-text2'></use></svg></label><input id='data-1cd2d3b4-8379-4830-99e3-14e82e0731df' class='xr-var-data-in' type='checkbox'><label for='data-1cd2d3b4-8379-4830-99e3-14e82e0731df' title='Show/Hide data repr'><svg class='icon xr-icon-database'><use xlink:href='#icon-database'></use></svg></label><div class='xr-var-attrs'><dl class='xr-attrs'><dt><span>units :</span></dt><dd>m s**-1</dd><dt><span>long_name :</span></dt><dd>U component of wind</dd><dt><span>standard_name :</span></dt><dd>eastward_wind</dd></dl></div><div class='xr-var-data'><pre>array([[[ 5.84623835e+01,  5.84541109e+01,  5.83686278e+01, ...,\n",
       "          3.66586546e+01,  3.59885767e+01,  3.53957094e+01],\n",
       "        [ 5.77095799e+01,  5.78833038e+01,  5.80073923e+01, ...,\n",
       "          3.71577661e+01,  3.63718723e+01,  3.56549165e+01],\n",
       "        [ 5.66948117e+01,  5.68988684e+01,  5.71387728e+01, ...,\n",
       "          3.77340883e+01,  3.68241059e+01,  3.59803041e+01],\n",
       "        ...,\n",
       "        [ 2.24353545e+01,  2.26228660e+01,  2.28103775e+01, ...,\n",
       "          2.38416909e+01,  2.37644803e+01,  2.39602643e+01],\n",
       "        [ 2.17101261e+01,  2.18590323e+01,  2.20079385e+01, ...,\n",
       "          2.36514218e+01,  2.37203599e+01,  2.40567776e+01],\n",
       "        [ 2.11696518e+01,  2.12716801e+01,  2.13599208e+01, ...,\n",
       "          2.38334183e+01,  2.40733228e+01,  2.45365865e+01]],\n",
       "\n",
       "       [[ 5.98604473e+01,  5.97142986e+01,  5.95957252e+01, ...,\n",
       "          3.73425201e+01,  3.67717130e+01,  3.62367537e+01],\n",
       "        [ 6.06711589e+01,  6.04643447e+01,  6.02685606e+01, ...,\n",
       "          3.74721237e+01,  3.68820139e+01,  3.63580847e+01],\n",
       "        [ 6.12805713e+01,  6.09937890e+01,  6.07125217e+01, ...,\n",
       "          3.76127573e+01,  3.69840422e+01,  3.64435678e+01],\n",
       "...\n",
       "        [-5.29291320e-01, -5.34806364e-01, -5.37563887e-01, ...,\n",
       "          1.40924687e+00,  1.51127519e+00,  1.87251061e+00],\n",
       "        [-1.92459761e+00, -1.93011265e+00, -1.93838522e+00, ...,\n",
       "          1.10867693e+00,  1.22449287e+00,  1.64363626e+00],\n",
       "        [-3.12136229e+00, -3.13514991e+00, -3.13790743e+00, ...,\n",
       "          1.15555481e+00,  1.01767870e+00,  1.18588756e+00]],\n",
       "\n",
       "       [[ 1.63439877e+01,  1.63936231e+01,  1.63908656e+01, ...,\n",
       "          6.95462424e+00,  6.99874459e+00,  7.09525787e+00],\n",
       "        [ 1.69947630e+01,  1.69340975e+01,  1.68044939e+01, ...,\n",
       "          6.82777821e+00,  6.93807910e+00,  7.09250035e+00],\n",
       "        [ 1.70554285e+01,  1.68541293e+01,  1.67686461e+01, ...,\n",
       "          6.67059944e+00,  6.80296051e+00,  6.90774636e+00],\n",
       "        ...,\n",
       "        [ 4.74584886e+00,  4.86442232e+00,  4.96920817e+00, ...,\n",
       "          2.61704164e+00,  2.69976731e+00,  2.33025932e+00],\n",
       "        [ 3.95719748e+00,  4.09783112e+00,  4.25225237e+00, ...,\n",
       "          1.99659912e+00,  1.90008584e+00,  1.85872300e+00],\n",
       "        [ 3.08857795e+00,  3.25127177e+00,  3.40017798e+00, ...,\n",
       "          2.08759735e+00,  1.72636193e+00,  1.67396901e+00]]])</pre></div></li><li class='xr-var-item'><div class='xr-var-name'><span>v</span></div><div class='xr-var-dims'>(level, latitude, longitude)</div><div class='xr-var-dtype'>float64</div><div class='xr-var-preview xr-preview'>-13.31 -13.86 ... -1.405 -1.532</div><input id='attrs-54843231-9403-48a5-b740-b735ac32483f' class='xr-var-attrs-in' type='checkbox' ><label for='attrs-54843231-9403-48a5-b740-b735ac32483f' title='Show/Hide attributes'><svg class='icon xr-icon-file-text2'><use xlink:href='#icon-file-text2'></use></svg></label><input id='data-4b8ef5c8-adbc-447b-a94c-88dc0994c157' class='xr-var-data-in' type='checkbox'><label for='data-4b8ef5c8-adbc-447b-a94c-88dc0994c157' title='Show/Hide data repr'><svg class='icon xr-icon-database'><use xlink:href='#icon-database'></use></svg></label><div class='xr-var-attrs'><dl class='xr-attrs'><dt><span>units :</span></dt><dd>m s**-1</dd><dt><span>long_name :</span></dt><dd>V component of wind</dd><dt><span>standard_name :</span></dt><dd>northward_wind</dd></dl></div><div class='xr-var-data'><pre>array([[[-13.30823169, -13.85681609, -14.49361506, ..., -27.05867875,\n",
       "         -26.94014042, -26.79403503],\n",
       "        [-13.49293096, -13.73552105, -14.08837935, ..., -27.44737423,\n",
       "         -27.32056578, -27.16343356],\n",
       "        [-13.94227396, -14.00292148, -14.10767629, ..., -27.89396052,\n",
       "         -27.75336854, -27.57142598],\n",
       "        ...,\n",
       "        [-16.74308675, -16.94156955, -17.10697188, ..., -17.37437231,\n",
       "         -17.10145847, -16.97189331],\n",
       "        [-16.43709244, -16.7182764 , -16.95810978, ..., -18.63970014,\n",
       "         -18.73342813, -18.97877492],\n",
       "        [-16.06218049, -16.38471504, -16.67692582, ..., -20.120051  ,\n",
       "         -20.51425988, -21.01322358]],\n",
       "\n",
       "       [[ -3.22420295,  -3.72592336,  -4.21110352, ..., -27.4832114 ,\n",
       "         -27.49975163, -27.50250834],\n",
       "        [ -4.18629318,  -4.73487757,  -5.27243514, ..., -28.42600468,\n",
       "         -28.42876139, -28.41222116],\n",
       "        [ -6.04706939,  -6.52949285,  -7.01191632, ..., -29.40739184,\n",
       "         -29.40187843, -29.37155467],\n",
       "...\n",
       "        [-10.06634602, -10.36682692, -10.71692852, ...,  -9.44884399,\n",
       "          -9.30273859,  -9.73002795],\n",
       "        [-10.08839966, -10.42747444, -10.80514309, ...,  -9.92851074,\n",
       "          -9.85959311, -10.15456059],\n",
       "        [-10.27585564, -10.65076759, -11.1111374 , ..., -10.56530971,\n",
       "         -10.57357983, -10.66179441]],\n",
       "\n",
       "       [[  0.19686858,   0.25200269,   0.27681304, ...,   3.40843049,\n",
       "           3.35053968,   3.27059522],\n",
       "        [ -0.5419285 ,  -0.47025415,  -0.340689  , ...,   3.34226956,\n",
       "           3.33399944,   3.32297262],\n",
       "        [ -0.8920301 ,  -0.84792281,  -0.743168  , ...,   3.33951285,\n",
       "           3.39189026,   3.34226956],\n",
       "        ...,\n",
       "        [ -6.4026844 ,  -6.50468251,  -6.66732813, ...,  -1.46266814,\n",
       "          -1.33310298,  -0.9940282 ],\n",
       "        [ -6.2538223 ,  -6.32549665,  -6.55705991, ...,  -1.62531376,\n",
       "          -1.36342674,  -1.3441298 ],\n",
       "        [ -6.12701385,  -6.26484913,  -6.50468251, ...,  -1.84033679,\n",
       "          -1.40477732,  -1.53158577]]])</pre></div></li><li class='xr-var-item'><div class='xr-var-name'><span>w</span></div><div class='xr-var-dims'>(level, latitude, longitude)</div><div class='xr-var-dtype'>float64</div><div class='xr-var-preview xr-preview'>0.06596 0.06769 ... -0.05892</div><input id='attrs-83f815c7-62bb-4930-9cf3-9451caf52381' class='xr-var-attrs-in' type='checkbox' ><label for='attrs-83f815c7-62bb-4930-9cf3-9451caf52381' title='Show/Hide attributes'><svg class='icon xr-icon-file-text2'><use xlink:href='#icon-file-text2'></use></svg></label><input id='data-821c254b-3612-4edf-9c92-1145422cda9e' class='xr-var-data-in' type='checkbox'><label for='data-821c254b-3612-4edf-9c92-1145422cda9e' title='Show/Hide data repr'><svg class='icon xr-icon-database'><use xlink:href='#icon-database'></use></svg></label><div class='xr-var-attrs'><dl class='xr-attrs'><dt><span>units :</span></dt><dd>Pa s**-1</dd><dt><span>long_name :</span></dt><dd>Vertical velocity</dd><dt><span>standard_name :</span></dt><dd>lagrangian_tendency_of_air_pressure</dd></dl></div><div class='xr-var-data'><pre>array([[[ 6.59601443e-02,  6.76946034e-02,  6.50929148e-02, ...,\n",
       "          5.07016593e-05, -8.18797868e-03, -1.42585852e-02],\n",
       "        [ 4.99163984e-02,  6.68273739e-02,  7.85349722e-02, ...,\n",
       "          5.25407871e-03, -4.28544589e-03, -1.25241262e-02],\n",
       "        [ 6.98853773e-03,  2.91028902e-02,  5.16508574e-02, ...,\n",
       "          1.13246853e-02,  5.07016593e-05, -1.07896672e-02],\n",
       "        ...,\n",
       "        [ 6.98853773e-03,  7.85576724e-03,  8.28938199e-03, ...,\n",
       "         -7.14957328e-02, -7.58318804e-02, -7.01948886e-02],\n",
       "        [ 6.12130822e-03,  8.28938199e-03,  9.59022626e-03, ...,\n",
       "         -6.19562082e-02, -5.76200607e-02, -4.37443885e-02],\n",
       "        [ 2.65239019e-03,  5.25407871e-03,  6.98853773e-03, ...,\n",
       "         -3.89746262e-02, -2.46653393e-02, -2.98460162e-03]],\n",
       "\n",
       "       [[ 3.21381935e-02, -1.07896672e-02, -3.98418558e-02, ...,\n",
       "          5.29517017e-02,  6.29248411e-02,  6.89954476e-02],\n",
       "        [ 1.41842726e-01,  9.37114886e-02,  5.12172427e-02, ...,\n",
       "          5.55533902e-02,  6.50929148e-02,  7.54996689e-02],\n",
       "        [ 2.03416022e-01,  1.64390694e-01,  1.24498136e-01, ...,\n",
       "          6.16239968e-02,  7.07299066e-02,  8.59064230e-02],\n",
       "...\n",
       "        [ 6.46593001e-02,  5.51197755e-02,  5.51197755e-02, ...,\n",
       "          2.50680030e-01,  8.59064230e-02, -7.49646509e-02],\n",
       "        [ 8.02694312e-02,  7.41988247e-02,  5.51197755e-02, ...,\n",
       "          2.52848104e-01,  1.44010800e-01,  1.30568743e-01],\n",
       "        [ 8.76408821e-02,  7.33315952e-02,  4.42794066e-02, ...,\n",
       "          2.22928685e-01,  2.36370743e-01,  3.08784407e-01]],\n",
       "\n",
       "       [[-5.15267539e-03,  1.26255295e-02,  2.43331279e-02, ...,\n",
       "         -2.98460162e-03, -7.75436392e-03, -2.63997984e-02],\n",
       "        [ 6.55492298e-03,  1.99969804e-02,  1.43599886e-02, ...,\n",
       "          1.35154592e-03, -2.94351016e-02, -5.32839131e-02],\n",
       "        [ 1.91297509e-02,  1.99969804e-02,  5.07016593e-05, ...,\n",
       "         -3.20367902e-02, -5.24166836e-02, -3.85410115e-02],\n",
       "        ...,\n",
       "        [ 1.91297509e-02,  2.65239019e-03, -4.28544589e-03, ...,\n",
       "         -4.76469213e-02, -1.04884069e-01, -1.12689135e-01],\n",
       "        [ 2.65239019e-03,  7.42215249e-03,  1.73952918e-02, ...,\n",
       "         -1.09653831e-01, -1.85970028e-01, -9.96806919e-02],\n",
       "        [ 1.43599886e-02,  1.86961361e-02,  1.08910705e-02, ...,\n",
       "         -6.58587410e-02, -1.40874094e-01, -5.89209050e-02]]])</pre></div></li></ul></div></li><li class='xr-section-item'><input id='section-4cba6035-f71f-41b8-9f3a-60386c3c72d7' class='xr-section-summary-in' type='checkbox'  ><label for='section-4cba6035-f71f-41b8-9f3a-60386c3c72d7' class='xr-section-summary' >Indexes: <span>(3)</span></label><div class='xr-section-inline-details'></div><div class='xr-section-details'><ul class='xr-var-list'><li class='xr-var-item'><div class='xr-index-name'><div>longitude</div></div><div class='xr-index-preview'>PandasIndex</div><div></div><input id='index-0f3a7964-da0c-4e5f-9ae1-c2b6f21e17c4' class='xr-index-data-in' type='checkbox'/><label for='index-0f3a7964-da0c-4e5f-9ae1-c2b6f21e17c4' title='Show/Hide index repr'><svg class='icon xr-icon-database'><use xlink:href='#icon-database'></use></svg></label><div class='xr-index-data'><pre>PandasIndex(Index([ 350.0, 350.25,  350.5, 350.75,  351.0, 351.25,  351.5, 351.75,  352.0,\n",
       "       352.25,  352.5, 352.75,  353.0, 353.25,  353.5, 353.75,  354.0, 354.25,\n",
       "        354.5, 354.75,  355.0, 355.25,  355.5, 355.75,  356.0, 356.25,  356.5,\n",
       "       356.75,  357.0, 357.25,  357.5, 357.75,  358.0, 358.25,  358.5, 358.75,\n",
       "        359.0, 359.25,  359.5, 359.75,    0.0,   0.25,    0.5,   0.75,    1.0,\n",
       "         1.25,    1.5,   1.75,    2.0,   2.25,    2.5,   2.75,    3.0,   3.25,\n",
       "          3.5,   3.75,    4.0],\n",
       "      dtype=&#x27;float32&#x27;, name=&#x27;longitude&#x27;))</pre></div></li><li class='xr-var-item'><div class='xr-index-name'><div>latitude</div></div><div class='xr-index-preview'>PandasIndex</div><div></div><input id='index-7764371a-3304-438a-8cea-4fc0b826f713' class='xr-index-data-in' type='checkbox'/><label for='index-7764371a-3304-438a-8cea-4fc0b826f713' title='Show/Hide index repr'><svg class='icon xr-icon-database'><use xlink:href='#icon-database'></use></svg></label><div class='xr-index-data'><pre>PandasIndex(Index([ 63.0, 62.75,  62.5, 62.25,  62.0, 61.75,  61.5, 61.25,  61.0, 60.75,\n",
       "        60.5, 60.25,  60.0, 59.75,  59.5, 59.25,  59.0, 58.75,  58.5, 58.25,\n",
       "        58.0, 57.75,  57.5, 57.25,  57.0, 56.75,  56.5, 56.25,  56.0, 55.75,\n",
       "        55.5, 55.25,  55.0, 54.75,  54.5, 54.25,  54.0, 53.75,  53.5, 53.25,\n",
       "        53.0, 52.75,  52.5, 52.25,  52.0, 51.75,  51.5, 51.25,  51.0, 50.75,\n",
       "        50.5, 50.25,  50.0, 49.75,  49.5, 49.25,  49.0, 48.75,  48.5, 48.25,\n",
       "        48.0, 47.75,  47.5, 47.25,  47.0],\n",
       "      dtype=&#x27;float32&#x27;, name=&#x27;latitude&#x27;))</pre></div></li><li class='xr-var-item'><div class='xr-index-name'><div>level</div></div><div class='xr-index-preview'>PandasIndex</div><div></div><input id='index-07374f40-dd68-4bb9-a015-69aa87505407' class='xr-index-data-in' type='checkbox'/><label for='index-07374f40-dd68-4bb9-a015-69aa87505407' title='Show/Hide index repr'><svg class='icon xr-icon-database'><use xlink:href='#icon-database'></use></svg></label><div class='xr-index-data'><pre>PandasIndex(Index([50, 150, 250, 400, 500, 700, 850, 1000], dtype=&#x27;int32&#x27;, name=&#x27;level&#x27;))</pre></div></li></ul></div></li><li class='xr-section-item'><input id='section-ad7f84a4-7337-41d0-97aa-b66dcdc8d246' class='xr-section-summary-in' type='checkbox'  checked><label for='section-ad7f84a4-7337-41d0-97aa-b66dcdc8d246' class='xr-section-summary' >Attributes: <span>(2)</span></label><div class='xr-section-inline-details'></div><div class='xr-section-details'><dl class='xr-attrs'><dt><span>Conventions :</span></dt><dd>CF-1.6</dd><dt><span>history :</span></dt><dd>2024-05-14 03:03:28 GMT by grib_to_netcdf-2.28.1: /opt/ecmwf/mars-client/bin/grib_to_netcdf -S param -o /cache/data2/adaptor.mars.internal-1715655642.861744-29841-20-92229526-6515-4336-888f-eb87359f8556.nc /cache/tmp/92229526-6515-4336-888f-eb87359f8556-adaptor.mars.internal-1715655451.1137784-29841-9-tmp.grib</dd></dl></div></li></ul></div></div>"
      ],
      "text/plain": [
       "<xarray.Dataset> Size: 1MB\n",
       "Dimensions:    (level: 8, latitude: 65, longitude: 57)\n",
       "Coordinates:\n",
       "  * longitude  (longitude) float32 228B 350.0 350.2 350.5 350.8 ... 3.5 3.75 4.0\n",
       "  * latitude   (latitude) float32 260B 63.0 62.75 62.5 62.25 ... 47.5 47.25 47.0\n",
       "  * level      (level) int32 32B 50 150 250 400 500 700 850 1000\n",
       "    time       datetime64[ns] 8B 2022-02-01\n",
       "Data variables:\n",
       "    z          (level, latitude, longitude) float64 237kB 1.915e+05 ... 2.237...\n",
       "    q          (level, latitude, longitude) float64 237kB 3.163e-06 ... 0.00278\n",
       "    t          (level, latitude, longitude) float64 237kB 191.8 192.0 ... 275.5\n",
       "    u          (level, latitude, longitude) float64 237kB 58.46 58.45 ... 1.674\n",
       "    v          (level, latitude, longitude) float64 237kB -13.31 ... -1.532\n",
       "    w          (level, latitude, longitude) float64 237kB 0.06596 ... -0.05892\n",
       "Attributes:\n",
       "    Conventions:  CF-1.6\n",
       "    history:      2024-05-14 03:03:28 GMT by grib_to_netcdf-2.28.1: /opt/ecmw..."
      ]
     },
     "execution_count": 14,
     "metadata": {},
     "output_type": "execute_result"
    }
   ],
   "source": [
    "nc_files = glob.glob(f'{RAW_ERA5_PATH}/*.nc')\n",
    "nc_files.sort()\n",
    "print(nc_files[0])\n",
    "data = xr.open_dataset(nc_files[0])\n",
    "data = era5_data_proc.uk_subset(data)\n",
    "time = data['time'].values[0]\n",
    "print(time)\n",
    "sample = data.sel(time=time)\n",
    "sample"
   ]
  },
  {
   "cell_type": "code",
   "execution_count": 21,
   "metadata": {},
   "outputs": [
    {
     "data": {
      "text/plain": [
       "Data variables:\n",
       "    z        (level, latitude, longitude) float64 237kB 1.915e+05 ... 2.237e+03\n",
       "    q        (level, latitude, longitude) float64 237kB 3.163e-06 ... 0.00278\n",
       "    t        (level, latitude, longitude) float64 237kB 191.8 192.0 ... 275.5\n",
       "    u        (level, latitude, longitude) float64 237kB 58.46 58.45 ... 1.674\n",
       "    v        (level, latitude, longitude) float64 237kB -13.31 -13.86 ... -1.532\n",
       "    w        (level, latitude, longitude) float64 237kB 0.06596 ... -0.05892"
      ]
     },
     "execution_count": 21,
     "metadata": {},
     "output_type": "execute_result"
    }
   ],
   "source": [
    "sample.data_vars"
   ]
  },
  {
   "cell_type": "code",
   "execution_count": 22,
   "metadata": {},
   "outputs": [
    {
     "data": {
      "text/plain": [
       "['z', 'q', 't', 'u', 'v', 'w']"
      ]
     },
     "execution_count": 22,
     "metadata": {},
     "output_type": "execute_result"
    }
   ],
   "source": [
    "list(sample.data_vars.keys())"
   ]
  },
  {
   "cell_type": "code",
   "execution_count": 155,
   "metadata": {},
   "outputs": [
    {
     "name": "stdout",
     "output_type": "stream",
     "text": [
      "data/era5_uk_full/samples/train/20220201000000.npy\n",
      "(3705, 48)\n"
     ]
    },
    {
     "data": {
      "text/plain": [
       "array([[ 1.91469817e+05,  1.28869306e+05,  9.80167239e+04, ...,\n",
       "         1.55718399e-01, -7.10621181e-02, -5.15267539e-03],\n",
       "       [ 1.91662365e+05,  1.29052226e+05,  9.82734544e+04, ...,\n",
       "         1.63957079e-01,  1.26255295e-02,  6.55492298e-03],\n",
       "       [ 1.91874167e+05,  1.29244774e+05,  9.85366031e+04, ...,\n",
       "         1.69616771e-02,  5.94559230e-02,  1.91297509e-02],\n",
       "       ...,\n",
       "       [ 1.98045325e+05,  1.32508460e+05,  1.01980000e+05, ...,\n",
       "        -8.88403230e-02, -7.49646509e-02, -1.12689135e-01],\n",
       "       [ 1.98077417e+05,  1.32521296e+05,  1.01957536e+05, ...,\n",
       "         4.73147099e-02,  1.30568743e-01, -9.96806919e-02],\n",
       "       [ 1.98099881e+05,  1.32543760e+05,  1.01935072e+05, ...,\n",
       "        -4.67796918e-02,  3.08784407e-01, -5.89209050e-02]])"
      ]
     },
     "execution_count": 155,
     "metadata": {},
     "output_type": "execute_result"
    }
   ],
   "source": [
    "# load time step data\n",
    "sample_dir_path = \"data/era5_uk_full/samples/train\"\n",
    "sample_files = glob.glob(f'{sample_dir_path}/*.npy')\n",
    "sample_files.sort()\n",
    "print(sample_files[0])\n",
    "\n",
    "time_step_data = np.load(sample_files[0])\n",
    "print(time_step_data.shape)\n",
    "time_step_data"
   ]
  },
  {
   "cell_type": "code",
   "execution_count": 158,
   "metadata": {},
   "outputs": [
    {
     "name": "stdout",
     "output_type": "stream",
     "text": [
      "torch.Size([2, 57, 65])\n"
     ]
    }
   ],
   "source": [
    "# load nwp_xy.npy\n",
    "static_dir_path = \"data/era5_uk_full/static\"\n",
    "grid_xy = torch.tensor(\n",
    "    np.load(os.path.join(static_dir_path, \"nwp_xy.npy\"))\n",
    ")  # (2, N_x, N_y)\n",
    "print(grid_xy.shape)\n",
    "grid_xy = grid_xy.reshape(2, -1).T # (N_x * N_y, 2)"
   ]
  },
  {
   "cell_type": "code",
   "execution_count": 160,
   "metadata": {},
   "outputs": [
    {
     "name": "stdout",
     "output_type": "stream",
     "text": [
      "tensor([354.5000,  54.5000])\n"
     ]
    },
    {
     "data": {
      "text/plain": [
       "array([ 1.96437551e+05,  1.33695838e+05,  1.03359926e+05,  7.20259750e+04,\n",
       "        5.59193484e+04,  3.01885391e+04,  1.47237386e+04,  1.67862264e+03,\n",
       "        3.16304429e-06,  4.29940966e-06,  3.76327939e-05,  3.73618156e-04,\n",
       "        4.91421366e-04,  3.61225947e-03,  6.34824849e-03,  5.99711159e-03,\n",
       "        1.96218200e+02,  1.96649870e+02,  2.18782948e+02,  2.45168774e+02,\n",
       "        2.58076905e+02,  2.72899571e+02,  2.78619198e+02,  2.81463024e+02,\n",
       "        4.32877382e+01,  3.54867076e+01,  3.45491500e+01,  3.30573304e+01,\n",
       "        3.36474402e+01,  2.72334433e+01,  1.81308622e+01,  1.38153398e+01,\n",
       "       -2.51317416e+01, -2.97051160e+01, -3.31565113e+01, -3.68174162e+01,\n",
       "       -3.95630949e+01, -2.40097625e+01, -1.82730583e+01, -3.28485048e+00,\n",
       "        8.89417263e-02, -9.92470771e-02, -2.42317246e-02, -1.76864118e-01,\n",
       "        2.34658984e-02, -2.94351016e-02, -2.16300361e-02,  4.03312423e-01])"
      ]
     },
     "execution_count": 160,
     "metadata": {},
     "output_type": "execute_result"
    }
   ],
   "source": [
    "# choose random lon/lat point and verify alignment\n",
    "test_point = 1204\n",
    "test_xy = grid_xy[test_point] % 360\n",
    "print(test_xy)\n",
    "time_step_data[test_point]"
   ]
  },
  {
   "cell_type": "code",
   "execution_count": 161,
   "metadata": {},
   "outputs": [
    {
     "data": {
      "text/html": [
       "<div><svg style=\"position: absolute; width: 0; height: 0; overflow: hidden\">\n",
       "<defs>\n",
       "<symbol id=\"icon-database\" viewBox=\"0 0 32 32\">\n",
       "<path d=\"M16 0c-8.837 0-16 2.239-16 5v4c0 2.761 7.163 5 16 5s16-2.239 16-5v-4c0-2.761-7.163-5-16-5z\"></path>\n",
       "<path d=\"M16 17c-8.837 0-16-2.239-16-5v6c0 2.761 7.163 5 16 5s16-2.239 16-5v-6c0 2.761-7.163 5-16 5z\"></path>\n",
       "<path d=\"M16 26c-8.837 0-16-2.239-16-5v6c0 2.761 7.163 5 16 5s16-2.239 16-5v-6c0 2.761-7.163 5-16 5z\"></path>\n",
       "</symbol>\n",
       "<symbol id=\"icon-file-text2\" viewBox=\"0 0 32 32\">\n",
       "<path d=\"M28.681 7.159c-0.694-0.947-1.662-2.053-2.724-3.116s-2.169-2.030-3.116-2.724c-1.612-1.182-2.393-1.319-2.841-1.319h-15.5c-1.378 0-2.5 1.121-2.5 2.5v27c0 1.378 1.122 2.5 2.5 2.5h23c1.378 0 2.5-1.122 2.5-2.5v-19.5c0-0.448-0.137-1.23-1.319-2.841zM24.543 5.457c0.959 0.959 1.712 1.825 2.268 2.543h-4.811v-4.811c0.718 0.556 1.584 1.309 2.543 2.268zM28 29.5c0 0.271-0.229 0.5-0.5 0.5h-23c-0.271 0-0.5-0.229-0.5-0.5v-27c0-0.271 0.229-0.5 0.5-0.5 0 0 15.499-0 15.5 0v7c0 0.552 0.448 1 1 1h7v19.5z\"></path>\n",
       "<path d=\"M23 26h-14c-0.552 0-1-0.448-1-1s0.448-1 1-1h14c0.552 0 1 0.448 1 1s-0.448 1-1 1z\"></path>\n",
       "<path d=\"M23 22h-14c-0.552 0-1-0.448-1-1s0.448-1 1-1h14c0.552 0 1 0.448 1 1s-0.448 1-1 1z\"></path>\n",
       "<path d=\"M23 18h-14c-0.552 0-1-0.448-1-1s0.448-1 1-1h14c0.552 0 1 0.448 1 1s-0.448 1-1 1z\"></path>\n",
       "</symbol>\n",
       "</defs>\n",
       "</svg>\n",
       "<style>/* CSS stylesheet for displaying xarray objects in jupyterlab.\n",
       " *\n",
       " */\n",
       "\n",
       ":root {\n",
       "  --xr-font-color0: var(--jp-content-font-color0, rgba(0, 0, 0, 1));\n",
       "  --xr-font-color2: var(--jp-content-font-color2, rgba(0, 0, 0, 0.54));\n",
       "  --xr-font-color3: var(--jp-content-font-color3, rgba(0, 0, 0, 0.38));\n",
       "  --xr-border-color: var(--jp-border-color2, #e0e0e0);\n",
       "  --xr-disabled-color: var(--jp-layout-color3, #bdbdbd);\n",
       "  --xr-background-color: var(--jp-layout-color0, white);\n",
       "  --xr-background-color-row-even: var(--jp-layout-color1, white);\n",
       "  --xr-background-color-row-odd: var(--jp-layout-color2, #eeeeee);\n",
       "}\n",
       "\n",
       "html[theme=dark],\n",
       "body[data-theme=dark],\n",
       "body.vscode-dark {\n",
       "  --xr-font-color0: rgba(255, 255, 255, 1);\n",
       "  --xr-font-color2: rgba(255, 255, 255, 0.54);\n",
       "  --xr-font-color3: rgba(255, 255, 255, 0.38);\n",
       "  --xr-border-color: #1F1F1F;\n",
       "  --xr-disabled-color: #515151;\n",
       "  --xr-background-color: #111111;\n",
       "  --xr-background-color-row-even: #111111;\n",
       "  --xr-background-color-row-odd: #313131;\n",
       "}\n",
       "\n",
       ".xr-wrap {\n",
       "  display: block !important;\n",
       "  min-width: 300px;\n",
       "  max-width: 700px;\n",
       "}\n",
       "\n",
       ".xr-text-repr-fallback {\n",
       "  /* fallback to plain text repr when CSS is not injected (untrusted notebook) */\n",
       "  display: none;\n",
       "}\n",
       "\n",
       ".xr-header {\n",
       "  padding-top: 6px;\n",
       "  padding-bottom: 6px;\n",
       "  margin-bottom: 4px;\n",
       "  border-bottom: solid 1px var(--xr-border-color);\n",
       "}\n",
       "\n",
       ".xr-header > div,\n",
       ".xr-header > ul {\n",
       "  display: inline;\n",
       "  margin-top: 0;\n",
       "  margin-bottom: 0;\n",
       "}\n",
       "\n",
       ".xr-obj-type,\n",
       ".xr-array-name {\n",
       "  margin-left: 2px;\n",
       "  margin-right: 10px;\n",
       "}\n",
       "\n",
       ".xr-obj-type {\n",
       "  color: var(--xr-font-color2);\n",
       "}\n",
       "\n",
       ".xr-sections {\n",
       "  padding-left: 0 !important;\n",
       "  display: grid;\n",
       "  grid-template-columns: 150px auto auto 1fr 20px 20px;\n",
       "}\n",
       "\n",
       ".xr-section-item {\n",
       "  display: contents;\n",
       "}\n",
       "\n",
       ".xr-section-item input {\n",
       "  display: none;\n",
       "}\n",
       "\n",
       ".xr-section-item input + label {\n",
       "  color: var(--xr-disabled-color);\n",
       "}\n",
       "\n",
       ".xr-section-item input:enabled + label {\n",
       "  cursor: pointer;\n",
       "  color: var(--xr-font-color2);\n",
       "}\n",
       "\n",
       ".xr-section-item input:enabled + label:hover {\n",
       "  color: var(--xr-font-color0);\n",
       "}\n",
       "\n",
       ".xr-section-summary {\n",
       "  grid-column: 1;\n",
       "  color: var(--xr-font-color2);\n",
       "  font-weight: 500;\n",
       "}\n",
       "\n",
       ".xr-section-summary > span {\n",
       "  display: inline-block;\n",
       "  padding-left: 0.5em;\n",
       "}\n",
       "\n",
       ".xr-section-summary-in:disabled + label {\n",
       "  color: var(--xr-font-color2);\n",
       "}\n",
       "\n",
       ".xr-section-summary-in + label:before {\n",
       "  display: inline-block;\n",
       "  content: '►';\n",
       "  font-size: 11px;\n",
       "  width: 15px;\n",
       "  text-align: center;\n",
       "}\n",
       "\n",
       ".xr-section-summary-in:disabled + label:before {\n",
       "  color: var(--xr-disabled-color);\n",
       "}\n",
       "\n",
       ".xr-section-summary-in:checked + label:before {\n",
       "  content: '▼';\n",
       "}\n",
       "\n",
       ".xr-section-summary-in:checked + label > span {\n",
       "  display: none;\n",
       "}\n",
       "\n",
       ".xr-section-summary,\n",
       ".xr-section-inline-details {\n",
       "  padding-top: 4px;\n",
       "  padding-bottom: 4px;\n",
       "}\n",
       "\n",
       ".xr-section-inline-details {\n",
       "  grid-column: 2 / -1;\n",
       "}\n",
       "\n",
       ".xr-section-details {\n",
       "  display: none;\n",
       "  grid-column: 1 / -1;\n",
       "  margin-bottom: 5px;\n",
       "}\n",
       "\n",
       ".xr-section-summary-in:checked ~ .xr-section-details {\n",
       "  display: contents;\n",
       "}\n",
       "\n",
       ".xr-array-wrap {\n",
       "  grid-column: 1 / -1;\n",
       "  display: grid;\n",
       "  grid-template-columns: 20px auto;\n",
       "}\n",
       "\n",
       ".xr-array-wrap > label {\n",
       "  grid-column: 1;\n",
       "  vertical-align: top;\n",
       "}\n",
       "\n",
       ".xr-preview {\n",
       "  color: var(--xr-font-color3);\n",
       "}\n",
       "\n",
       ".xr-array-preview,\n",
       ".xr-array-data {\n",
       "  padding: 0 5px !important;\n",
       "  grid-column: 2;\n",
       "}\n",
       "\n",
       ".xr-array-data,\n",
       ".xr-array-in:checked ~ .xr-array-preview {\n",
       "  display: none;\n",
       "}\n",
       "\n",
       ".xr-array-in:checked ~ .xr-array-data,\n",
       ".xr-array-preview {\n",
       "  display: inline-block;\n",
       "}\n",
       "\n",
       ".xr-dim-list {\n",
       "  display: inline-block !important;\n",
       "  list-style: none;\n",
       "  padding: 0 !important;\n",
       "  margin: 0;\n",
       "}\n",
       "\n",
       ".xr-dim-list li {\n",
       "  display: inline-block;\n",
       "  padding: 0;\n",
       "  margin: 0;\n",
       "}\n",
       "\n",
       ".xr-dim-list:before {\n",
       "  content: '(';\n",
       "}\n",
       "\n",
       ".xr-dim-list:after {\n",
       "  content: ')';\n",
       "}\n",
       "\n",
       ".xr-dim-list li:not(:last-child):after {\n",
       "  content: ',';\n",
       "  padding-right: 5px;\n",
       "}\n",
       "\n",
       ".xr-has-index {\n",
       "  font-weight: bold;\n",
       "}\n",
       "\n",
       ".xr-var-list,\n",
       ".xr-var-item {\n",
       "  display: contents;\n",
       "}\n",
       "\n",
       ".xr-var-item > div,\n",
       ".xr-var-item label,\n",
       ".xr-var-item > .xr-var-name span {\n",
       "  background-color: var(--xr-background-color-row-even);\n",
       "  margin-bottom: 0;\n",
       "}\n",
       "\n",
       ".xr-var-item > .xr-var-name:hover span {\n",
       "  padding-right: 5px;\n",
       "}\n",
       "\n",
       ".xr-var-list > li:nth-child(odd) > div,\n",
       ".xr-var-list > li:nth-child(odd) > label,\n",
       ".xr-var-list > li:nth-child(odd) > .xr-var-name span {\n",
       "  background-color: var(--xr-background-color-row-odd);\n",
       "}\n",
       "\n",
       ".xr-var-name {\n",
       "  grid-column: 1;\n",
       "}\n",
       "\n",
       ".xr-var-dims {\n",
       "  grid-column: 2;\n",
       "}\n",
       "\n",
       ".xr-var-dtype {\n",
       "  grid-column: 3;\n",
       "  text-align: right;\n",
       "  color: var(--xr-font-color2);\n",
       "}\n",
       "\n",
       ".xr-var-preview {\n",
       "  grid-column: 4;\n",
       "}\n",
       "\n",
       ".xr-index-preview {\n",
       "  grid-column: 2 / 5;\n",
       "  color: var(--xr-font-color2);\n",
       "}\n",
       "\n",
       ".xr-var-name,\n",
       ".xr-var-dims,\n",
       ".xr-var-dtype,\n",
       ".xr-preview,\n",
       ".xr-attrs dt {\n",
       "  white-space: nowrap;\n",
       "  overflow: hidden;\n",
       "  text-overflow: ellipsis;\n",
       "  padding-right: 10px;\n",
       "}\n",
       "\n",
       ".xr-var-name:hover,\n",
       ".xr-var-dims:hover,\n",
       ".xr-var-dtype:hover,\n",
       ".xr-attrs dt:hover {\n",
       "  overflow: visible;\n",
       "  width: auto;\n",
       "  z-index: 1;\n",
       "}\n",
       "\n",
       ".xr-var-attrs,\n",
       ".xr-var-data,\n",
       ".xr-index-data {\n",
       "  display: none;\n",
       "  background-color: var(--xr-background-color) !important;\n",
       "  padding-bottom: 5px !important;\n",
       "}\n",
       "\n",
       ".xr-var-attrs-in:checked ~ .xr-var-attrs,\n",
       ".xr-var-data-in:checked ~ .xr-var-data,\n",
       ".xr-index-data-in:checked ~ .xr-index-data {\n",
       "  display: block;\n",
       "}\n",
       "\n",
       ".xr-var-data > table {\n",
       "  float: right;\n",
       "}\n",
       "\n",
       ".xr-var-name span,\n",
       ".xr-var-data,\n",
       ".xr-index-name div,\n",
       ".xr-index-data,\n",
       ".xr-attrs {\n",
       "  padding-left: 25px !important;\n",
       "}\n",
       "\n",
       ".xr-attrs,\n",
       ".xr-var-attrs,\n",
       ".xr-var-data,\n",
       ".xr-index-data {\n",
       "  grid-column: 1 / -1;\n",
       "}\n",
       "\n",
       "dl.xr-attrs {\n",
       "  padding: 0;\n",
       "  margin: 0;\n",
       "  display: grid;\n",
       "  grid-template-columns: 125px auto;\n",
       "}\n",
       "\n",
       ".xr-attrs dt,\n",
       ".xr-attrs dd {\n",
       "  padding: 0;\n",
       "  margin: 0;\n",
       "  float: left;\n",
       "  padding-right: 10px;\n",
       "  width: auto;\n",
       "}\n",
       "\n",
       ".xr-attrs dt {\n",
       "  font-weight: normal;\n",
       "  grid-column: 1;\n",
       "}\n",
       "\n",
       ".xr-attrs dt:hover span {\n",
       "  display: inline-block;\n",
       "  background: var(--xr-background-color);\n",
       "  padding-right: 10px;\n",
       "}\n",
       "\n",
       ".xr-attrs dd {\n",
       "  grid-column: 2;\n",
       "  white-space: pre-wrap;\n",
       "  word-break: break-all;\n",
       "}\n",
       "\n",
       ".xr-icon-database,\n",
       ".xr-icon-file-text2,\n",
       ".xr-no-icon {\n",
       "  display: inline-block;\n",
       "  vertical-align: middle;\n",
       "  width: 1em;\n",
       "  height: 1.5em !important;\n",
       "  stroke-width: 0;\n",
       "  stroke: currentColor;\n",
       "  fill: currentColor;\n",
       "}\n",
       "</style><pre class='xr-text-repr-fallback'>&lt;xarray.Dataset&gt; Size: 432B\n",
       "Dimensions:    (level: 8)\n",
       "Coordinates:\n",
       "    longitude  float32 4B 354.5\n",
       "    latitude   float32 4B 54.5\n",
       "  * level      (level) int32 32B 50 150 250 400 500 700 850 1000\n",
       "    time       datetime64[ns] 8B 2022-02-01\n",
       "Data variables:\n",
       "    z          (level) float64 64B 1.964e+05 1.337e+05 ... 1.472e+04 1.679e+03\n",
       "    q          (level) float64 64B 3.163e-06 4.299e-06 ... 0.006348 0.005997\n",
       "    t          (level) float64 64B 196.2 196.6 218.8 245.2 ... 272.9 278.6 281.5\n",
       "    u          (level) float64 64B 43.29 35.49 34.55 33.06 ... 27.23 18.13 13.82\n",
       "    v          (level) float64 64B -25.13 -29.71 -33.16 ... -24.01 -18.27 -3.285\n",
       "    w          (level) float64 64B 0.08894 -0.09925 -0.02423 ... -0.02163 0.4033\n",
       "Attributes:\n",
       "    Conventions:  CF-1.6\n",
       "    history:      2024-05-14 03:03:28 GMT by grib_to_netcdf-2.28.1: /opt/ecmw...</pre><div class='xr-wrap' style='display:none'><div class='xr-header'><div class='xr-obj-type'>xarray.Dataset</div></div><ul class='xr-sections'><li class='xr-section-item'><input id='section-972b3773-1ac1-49d0-ae2a-266ae1f465ca' class='xr-section-summary-in' type='checkbox' disabled ><label for='section-972b3773-1ac1-49d0-ae2a-266ae1f465ca' class='xr-section-summary'  title='Expand/collapse section'>Dimensions:</label><div class='xr-section-inline-details'><ul class='xr-dim-list'><li><span class='xr-has-index'>level</span>: 8</li></ul></div><div class='xr-section-details'></div></li><li class='xr-section-item'><input id='section-8e17ca33-dff5-4f2c-986a-2a501bcbe820' class='xr-section-summary-in' type='checkbox'  checked><label for='section-8e17ca33-dff5-4f2c-986a-2a501bcbe820' class='xr-section-summary' >Coordinates: <span>(4)</span></label><div class='xr-section-inline-details'></div><div class='xr-section-details'><ul class='xr-var-list'><li class='xr-var-item'><div class='xr-var-name'><span>longitude</span></div><div class='xr-var-dims'>()</div><div class='xr-var-dtype'>float32</div><div class='xr-var-preview xr-preview'>354.5</div><input id='attrs-8cac2a3a-3e22-4cf7-938d-94645c0cf193' class='xr-var-attrs-in' type='checkbox' ><label for='attrs-8cac2a3a-3e22-4cf7-938d-94645c0cf193' title='Show/Hide attributes'><svg class='icon xr-icon-file-text2'><use xlink:href='#icon-file-text2'></use></svg></label><input id='data-4455593c-4499-4cfe-ae65-b03a4c991193' class='xr-var-data-in' type='checkbox'><label for='data-4455593c-4499-4cfe-ae65-b03a4c991193' title='Show/Hide data repr'><svg class='icon xr-icon-database'><use xlink:href='#icon-database'></use></svg></label><div class='xr-var-attrs'><dl class='xr-attrs'><dt><span>units :</span></dt><dd>degrees_east</dd><dt><span>long_name :</span></dt><dd>longitude</dd></dl></div><div class='xr-var-data'><pre>array(354.5, dtype=float32)</pre></div></li><li class='xr-var-item'><div class='xr-var-name'><span>latitude</span></div><div class='xr-var-dims'>()</div><div class='xr-var-dtype'>float32</div><div class='xr-var-preview xr-preview'>54.5</div><input id='attrs-a44fef42-67ba-4c4b-adfd-73e9118f0ced' class='xr-var-attrs-in' type='checkbox' ><label for='attrs-a44fef42-67ba-4c4b-adfd-73e9118f0ced' title='Show/Hide attributes'><svg class='icon xr-icon-file-text2'><use xlink:href='#icon-file-text2'></use></svg></label><input id='data-697303b9-f147-4b31-b283-9babd3659139' class='xr-var-data-in' type='checkbox'><label for='data-697303b9-f147-4b31-b283-9babd3659139' title='Show/Hide data repr'><svg class='icon xr-icon-database'><use xlink:href='#icon-database'></use></svg></label><div class='xr-var-attrs'><dl class='xr-attrs'><dt><span>units :</span></dt><dd>degrees_north</dd><dt><span>long_name :</span></dt><dd>latitude</dd></dl></div><div class='xr-var-data'><pre>array(54.5, dtype=float32)</pre></div></li><li class='xr-var-item'><div class='xr-var-name'><span class='xr-has-index'>level</span></div><div class='xr-var-dims'>(level)</div><div class='xr-var-dtype'>int32</div><div class='xr-var-preview xr-preview'>50 150 250 400 500 700 850 1000</div><input id='attrs-e61be3ed-f67a-478c-b8ee-0f371f79a1ad' class='xr-var-attrs-in' type='checkbox' ><label for='attrs-e61be3ed-f67a-478c-b8ee-0f371f79a1ad' title='Show/Hide attributes'><svg class='icon xr-icon-file-text2'><use xlink:href='#icon-file-text2'></use></svg></label><input id='data-9e01de30-686a-4ea1-af0a-23bf6625bf47' class='xr-var-data-in' type='checkbox'><label for='data-9e01de30-686a-4ea1-af0a-23bf6625bf47' title='Show/Hide data repr'><svg class='icon xr-icon-database'><use xlink:href='#icon-database'></use></svg></label><div class='xr-var-attrs'><dl class='xr-attrs'><dt><span>units :</span></dt><dd>millibars</dd><dt><span>long_name :</span></dt><dd>pressure_level</dd></dl></div><div class='xr-var-data'><pre>array([  50,  150,  250,  400,  500,  700,  850, 1000], dtype=int32)</pre></div></li><li class='xr-var-item'><div class='xr-var-name'><span>time</span></div><div class='xr-var-dims'>()</div><div class='xr-var-dtype'>datetime64[ns]</div><div class='xr-var-preview xr-preview'>2022-02-01</div><input id='attrs-bf96505d-d621-4fe6-bcd8-a2e30e7ce013' class='xr-var-attrs-in' type='checkbox' ><label for='attrs-bf96505d-d621-4fe6-bcd8-a2e30e7ce013' title='Show/Hide attributes'><svg class='icon xr-icon-file-text2'><use xlink:href='#icon-file-text2'></use></svg></label><input id='data-783b593b-41ad-49ce-9f6a-e2f19d6f9717' class='xr-var-data-in' type='checkbox'><label for='data-783b593b-41ad-49ce-9f6a-e2f19d6f9717' title='Show/Hide data repr'><svg class='icon xr-icon-database'><use xlink:href='#icon-database'></use></svg></label><div class='xr-var-attrs'><dl class='xr-attrs'><dt><span>long_name :</span></dt><dd>time</dd></dl></div><div class='xr-var-data'><pre>array(&#x27;2022-02-01T00:00:00.000000000&#x27;, dtype=&#x27;datetime64[ns]&#x27;)</pre></div></li></ul></div></li><li class='xr-section-item'><input id='section-b470fb9a-c879-46b6-a9ac-a332b7d1d476' class='xr-section-summary-in' type='checkbox'  checked><label for='section-b470fb9a-c879-46b6-a9ac-a332b7d1d476' class='xr-section-summary' >Data variables: <span>(6)</span></label><div class='xr-section-inline-details'></div><div class='xr-section-details'><ul class='xr-var-list'><li class='xr-var-item'><div class='xr-var-name'><span>z</span></div><div class='xr-var-dims'>(level)</div><div class='xr-var-dtype'>float64</div><div class='xr-var-preview xr-preview'>1.964e+05 1.337e+05 ... 1.679e+03</div><input id='attrs-b7acd0c1-e9ab-42fa-beb0-77d1a3cb6792' class='xr-var-attrs-in' type='checkbox' ><label for='attrs-b7acd0c1-e9ab-42fa-beb0-77d1a3cb6792' title='Show/Hide attributes'><svg class='icon xr-icon-file-text2'><use xlink:href='#icon-file-text2'></use></svg></label><input id='data-741a870e-17fd-4b1d-a3f6-be7f064aaaf0' class='xr-var-data-in' type='checkbox'><label for='data-741a870e-17fd-4b1d-a3f6-be7f064aaaf0' title='Show/Hide data repr'><svg class='icon xr-icon-database'><use xlink:href='#icon-database'></use></svg></label><div class='xr-var-attrs'><dl class='xr-attrs'><dt><span>units :</span></dt><dd>m**2 s**-2</dd><dt><span>long_name :</span></dt><dd>Geopotential</dd><dt><span>standard_name :</span></dt><dd>geopotential</dd></dl></div><div class='xr-var-data'><pre>array([196437.55094147, 133695.8381568 , 103359.92638996,  72025.97499977,\n",
       "        55919.34840951,  30188.53908479,  14723.73861887,   1678.62264169])</pre></div></li><li class='xr-var-item'><div class='xr-var-name'><span>q</span></div><div class='xr-var-dims'>(level)</div><div class='xr-var-dtype'>float64</div><div class='xr-var-preview xr-preview'>3.163e-06 4.299e-06 ... 0.005997</div><input id='attrs-b8221618-b525-449c-9f45-b99cc24d80f0' class='xr-var-attrs-in' type='checkbox' ><label for='attrs-b8221618-b525-449c-9f45-b99cc24d80f0' title='Show/Hide attributes'><svg class='icon xr-icon-file-text2'><use xlink:href='#icon-file-text2'></use></svg></label><input id='data-6072ae62-566e-420f-890e-343e9ef8ff1f' class='xr-var-data-in' type='checkbox'><label for='data-6072ae62-566e-420f-890e-343e9ef8ff1f' title='Show/Hide data repr'><svg class='icon xr-icon-database'><use xlink:href='#icon-database'></use></svg></label><div class='xr-var-attrs'><dl class='xr-attrs'><dt><span>units :</span></dt><dd>kg kg**-1</dd><dt><span>long_name :</span></dt><dd>Specific humidity</dd><dt><span>standard_name :</span></dt><dd>specific_humidity</dd></dl></div><div class='xr-var-data'><pre>array([3.16304429e-06, 4.29940966e-06, 3.76327939e-05, 3.73618156e-04,\n",
       "       4.91421366e-04, 3.61225947e-03, 6.34824849e-03, 5.99711159e-03])</pre></div></li><li class='xr-var-item'><div class='xr-var-name'><span>t</span></div><div class='xr-var-dims'>(level)</div><div class='xr-var-dtype'>float64</div><div class='xr-var-preview xr-preview'>196.2 196.6 218.8 ... 278.6 281.5</div><input id='attrs-fb0b584b-de80-40d6-a8c0-51cec65ef252' class='xr-var-attrs-in' type='checkbox' ><label for='attrs-fb0b584b-de80-40d6-a8c0-51cec65ef252' title='Show/Hide attributes'><svg class='icon xr-icon-file-text2'><use xlink:href='#icon-file-text2'></use></svg></label><input id='data-e343f01d-ca59-4dff-a598-9fd9ab77dcf6' class='xr-var-data-in' type='checkbox'><label for='data-e343f01d-ca59-4dff-a598-9fd9ab77dcf6' title='Show/Hide data repr'><svg class='icon xr-icon-database'><use xlink:href='#icon-database'></use></svg></label><div class='xr-var-attrs'><dl class='xr-attrs'><dt><span>units :</span></dt><dd>K</dd><dt><span>long_name :</span></dt><dd>Temperature</dd><dt><span>standard_name :</span></dt><dd>air_temperature</dd></dl></div><div class='xr-var-data'><pre>array([196.21820045, 196.64987041, 218.7829479 , 245.16877381,\n",
       "       258.07690451, 272.8995714 , 278.61919828, 281.46302395])</pre></div></li><li class='xr-var-item'><div class='xr-var-name'><span>u</span></div><div class='xr-var-dims'>(level)</div><div class='xr-var-dtype'>float64</div><div class='xr-var-preview xr-preview'>43.29 35.49 34.55 ... 18.13 13.82</div><input id='attrs-cdf61b83-fed8-48d8-aed0-4459c369a886' class='xr-var-attrs-in' type='checkbox' ><label for='attrs-cdf61b83-fed8-48d8-aed0-4459c369a886' title='Show/Hide attributes'><svg class='icon xr-icon-file-text2'><use xlink:href='#icon-file-text2'></use></svg></label><input id='data-e897a009-6a6a-4267-b1a1-f6fba4508599' class='xr-var-data-in' type='checkbox'><label for='data-e897a009-6a6a-4267-b1a1-f6fba4508599' title='Show/Hide data repr'><svg class='icon xr-icon-database'><use xlink:href='#icon-database'></use></svg></label><div class='xr-var-attrs'><dl class='xr-attrs'><dt><span>units :</span></dt><dd>m s**-1</dd><dt><span>long_name :</span></dt><dd>U component of wind</dd><dt><span>standard_name :</span></dt><dd>eastward_wind</dd></dl></div><div class='xr-var-data'><pre>array([43.28773823, 35.48670761, 34.54915002, 33.05733045, 33.64744022,\n",
       "       27.23344332, 18.13086217, 13.81533975])</pre></div></li><li class='xr-var-item'><div class='xr-var-name'><span>v</span></div><div class='xr-var-dims'>(level)</div><div class='xr-var-dtype'>float64</div><div class='xr-var-preview xr-preview'>-25.13 -29.71 ... -18.27 -3.285</div><input id='attrs-371fcc19-c0b4-4fdf-88bb-7052ea0498bb' class='xr-var-attrs-in' type='checkbox' ><label for='attrs-371fcc19-c0b4-4fdf-88bb-7052ea0498bb' title='Show/Hide attributes'><svg class='icon xr-icon-file-text2'><use xlink:href='#icon-file-text2'></use></svg></label><input id='data-afddb3dc-591d-4dc0-9d17-f5ec43b1e2a6' class='xr-var-data-in' type='checkbox'><label for='data-afddb3dc-591d-4dc0-9d17-f5ec43b1e2a6' title='Show/Hide data repr'><svg class='icon xr-icon-database'><use xlink:href='#icon-database'></use></svg></label><div class='xr-var-attrs'><dl class='xr-attrs'><dt><span>units :</span></dt><dd>m s**-1</dd><dt><span>long_name :</span></dt><dd>V component of wind</dd><dt><span>standard_name :</span></dt><dd>northward_wind</dd></dl></div><div class='xr-var-data'><pre>array([-25.13174161, -29.70511604, -33.15651133, -36.81741624,\n",
       "       -39.56309493, -24.00976246, -18.27305831,  -3.28485048])</pre></div></li><li class='xr-var-item'><div class='xr-var-name'><span>w</span></div><div class='xr-var-dims'>(level)</div><div class='xr-var-dtype'>float64</div><div class='xr-var-preview xr-preview'>0.08894 -0.09925 ... 0.4033</div><input id='attrs-0a639af4-aacf-4fab-8e9a-3c043f5d4fec' class='xr-var-attrs-in' type='checkbox' ><label for='attrs-0a639af4-aacf-4fab-8e9a-3c043f5d4fec' title='Show/Hide attributes'><svg class='icon xr-icon-file-text2'><use xlink:href='#icon-file-text2'></use></svg></label><input id='data-e5693da1-49b7-43cf-b370-58d9fdb1a95f' class='xr-var-data-in' type='checkbox'><label for='data-e5693da1-49b7-43cf-b370-58d9fdb1a95f' title='Show/Hide data repr'><svg class='icon xr-icon-database'><use xlink:href='#icon-database'></use></svg></label><div class='xr-var-attrs'><dl class='xr-attrs'><dt><span>units :</span></dt><dd>Pa s**-1</dd><dt><span>long_name :</span></dt><dd>Vertical velocity</dd><dt><span>standard_name :</span></dt><dd>lagrangian_tendency_of_air_pressure</dd></dl></div><div class='xr-var-data'><pre>array([ 0.08894173, -0.09924708, -0.02423172, -0.17686412,  0.0234659 ,\n",
       "       -0.0294351 , -0.02163004,  0.40331242])</pre></div></li></ul></div></li><li class='xr-section-item'><input id='section-3c909070-08d4-4716-8cea-451e3fad093c' class='xr-section-summary-in' type='checkbox'  ><label for='section-3c909070-08d4-4716-8cea-451e3fad093c' class='xr-section-summary' >Indexes: <span>(1)</span></label><div class='xr-section-inline-details'></div><div class='xr-section-details'><ul class='xr-var-list'><li class='xr-var-item'><div class='xr-index-name'><div>level</div></div><div class='xr-index-preview'>PandasIndex</div><div></div><input id='index-9105932a-8c4c-4886-9aac-357a0c3e0895' class='xr-index-data-in' type='checkbox'/><label for='index-9105932a-8c4c-4886-9aac-357a0c3e0895' title='Show/Hide index repr'><svg class='icon xr-icon-database'><use xlink:href='#icon-database'></use></svg></label><div class='xr-index-data'><pre>PandasIndex(Index([50, 150, 250, 400, 500, 700, 850, 1000], dtype=&#x27;int32&#x27;, name=&#x27;level&#x27;))</pre></div></li></ul></div></li><li class='xr-section-item'><input id='section-e61cfa7e-c1de-4ccd-92b0-484d72b81dce' class='xr-section-summary-in' type='checkbox'  checked><label for='section-e61cfa7e-c1de-4ccd-92b0-484d72b81dce' class='xr-section-summary' >Attributes: <span>(2)</span></label><div class='xr-section-inline-details'></div><div class='xr-section-details'><dl class='xr-attrs'><dt><span>Conventions :</span></dt><dd>CF-1.6</dd><dt><span>history :</span></dt><dd>2024-05-14 03:03:28 GMT by grib_to_netcdf-2.28.1: /opt/ecmwf/mars-client/bin/grib_to_netcdf -S param -o /cache/data2/adaptor.mars.internal-1715655642.861744-29841-20-92229526-6515-4336-888f-eb87359f8556.nc /cache/tmp/92229526-6515-4336-888f-eb87359f8556-adaptor.mars.internal-1715655451.1137784-29841-9-tmp.grib</dd></dl></div></li></ul></div></div>"
      ],
      "text/plain": [
       "<xarray.Dataset> Size: 432B\n",
       "Dimensions:    (level: 8)\n",
       "Coordinates:\n",
       "    longitude  float32 4B 354.5\n",
       "    latitude   float32 4B 54.5\n",
       "  * level      (level) int32 32B 50 150 250 400 500 700 850 1000\n",
       "    time       datetime64[ns] 8B 2022-02-01\n",
       "Data variables:\n",
       "    z          (level) float64 64B 1.964e+05 1.337e+05 ... 1.472e+04 1.679e+03\n",
       "    q          (level) float64 64B 3.163e-06 4.299e-06 ... 0.006348 0.005997\n",
       "    t          (level) float64 64B 196.2 196.6 218.8 245.2 ... 272.9 278.6 281.5\n",
       "    u          (level) float64 64B 43.29 35.49 34.55 33.06 ... 27.23 18.13 13.82\n",
       "    v          (level) float64 64B -25.13 -29.71 -33.16 ... -24.01 -18.27 -3.285\n",
       "    w          (level) float64 64B 0.08894 -0.09925 -0.02423 ... -0.02163 0.4033\n",
       "Attributes:\n",
       "    Conventions:  CF-1.6\n",
       "    history:      2024-05-14 03:03:28 GMT by grib_to_netcdf-2.28.1: /opt/ecmw..."
      ]
     },
     "execution_count": 161,
     "metadata": {},
     "output_type": "execute_result"
    }
   ],
   "source": [
    "sample.sel(longitude=test_xy[0], latitude=test_xy[1])"
   ]
  },
  {
   "cell_type": "markdown",
   "metadata": {},
   "source": [
    "## ERA5 Dataset Names"
   ]
  },
  {
   "cell_type": "code",
   "execution_count": 38,
   "metadata": {},
   "outputs": [
    {
     "data": {
      "text/plain": [
       "array([  50,  150,  250,  400,  500,  700,  850, 1000], dtype=int32)"
      ]
     },
     "execution_count": 38,
     "metadata": {},
     "output_type": "execute_result"
    }
   ],
   "source": [
    "sample.level.values"
   ]
  },
  {
   "cell_type": "code",
   "execution_count": 43,
   "metadata": {},
   "outputs": [
    {
     "ename": "KeyError",
     "evalue": "\"No variable named 'units'. Variables on the dataset include ['z', 'q', 't', 'u', 'v', 'w', 'longitude', 'latitude', 'level', 'time']\"",
     "output_type": "error",
     "traceback": [
      "\u001b[0;31m---------------------------------------------------------------------------\u001b[0m",
      "\u001b[0;31mKeyError\u001b[0m                                  Traceback (most recent call last)",
      "\u001b[0;32m/vol/bitbucket/bet20/nlam/lib/python3.9/site-packages/xarray/core/dataset.py\u001b[0m in \u001b[0;36m?\u001b[0;34m(self, name)\u001b[0m\n\u001b[1;32m   1474\u001b[0m             \u001b[0mvariable\u001b[0m \u001b[0;34m=\u001b[0m \u001b[0mself\u001b[0m\u001b[0;34m.\u001b[0m\u001b[0m_variables\u001b[0m\u001b[0;34m[\u001b[0m\u001b[0mname\u001b[0m\u001b[0;34m]\u001b[0m\u001b[0;34m\u001b[0m\u001b[0;34m\u001b[0m\u001b[0m\n\u001b[1;32m   1475\u001b[0m         \u001b[0;32mexcept\u001b[0m \u001b[0mKeyError\u001b[0m\u001b[0;34m:\u001b[0m\u001b[0;34m\u001b[0m\u001b[0;34m\u001b[0m\u001b[0m\n\u001b[0;32m-> 1476\u001b[0;31m             \u001b[0m_\u001b[0m\u001b[0;34m,\u001b[0m \u001b[0mname\u001b[0m\u001b[0;34m,\u001b[0m \u001b[0mvariable\u001b[0m \u001b[0;34m=\u001b[0m \u001b[0m_get_virtual_variable\u001b[0m\u001b[0;34m(\u001b[0m\u001b[0mself\u001b[0m\u001b[0;34m.\u001b[0m\u001b[0m_variables\u001b[0m\u001b[0;34m,\u001b[0m \u001b[0mname\u001b[0m\u001b[0;34m,\u001b[0m \u001b[0mself\u001b[0m\u001b[0;34m.\u001b[0m\u001b[0msizes\u001b[0m\u001b[0;34m)\u001b[0m\u001b[0;34m\u001b[0m\u001b[0;34m\u001b[0m\u001b[0m\n\u001b[0m\u001b[1;32m   1477\u001b[0m \u001b[0;34m\u001b[0m\u001b[0m\n",
      "\u001b[0;31mKeyError\u001b[0m: 'units'",
      "\nDuring handling of the above exception, another exception occurred:\n",
      "\u001b[0;31mKeyError\u001b[0m                                  Traceback (most recent call last)",
      "\u001b[0;32m/vol/bitbucket/bet20/nlam/lib/python3.9/site-packages/xarray/core/dataset.py\u001b[0m in \u001b[0;36m?\u001b[0;34m(self, key)\u001b[0m\n\u001b[1;32m   1573\u001b[0m                 \u001b[0;32mreturn\u001b[0m \u001b[0mself\u001b[0m\u001b[0;34m.\u001b[0m\u001b[0m_construct_dataarray\u001b[0m\u001b[0;34m(\u001b[0m\u001b[0mkey\u001b[0m\u001b[0;34m)\u001b[0m\u001b[0;34m\u001b[0m\u001b[0;34m\u001b[0m\u001b[0m\n\u001b[1;32m   1574\u001b[0m             \u001b[0;32mexcept\u001b[0m \u001b[0mKeyError\u001b[0m \u001b[0;32mas\u001b[0m \u001b[0me\u001b[0m\u001b[0;34m:\u001b[0m\u001b[0;34m\u001b[0m\u001b[0;34m\u001b[0m\u001b[0m\n\u001b[0;32m-> 1575\u001b[0;31m                 raise KeyError(\n\u001b[0m\u001b[1;32m   1576\u001b[0m                     \u001b[0;34mf\"No variable named {key!r}. Variables on the dataset include {shorten_list_repr(list(self.variables.keys()), max_items=10)}\"\u001b[0m\u001b[0;34m\u001b[0m\u001b[0;34m\u001b[0m\u001b[0m\n",
      "\u001b[0;32m/vol/bitbucket/bet20/nlam/lib/python3.9/site-packages/xarray/core/dataset.py\u001b[0m in \u001b[0;36m?\u001b[0;34m(self, name)\u001b[0m\n\u001b[1;32m   1474\u001b[0m             \u001b[0mvariable\u001b[0m \u001b[0;34m=\u001b[0m \u001b[0mself\u001b[0m\u001b[0;34m.\u001b[0m\u001b[0m_variables\u001b[0m\u001b[0;34m[\u001b[0m\u001b[0mname\u001b[0m\u001b[0;34m]\u001b[0m\u001b[0;34m\u001b[0m\u001b[0;34m\u001b[0m\u001b[0m\n\u001b[1;32m   1475\u001b[0m         \u001b[0;32mexcept\u001b[0m \u001b[0mKeyError\u001b[0m\u001b[0;34m:\u001b[0m\u001b[0;34m\u001b[0m\u001b[0;34m\u001b[0m\u001b[0m\n\u001b[0;32m-> 1476\u001b[0;31m             \u001b[0m_\u001b[0m\u001b[0;34m,\u001b[0m \u001b[0mname\u001b[0m\u001b[0;34m,\u001b[0m \u001b[0mvariable\u001b[0m \u001b[0;34m=\u001b[0m \u001b[0m_get_virtual_variable\u001b[0m\u001b[0;34m(\u001b[0m\u001b[0mself\u001b[0m\u001b[0;34m.\u001b[0m\u001b[0m_variables\u001b[0m\u001b[0;34m,\u001b[0m \u001b[0mname\u001b[0m\u001b[0;34m,\u001b[0m \u001b[0mself\u001b[0m\u001b[0;34m.\u001b[0m\u001b[0msizes\u001b[0m\u001b[0;34m)\u001b[0m\u001b[0;34m\u001b[0m\u001b[0;34m\u001b[0m\u001b[0m\n\u001b[0m\u001b[1;32m   1477\u001b[0m \u001b[0;34m\u001b[0m\u001b[0m\n",
      "\u001b[0;32m/vol/bitbucket/bet20/nlam/lib/python3.9/site-packages/xarray/core/dataset.py\u001b[0m in \u001b[0;36m?\u001b[0;34m(variables, key, dim_sizes)\u001b[0m\n\u001b[1;32m    207\u001b[0m     \u001b[0msplit_key\u001b[0m \u001b[0;34m=\u001b[0m \u001b[0mkey\u001b[0m\u001b[0;34m.\u001b[0m\u001b[0msplit\u001b[0m\u001b[0;34m(\u001b[0m\u001b[0;34m\".\"\u001b[0m\u001b[0;34m,\u001b[0m \u001b[0;36m1\u001b[0m\u001b[0;34m)\u001b[0m\u001b[0;34m\u001b[0m\u001b[0;34m\u001b[0m\u001b[0m\n\u001b[1;32m    208\u001b[0m     \u001b[0;32mif\u001b[0m \u001b[0mlen\u001b[0m\u001b[0;34m(\u001b[0m\u001b[0msplit_key\u001b[0m\u001b[0;34m)\u001b[0m \u001b[0;34m!=\u001b[0m \u001b[0;36m2\u001b[0m\u001b[0;34m:\u001b[0m\u001b[0;34m\u001b[0m\u001b[0;34m\u001b[0m\u001b[0m\n\u001b[0;32m--> 209\u001b[0;31m         \u001b[0;32mraise\u001b[0m \u001b[0mKeyError\u001b[0m\u001b[0;34m(\u001b[0m\u001b[0mkey\u001b[0m\u001b[0;34m)\u001b[0m\u001b[0;34m\u001b[0m\u001b[0;34m\u001b[0m\u001b[0m\n\u001b[0m\u001b[1;32m    210\u001b[0m \u001b[0;34m\u001b[0m\u001b[0m\n",
      "\u001b[0;31mKeyError\u001b[0m: 'units'",
      "\nThe above exception was the direct cause of the following exception:\n",
      "\u001b[0;31mKeyError\u001b[0m                                  Traceback (most recent call last)",
      "\u001b[0;32m/tmp/ipykernel_3423154/1408239729.py\u001b[0m in \u001b[0;36m?\u001b[0;34m()\u001b[0m\n\u001b[0;32m----> 1\u001b[0;31m \u001b[0msample\u001b[0m\u001b[0;34m[\u001b[0m\u001b[0;34m\"units\"\u001b[0m\u001b[0;34m]\u001b[0m\u001b[0;34m\u001b[0m\u001b[0;34m\u001b[0m\u001b[0m\n\u001b[0m",
      "\u001b[0;32m/vol/bitbucket/bet20/nlam/lib/python3.9/site-packages/xarray/core/dataset.py\u001b[0m in \u001b[0;36m?\u001b[0;34m(self, key)\u001b[0m\n\u001b[1;32m   1571\u001b[0m         \u001b[0;32mif\u001b[0m \u001b[0mutils\u001b[0m\u001b[0;34m.\u001b[0m\u001b[0mhashable\u001b[0m\u001b[0;34m(\u001b[0m\u001b[0mkey\u001b[0m\u001b[0;34m)\u001b[0m\u001b[0;34m:\u001b[0m\u001b[0;34m\u001b[0m\u001b[0;34m\u001b[0m\u001b[0m\n\u001b[1;32m   1572\u001b[0m             \u001b[0;32mtry\u001b[0m\u001b[0;34m:\u001b[0m\u001b[0;34m\u001b[0m\u001b[0;34m\u001b[0m\u001b[0m\n\u001b[1;32m   1573\u001b[0m                 \u001b[0;32mreturn\u001b[0m \u001b[0mself\u001b[0m\u001b[0;34m.\u001b[0m\u001b[0m_construct_dataarray\u001b[0m\u001b[0;34m(\u001b[0m\u001b[0mkey\u001b[0m\u001b[0;34m)\u001b[0m\u001b[0;34m\u001b[0m\u001b[0;34m\u001b[0m\u001b[0m\n\u001b[1;32m   1574\u001b[0m             \u001b[0;32mexcept\u001b[0m \u001b[0mKeyError\u001b[0m \u001b[0;32mas\u001b[0m \u001b[0me\u001b[0m\u001b[0;34m:\u001b[0m\u001b[0;34m\u001b[0m\u001b[0;34m\u001b[0m\u001b[0m\n\u001b[0;32m-> 1575\u001b[0;31m                 raise KeyError(\n\u001b[0m\u001b[1;32m   1576\u001b[0m                     \u001b[0;34mf\"No variable named {key!r}. Variables on the dataset include {shorten_list_repr(list(self.variables.keys()), max_items=10)}\"\u001b[0m\u001b[0;34m\u001b[0m\u001b[0;34m\u001b[0m\u001b[0m\n\u001b[1;32m   1577\u001b[0m                 ) from e\n\u001b[1;32m   1578\u001b[0m \u001b[0;34m\u001b[0m\u001b[0m\n",
      "\u001b[0;31mKeyError\u001b[0m: \"No variable named 'units'. Variables on the dataset include ['z', 'q', 't', 'u', 'v', 'w', 'longitude', 'latitude', 'level', 'time']\""
     ]
    }
   ],
   "source": [
    "sample[\"units\"]"
   ]
  },
  {
   "cell_type": "code",
   "execution_count": 46,
   "metadata": {},
   "outputs": [
    {
     "name": "stdout",
     "output_type": "stream",
     "text": [
      "['z50', 'z150', 'z250', 'z400', 'z500', 'z700', 'z850', 'z1000', 'q50', 'q150', 'q250', 'q400', 'q500', 'q700', 'q850', 'q1000', 't50', 't150', 't250', 't400', 't500', 't700', 't850', 't1000', 'u50', 'u150', 'u250', 'u400', 'u500', 'u700', 'u850', 'u1000', 'v50', 'v150', 'v250', 'v400', 'v500', 'v700', 'v850', 'v1000', 'w50', 'w150', 'w250', 'w400', 'w500', 'w700', 'w850', 'w1000']\n",
      "['m**2 s**-2', 'm**2 s**-2', 'm**2 s**-2', 'm**2 s**-2', 'm**2 s**-2', 'm**2 s**-2', 'm**2 s**-2', 'm**2 s**-2', 'kg kg**-1', 'kg kg**-1', 'kg kg**-1', 'kg kg**-1', 'kg kg**-1', 'kg kg**-1', 'kg kg**-1', 'kg kg**-1', 'K', 'K', 'K', 'K', 'K', 'K', 'K', 'K', 'm s**-1', 'm s**-1', 'm s**-1', 'm s**-1', 'm s**-1', 'm s**-1', 'm s**-1', 'm s**-1', 'm s**-1', 'm s**-1', 'm s**-1', 'm s**-1', 'm s**-1', 'm s**-1', 'm s**-1', 'm s**-1', 'Pa s**-1', 'Pa s**-1', 'Pa s**-1', 'Pa s**-1', 'Pa s**-1', 'Pa s**-1', 'Pa s**-1', 'Pa s**-1']\n"
     ]
    }
   ],
   "source": [
    "from neural_lam.constants import ERA5UKConstants\n",
    "\n",
    "PARAM_SYMBOLS = list(sample.data_vars.keys())\n",
    "LEVELS = list(sample.level.values)\n",
    "PARAM_NAMES = [\n",
    "    p + str(l)\n",
    "    for p in PARAM_SYMBOLS\n",
    "    for l in LEVELS\n",
    "]\n",
    "\n",
    "PARAM_UNITS = [\n",
    "    sample[p].attrs[\"units\"]\n",
    "    for p in PARAM_SYMBOLS\n",
    "    for _ in LEVELS\n",
    "]\n",
    "\n",
    "print(PARAM_NAMES)\n",
    "print(PARAM_UNITS)"
   ]
  },
  {
   "cell_type": "markdown",
   "metadata": {},
   "source": [
    "## Grid Features"
   ]
  },
  {
   "cell_type": "code",
   "execution_count": 180,
   "metadata": {},
   "outputs": [
    {
     "data": {
      "text/plain": [
       "torch.Size([3705, 5])"
      ]
     },
     "execution_count": 180,
     "metadata": {},
     "output_type": "execute_result"
    }
   ],
   "source": [
    "grid_features_path = \"/vol/bitbucket/bet20/neural-lam/data/era5_uk_full/static/grid_features.pt\"\n",
    "grid_features = torch.load(grid_features_path)\n",
    "grid_features.shape"
   ]
  },
  {
   "cell_type": "markdown",
   "metadata": {},
   "source": [
    "## Verify static variables"
   ]
  },
  {
   "cell_type": "code",
   "execution_count": 165,
   "metadata": {},
   "outputs": [
    {
     "data": {
      "text/html": [
       "<div><svg style=\"position: absolute; width: 0; height: 0; overflow: hidden\">\n",
       "<defs>\n",
       "<symbol id=\"icon-database\" viewBox=\"0 0 32 32\">\n",
       "<path d=\"M16 0c-8.837 0-16 2.239-16 5v4c0 2.761 7.163 5 16 5s16-2.239 16-5v-4c0-2.761-7.163-5-16-5z\"></path>\n",
       "<path d=\"M16 17c-8.837 0-16-2.239-16-5v6c0 2.761 7.163 5 16 5s16-2.239 16-5v-6c0 2.761-7.163 5-16 5z\"></path>\n",
       "<path d=\"M16 26c-8.837 0-16-2.239-16-5v6c0 2.761 7.163 5 16 5s16-2.239 16-5v-6c0 2.761-7.163 5-16 5z\"></path>\n",
       "</symbol>\n",
       "<symbol id=\"icon-file-text2\" viewBox=\"0 0 32 32\">\n",
       "<path d=\"M28.681 7.159c-0.694-0.947-1.662-2.053-2.724-3.116s-2.169-2.030-3.116-2.724c-1.612-1.182-2.393-1.319-2.841-1.319h-15.5c-1.378 0-2.5 1.121-2.5 2.5v27c0 1.378 1.122 2.5 2.5 2.5h23c1.378 0 2.5-1.122 2.5-2.5v-19.5c0-0.448-0.137-1.23-1.319-2.841zM24.543 5.457c0.959 0.959 1.712 1.825 2.268 2.543h-4.811v-4.811c0.718 0.556 1.584 1.309 2.543 2.268zM28 29.5c0 0.271-0.229 0.5-0.5 0.5h-23c-0.271 0-0.5-0.229-0.5-0.5v-27c0-0.271 0.229-0.5 0.5-0.5 0 0 15.499-0 15.5 0v7c0 0.552 0.448 1 1 1h7v19.5z\"></path>\n",
       "<path d=\"M23 26h-14c-0.552 0-1-0.448-1-1s0.448-1 1-1h14c0.552 0 1 0.448 1 1s-0.448 1-1 1z\"></path>\n",
       "<path d=\"M23 22h-14c-0.552 0-1-0.448-1-1s0.448-1 1-1h14c0.552 0 1 0.448 1 1s-0.448 1-1 1z\"></path>\n",
       "<path d=\"M23 18h-14c-0.552 0-1-0.448-1-1s0.448-1 1-1h14c0.552 0 1 0.448 1 1s-0.448 1-1 1z\"></path>\n",
       "</symbol>\n",
       "</defs>\n",
       "</svg>\n",
       "<style>/* CSS stylesheet for displaying xarray objects in jupyterlab.\n",
       " *\n",
       " */\n",
       "\n",
       ":root {\n",
       "  --xr-font-color0: var(--jp-content-font-color0, rgba(0, 0, 0, 1));\n",
       "  --xr-font-color2: var(--jp-content-font-color2, rgba(0, 0, 0, 0.54));\n",
       "  --xr-font-color3: var(--jp-content-font-color3, rgba(0, 0, 0, 0.38));\n",
       "  --xr-border-color: var(--jp-border-color2, #e0e0e0);\n",
       "  --xr-disabled-color: var(--jp-layout-color3, #bdbdbd);\n",
       "  --xr-background-color: var(--jp-layout-color0, white);\n",
       "  --xr-background-color-row-even: var(--jp-layout-color1, white);\n",
       "  --xr-background-color-row-odd: var(--jp-layout-color2, #eeeeee);\n",
       "}\n",
       "\n",
       "html[theme=dark],\n",
       "body[data-theme=dark],\n",
       "body.vscode-dark {\n",
       "  --xr-font-color0: rgba(255, 255, 255, 1);\n",
       "  --xr-font-color2: rgba(255, 255, 255, 0.54);\n",
       "  --xr-font-color3: rgba(255, 255, 255, 0.38);\n",
       "  --xr-border-color: #1F1F1F;\n",
       "  --xr-disabled-color: #515151;\n",
       "  --xr-background-color: #111111;\n",
       "  --xr-background-color-row-even: #111111;\n",
       "  --xr-background-color-row-odd: #313131;\n",
       "}\n",
       "\n",
       ".xr-wrap {\n",
       "  display: block !important;\n",
       "  min-width: 300px;\n",
       "  max-width: 700px;\n",
       "}\n",
       "\n",
       ".xr-text-repr-fallback {\n",
       "  /* fallback to plain text repr when CSS is not injected (untrusted notebook) */\n",
       "  display: none;\n",
       "}\n",
       "\n",
       ".xr-header {\n",
       "  padding-top: 6px;\n",
       "  padding-bottom: 6px;\n",
       "  margin-bottom: 4px;\n",
       "  border-bottom: solid 1px var(--xr-border-color);\n",
       "}\n",
       "\n",
       ".xr-header > div,\n",
       ".xr-header > ul {\n",
       "  display: inline;\n",
       "  margin-top: 0;\n",
       "  margin-bottom: 0;\n",
       "}\n",
       "\n",
       ".xr-obj-type,\n",
       ".xr-array-name {\n",
       "  margin-left: 2px;\n",
       "  margin-right: 10px;\n",
       "}\n",
       "\n",
       ".xr-obj-type {\n",
       "  color: var(--xr-font-color2);\n",
       "}\n",
       "\n",
       ".xr-sections {\n",
       "  padding-left: 0 !important;\n",
       "  display: grid;\n",
       "  grid-template-columns: 150px auto auto 1fr 20px 20px;\n",
       "}\n",
       "\n",
       ".xr-section-item {\n",
       "  display: contents;\n",
       "}\n",
       "\n",
       ".xr-section-item input {\n",
       "  display: none;\n",
       "}\n",
       "\n",
       ".xr-section-item input + label {\n",
       "  color: var(--xr-disabled-color);\n",
       "}\n",
       "\n",
       ".xr-section-item input:enabled + label {\n",
       "  cursor: pointer;\n",
       "  color: var(--xr-font-color2);\n",
       "}\n",
       "\n",
       ".xr-section-item input:enabled + label:hover {\n",
       "  color: var(--xr-font-color0);\n",
       "}\n",
       "\n",
       ".xr-section-summary {\n",
       "  grid-column: 1;\n",
       "  color: var(--xr-font-color2);\n",
       "  font-weight: 500;\n",
       "}\n",
       "\n",
       ".xr-section-summary > span {\n",
       "  display: inline-block;\n",
       "  padding-left: 0.5em;\n",
       "}\n",
       "\n",
       ".xr-section-summary-in:disabled + label {\n",
       "  color: var(--xr-font-color2);\n",
       "}\n",
       "\n",
       ".xr-section-summary-in + label:before {\n",
       "  display: inline-block;\n",
       "  content: '►';\n",
       "  font-size: 11px;\n",
       "  width: 15px;\n",
       "  text-align: center;\n",
       "}\n",
       "\n",
       ".xr-section-summary-in:disabled + label:before {\n",
       "  color: var(--xr-disabled-color);\n",
       "}\n",
       "\n",
       ".xr-section-summary-in:checked + label:before {\n",
       "  content: '▼';\n",
       "}\n",
       "\n",
       ".xr-section-summary-in:checked + label > span {\n",
       "  display: none;\n",
       "}\n",
       "\n",
       ".xr-section-summary,\n",
       ".xr-section-inline-details {\n",
       "  padding-top: 4px;\n",
       "  padding-bottom: 4px;\n",
       "}\n",
       "\n",
       ".xr-section-inline-details {\n",
       "  grid-column: 2 / -1;\n",
       "}\n",
       "\n",
       ".xr-section-details {\n",
       "  display: none;\n",
       "  grid-column: 1 / -1;\n",
       "  margin-bottom: 5px;\n",
       "}\n",
       "\n",
       ".xr-section-summary-in:checked ~ .xr-section-details {\n",
       "  display: contents;\n",
       "}\n",
       "\n",
       ".xr-array-wrap {\n",
       "  grid-column: 1 / -1;\n",
       "  display: grid;\n",
       "  grid-template-columns: 20px auto;\n",
       "}\n",
       "\n",
       ".xr-array-wrap > label {\n",
       "  grid-column: 1;\n",
       "  vertical-align: top;\n",
       "}\n",
       "\n",
       ".xr-preview {\n",
       "  color: var(--xr-font-color3);\n",
       "}\n",
       "\n",
       ".xr-array-preview,\n",
       ".xr-array-data {\n",
       "  padding: 0 5px !important;\n",
       "  grid-column: 2;\n",
       "}\n",
       "\n",
       ".xr-array-data,\n",
       ".xr-array-in:checked ~ .xr-array-preview {\n",
       "  display: none;\n",
       "}\n",
       "\n",
       ".xr-array-in:checked ~ .xr-array-data,\n",
       ".xr-array-preview {\n",
       "  display: inline-block;\n",
       "}\n",
       "\n",
       ".xr-dim-list {\n",
       "  display: inline-block !important;\n",
       "  list-style: none;\n",
       "  padding: 0 !important;\n",
       "  margin: 0;\n",
       "}\n",
       "\n",
       ".xr-dim-list li {\n",
       "  display: inline-block;\n",
       "  padding: 0;\n",
       "  margin: 0;\n",
       "}\n",
       "\n",
       ".xr-dim-list:before {\n",
       "  content: '(';\n",
       "}\n",
       "\n",
       ".xr-dim-list:after {\n",
       "  content: ')';\n",
       "}\n",
       "\n",
       ".xr-dim-list li:not(:last-child):after {\n",
       "  content: ',';\n",
       "  padding-right: 5px;\n",
       "}\n",
       "\n",
       ".xr-has-index {\n",
       "  font-weight: bold;\n",
       "}\n",
       "\n",
       ".xr-var-list,\n",
       ".xr-var-item {\n",
       "  display: contents;\n",
       "}\n",
       "\n",
       ".xr-var-item > div,\n",
       ".xr-var-item label,\n",
       ".xr-var-item > .xr-var-name span {\n",
       "  background-color: var(--xr-background-color-row-even);\n",
       "  margin-bottom: 0;\n",
       "}\n",
       "\n",
       ".xr-var-item > .xr-var-name:hover span {\n",
       "  padding-right: 5px;\n",
       "}\n",
       "\n",
       ".xr-var-list > li:nth-child(odd) > div,\n",
       ".xr-var-list > li:nth-child(odd) > label,\n",
       ".xr-var-list > li:nth-child(odd) > .xr-var-name span {\n",
       "  background-color: var(--xr-background-color-row-odd);\n",
       "}\n",
       "\n",
       ".xr-var-name {\n",
       "  grid-column: 1;\n",
       "}\n",
       "\n",
       ".xr-var-dims {\n",
       "  grid-column: 2;\n",
       "}\n",
       "\n",
       ".xr-var-dtype {\n",
       "  grid-column: 3;\n",
       "  text-align: right;\n",
       "  color: var(--xr-font-color2);\n",
       "}\n",
       "\n",
       ".xr-var-preview {\n",
       "  grid-column: 4;\n",
       "}\n",
       "\n",
       ".xr-index-preview {\n",
       "  grid-column: 2 / 5;\n",
       "  color: var(--xr-font-color2);\n",
       "}\n",
       "\n",
       ".xr-var-name,\n",
       ".xr-var-dims,\n",
       ".xr-var-dtype,\n",
       ".xr-preview,\n",
       ".xr-attrs dt {\n",
       "  white-space: nowrap;\n",
       "  overflow: hidden;\n",
       "  text-overflow: ellipsis;\n",
       "  padding-right: 10px;\n",
       "}\n",
       "\n",
       ".xr-var-name:hover,\n",
       ".xr-var-dims:hover,\n",
       ".xr-var-dtype:hover,\n",
       ".xr-attrs dt:hover {\n",
       "  overflow: visible;\n",
       "  width: auto;\n",
       "  z-index: 1;\n",
       "}\n",
       "\n",
       ".xr-var-attrs,\n",
       ".xr-var-data,\n",
       ".xr-index-data {\n",
       "  display: none;\n",
       "  background-color: var(--xr-background-color) !important;\n",
       "  padding-bottom: 5px !important;\n",
       "}\n",
       "\n",
       ".xr-var-attrs-in:checked ~ .xr-var-attrs,\n",
       ".xr-var-data-in:checked ~ .xr-var-data,\n",
       ".xr-index-data-in:checked ~ .xr-index-data {\n",
       "  display: block;\n",
       "}\n",
       "\n",
       ".xr-var-data > table {\n",
       "  float: right;\n",
       "}\n",
       "\n",
       ".xr-var-name span,\n",
       ".xr-var-data,\n",
       ".xr-index-name div,\n",
       ".xr-index-data,\n",
       ".xr-attrs {\n",
       "  padding-left: 25px !important;\n",
       "}\n",
       "\n",
       ".xr-attrs,\n",
       ".xr-var-attrs,\n",
       ".xr-var-data,\n",
       ".xr-index-data {\n",
       "  grid-column: 1 / -1;\n",
       "}\n",
       "\n",
       "dl.xr-attrs {\n",
       "  padding: 0;\n",
       "  margin: 0;\n",
       "  display: grid;\n",
       "  grid-template-columns: 125px auto;\n",
       "}\n",
       "\n",
       ".xr-attrs dt,\n",
       ".xr-attrs dd {\n",
       "  padding: 0;\n",
       "  margin: 0;\n",
       "  float: left;\n",
       "  padding-right: 10px;\n",
       "  width: auto;\n",
       "}\n",
       "\n",
       ".xr-attrs dt {\n",
       "  font-weight: normal;\n",
       "  grid-column: 1;\n",
       "}\n",
       "\n",
       ".xr-attrs dt:hover span {\n",
       "  display: inline-block;\n",
       "  background: var(--xr-background-color);\n",
       "  padding-right: 10px;\n",
       "}\n",
       "\n",
       ".xr-attrs dd {\n",
       "  grid-column: 2;\n",
       "  white-space: pre-wrap;\n",
       "  word-break: break-all;\n",
       "}\n",
       "\n",
       ".xr-icon-database,\n",
       ".xr-icon-file-text2,\n",
       ".xr-no-icon {\n",
       "  display: inline-block;\n",
       "  vertical-align: middle;\n",
       "  width: 1em;\n",
       "  height: 1.5em !important;\n",
       "  stroke-width: 0;\n",
       "  stroke: currentColor;\n",
       "  fill: currentColor;\n",
       "}\n",
       "</style><pre class='xr-text-repr-fallback'>&lt;xarray.Dataset&gt; Size: 266MB\n",
       "Dimensions:    (longitude: 1440, latitude: 721, time: 16)\n",
       "Coordinates:\n",
       "  * longitude  (longitude) float32 6kB 0.0 0.25 0.5 0.75 ... 359.2 359.5 359.8\n",
       "  * latitude   (latitude) float32 3kB 90.0 89.75 89.5 ... -89.5 -89.75 -90.0\n",
       "  * time       (time) datetime64[ns] 128B 2022-03-11T09:00:00 ... 2023-10-28T...\n",
       "Data variables:\n",
       "    z          (time, latitude, longitude) float64 133MB ...\n",
       "    lsm        (time, latitude, longitude) float64 133MB ...\n",
       "Attributes:\n",
       "    Conventions:  CF-1.6\n",
       "    history:      2024-05-15 15:41:55 GMT by grib_to_netcdf-2.28.1: /opt/ecmw...</pre><div class='xr-wrap' style='display:none'><div class='xr-header'><div class='xr-obj-type'>xarray.Dataset</div></div><ul class='xr-sections'><li class='xr-section-item'><input id='section-844218c7-04b0-44d5-9bd0-fafcd55294ec' class='xr-section-summary-in' type='checkbox' disabled ><label for='section-844218c7-04b0-44d5-9bd0-fafcd55294ec' class='xr-section-summary'  title='Expand/collapse section'>Dimensions:</label><div class='xr-section-inline-details'><ul class='xr-dim-list'><li><span class='xr-has-index'>longitude</span>: 1440</li><li><span class='xr-has-index'>latitude</span>: 721</li><li><span class='xr-has-index'>time</span>: 16</li></ul></div><div class='xr-section-details'></div></li><li class='xr-section-item'><input id='section-35741524-f871-42f5-9cde-d0464fa4e4c1' class='xr-section-summary-in' type='checkbox'  checked><label for='section-35741524-f871-42f5-9cde-d0464fa4e4c1' class='xr-section-summary' >Coordinates: <span>(3)</span></label><div class='xr-section-inline-details'></div><div class='xr-section-details'><ul class='xr-var-list'><li class='xr-var-item'><div class='xr-var-name'><span class='xr-has-index'>longitude</span></div><div class='xr-var-dims'>(longitude)</div><div class='xr-var-dtype'>float32</div><div class='xr-var-preview xr-preview'>0.0 0.25 0.5 ... 359.2 359.5 359.8</div><input id='attrs-f40d04aa-5791-49d8-89a1-8237838d3537' class='xr-var-attrs-in' type='checkbox' ><label for='attrs-f40d04aa-5791-49d8-89a1-8237838d3537' title='Show/Hide attributes'><svg class='icon xr-icon-file-text2'><use xlink:href='#icon-file-text2'></use></svg></label><input id='data-251184d1-2813-431d-a8c0-f32464b60985' class='xr-var-data-in' type='checkbox'><label for='data-251184d1-2813-431d-a8c0-f32464b60985' title='Show/Hide data repr'><svg class='icon xr-icon-database'><use xlink:href='#icon-database'></use></svg></label><div class='xr-var-attrs'><dl class='xr-attrs'><dt><span>units :</span></dt><dd>degrees_east</dd><dt><span>long_name :</span></dt><dd>longitude</dd></dl></div><div class='xr-var-data'><pre>array([0.0000e+00, 2.5000e-01, 5.0000e-01, ..., 3.5925e+02, 3.5950e+02,\n",
       "       3.5975e+02], dtype=float32)</pre></div></li><li class='xr-var-item'><div class='xr-var-name'><span class='xr-has-index'>latitude</span></div><div class='xr-var-dims'>(latitude)</div><div class='xr-var-dtype'>float32</div><div class='xr-var-preview xr-preview'>90.0 89.75 89.5 ... -89.75 -90.0</div><input id='attrs-f815ab91-ade1-4b84-8566-ad70737eb338' class='xr-var-attrs-in' type='checkbox' ><label for='attrs-f815ab91-ade1-4b84-8566-ad70737eb338' title='Show/Hide attributes'><svg class='icon xr-icon-file-text2'><use xlink:href='#icon-file-text2'></use></svg></label><input id='data-4ba00b8a-a593-4bbf-8284-d866c74f30c0' class='xr-var-data-in' type='checkbox'><label for='data-4ba00b8a-a593-4bbf-8284-d866c74f30c0' title='Show/Hide data repr'><svg class='icon xr-icon-database'><use xlink:href='#icon-database'></use></svg></label><div class='xr-var-attrs'><dl class='xr-attrs'><dt><span>units :</span></dt><dd>degrees_north</dd><dt><span>long_name :</span></dt><dd>latitude</dd></dl></div><div class='xr-var-data'><pre>array([ 90.  ,  89.75,  89.5 , ..., -89.5 , -89.75, -90.  ], dtype=float32)</pre></div></li><li class='xr-var-item'><div class='xr-var-name'><span class='xr-has-index'>time</span></div><div class='xr-var-dims'>(time)</div><div class='xr-var-dtype'>datetime64[ns]</div><div class='xr-var-preview xr-preview'>2022-03-11T09:00:00 ... 2023-10-...</div><input id='attrs-c3ac0191-09a2-42bf-84e1-9240ac6c9904' class='xr-var-attrs-in' type='checkbox' ><label for='attrs-c3ac0191-09a2-42bf-84e1-9240ac6c9904' title='Show/Hide attributes'><svg class='icon xr-icon-file-text2'><use xlink:href='#icon-file-text2'></use></svg></label><input id='data-998a54a8-4ca7-453f-bbf8-55767299a91e' class='xr-var-data-in' type='checkbox'><label for='data-998a54a8-4ca7-453f-bbf8-55767299a91e' title='Show/Hide data repr'><svg class='icon xr-icon-database'><use xlink:href='#icon-database'></use></svg></label><div class='xr-var-attrs'><dl class='xr-attrs'><dt><span>long_name :</span></dt><dd>time</dd></dl></div><div class='xr-var-data'><pre>array([&#x27;2022-03-11T09:00:00.000000000&#x27;, &#x27;2022-03-11T21:00:00.000000000&#x27;,\n",
       "       &#x27;2022-03-28T09:00:00.000000000&#x27;, &#x27;2022-03-28T21:00:00.000000000&#x27;,\n",
       "       &#x27;2022-10-11T09:00:00.000000000&#x27;, &#x27;2022-10-11T21:00:00.000000000&#x27;,\n",
       "       &#x27;2022-10-28T09:00:00.000000000&#x27;, &#x27;2022-10-28T21:00:00.000000000&#x27;,\n",
       "       &#x27;2023-03-11T09:00:00.000000000&#x27;, &#x27;2023-03-11T21:00:00.000000000&#x27;,\n",
       "       &#x27;2023-03-28T09:00:00.000000000&#x27;, &#x27;2023-03-28T21:00:00.000000000&#x27;,\n",
       "       &#x27;2023-10-11T09:00:00.000000000&#x27;, &#x27;2023-10-11T21:00:00.000000000&#x27;,\n",
       "       &#x27;2023-10-28T09:00:00.000000000&#x27;, &#x27;2023-10-28T21:00:00.000000000&#x27;],\n",
       "      dtype=&#x27;datetime64[ns]&#x27;)</pre></div></li></ul></div></li><li class='xr-section-item'><input id='section-b8a97c1b-fbec-4fad-ba53-c7ae3bc0c595' class='xr-section-summary-in' type='checkbox'  checked><label for='section-b8a97c1b-fbec-4fad-ba53-c7ae3bc0c595' class='xr-section-summary' >Data variables: <span>(2)</span></label><div class='xr-section-inline-details'></div><div class='xr-section-details'><ul class='xr-var-list'><li class='xr-var-item'><div class='xr-var-name'><span>z</span></div><div class='xr-var-dims'>(time, latitude, longitude)</div><div class='xr-var-dtype'>float64</div><div class='xr-var-preview xr-preview'>...</div><input id='attrs-eb08a288-72ee-423c-b6f3-7b6929a00ab3' class='xr-var-attrs-in' type='checkbox' ><label for='attrs-eb08a288-72ee-423c-b6f3-7b6929a00ab3' title='Show/Hide attributes'><svg class='icon xr-icon-file-text2'><use xlink:href='#icon-file-text2'></use></svg></label><input id='data-4addc338-a834-4057-bc42-2e5505866f88' class='xr-var-data-in' type='checkbox'><label for='data-4addc338-a834-4057-bc42-2e5505866f88' title='Show/Hide data repr'><svg class='icon xr-icon-database'><use xlink:href='#icon-database'></use></svg></label><div class='xr-var-attrs'><dl class='xr-attrs'><dt><span>units :</span></dt><dd>m**2 s**-2</dd><dt><span>long_name :</span></dt><dd>Geopotential</dd><dt><span>standard_name :</span></dt><dd>geopotential</dd></dl></div><div class='xr-var-data'><pre>[16611840 values with dtype=float64]</pre></div></li><li class='xr-var-item'><div class='xr-var-name'><span>lsm</span></div><div class='xr-var-dims'>(time, latitude, longitude)</div><div class='xr-var-dtype'>float64</div><div class='xr-var-preview xr-preview'>...</div><input id='attrs-dbd701d1-4f65-4494-b470-3b5e3bc81f66' class='xr-var-attrs-in' type='checkbox' ><label for='attrs-dbd701d1-4f65-4494-b470-3b5e3bc81f66' title='Show/Hide attributes'><svg class='icon xr-icon-file-text2'><use xlink:href='#icon-file-text2'></use></svg></label><input id='data-97edd584-96a4-49fd-b6ef-94f1d1d3ec34' class='xr-var-data-in' type='checkbox'><label for='data-97edd584-96a4-49fd-b6ef-94f1d1d3ec34' title='Show/Hide data repr'><svg class='icon xr-icon-database'><use xlink:href='#icon-database'></use></svg></label><div class='xr-var-attrs'><dl class='xr-attrs'><dt><span>units :</span></dt><dd>(0 - 1)</dd><dt><span>long_name :</span></dt><dd>Land-sea mask</dd><dt><span>standard_name :</span></dt><dd>land_binary_mask</dd></dl></div><div class='xr-var-data'><pre>[16611840 values with dtype=float64]</pre></div></li></ul></div></li><li class='xr-section-item'><input id='section-dfa68a98-ffee-48cb-987c-270322600064' class='xr-section-summary-in' type='checkbox'  ><label for='section-dfa68a98-ffee-48cb-987c-270322600064' class='xr-section-summary' >Indexes: <span>(3)</span></label><div class='xr-section-inline-details'></div><div class='xr-section-details'><ul class='xr-var-list'><li class='xr-var-item'><div class='xr-index-name'><div>longitude</div></div><div class='xr-index-preview'>PandasIndex</div><div></div><input id='index-bc5a9369-31dd-4663-b16d-1a15710e62ba' class='xr-index-data-in' type='checkbox'/><label for='index-bc5a9369-31dd-4663-b16d-1a15710e62ba' title='Show/Hide index repr'><svg class='icon xr-icon-database'><use xlink:href='#icon-database'></use></svg></label><div class='xr-index-data'><pre>PandasIndex(Index([   0.0,   0.25,    0.5,   0.75,    1.0,   1.25,    1.5,   1.75,    2.0,\n",
       "         2.25,\n",
       "       ...\n",
       "        357.5, 357.75,  358.0, 358.25,  358.5, 358.75,  359.0, 359.25,  359.5,\n",
       "       359.75],\n",
       "      dtype=&#x27;float32&#x27;, name=&#x27;longitude&#x27;, length=1440))</pre></div></li><li class='xr-var-item'><div class='xr-index-name'><div>latitude</div></div><div class='xr-index-preview'>PandasIndex</div><div></div><input id='index-4e2b3218-0d9f-4442-b86e-9948990eece5' class='xr-index-data-in' type='checkbox'/><label for='index-4e2b3218-0d9f-4442-b86e-9948990eece5' title='Show/Hide index repr'><svg class='icon xr-icon-database'><use xlink:href='#icon-database'></use></svg></label><div class='xr-index-data'><pre>PandasIndex(Index([  90.0,  89.75,   89.5,  89.25,   89.0,  88.75,   88.5,  88.25,   88.0,\n",
       "        87.75,\n",
       "       ...\n",
       "       -87.75,  -88.0, -88.25,  -88.5, -88.75,  -89.0, -89.25,  -89.5, -89.75,\n",
       "        -90.0],\n",
       "      dtype=&#x27;float32&#x27;, name=&#x27;latitude&#x27;, length=721))</pre></div></li><li class='xr-var-item'><div class='xr-index-name'><div>time</div></div><div class='xr-index-preview'>PandasIndex</div><div></div><input id='index-a12f6211-e956-4105-ac1c-4d3b77ef6580' class='xr-index-data-in' type='checkbox'/><label for='index-a12f6211-e956-4105-ac1c-4d3b77ef6580' title='Show/Hide index repr'><svg class='icon xr-icon-database'><use xlink:href='#icon-database'></use></svg></label><div class='xr-index-data'><pre>PandasIndex(DatetimeIndex([&#x27;2022-03-11 09:00:00&#x27;, &#x27;2022-03-11 21:00:00&#x27;,\n",
       "               &#x27;2022-03-28 09:00:00&#x27;, &#x27;2022-03-28 21:00:00&#x27;,\n",
       "               &#x27;2022-10-11 09:00:00&#x27;, &#x27;2022-10-11 21:00:00&#x27;,\n",
       "               &#x27;2022-10-28 09:00:00&#x27;, &#x27;2022-10-28 21:00:00&#x27;,\n",
       "               &#x27;2023-03-11 09:00:00&#x27;, &#x27;2023-03-11 21:00:00&#x27;,\n",
       "               &#x27;2023-03-28 09:00:00&#x27;, &#x27;2023-03-28 21:00:00&#x27;,\n",
       "               &#x27;2023-10-11 09:00:00&#x27;, &#x27;2023-10-11 21:00:00&#x27;,\n",
       "               &#x27;2023-10-28 09:00:00&#x27;, &#x27;2023-10-28 21:00:00&#x27;],\n",
       "              dtype=&#x27;datetime64[ns]&#x27;, name=&#x27;time&#x27;, freq=None))</pre></div></li></ul></div></li><li class='xr-section-item'><input id='section-867080ca-4aa1-4643-b5c2-8c403d796570' class='xr-section-summary-in' type='checkbox'  checked><label for='section-867080ca-4aa1-4643-b5c2-8c403d796570' class='xr-section-summary' >Attributes: <span>(2)</span></label><div class='xr-section-inline-details'></div><div class='xr-section-details'><dl class='xr-attrs'><dt><span>Conventions :</span></dt><dd>CF-1.6</dd><dt><span>history :</span></dt><dd>2024-05-15 15:41:55 GMT by grib_to_netcdf-2.28.1: /opt/ecmwf/mars-client/bin/grib_to_netcdf -S param -o /cache/data6/adaptor.mars.internal-1715787714.729053-31155-6-0ebeca4d-f0f5-4160-9080-5e7bd0f6906e.nc /cache/tmp/0ebeca4d-f0f5-4160-9080-5e7bd0f6906e-adaptor.mars.internal-1715787711.3229003-31155-2-tmp.grib</dd></dl></div></li></ul></div></div>"
      ],
      "text/plain": [
       "<xarray.Dataset> Size: 266MB\n",
       "Dimensions:    (longitude: 1440, latitude: 721, time: 16)\n",
       "Coordinates:\n",
       "  * longitude  (longitude) float32 6kB 0.0 0.25 0.5 0.75 ... 359.2 359.5 359.8\n",
       "  * latitude   (latitude) float32 3kB 90.0 89.75 89.5 ... -89.5 -89.75 -90.0\n",
       "  * time       (time) datetime64[ns] 128B 2022-03-11T09:00:00 ... 2023-10-28T...\n",
       "Data variables:\n",
       "    z          (time, latitude, longitude) float64 133MB ...\n",
       "    lsm        (time, latitude, longitude) float64 133MB ...\n",
       "Attributes:\n",
       "    Conventions:  CF-1.6\n",
       "    history:      2024-05-15 15:41:55 GMT by grib_to_netcdf-2.28.1: /opt/ecmw..."
      ]
     },
     "execution_count": 165,
     "metadata": {},
     "output_type": "execute_result"
    }
   ],
   "source": [
    "dataset_path = \"/vol/bitbucket/bet20/dataset/era5/global_full/static_variables.nc\"\n",
    "data = xr.open_dataset(dataset_path)\n",
    "data"
   ]
  },
  {
   "cell_type": "code",
   "execution_count": 168,
   "metadata": {},
   "outputs": [
    {
     "data": {
      "text/plain": [
       "0.9972260748959778"
      ]
     },
     "execution_count": 168,
     "metadata": {},
     "output_type": "execute_result"
    }
   ],
   "source": [
    "# surface geopotential should be time invariant but we find that it is not.\n",
    "# values changed sometime in 2022 October\n",
    "# 99.7% of the values are the same however\n",
    "sample1 = data.sel(time=data['time'].values[3])[\"z\"].values\n",
    "sample2 = data.sel(time=data['time'].values[4])[\"z\"].values\n",
    "np.isclose(sample1, sample2).sum() / sample1.size"
   ]
  },
  {
   "cell_type": "markdown",
   "metadata": {},
   "source": [
    "## Junk"
   ]
  },
  {
   "cell_type": "code",
   "execution_count": null,
   "metadata": {},
   "outputs": [],
   "source": [
    "dataset_path = \"data/era5_uk_reduced/samples/train\"\n",
    "nc_files = glob.glob(f'{constants.DATASET_PATH}/global/*.nc')\n",
    "print(nc_files)\n",
    "data = xr.open_dataset(nc_files[0])"
   ]
  },
  {
   "cell_type": "code",
   "execution_count": null,
   "metadata": {},
   "outputs": [],
   "source": [
    "data"
   ]
  },
  {
   "cell_type": "code",
   "execution_count": null,
   "metadata": {},
   "outputs": [],
   "source": [
    "from era5_data_proc import uk_subset\n",
    "uk_data = uk_subset(data)\n",
    "uk_data"
   ]
  },
  {
   "cell_type": "code",
   "execution_count": null,
   "metadata": {},
   "outputs": [],
   "source": [
    "uk_data['longitude'] = xr.where(uk_data['longitude'] > 180, uk_data['longitude'] - 360, uk_data['longitude'])"
   ]
  },
  {
   "cell_type": "code",
   "execution_count": null,
   "metadata": {},
   "outputs": [],
   "source": [
    "uk_data"
   ]
  },
  {
   "cell_type": "code",
   "execution_count": null,
   "metadata": {},
   "outputs": [],
   "source": [
    "uk_data.isel(time=0).to_array().values.shape"
   ]
  },
  {
   "cell_type": "code",
   "execution_count": null,
   "metadata": {},
   "outputs": [],
   "source": [
    "latitude = uk_data.latitude.values\n",
    "latitude"
   ]
  },
  {
   "cell_type": "code",
   "execution_count": null,
   "metadata": {},
   "outputs": [],
   "source": [
    "longitudes = uk_data.longitude.values\n",
    "longitudes = np.where(longitudes > 180, longitudes - 360, longitudes)\n",
    "longitudes"
   ]
  },
  {
   "cell_type": "code",
   "execution_count": null,
   "metadata": {},
   "outputs": [],
   "source": [
    "latitudes = uk_data.latitude.values\n",
    "longitudes = uk_data.longitude.values\n",
    "# print(latitudes.shape, longitudes.shape)\n",
    "\n",
    "t_lat = torch.from_numpy(latitudes)\n",
    "t_lon = torch.from_numpy(longitudes)\n",
    "\n",
    "lat_lon_grid = torch.stack(\n",
    "    torch.meshgrid(t_lat, t_lon, indexing=\"ij\"), dim=-1\n",
    ").permute(2, 1, 0)\n",
    "\n",
    "lat_lon_grid.shape # (2, lon, lat) or (2, x, y)\n",
    "\n",
    "grid_array = lat_lon_grid.numpy()\n",
    "grid_array.shape\n",
    "# np.save(\"nwp_xy.npy\", grid_array)"
   ]
  },
  {
   "cell_type": "code",
   "execution_count": null,
   "metadata": {},
   "outputs": [],
   "source": [
    "np.load(\"data/era5_uk_reduced/static/nwp_xy.npy\")"
   ]
  },
  {
   "cell_type": "code",
   "execution_count": null,
   "metadata": {},
   "outputs": [],
   "source": [
    "processed_data_path=\"data/era5_uk_reduced/samples/train\"\n",
    "sample_name=\"20220101000000\"\n",
    "sample_path=f\"{processed_data_path}/{sample_name}.npy\"\n",
    "\n",
    "sample=np.load(sample_path)"
   ]
  },
  {
   "cell_type": "code",
   "execution_count": null,
   "metadata": {},
   "outputs": [],
   "source": [
    "import torch"
   ]
  },
  {
   "cell_type": "code",
   "execution_count": null,
   "metadata": {},
   "outputs": [],
   "source": [
    "# lat, lon\n",
    "input_res = (721, 1440)\n",
    "latitudes = torch.linspace(-90, 90, steps=input_res[0])\n",
    "latitudes"
   ]
  },
  {
   "cell_type": "code",
   "execution_count": null,
   "metadata": {},
   "outputs": [],
   "source": [
    "longitudes = torch.linspace(-180, 180, steps=input_res[1] + 1)[1:]\n",
    "longitudes"
   ]
  },
  {
   "cell_type": "code",
   "execution_count": null,
   "metadata": {},
   "outputs": [],
   "source": [
    "lat_lon_grid = torch.stack(\n",
    "    torch.meshgrid(latitudes, longitudes, indexing=\"ij\"), dim=-1\n",
    ")"
   ]
  },
  {
   "cell_type": "code",
   "execution_count": null,
   "metadata": {},
   "outputs": [],
   "source": [
    "lat_lon_grid.shape"
   ]
  },
  {
   "cell_type": "code",
   "execution_count": null,
   "metadata": {},
   "outputs": [],
   "source": [
    "lat_lon_grid"
   ]
  },
  {
   "cell_type": "code",
   "execution_count": null,
   "metadata": {},
   "outputs": [],
   "source": [
    "torch.from_numpy(np.load(\"data/era5_global/static/nwp_xy.npy\")).permute(2, 1, 0)"
   ]
  },
  {
   "cell_type": "code",
   "execution_count": null,
   "metadata": {},
   "outputs": [],
   "source": [
    "print(lat_lon_grid.shape)"
   ]
  },
  {
   "cell_type": "code",
   "execution_count": null,
   "metadata": {},
   "outputs": [],
   "source": [
    "tmp = lat_lon_grid.permute(2, 0, 1)\n",
    "tmp.shape"
   ]
  },
  {
   "cell_type": "code",
   "execution_count": null,
   "metadata": {},
   "outputs": [],
   "source": [
    "tmp[1][0].shape"
   ]
  },
  {
   "cell_type": "code",
   "execution_count": null,
   "metadata": {},
   "outputs": [],
   "source": [
    "tmp.view(2, -1).shape"
   ]
  },
  {
   "cell_type": "code",
   "execution_count": null,
   "metadata": {},
   "outputs": [],
   "source": [
    "import json\n",
    "import numpy as np\n",
    "\n",
    "icospheres_path = \"data/era5_global/icospheres.json\"\n",
    "with open(icospheres_path, \"r\") as f:\n",
    "    loaded_dict = json.load(f)\n",
    "    icospheres = {\n",
    "        key: (np.array(value) if isinstance(value, list) else value)\n",
    "        for key, value in loaded_dict.items()\n",
    "    }"
   ]
  },
  {
   "cell_type": "code",
   "execution_count": null,
   "metadata": {},
   "outputs": [],
   "source": [
    "for k in icospheres.keys():\n",
    "    print(k)"
   ]
  },
  {
   "cell_type": "code",
   "execution_count": null,
   "metadata": {},
   "outputs": [],
   "source": [
    "icospheres[\"order_0_face_centroid\"]"
   ]
  },
  {
   "cell_type": "code",
   "execution_count": null,
   "metadata": {},
   "outputs": [],
   "source": [
    "from graphcast_utils import latlon2xyz\n",
    "from sklearn.neighbors import NearestNeighbors\n",
    "\n",
    "input_res = (721, 1440)\n",
    "latitudes = torch.linspace(-90, 90, steps=input_res[0])\n",
    "longitudes = torch.linspace(-180, 180, steps=input_res[1] + 1)[1:]\n",
    "lat_lon_grid = torch.stack(\n",
    "    torch.meshgrid(latitudes, longitudes, indexing=\"ij\"), dim=-1\n",
    ")\n",
    "lat_lon_grid_flat = lat_lon_grid.permute(2, 0, 1).view(2, -1).permute(1, 0)\n",
    "lat_lon_grid_flat.shape"
   ]
  },
  {
   "cell_type": "code",
   "execution_count": null,
   "metadata": {},
   "outputs": [],
   "source": [
    "cartesian_grid = latlon2xyz(lat_lon_grid_flat) # (lat*lon, 3)\n",
    "n_nbrs = 4\n",
    "neighbors = NearestNeighbors(n_neighbors=n_nbrs).fit(\n",
    "    icospheres[\"order_\" + str(6) + \"_vertices\"] # (40962, 3)\n",
    ")"
   ]
  },
  {
   "cell_type": "code",
   "execution_count": null,
   "metadata": {},
   "outputs": [],
   "source": [
    "distances, indices = neighbors.kneighbors(cartesian_grid) # (lat*lon, n_nbrs)"
   ]
  },
  {
   "cell_type": "code",
   "execution_count": null,
   "metadata": {},
   "outputs": [],
   "source": [
    "lat_lon_grid_flat"
   ]
  },
  {
   "cell_type": "code",
   "execution_count": null,
   "metadata": {},
   "outputs": [],
   "source": [
    "cartesian_grid"
   ]
  },
  {
   "cell_type": "code",
   "execution_count": null,
   "metadata": {},
   "outputs": [],
   "source": [
    "src, dst = [], []\n",
    "for i in range(len(cartesian_grid)):\n",
    "    for j in range(n_nbrs):\n",
    "        if distances[i][j] <= 0.6 * edge_len:\n",
    "            src.append(i)\n",
    "            dst.append(indices[i][j])"
   ]
  },
  {
   "cell_type": "code",
   "execution_count": null,
   "metadata": {},
   "outputs": [],
   "source": [
    "np.load(\"data/era5_uk_reduced/samples/train/20220101000000.npy\").shape # (6, 7, 65, 57) (levels, variables, lat, lon)\n",
    "np.load(\"data/_era5_uk_reduced/samples/train/20220101000000.npy\").shape # (6, 7, 721, 1440)"
   ]
  },
  {
   "cell_type": "code",
   "execution_count": null,
   "metadata": {},
   "outputs": [],
   "source": [
    "uk_bbox = {\n",
    "    \"lat_max\": 63,\n",
    "    \"lat_min\": 47,\n",
    "    \"lon_max\": 4,\n",
    "    \"lon_min\": -10,\n",
    "}\n",
    "\n",
    "torch.linspace(uk_bbox[\"lat_min\"], uk_bbox[\"lat_max\"], steps=65) # (65,)"
   ]
  },
  {
   "cell_type": "code",
   "execution_count": null,
   "metadata": {},
   "outputs": [],
   "source": [
    "torch.linspace(uk_bbox[\"lon_min\"], uk_bbox[\"lon_max\"], steps=57) # (65,)"
   ]
  },
  {
   "cell_type": "code",
   "execution_count": null,
   "metadata": {},
   "outputs": [],
   "source": [
    "import torch\n",
    "\n",
    "# Assuming larger is your larger tensor and smaller is your smaller tensor\n",
    "larger = torch.tensor([[1, 2], [3, 4], [5, 6], [7, 8]])\n",
    "smaller = torch.tensor([[1, 2], [7, 8]])\n",
    "\n",
    "# Expand dimensions for broadcasting\n",
    "larger_exp = larger.unsqueeze(1)\n",
    "smaller_exp = smaller.unsqueeze(0)\n",
    "\n",
    "# Compare all pairs of rows\n",
    "matches = torch.all(larger_exp == smaller_exp, dim=-1)\n",
    "\n",
    "# Get indices of matching rows\n",
    "indices = torch.where(matches)"
   ]
  },
  {
   "cell_type": "code",
   "execution_count": null,
   "metadata": {},
   "outputs": [],
   "source": [
    "indices"
   ]
  },
  {
   "cell_type": "code",
   "execution_count": null,
   "metadata": {},
   "outputs": [],
   "source": [
    "import torch\n",
    "\n",
    "# Example tensors\n",
    "larger_tensor = torch.tensor([[1.0, 2.0], [3.0, 4.0], [5.0, 6.0], [7.0, 8.0]])\n",
    "smaller_tensor = torch.tensor([[5.0, 6.0], [3.0, 4.0], [1.0, 2.0]])\n",
    "\n",
    "def find_subset_indices(larger, smaller):\n",
    "    \"\"\"\n",
    "    finds the indices of the smaller tensor in the larger tensor\n",
    "    \"\"\"\n",
    "    indices = []\n",
    "    for i in range(smaller.size(0)):\n",
    "        index = torch.where(torch.all(larger == smaller[i], dim=1))[0]\n",
    "        if index.size(0) == 0:\n",
    "            raise ValueError(\"The smaller tensor is not a subset of the larger tensor\")\n",
    "        indices.append(index.item())\n",
    "    return indices\n",
    "\n",
    "indices = find_subset_indices(larger_tensor, smaller_tensor)\n",
    "print(indices)"
   ]
  },
  {
   "cell_type": "code",
   "execution_count": null,
   "metadata": {},
   "outputs": [],
   "source": [
    "import torch\n",
    "import numpy as np\n",
    "\n",
    "# Assuming tensor1 and tensor2 are your tensors\n",
    "tensor1 = torch.tensor([[1, 2], [3, 4], [5, 6], [7, 8]])\n",
    "tensor2 = torch.tensor([[1, 2], [7, 8], [9, 10]])\n",
    "\n",
    "# Convert tensors to numpy arrays\n",
    "array1 = tensor1.numpy()\n",
    "array2 = tensor2.numpy()\n",
    "\n",
    "# Find common rows\n",
    "common_rows = np.intersect1d(array1, array2, axis=0)\n",
    "\n",
    "# Convert back to tensor\n",
    "common_rows_tensor = torch.from_numpy(common_rows)"
   ]
  },
  {
   "cell_type": "code",
   "execution_count": null,
   "metadata": {},
   "outputs": [],
   "source": [
    "a = list(range(10))\n",
    "b = [3, 2 , 1]\n",
    "\n",
    "a[b]"
   ]
  },
  {
   "cell_type": "code",
   "execution_count": null,
   "metadata": {},
   "outputs": [],
   "source": [
    "import neural_lam.constants as constants\n",
    "w_dict = {\n",
    "    \"2\": 1.0,\n",
    "    \"0\": 0.1,\n",
    "    \"65\": 0.065,\n",
    "    \"1000\": 0.1,\n",
    "    \"850\": 0.05,\n",
    "    \"500\": 0.03,\n",
    "}\n",
    "w_list = np.array(\n",
    "    [w_dict[par.split(\"_\")[-2]] for par in constants.PARAM_NAMES]\n",
    ")\n",
    "\n",
    "w_list"
   ]
  },
  {
   "cell_type": "markdown",
   "metadata": {},
   "source": [
    "# MEPS Dataset"
   ]
  },
  {
   "cell_type": "code",
   "execution_count": null,
   "metadata": {},
   "outputs": [],
   "source": [
    "import numpy as np\n",
    "import neural_lam.constants as constants\n",
    "# Create parameter weights based on height\n",
    "# based on fig A.1 in graph cast paper\n",
    "w_dict = {\n",
    "    \"2\": 1.0,\n",
    "    \"0\": 0.1,\n",
    "    \"65\": 0.065,\n",
    "    \"1000\": 0.1,\n",
    "    \"850\": 0.05,\n",
    "    \"500\": 0.03,\n",
    "}\n",
    "w_list = np.array(\n",
    "    [w_dict[par.split(\"_\")[-2]] for par in constants.PARAM_NAMES]\n",
    ")"
   ]
  },
  {
   "cell_type": "code",
   "execution_count": null,
   "metadata": {},
   "outputs": [],
   "source": [
    "for w in zip(w_list, constants.PARAM_NAMES):\n",
    "    print(w)"
   ]
  },
  {
   "cell_type": "markdown",
   "metadata": {},
   "source": [
    "# Test the thing"
   ]
  },
  {
   "cell_type": "code",
   "execution_count": null,
   "metadata": {},
   "outputs": [],
   "source": [
    "from neural_lam.constants import MEPSConstants\n",
    "\n",
    "MEPSConstants.GRID_SHAPE"
   ]
  },
  {
   "cell_type": "markdown",
   "metadata": {},
   "source": [
    "# Icospheres"
   ]
  },
  {
   "cell_type": "code",
   "execution_count": null,
   "metadata": {},
   "outputs": [],
   "source": [
    "import numpy as np\n",
    "import json\n",
    "\n",
    "icospheres_path = \"data/era5_uk/icospheres.json\"\n",
    "\n",
    "with open(icospheres_path, \"r\") as f:\n",
    "    loaded_dict = json.load(f)\n",
    "    icospheres = {\n",
    "        key: (np.array(value) if isinstance(value, list) else value)\n",
    "        for key, value in loaded_dict.items()\n",
    "    }\n",
    "    print(f\"Opened pre-computed graph at {icospheres_path}.\")"
   ]
  },
  {
   "cell_type": "code",
   "execution_count": null,
   "metadata": {},
   "outputs": [],
   "source": [
    "for i in icospheres.keys():\n",
    "    print(i)"
   ]
  },
  {
   "cell_type": "code",
   "execution_count": null,
   "metadata": {},
   "outputs": [],
   "source": [
    "len([key for key in icospheres.keys() if \"faces\" in key]) - 2"
   ]
  },
  {
   "cell_type": "code",
   "execution_count": null,
   "metadata": {},
   "outputs": [],
   "source": [
    "1440 * 720"
   ]
  },
  {
   "cell_type": "code",
   "execution_count": null,
   "metadata": {},
   "outputs": [],
   "source": [
    "import torch\n",
    "\n",
    "a = torch.tensor([1, 2, 3, 4, 5])\n",
    "b = torch.tensor([6, 7, 8, 9, 10])\n",
    "\n",
    "torch.stack((a, b))"
   ]
  },
  {
   "cell_type": "markdown",
   "metadata": {},
   "source": [
    "# DGL"
   ]
  },
  {
   "cell_type": "code",
   "execution_count": null,
   "metadata": {},
   "outputs": [],
   "source": [
    "from typing import List\n",
    "\n",
    "import dgl\n",
    "from dgl import DGLGraph\n",
    "import torch\n",
    "import numpy as np\n",
    " \n",
    "\n",
    "def create_heterograph(\n",
    "    src: List, dst: List, labels: str, dtype: torch.dtype = torch.int32\n",
    ") -> DGLGraph:\n",
    "    \"\"\"Creates a heterogeneous DGL graph from an adj matrix in COO format.\n",
    "\n",
    "    Parameters\n",
    "    ----------\n",
    "    src : List\n",
    "        List of source nodes\n",
    "    dst : List\n",
    "        List of destination nodes\n",
    "    labels : str\n",
    "        Label of the edge type\n",
    "    dtype : torch.dtype, optional\n",
    "        Graph index data type, by default torch.int32\n",
    "\n",
    "    Returns\n",
    "    -------\n",
    "    DGLGraph\n",
    "        The dgl Graph.\n",
    "    \"\"\"\n",
    "    graph = dgl.heterograph({labels: (\"coo\", (src, dst))}, idtype=dtype)\n",
    "    return graph\n",
    "\n",
    "src = [np.array([0, 1, 2]), np.array([3, 4, 5])]\n",
    "dst = [np.array([1, 2, 3]), np.array([4, 5, 6])]\n",
    "\n",
    "graph = create_heterograph(src, dst, (\"mesh\", \"m2g\", \"grid\"), dtype=torch.int32)\n"
   ]
  },
  {
   "cell_type": "code",
   "execution_count": null,
   "metadata": {},
   "outputs": [],
   "source": [
    "graph"
   ]
  },
  {
   "cell_type": "markdown",
   "metadata": {},
   "source": [
    "# Ridiculous"
   ]
  },
  {
   "cell_type": "code",
   "execution_count": null,
   "metadata": {},
   "outputs": [],
   "source": [
    "\"\"\"\n",
    "           5663073       gpu submit_j    bet20 PD       0:00      1 (Priority)\n",
    "           5663071       gpu submit_j    bet20 PD       0:00      1 (Resources)\n",
    "     5662324_[0-4]       gpu    F2mIF  qwang33 PD       0:00      1 (Priority)\n",
    "     5662323_[1-5]       gpu    F2mIF  qwang33 PD       0:00      1 (Priority)\n",
    "           5660755       gpu 24layers   cc2040 PD       0:00      2 (Priority)\n",
    "           5660861       gpu    r-c16 yiweiche PD       0:00      1 (Priority)\n",
    "           5660862       gpu    r-c32 yiweiche PD       0:00      1 (Priority)\n",
    "           5660900       gpu     traj xr223_ci PD       0:00      1 (Priority)\n",
    "           5660898       gpu     traj xr223_ci PD       0:00      1 (Priority)\n",
    "           5660899       gpu     traj xr223_ci PD       0:00      1 (Priority)\n",
    "           5660897       gpu     traj xr223_ci PD       0:00      1 (Priority)\n",
    "           5660893       gpu     traj xr223_ci PD       0:00      1 (Priority)\n",
    "           5660894       gpu     traj xr223_ci PD       0:00      1 (Priority)\n",
    "           5660895       gpu     traj xr223_ci PD       0:00      1 (Priority)\n",
    "           5660896       gpu     traj xr223_ci PD       0:00      1 (Priority)\n",
    "           5660889       gpu     traj xr223_ci PD       0:00      1 (Priority)\n",
    "           5660890       gpu     traj xr223_ci PD       0:00      1 (Priority)\n",
    "           5660891       gpu     traj xr223_ci PD       0:00      1 (Priority)\n",
    "           5660892       gpu     traj xr223_ci PD       0:00      1 (Priority)\n",
    "           5660888       gpu     traj xr223_ci PD       0:00      1 (Priority)\n",
    "           5660887       gpu     traj xr223_ci PD       0:00      1 (Priority)\n",
    "           5660886       gpu     traj xr223_ci PD       0:00      1 (Priority)\n",
    "           5662524       gpu sr327mod gpw2-ec2 PD       0:00      4 (Priority)\n",
    "           5662502       gpu    uw_G1   aa2201 PD       0:00      1 (Priority)\n",
    "           5662706       gpu P23Hetde   cc2040 PD       0:00      1 (Priority)\n",
    "           5662707       gpu P23Hetde   cc2040 PD       0:00      1 (Priority)\n",
    "           5662704       gpu P23Hetde   cc2040 PD       0:00      1 (Priority)\n",
    "           5662705       gpu P23Hetde   cc2040 PD       0:00      1 (Priority)\n",
    "           5662702       gpu P23Hetde   cc2040 PD       0:00      1 (Priority)\n",
    "           5662703       gpu P23Hetde   cc2040 PD       0:00      1 (Priority)\n",
    "           5662701       gpu P23Hetde   cc2040 PD       0:00      1 (Priority)\n",
    "           5662699       gpu P23Hetde   cc2040 PD       0:00      1 (Priority)\n",
    "           5662700       gpu P23Hetde   cc2040 PD       0:00      1 (Priority)\n",
    "           5662697       gpu P23Hetde   cc2040 PD       0:00      1 (Priority)\n",
    "           5662698       gpu P23Hetde   cc2040 PD       0:00      1 (Priority)\n",
    "           5662696       gpu P23Hetde   cc2040 PD       0:00      1 (Priority)\n",
    "           5662694       gpu P23Hetde   cc2040 PD       0:00      1 (Priority)\n",
    "           5662695       gpu P23Hetde   cc2040 PD       0:00      1 (Priority)\n",
    "           5662692       gpu P23Hetde   cc2040 PD       0:00      1 (Priority)\n",
    "           5662693       gpu P23Hetde   cc2040 PD       0:00      1 (Priority)\n",
    "           5662691       gpu P23Hetde   cc2040 PD       0:00      1 (Priority)\n",
    "           5662689       gpu P23Hetde   cc2040 PD       0:00      1 (Priority)\n",
    "           5662690       gpu P23Hetde   cc2040 PD       0:00      1 (Priority)\n",
    "           5662687       gpu P23Hetde   cc2040 PD       0:00      1 (Priority)\n",
    "           5662688       gpu P23Hetde   cc2040 PD       0:00      1 (Priority)\n",
    "           5662686       gpu P23Hetde   cc2040 PD       0:00      1 (Priority)\n",
    "           5662684       gpu P23Hetde   cc2040 PD       0:00      1 (Priority)\n",
    "           5662685       gpu P23Hetde   cc2040 PD       0:00      1 (Priority)\n",
    "           5662682       gpu P23Hetde   cc2040 PD       0:00      1 (Priority)\n",
    "           5662683       gpu P23Hetde   cc2040 PD       0:00      1 (Priority)\n",
    "           5662681       gpu P23Hetde   cc2040 PD       0:00      1 (Priority)\n",
    "           5662679       gpu P23Hetde   cc2040 PD       0:00      1 (Priority)\n",
    "           5662680       gpu P23Hetde   cc2040 PD       0:00      1 (Priority)\n",
    "           5662677       gpu P23Hetde   cc2040 PD       0:00      1 (Priority)\n",
    "           5662678       gpu P23Hetde   cc2040 PD       0:00      1 (Priority)\n",
    "           5662675       gpu P23Hetde   cc2040 PD       0:00      1 (Priority)\n",
    "           5662676       gpu P23Hetde   cc2040 PD       0:00      1 (Priority)\n",
    "           5662671       gpu P23Hetde   cc2040 PD       0:00      1 (Priority)\n",
    "           5662672       gpu P23Hetde   cc2040 PD       0:00      1 (Priority)\n",
    "           5662673       gpu P23Hetde   cc2040 PD       0:00      1 (Priority)\n",
    "           5662674       gpu P23Hetde   cc2040 PD       0:00      1 (Priority)\n",
    "           5662669       gpu P23Hetde   cc2040 PD       0:00      1 (Priority)\n",
    "           5662670       gpu P23Hetde   cc2040 PD       0:00      1 (Priority)\n",
    "           5662665       gpu P23Hetde   cc2040 PD       0:00      1 (Priority)\n",
    "           5662666       gpu P23Hetde   cc2040 PD       0:00      1 (Priority)\n",
    "           5662667       gpu P23Hetde   cc2040 PD       0:00      1 (Priority)\n",
    "           5662668       gpu P23Hetde   cc2040 PD       0:00      1 (Priority)\n",
    "           5662663       gpu P23Hetde   cc2040 PD       0:00      1 (Priority)\n",
    "           5662664       gpu P23Hetde   cc2040 PD       0:00      1 (Priority)\n",
    "           5662659       gpu P23Hetde   cc2040 PD       0:00      1 (Priority)\n",
    "           5662660       gpu P23Hetde   cc2040 PD       0:00      1 (Priority)\n",
    "           5662661       gpu P23Hetde   cc2040 PD       0:00      1 (Priority)\n",
    "           5662662       gpu P23Hetde   cc2040 PD       0:00      1 (Priority)\n",
    "           5662657       gpu 3c353_id   cc2040 PD       0:00      1 (Priority)\n",
    "           5662658       gpu P23Hetde   cc2040 PD       0:00      1 (Priority)\n",
    "           5662656       gpu 3c353_id   cc2040 PD       0:00      1 (Priority)\n",
    "           5662653       gpu 3c353_id   cc2040 PD       0:00      1 (Priority)\n",
    "           5662654       gpu 3c353_id   cc2040 PD       0:00      1 (Priority)\n",
    "           5662655       gpu 3c353_id   cc2040 PD       0:00      1 (Priority)\n",
    "           5662651       gpu 3c353_id   cc2040 PD       0:00      1 (Priority)\n",
    "           5662652       gpu 3c353_id   cc2040 PD       0:00      1 (Priority)\n",
    "           5662648       gpu 3c353_id   cc2040 PD       0:00      1 (Priority)\n",
    "           5662649       gpu 3c353_id   cc2040 PD       0:00      1 (Priority)\n",
    "           5662650       gpu 3c353_id   cc2040 PD       0:00      1 (Priority)\n",
    "           5662646       gpu 3c353_id   cc2040 PD       0:00      1 (Priority)\n",
    "           5662647       gpu 3c353_id   cc2040 PD       0:00      1 (Priority)\n",
    "           5662643       gpu 3c353_id   cc2040 PD       0:00      1 (Priority)\n",
    "           5662644       gpu 3c353_id   cc2040 PD       0:00      1 (Priority)\n",
    "           5662645       gpu 3c353_id   cc2040 PD       0:00      1 (Priority)\n",
    "           5662642       gpu 3c353_id   cc2040 PD       0:00      1 (Priority)\n",
    "           5662641       gpu 3c353_id   cc2040 PD       0:00      1 (Priority)\n",
    "           5662638       gpu 3c353_id   cc2040 PD       0:00      1 (Priority)\n",
    "           5662639       gpu 3c353_id   cc2040 PD       0:00      1 (Priority)\n",
    "           5662640       gpu 3c353_id   cc2040 PD       0:00      1 (Priority)\n",
    "           5662635       gpu 3c353_id   cc2040 PD       0:00      1 (Priority)\n",
    "           5662636       gpu 3c353_id   cc2040 PD       0:00      1 (Priority)\n",
    "           5662637       gpu 3c353_id   cc2040 PD       0:00      1 (Priority)\n",
    "           5662633       gpu 3c353_id   cc2040 PD       0:00      1 (Priority)\n",
    "           5662634       gpu 3c353_id   cc2040 PD       0:00      1 (Priority)\n",
    "           5662631       gpu 3c353_id   cc2040 PD       0:00      1 (Priority)\n",
    "           5662632       gpu 3c353_id   cc2040 PD       0:00      1 (Priority)\n",
    "           5662629       gpu 3c353_id   cc2040 PD       0:00      1 (Priority)\n",
    "           5662630       gpu 3c353_id   cc2040 PD       0:00      1 (Priority)\n",
    "           5662627       gpu 3c353_id   cc2040 PD       0:00      1 (Priority)\n",
    "           5662628       gpu 3c353_id   cc2040 PD       0:00      1 (Priority)\n",
    "           5662626       gpu 3c353_id   cc2040 PD       0:00      1 (Priority)\n",
    "           5662625       gpu 3c353_id   cc2040 PD       0:00      1 (Priority)\n",
    "           5662624       gpu 3c353_id   cc2040 PD       0:00      1 (Priority)\n",
    "           5662623       gpu 3c353_id   cc2040 PD       0:00      1 (Priority)\n",
    "           5662622       gpu 3c353_id   cc2040 PD       0:00      1 (Priority)\n",
    "           5662621       gpu 3c353_id   cc2040 PD       0:00      1 (Priority)\n",
    "           5662620       gpu 3c353_id   cc2040 PD       0:00      1 (Priority)\n",
    "           5662619       gpu 3c353_id   cc2040 PD       0:00      1 (Priority)\n",
    "           5662618       gpu 3c353_id   cc2040 PD       0:00      1 (Priority)\n",
    "           5662617       gpu 3c353_id   cc2040 PD       0:00      1 (Priority)\n",
    "           5662616       gpu 3c353_id   cc2040 PD       0:00      1 (Priority)\n",
    "           5662615       gpu 3c353_id   cc2040 PD       0:00      1 (Priority)\n",
    "           5662614       gpu 3c353_id   cc2040 PD       0:00      1 (Priority)\n",
    "           5662613       gpu 3c353_id   cc2040 PD       0:00      1 (Priority)\n",
    "           5662612       gpu 3c353_id   cc2040 PD       0:00      1 (Priority)\n",
    "           5662611       gpu 3c353_id   cc2040 PD       0:00      1 (Priority)\n",
    "           5662610       gpu 3c353_id   cc2040 PD       0:00      1 (Priority)\n",
    "           5662609       gpu 3c353_id   cc2040 PD       0:00      1 (Priority)\n",
    "           5662608       gpu 3c353_id   cc2040 PD       0:00      1 (Priority)\n",
    "           5663082       gpu uw_G1_ra   aa2201 PD       0:00      1 (Priority)\n",
    "           5663081       gpu bio512_2   aa2201 PD       0:00      1 (Priority)\n",
    "           5663080       gpu   bio512   aa2201 PD       0:00      1 (Priority)\n",
    "           5663078       gpu ast512_2   aa2201 PD       0:00      1 (Priority)\n",
    "           5663076       gpu   ast512   aa2201 PD       0:00      1 (Priority)\n",
    "           5662472       gpu   MUMAX3      cpy PD       0:00      1 (Priority)\n",
    "           5662195       gpu     traj xr223_ci PD       0:00      1 (Priority)\n",
    "           5662191       gpu     traj xr223_ci PD       0:00      1 (Priority)\n",
    "           5662192       gpu     traj xr223_ci PD       0:00      1 (Priority)\n",
    "           5662193       gpu     traj xr223_ci PD       0:00      1 (Priority)\n",
    "           5662194       gpu     traj xr223_ci PD       0:00      1 (Priority)\n",
    "           5662190       gpu     traj xr223_ci PD       0:00      1 (Priority)\n",
    "           5662186       gpu     traj xr223_ci PD       0:00      1 (Priority)\n",
    "           5662187       gpu     traj xr223_ci PD       0:00      1 (Priority)\n",
    "           5662188       gpu     traj xr223_ci PD       0:00      1 (Priority)\n",
    "           5662189       gpu     traj xr223_ci PD       0:00      1 (Priority)\n",
    "           5662182       gpu     traj xr223_ci PD       0:00      1 (Priority)\n",
    "           5662183       gpu     traj xr223_ci PD       0:00      1 (Priority)\n",
    "           5662184       gpu     traj xr223_ci PD       0:00      1 (Priority)\n",
    "           5662185       gpu     traj xr223_ci PD       0:00      1 (Priority)\n",
    "           5662201       gpu     traj xr223_ci PD       0:00      1 (Priority)\n",
    "           5662200       gpu     traj xr223_ci PD       0:00      1 (Priority)\n",
    "           5662199       gpu     traj xr223_ci PD       0:00      1 (Priority)\n",
    "           5662198       gpu     traj xr223_ci PD       0:00      1 (Priority)\n",
    "           5662197       gpu     traj xr223_ci PD       0:00      1 (Priority)\n",
    "           5662196       gpu     traj xr223_ci PD       0:00      1 (Priority)\n",
    "           5662473       gpu   MUMAX3      cpy PD       0:00      1 (Dependency)\n",
    "           5662598       gpu     traj xr223_ci PD       0:00      1 (Priority)\n",
    "           5662597       gpu     traj xr223_ci PD       0:00      1 (Priority)\n",
    "           5662596       gpu     traj xr223_ci PD       0:00      1 (Priority)\n",
    "           5662595       gpu     traj xr223_ci PD       0:00      1 (Priority)\n",
    "           5662594       gpu     traj xr223_ci PD       0:00      1 (Priority)\n",
    "           5662593       gpu     traj xr223_ci PD       0:00      1 (Priority)\n",
    "           5662592       gpu     traj xr223_ci PD       0:00      1 (Priority)\n",
    "           5662591       gpu     traj xr223_ci PD       0:00      1 (Priority)\n",
    "           5662590       gpu     traj xr223_ci PD       0:00      1 (Priority)\n",
    "           5662589       gpu     traj xr223_ci PD       0:00      1 (Priority)\n",
    "           5631081       gpu HemKtest   julian  R 13-03:43:08      1 r2i6n0\n",
    "           5662497       gpu run_XCLI xingran0  R    4:51:28      4 r2i4n[1-4]\n",
    "           5660733       gpu     mace juraskov  R   11:50:40      1 r2i5n7\n",
    "           5660732       gpu     mace juraskov  R   11:59:47      1 r2i7n1\n",
    "           5660731       gpu     mace juraskov  R   12:05:27      1 r2i5n7\n",
    "         5660551_5       gpu    F2mIF  qwang33  R   13:54:11      1 r2i6n3\n",
    "         5660551_4       gpu    F2mIF  qwang33  R   14:21:30      1 r2i4n0\n",
    "           5660715       gpu     mace juraskov  R   12:37:19      1 r2i4n5\n",
    "           5660716       gpu     mace juraskov  R   12:37:19      1 r2i4n5\n",
    "           5660717       gpu     mace juraskov  R   12:37:19      1 r2i4n5\n",
    "           5660718       gpu     mace juraskov  R   12:37:19      1 r2i4n5\n",
    "           5660719       gpu     mace juraskov  R   12:37:19      1 r2i4n8\n",
    "           5660720       gpu     mace juraskov  R   12:37:19      1 r2i4n8\n",
    "           5660721       gpu     mace juraskov  R   12:37:19      1 r2i4n8\n",
    "           5660722       gpu     mace juraskov  R   12:37:19      1 r2i4n8\n",
    "           5660723       gpu     mace juraskov  R   12:37:19      1 r2i6n1\n",
    "           5660724       gpu     mace juraskov  R   12:37:19      1 r2i6n1\n",
    "           5660725       gpu     mace juraskov  R   12:37:19      1 r2i6n1\n",
    "           5660726       gpu     mace juraskov  R   12:37:19      1 r2i6n1\n",
    "           5660727       gpu     mace juraskov  R   12:37:19      1 r2i6n2\n",
    "           5660728       gpu     mace juraskov  R   12:37:19      1 r2i6n2\n",
    "           5660729       gpu     mace juraskov  R   12:37:19      1 r2i6n2\n",
    "           5660730       gpu     mace juraskov  R   12:37:19      1 r2i6n2\n",
    "           5660711       gpu     mace juraskov  R   13:54:11      1 r2i7n3\n",
    "           5660712       gpu     mace juraskov  R   13:54:11      1 r2i7n3\n",
    "           5660713       gpu     mace juraskov  R   13:54:11      1 r2i7n3\n",
    "           5660714       gpu     mace juraskov  R   13:54:11      1 r2i7n3\n",
    "         5660551_3       gpu    F2mIF  qwang33  R   15:29:46      1 r2i7n0\n",
    "         5660551_1       gpu    F2mIF  qwang33  R   16:04:11      1 r2i7n2\n",
    "         5660551_2       gpu    F2mIF  qwang33  R   16:04:11      1 r2i7n4\n",
    "           5660710       gpu     mace juraskov  R   14:24:38      1 r2i6n0\n",
    "           5660709       gpu     mace juraskov  R   14:50:53      1 r2i5n6\n",
    "           5660708       gpu     mace juraskov  R   16:15:23      1 r2i6n0\n",
    "           5660707       gpu     mace juraskov  R   16:16:24      1 r2i6n0\n",
    "           5662126       gpu   myvenv zhenyaza  R   11:03:18      1 r2i4n6\n",
    "           5662127       gpu   myvenv zhenyaza  R   11:03:18      1 r2i5n8\n",
    "           5660706       gpu     mace juraskov  R   17:55:58      1 r2i7n6\n",
    "           5660705       gpu     mace juraskov  R   18:04:32      1 r2i7n6\n",
    "           5660704       gpu     mace juraskov  R   20:16:54      1 r2i6n4\n",
    "           5660703       gpu     mace juraskov  R   20:18:55      1 r2i6n4\n",
    "           5660702       gpu     mace juraskov  R   20:26:30      1 r2i5n6\n",
    "           5660701       gpu     mace juraskov  R   20:33:04      1 r2i5n7\n",
    "           5660699       gpu     mace juraskov  R   21:40:48      1 r2i7n6\n",
    "           5660700       gpu     mace juraskov  R   21:40:48      1 r2i7n6\n",
    "           5660698       gpu     mace juraskov  R   23:17:14      1 r2i4n7\n",
    "           5656524       gpu     mace juraskov  R 3-21:13:59      1 r2i5n3\n",
    "           5660697       gpu     mace juraskov  R 1-00:47:30      1 r2i5n6\n",
    "           5660696       gpu     mace juraskov  R 1-00:50:01      1 r2i5n6\n",
    "           5660695       gpu     mace juraskov  R 1-01:24:47      1 r2i4n7\n",
    "           5660694       gpu     mace juraskov  R 1-02:37:16      1 r2i6n4\n",
    "           5660693       gpu     mace juraskov  R 1-02:37:17      1 r2i6n4\n",
    "         5662323_0       gpu    F2mIF  qwang33  R    7:29:11      1 r2i5n4\n",
    "           5660753       gpu sr327mod gpw2-ec2  R    7:51:43      4 r2i6n[6-8],r2i7n5\n",
    "           5660692       gpu     mace juraskov  R 1-03:30:36      1 r2i4n7\n",
    "           5660686       gpu     mace juraskov  R 1-03:31:06      1 r2i4n7\n",
    "           5660687       gpu     mace juraskov  R 1-03:31:06      1 r2i7n1\n",
    "           5660688       gpu     mace juraskov  R 1-03:31:06      1 r2i7n1\n",
    "           5660689       gpu     mace juraskov  R 1-03:31:06      1 r2i5n1\n",
    "           5660690       gpu     mace juraskov  R 1-03:31:06      1 r2i5n1\n",
    "           5660691       gpu     mace juraskov  R 1-03:31:06      1 r2i5n7\n",
    "           5660885       gpu     traj xr223_ci  R    5:20:49      1 r2i7n7\n",
    "           5660884       gpu     traj xr223_ci  R    5:21:19      1 r2i7n7\n",
    "           5660883       gpu     traj xr223_ci  R    8:02:01      1 r2i7n7\n",
    "           5660882       gpu     traj xr223_ci  R    8:03:31      1 r2i7n7\n",
    "           5660881       gpu     traj xr223_ci  R   11:17:41      1 r2i7n1\n",
    "           5657937       gpu       pd yiweiche  R 3-07:08:49      1 r2i5n1\n",
    "\n",
    "\"\"\""
   ]
  }
 ],
 "metadata": {
  "kernelspec": {
   "display_name": "nlam",
   "language": "python",
   "name": "python3"
  },
  "language_info": {
   "codemirror_mode": {
    "name": "ipython",
    "version": 3
   },
   "file_extension": ".py",
   "mimetype": "text/x-python",
   "name": "python",
   "nbconvert_exporter": "python",
   "pygments_lexer": "ipython3",
   "version": "3.9.19"
  }
 },
 "nbformat": 4,
 "nbformat_minor": 2
}
