{
 "cells": [
  {
   "cell_type": "code",
   "execution_count": 1,
   "metadata": {},
   "outputs": [],
   "source": [
    "import sys\n",
    "import os\n",
    "\n",
    "sys.path.append(os.path.dirname(os.getcwd()))\n",
    "os.chdir(\"../\")"
   ]
  },
  {
   "cell_type": "markdown",
   "metadata": {},
   "source": [
    "# Verify MEPS Graph"
   ]
  },
  {
   "cell_type": "code",
   "execution_count": 2,
   "metadata": {},
   "outputs": [],
   "source": [
    "import torch\n",
    "import os\n",
    "\n",
    "graph_dir_path = \"/vol/bitbucket/bet20/neural-lam/graphs/multiscale\"\n",
    "static_dir_path = \"/vol/bitbucket/bet20/neural-lam/data/meps_example/static\""
   ]
  },
  {
   "cell_type": "code",
   "execution_count": 3,
   "metadata": {},
   "outputs": [
    {
     "name": "stdout",
     "output_type": "stream",
     "text": [
      "torch.Size([63784, 4])\n",
      "torch.Size([6561, 2])\n"
     ]
    }
   ],
   "source": [
    "grid_features = torch.load(os.path.join(static_dir_path, \"grid_features.pt\"))\n",
    "print(grid_features.shape)\n",
    "\n",
    "mesh_features = torch.load(os.path.join(graph_dir_path, \"mesh_features.pt\"))\n",
    "print(mesh_features[0].shape)"
   ]
  },
  {
   "cell_type": "code",
   "execution_count": 4,
   "metadata": {},
   "outputs": [
    {
     "name": "stdout",
     "output_type": "stream",
     "text": [
      "torch.Size([2, 100656])\n",
      "tensor(6561) tensor(70344) tensor(0) tensor(6560)\n",
      "tensor(63784) tensor(6561)\n",
      "100656\n"
     ]
    }
   ],
   "source": [
    "g2m_features = torch.load(os.path.join(graph_dir_path, \"g2m_features.pt\"))\n",
    "g2m_edge_index = torch.load(os.path.join(graph_dir_path, \"g2m_edge_index.pt\"))\n",
    "\n",
    "print(g2m_edge_index.shape)\n",
    "\n",
    "gmin, gmax = g2m_edge_index[0].min(), g2m_edge_index[0].max()\n",
    "mmin, mmax = g2m_edge_index[1].min(), g2m_edge_index[1].max()\n",
    "print(gmin, gmax, mmin, mmax)\n",
    "print(gmax - gmin + 1, mmax - mmin + 1)\n",
    "print(g2m_features.shape[0])\n",
    "\n",
    "# print(g2m_edge_index.min(dim=1, keepdim=True)[0])\n",
    "# print(g2m_edge_index.min(dim=1, keepdim=True).values[0])\n",
    "\n",
    "g2m_edge_index = g2m_edge_index - g2m_edge_index.min(dim=1, keepdim=True)[0]"
   ]
  },
  {
   "cell_type": "code",
   "execution_count": 5,
   "metadata": {},
   "outputs": [
    {
     "data": {
      "text/plain": [
       "tensor([[    0,     1,     2,  ..., 63781, 63782, 63783],\n",
       "        [    0,     0,     0,  ...,  6560,  6560,  6560]])"
      ]
     },
     "execution_count": 5,
     "metadata": {},
     "output_type": "execute_result"
    }
   ],
   "source": [
    "g2m_edge_index"
   ]
  },
  {
   "cell_type": "code",
   "execution_count": 6,
   "metadata": {},
   "outputs": [],
   "source": [
    "num_rec = g2m_edge_index[1].max() + 1"
   ]
  },
  {
   "cell_type": "code",
   "execution_count": 7,
   "metadata": {},
   "outputs": [
    {
     "name": "stdout",
     "output_type": "stream",
     "text": [
      "tensor([[ 6561,  6562,  6563,  ..., 70342, 70343, 70344],\n",
      "        [    0,     0,     0,  ...,  6560,  6560,  6560]])\n"
     ]
    }
   ],
   "source": [
    "g2m_edge_index[0] = (\n",
    "    g2m_edge_index[0] + num_rec\n",
    ")\n",
    "\n",
    "print(g2m_edge_index)"
   ]
  },
  {
   "cell_type": "code",
   "execution_count": null,
   "metadata": {},
   "outputs": [],
   "source": []
  },
  {
   "cell_type": "markdown",
   "metadata": {},
   "source": [
    "# Sanity Check Graph"
   ]
  },
  {
   "cell_type": "code",
   "execution_count": 8,
   "metadata": {},
   "outputs": [],
   "source": [
    "import numpy as np\n",
    "import torch\n",
    "import os"
   ]
  },
  {
   "cell_type": "code",
   "execution_count": 9,
   "metadata": {},
   "outputs": [],
   "source": [
    "dir = \"./data/era5_uk/static/nwp_xy.npy\"\n",
    "grid_xy = torch.tensor(np.load(dir))\n",
    "_, lon, lat = grid_xy.shape\n",
    "\n",
    "graph_name = \"uk_graphcast\"\n",
    "graph_dir_path = os.path.join(\"graphs\", graph_name)"
   ]
  },
  {
   "cell_type": "code",
   "execution_count": 10,
   "metadata": {},
   "outputs": [
    {
     "name": "stdout",
     "output_type": "stream",
     "text": [
      "57 65\n",
      "Local grid nodes 3705\n",
      "Global grid nodes 1038240\n",
      "Local : Global 0.0035685390661118815\n"
     ]
    }
   ],
   "source": [
    "print(lon, lat)\n",
    "print(\"Local grid nodes\", lon * lat)\n",
    "\n",
    "X, Y = 1440, 721\n",
    "fraction = (lon * lat) / (X * Y)\n",
    "print(\"Global grid nodes\", X * Y)\n",
    "print(\"Local : Global\", fraction)"
   ]
  },
  {
   "cell_type": "markdown",
   "metadata": {},
   "source": [
    "### Verify M2M Graph"
   ]
  },
  {
   "cell_type": "code",
   "execution_count": 11,
   "metadata": {},
   "outputs": [
    {
     "name": "stdout",
     "output_type": "stream",
     "text": [
      "torch.Size([355, 3])\n",
      "torch.Size([2584, 4])\n",
      "torch.Size([2, 2584])\n",
      "torch.Size([355])\n",
      "Expected mesh nodes 146.1744972260749\n",
      "Expected mesh edges 1169.2675104022192\n"
     ]
    }
   ],
   "source": [
    "N_MESH_NODES = 40962\n",
    "N_MESH_EDGES = 327660 \n",
    "\n",
    "mesh_features = torch.load(os.path.join(graph_dir_path, \"mesh_features.pt\"))\n",
    "m2m_features = torch.load(os.path.join(graph_dir_path, \"m2m_features.pt\"))\n",
    "m2m_edge_index = torch.load(os.path.join(graph_dir_path, \"m2m_edge_index.pt\"))\n",
    "\n",
    "print(mesh_features[0].shape)\n",
    "print(m2m_features[0].shape)\n",
    "print(m2m_edge_index[0].shape)\n",
    "print(m2m_edge_index[0].unique().shape)\n",
    "\n",
    "print(\"Expected mesh nodes\", N_MESH_NODES * fraction)\n",
    "print(\"Expected mesh edges\", N_MESH_EDGES * fraction)"
   ]
  },
  {
   "cell_type": "markdown",
   "metadata": {},
   "source": [
    "### Verify G2M Graph"
   ]
  },
  {
   "cell_type": "code",
   "execution_count": 12,
   "metadata": {},
   "outputs": [
    {
     "name": "stdout",
     "output_type": "stream",
     "text": [
      "torch.Size([7719, 4])\n",
      "torch.Size([2, 7719])\n",
      "torch.Size([3705])\n",
      "torch.Size([355])\n",
      "3705\n",
      "Expected g2m edges 5776.558339112344\n"
     ]
    }
   ],
   "source": [
    "N_G2M_EDGES = 1618746\n",
    "\n",
    "g2m_features = torch.load(os.path.join(graph_dir_path, \"g2m_features.pt\"))\n",
    "g2m_edge_index = torch.load(os.path.join(graph_dir_path, \"g2m_edge_index.pt\"))\n",
    "\n",
    "print(g2m_features.shape)\n",
    "print(g2m_edge_index.shape)\n",
    "print(g2m_edge_index[0].unique().shape)\n",
    "print(g2m_edge_index[1].unique().shape)\n",
    "print(lat * lon)\n",
    "print(\"Expected g2m edges\", N_G2M_EDGES * fraction)"
   ]
  },
  {
   "cell_type": "markdown",
   "metadata": {},
   "source": [
    "### Verify M2G Graph"
   ]
  },
  {
   "cell_type": "code",
   "execution_count": 13,
   "metadata": {},
   "outputs": [
    {
     "name": "stdout",
     "output_type": "stream",
     "text": [
      "torch.Size([11094, 4])\n",
      "torch.Size([2, 11094])\n",
      "torch.Size([355])\n",
      "torch.Size([3705])\n",
      "3705\n",
      "Expected m2g edges 11115.0\n"
     ]
    }
   ],
   "source": [
    "N_M2G_EDGES = 3114720\n",
    "\n",
    "m2g_features = torch.load(os.path.join(graph_dir_path, \"m2g_features.pt\"))\n",
    "m2g_edge_index = torch.load(os.path.join(graph_dir_path, \"m2g_edge_index.pt\"))\n",
    "\n",
    "print(m2g_features.shape)\n",
    "print(m2g_edge_index.shape)\n",
    "print(m2g_edge_index[0].unique().shape)\n",
    "print(m2g_edge_index[1].unique().shape)\n",
    "print(lat * lon)\n",
    "print(\"Expected m2g edges\", N_M2G_EDGES * fraction)"
   ]
  },
  {
   "cell_type": "markdown",
   "metadata": {},
   "source": [
    "### Verify against full graphcast"
   ]
  },
  {
   "cell_type": "code",
   "execution_count": 14,
   "metadata": {},
   "outputs": [],
   "source": [
    "# num_grid_nodes = \n",
    "num_m2m_edges = 327660\n",
    "num_m2g_edges = 3114720"
   ]
  },
  {
   "cell_type": "markdown",
   "metadata": {},
   "source": [
    "```\n",
    "g2m graph: Graph(num_nodes={'grid': 3705, 'mesh': 355},\n",
    "      num_edges={('grid', 'g2m', 'mesh'): 7719},\n",
    "      metagraph=[('grid', 'mesh', 'g2m')])\n",
    "m2g graph: Graph(num_nodes={'grid': 3705, 'mesh': 355},\n",
    "      num_edges={('mesh', 'm2g', 'grid'): 11094},\n",
    "      metagraph=[('mesh', 'grid', 'm2g')])\n",
    "mesh graph: Graph(num_nodes=355, num_edges=2584,\n",
    "      ndata_schemes={'x': Scheme(shape=(3,), dtype=torch.float32)}\n",
    "      edata_schemes={'x': Scheme(shape=(4,), dtype=torch.float32)})\n",
    "```"
   ]
  },
  {
   "cell_type": "markdown",
   "metadata": {},
   "source": [
    "# Verify Mesh Node Subset"
   ]
  },
  {
   "cell_type": "code",
   "execution_count": 15,
   "metadata": {},
   "outputs": [
    {
     "name": "stderr",
     "output_type": "stream",
     "text": [
      "/vol/bitbucket/bet20/nlam/lib/python3.9/site-packages/tqdm/auto.py:21: TqdmWarning: IProgress not found. Please update jupyter and ipywidgets. See https://ipywidgets.readthedocs.io/en/stable/user_install.html\n",
      "  from .autonotebook import tqdm as notebook_tqdm\n"
     ]
    },
    {
     "name": "stdout",
     "output_type": "stream",
     "text": [
      "Local area shape: torch.Size([65, 57, 2])\n",
      "Opened lat lon grid at data/era5_uk/static/nwp_xy.npy.\n"
     ]
    }
   ],
   "source": [
    "import os\n",
    "import json\n",
    "\n",
    "import numpy as np\n",
    "import torch\n",
    "\n",
    "from graphcast_mesh import Graph\n",
    "\n",
    "\n",
    "graph = \"uk_graphcast\"\n",
    "dataset = \"era5_uk\"\n",
    "\n",
    "graph_dir_path = os.path.join(\"graphs\", graph)\n",
    "# os.makedirs(graph_dir_path, exist_ok=True)\n",
    "\n",
    "data_dir_path = os.path.join(\"data\", dataset)\n",
    "icosophere_path = os.path.join(data_dir_path, \"icospheres.json\")\n",
    "\n",
    "nwp_xy_path = os.path.join(data_dir_path, \"static\", \"nwp_xy.npy\")\n",
    "local_lat_lon_grid = np.load(nwp_xy_path) # (2, lon, lat) or (2, x, y)\n",
    "local_lat_lon_grid = torch.from_numpy(local_lat_lon_grid).permute(2, 1, 0) # (lat, lon, 2)\n",
    "print(f\"Local area shape: {local_lat_lon_grid.shape}\")\n",
    "print(f\"Opened lat lon grid at {nwp_xy_path}.\")"
   ]
  },
  {
   "cell_type": "code",
   "execution_count": 16,
   "metadata": {},
   "outputs": [
    {
     "name": "stdout",
     "output_type": "stream",
     "text": [
      "Global area shape: torch.Size([721, 1440, 2])\n",
      "Opened pre-computed graph at data/era5_uk/icospheres.json.\n"
     ]
    }
   ],
   "source": [
    "input_res = (721, 1440) # (lat, lon)\n",
    "latitudes = torch.linspace(-90, 90, steps=input_res[0])\n",
    "longitudes = torch.linspace(-180, 180, steps=input_res[1] + 1)[1:]\n",
    "lat_lon_grid = torch.stack(\n",
    "    torch.meshgrid(latitudes, longitudes, indexing=\"ij\"), dim=-1\n",
    ") # (lat, lon, 2)\n",
    "print(f\"Global area shape: {lat_lon_grid.shape}\")\n",
    "\n",
    "graph = Graph(icosophere_path, lat_lon_grid, local_lat_lon_grid)"
   ]
  },
  {
   "cell_type": "code",
   "execution_count": 17,
   "metadata": {},
   "outputs": [
    {
     "name": "stdout",
     "output_type": "stream",
     "text": [
      "g2m graph: Graph(num_nodes={'grid': 3705, 'mesh': 355},\n",
      "      num_edges={('grid', 'g2m', 'mesh'): 7719},\n",
      "      metagraph=[('grid', 'mesh', 'g2m')])\n"
     ]
    },
    {
     "name": "stderr",
     "output_type": "stream",
     "text": [
      "/vol/bitbucket/bet20/neural-lam/graphcast_mesh.py:182: UserWarning: Creating a tensor from a list of numpy.ndarrays is extremely slow. Please consider converting the list to a single numpy.ndarray with numpy.array() before converting to a tensor. (Triggered internally at ../torch/csrc/utils/tensor_new.cpp:245.)\n",
      "  g2m_graph.dstdata[\"pos\"] = torch.tensor(\n"
     ]
    }
   ],
   "source": [
    "g2m_graph = graph.create_g2m_graph()"
   ]
  },
  {
   "cell_type": "code",
   "execution_count": 18,
   "metadata": {},
   "outputs": [
    {
     "name": "stdout",
     "output_type": "stream",
     "text": [
      "m2g graph: Graph(num_nodes={'grid': 3705, 'mesh': 355},\n",
      "      num_edges={('mesh', 'm2g', 'grid'): 11094},\n",
      "      metagraph=[('mesh', 'grid', 'm2g')])\n"
     ]
    }
   ],
   "source": [
    "m2g_graph = graph.create_m2g_graph()"
   ]
  },
  {
   "cell_type": "code",
   "execution_count": 19,
   "metadata": {},
   "outputs": [
    {
     "name": "stdout",
     "output_type": "stream",
     "text": [
      "mesh graph: Graph(num_nodes=355, num_edges=2584,\n",
      "      ndata_schemes={'x': Scheme(shape=(3,), dtype=torch.float32)}\n",
      "      edata_schemes={'x': Scheme(shape=(4,), dtype=torch.float32)})\n"
     ]
    }
   ],
   "source": [
    "mesh_graph, mesh_pos = graph.create_mesh_graph(debug=True)"
   ]
  },
  {
   "cell_type": "code",
   "execution_count": 20,
   "metadata": {},
   "outputs": [
    {
     "data": {
      "text/plain": [
       "tensor([[ 0.5257,  0.8507,  0.0000],\n",
       "        [ 0.6817,  0.7166, -0.1476],\n",
       "        [ 0.4906,  0.8640, -0.1134],\n",
       "        ...,\n",
       "        [ 0.6366,  0.7711,  0.0090],\n",
       "        [ 0.6366,  0.7711, -0.0090],\n",
       "        [ 0.6262,  0.7796,  0.0000]])"
      ]
     },
     "execution_count": 20,
     "metadata": {},
     "output_type": "execute_result"
    }
   ],
   "source": [
    "mesh_pos"
   ]
  },
  {
   "cell_type": "code",
   "execution_count": 21,
   "metadata": {},
   "outputs": [],
   "source": [
    "from graphcast_utils import xyz2latlon\n",
    "mesh_coords = xyz2latlon(mesh_pos)"
   ]
  },
  {
   "cell_type": "code",
   "execution_count": 30,
   "metadata": {},
   "outputs": [],
   "source": [
    "np.save(\n",
    "    os.path.join(graph_dir_path, \"mesh_pos.npy\"),\n",
    "    mesh_coords.numpy().T.astype(\"float32\"),\n",
    ")"
   ]
  },
  {
   "cell_type": "code",
   "execution_count": 25,
   "metadata": {},
   "outputs": [
    {
     "data": {
      "text/plain": [
       "tensor([[  0.0000,  58.2825],\n",
       "        [ -8.4891,  46.4277],\n",
       "        [ -6.5119,  60.4080],\n",
       "        [  4.0192,  52.7328],\n",
       "        [ -4.0192,  52.7328],\n",
       "        [  0.0000,  46.4277],\n",
       "        [  0.0000,  61.5964],\n",
       "        [  3.2587,  62.7772],\n",
       "        [  3.1515,  59.3076],\n",
       "        [ -3.1515,  59.3076],\n",
       "        [ -3.2587,  62.7772],\n",
       "        [-10.0731,  61.5915],\n",
       "        [  1.9471,  55.6005],\n",
       "        [ -1.9471,  55.6005],\n",
       "        [ -5.2773,  56.5627],\n",
       "        [ -9.8948,  50.4597],\n",
       "        [ -7.5302,  53.6154],\n",
       "        [ -6.2056,  49.6753],\n",
       "        [ -8.8260,  57.6001],\n",
       "        [  0.0000,  52.7328],\n",
       "        [  4.2680,  46.4277],\n",
       "        [  2.0758,  49.6753],\n",
       "        [ -2.0758,  49.6753],\n",
       "        [ -4.2680,  46.4277],\n",
       "        [  0.0000,  59.9117],\n",
       "        [  1.5761,  60.4529],\n",
       "        [  1.5494,  58.7861],\n",
       "        [  1.6022,  62.1764],\n",
       "        [  0.0000,  63.3364],\n",
       "        [  3.2057,  61.0133],\n",
       "        [ -1.5494,  58.7861],\n",
       "        [ -1.5761,  60.4529],\n",
       "        [ -4.8883,  61.5940],\n",
       "        [ -3.2057,  61.0133],\n",
       "        [ -4.8059,  59.8479],\n",
       "        [ -1.6022,  62.1764],\n",
       "        [-10.2425,  63.4678],\n",
       "        [ -8.2682,  60.9888],\n",
       "        [ -8.4085,  62.8202],\n",
       "        [ -6.6231,  62.1960],\n",
       "        [ -4.9688,  63.3996],\n",
       "        [  2.5506,  57.4532],\n",
       "        [  0.9575,  56.9644],\n",
       "        [  4.1978,  57.9600],\n",
       "        [  2.9680,  54.1902],\n",
       "        [  3.5845,  56.0727],\n",
       "        [  4.6501,  54.6437],\n",
       "        [ -0.9575,  56.9644],\n",
       "        [ -2.5506,  57.4532],\n",
       "        [ -4.6501,  54.6437],\n",
       "        [ -3.5845,  56.0727],\n",
       "        [ -2.9680,  54.1902],\n",
       "        [ -4.1978,  57.9600],\n",
       "        [ -5.8986,  58.4856],\n",
       "        [ -9.1946,  48.4314],\n",
       "        [ -8.0207,  50.0594],\n",
       "        [ -7.3366,  48.0751],\n",
       "        [ -9.3711,  54.0836],\n",
       "        [ -8.6998,  52.0638],\n",
       "        [-10.5865,  52.5080],\n",
       "        [ -5.0990,  51.2279],\n",
       "        [ -6.8702,  51.6374],\n",
       "        [ -5.7459,  53.1654],\n",
       "        [ -7.6521,  59.0310],\n",
       "        [ -9.4568,  59.5974],\n",
       "        [-10.6791,  58.1496],\n",
       "        [-10.0317,  56.1139],\n",
       "        [ -6.3886,  55.1148],\n",
       "        [ -8.1830,  55.6045],\n",
       "        [ -7.0248,  57.0715],\n",
       "        [-10.3887,  46.7537],\n",
       "        [  0.0000,  55.6005],\n",
       "        [  2.0121,  52.7328],\n",
       "        [  0.9901,  54.1902],\n",
       "        [ -0.9901,  54.1902],\n",
       "        [ -2.0121,  52.7328],\n",
       "        [  1.0537,  48.0751],\n",
       "        [  3.1584,  48.0751],\n",
       "        [  2.1369,  46.4277],\n",
       "        [  4.1461,  49.6753],\n",
       "        [  3.0646,  51.2279],\n",
       "        [ -5.2545,  48.0751],\n",
       "        [ -6.3872,  46.4277],\n",
       "        [ -3.0646,  51.2279],\n",
       "        [ -4.1461,  49.6753],\n",
       "        [ -2.1369,  46.4277],\n",
       "        [ -3.1584,  48.0751],\n",
       "        [ -1.0537,  48.0751],\n",
       "        [  1.0224,  51.2279],\n",
       "        [  0.0000,  49.6753],\n",
       "        [ -1.0224,  51.2279],\n",
       "        [  0.0000,  59.0902],\n",
       "        [  0.7747,  59.3490],\n",
       "        [  0.7681,  58.5321],\n",
       "        [  0.7878,  61.0249],\n",
       "        [  0.7813,  60.1799],\n",
       "        [  0.0000,  60.7471],\n",
       "        [  2.3439,  59.0445],\n",
       "        [  1.5628,  59.6124],\n",
       "        [  2.3641,  59.8804],\n",
       "        [  0.8069,  63.6438],\n",
       "        [  2.4237,  62.4742],\n",
       "        [  1.6150,  63.0595],\n",
       "        [  2.4431,  63.3674],\n",
       "        [  0.0000,  62.4595],\n",
       "        [  0.8007,  62.7569],\n",
       "        [  0.7943,  61.8839],\n",
       "        [  3.1787,  60.1532],\n",
       "        [  4.0065,  60.4308],\n",
       "        [  3.9722,  59.5753],\n",
       "        [  4.0740,  62.1860],\n",
       "        [  4.0404,  61.3011],\n",
       "        [  3.2323,  61.8880],\n",
       "        [  1.5892,  61.3076],\n",
       "        [  2.4041,  61.5952],\n",
       "        [  2.3842,  60.7306],\n",
       "        [  3.2847,  63.6808],\n",
       "        [  4.1071,  63.0856],\n",
       "        [ -0.7681,  58.5321],\n",
       "        [ -0.7747,  59.3490],\n",
       "        [ -2.3641,  59.8804],\n",
       "        [ -1.5628,  59.6124],\n",
       "        [ -2.3439,  59.0445],\n",
       "        [ -0.7813,  60.1799],\n",
       "        [ -0.7878,  61.0249],\n",
       "        [ -5.7011,  61.0013],\n",
       "        [ -4.8473,  60.7135],\n",
       "        [ -5.6525,  60.1254],\n",
       "        [ -3.2323,  61.8880],\n",
       "        [ -4.0404,  61.3011],\n",
       "        [ -4.0740,  62.1860],\n",
       "        [ -3.9722,  59.5753],\n",
       "        [ -4.0065,  60.4308],\n",
       "        [ -3.1787,  60.1532],\n",
       "        [ -0.8069,  63.6438],\n",
       "        [ -0.7943,  61.8839],\n",
       "        [ -0.8007,  62.7569],\n",
       "        [ -2.4431,  63.3674],\n",
       "        [ -1.6150,  63.0595],\n",
       "        [ -2.4237,  62.4742],\n",
       "        [ -2.3842,  60.7306],\n",
       "        [ -2.4041,  61.5952],\n",
       "        [ -1.5892,  61.3076],\n",
       "        [-10.1585,  62.5216],\n",
       "        [ -7.3838,  60.6958],\n",
       "        [ -7.4471,  61.5928],\n",
       "        [ -6.5678,  61.2943],\n",
       "        [ -9.2427,  62.2063],\n",
       "        [ -8.3388,  61.8967],\n",
       "        [ -9.1647,  61.2874],\n",
       "        [ -6.6776,  63.1128],\n",
       "        [ -7.5096,  62.5052],\n",
       "        [ -7.5712,  63.4330],\n",
       "        [ -9.3196,  63.1410],\n",
       "        [ -5.7493,  61.8923],\n",
       "        [ -5.7968,  62.7983],\n",
       "        [ -4.9288,  62.4894],\n",
       "        [ -4.1071,  63.0856],\n",
       "        [ -3.2847,  63.6808],\n",
       "        [  1.2536,  57.8751],\n",
       "        [  0.4747,  57.6291],\n",
       "        [  2.8515,  58.3804],\n",
       "        [  2.0459,  58.1255],\n",
       "        [  1.4484,  56.2882],\n",
       "        [  1.7473,  57.2066],\n",
       "        [  2.2491,  56.5264],\n",
       "        [  4.5027,  58.9041],\n",
       "        [  3.6705,  58.6399],\n",
       "        [  3.4899,  53.4674],\n",
       "        [  3.8019,  54.4148],\n",
       "        [  4.3349,  53.6870],\n",
       "        [  2.7589,  55.8344],\n",
       "        [  3.2765,  55.1306],\n",
       "        [  2.4537,  54.9012],\n",
       "        [  4.1134,  55.3643],\n",
       "        [  4.4240,  56.3154],\n",
       "        [  3.3675,  57.7043],\n",
       "        [  3.8917,  57.0160],\n",
       "        [  3.0635,  56.7690],\n",
       "        [  4.5556,  51.9863],\n",
       "        [ -0.4747,  57.6291],\n",
       "        [ -1.2536,  57.8751],\n",
       "        [ -2.2491,  56.5264],\n",
       "        [ -1.7473,  57.2066],\n",
       "        [ -1.4484,  56.2882],\n",
       "        [ -2.0459,  58.1255],\n",
       "        [ -2.8515,  58.3804],\n",
       "        [ -4.3349,  53.6870],\n",
       "        [ -3.8019,  54.4148],\n",
       "        [ -3.4899,  53.4674],\n",
       "        [ -4.4240,  56.3154],\n",
       "        [ -4.1134,  55.3643],\n",
       "        [ -4.9643,  55.6024],\n",
       "        [ -2.4537,  54.9012],\n",
       "        [ -3.2765,  55.1306],\n",
       "        [ -2.7589,  55.8344],\n",
       "        [ -5.3480,  59.1731],\n",
       "        [ -6.2064,  59.4471],\n",
       "        [ -3.6705,  58.6399],\n",
       "        [ -4.5027,  58.9041],\n",
       "        [ -5.5888,  57.5239],\n",
       "        [ -5.0416,  58.2204],\n",
       "        [ -4.7335,  57.2676],\n",
       "        [ -3.0635,  56.7690],\n",
       "        [ -3.8917,  57.0160],\n",
       "        [ -3.3675,  57.7043],\n",
       "        [ -8.8423,  47.4262],\n",
       "        [ -8.2581,  48.2514],\n",
       "        [ -7.9104,  47.2572],\n",
       "        [ -8.9505,  50.2575],\n",
       "        [ -8.6049,  49.2516],\n",
       "        [ -9.5456,  49.4428],\n",
       "        [ -6.7682,  48.8811],\n",
       "        [ -7.6791,  49.0645],\n",
       "        [ -7.1057,  49.8654],\n",
       "        [-10.3122,  54.3249],\n",
       "        [ -9.9756,  53.3027],\n",
       "        [ -8.1117,  52.8461],\n",
       "        [ -9.0366,  53.0721],\n",
       "        [ -8.4437,  53.8471],\n",
       "        [-10.2419,  51.4817],\n",
       "        [ -9.6361,  52.2836],\n",
       "        [ -9.2943,  51.2683],\n",
       "        [ -4.5556,  51.9863],\n",
       "        [ -5.4228,  52.1949],\n",
       "        [ -4.8753,  52.9470],\n",
       "        [ -6.5383,  50.6541],\n",
       "        [ -5.9773,  51.4306],\n",
       "        [ -5.6491,  50.4576],\n",
       "        [ -6.6309,  53.3882],\n",
       "        [ -6.3046,  52.4077],\n",
       "        [ -7.2010,  52.6247],\n",
       "        [ -8.3611,  51.0594],\n",
       "        [ -7.7778,  51.8485],\n",
       "        [ -7.4424,  50.8547],\n",
       "        [-10.6876,  60.8958],\n",
       "        [ -7.0777,  59.7262],\n",
       "        [ -7.9617,  60.0104],\n",
       "        [ -9.1431,  58.5989],\n",
       "        [ -8.5482,  59.3115],\n",
       "        [ -8.2350,  58.3224],\n",
       "        [ -8.8582,  60.3001],\n",
       "        [ -9.7669,  60.5951],\n",
       "        [-10.6458,  55.3496],\n",
       "        [ -9.4250,  56.8640],\n",
       "        [-10.3572,  57.1314],\n",
       "        [ -9.7462,  57.8722],\n",
       "        [-10.3778,  59.8887],\n",
       "        [-10.0639,  58.8806],\n",
       "        [ -5.1943,  53.9108],\n",
       "        [ -6.9558,  54.3716],\n",
       "        [ -6.0679,  54.1389],\n",
       "        [ -5.5123,  54.8770],\n",
       "        [ -5.8291,  55.8451],\n",
       "        [ -9.7029,  55.0977],\n",
       "        [ -8.5059,  56.6018],\n",
       "        [ -9.1007,  55.8567],\n",
       "        [ -8.7734,  54.8508],\n",
       "        [ -7.8577,  54.6088],\n",
       "        [ -6.7689,  58.7558],\n",
       "        [ -6.1443,  56.8147],\n",
       "        [ -6.4576,  57.7851],\n",
       "        [ -7.3397,  58.0512],\n",
       "        [ -7.9188,  57.3333],\n",
       "        [ -7.2789,  55.3573],\n",
       "        [ -7.6000,  56.3447],\n",
       "        [ -6.7077,  56.0925],\n",
       "        [ -9.4314,  46.5889],\n",
       "        [ -9.7894,  47.5987],\n",
       "        [-10.1460,  48.6152],\n",
       "        [-10.5008,  49.6380],\n",
       "        [  0.0000,  56.9644],\n",
       "        [  0.9738,  55.6005],\n",
       "        [  0.4829,  56.2882],\n",
       "        [ -0.4829,  56.2882],\n",
       "        [ -0.9738,  55.6005],\n",
       "        [  3.0166,  52.7328],\n",
       "        [  2.4943,  53.4674],\n",
       "        [  0.4992,  53.4674],\n",
       "        [  1.4972,  53.4674],\n",
       "        [  1.0063,  52.7328],\n",
       "        [  1.9797,  54.1902],\n",
       "        [  1.4728,  54.9012],\n",
       "        [ -2.4943,  53.4674],\n",
       "        [ -3.0166,  52.7328],\n",
       "        [ -1.4728,  54.9012],\n",
       "        [ -1.9797,  54.1902],\n",
       "        [ -1.0063,  52.7328],\n",
       "        [ -1.4972,  53.4674],\n",
       "        [ -0.4992,  53.4674],\n",
       "        [  0.4910,  54.9012],\n",
       "        [  0.0000,  54.1902],\n",
       "        [ -0.4910,  54.9012],\n",
       "        [  0.5307,  47.2572],\n",
       "        [  1.5918,  47.2572],\n",
       "        [  1.0688,  46.4277],\n",
       "        [  2.6135,  48.8811],\n",
       "        [  2.1068,  48.0751],\n",
       "        [  1.5688,  48.8811],\n",
       "        [  3.2036,  46.4277],\n",
       "        [  2.6518,  47.2572],\n",
       "        [  3.7099,  47.2572],\n",
       "        [  4.0831,  51.2279],\n",
       "        [  3.5462,  51.9863],\n",
       "        [  4.6270,  50.4576],\n",
       "        [  2.5744,  50.4576],\n",
       "        [  3.6018,  50.4576],\n",
       "        [  3.1119,  49.6753],\n",
       "        [  4.2078,  48.0751],\n",
       "        [  3.6565,  48.8811],\n",
       "        [  4.6971,  48.8811],\n",
       "        [ -6.8665,  47.2572],\n",
       "        [ -7.4407,  46.4277],\n",
       "        [ -5.7345,  48.8811],\n",
       "        [ -6.2976,  48.0751],\n",
       "        [ -5.3294,  46.4277],\n",
       "        [ -5.8180,  47.2572],\n",
       "        [ -4.7656,  47.2572],\n",
       "        [ -3.5462,  51.9863],\n",
       "        [ -4.0831,  51.2279],\n",
       "        [ -3.1119,  49.6753],\n",
       "        [ -3.6018,  50.4576],\n",
       "        [ -2.5744,  50.4576],\n",
       "        [ -4.6270,  50.4576],\n",
       "        [ -5.1775,  49.6753],\n",
       "        [ -1.0688,  46.4277],\n",
       "        [ -1.5918,  47.2572],\n",
       "        [ -0.5307,  47.2572],\n",
       "        [ -3.7099,  47.2572],\n",
       "        [ -2.6518,  47.2572],\n",
       "        [ -3.2036,  46.4277],\n",
       "        [ -1.5688,  48.8811],\n",
       "        [ -2.1068,  48.0751],\n",
       "        [ -2.6135,  48.8811],\n",
       "        [ -4.6971,  48.8811],\n",
       "        [ -3.6565,  48.8811],\n",
       "        [ -4.2078,  48.0751],\n",
       "        [  2.5346,  51.9863],\n",
       "        [  1.5453,  50.4576],\n",
       "        [  2.0441,  51.2279],\n",
       "        [  1.5214,  51.9863],\n",
       "        [  0.5072,  51.9863],\n",
       "        [  0.0000,  48.0751],\n",
       "        [ -1.0382,  49.6753],\n",
       "        [ -0.5231,  48.8811],\n",
       "        [  0.5231,  48.8811],\n",
       "        [  1.0382,  49.6753],\n",
       "        [ -2.5346,  51.9863],\n",
       "        [ -0.5072,  51.9863],\n",
       "        [ -1.5214,  51.9863],\n",
       "        [ -2.0441,  51.2279],\n",
       "        [ -1.5453,  50.4576],\n",
       "        [  0.5152,  50.4576],\n",
       "        [ -0.5152,  50.4576],\n",
       "        [  0.0000,  51.2279]])"
      ]
     },
     "execution_count": 25,
     "metadata": {},
     "output_type": "execute_result"
    }
   ],
   "source": [
    "mesh_coords"
   ]
  },
  {
   "cell_type": "code",
   "execution_count": 23,
   "metadata": {},
   "outputs": [],
   "source": [
    "lon, lat = mesh_coords[:, 0], mesh_coords[:, 1]"
   ]
  },
  {
   "cell_type": "code",
   "execution_count": 24,
   "metadata": {},
   "outputs": [
    {
     "name": "stdout",
     "output_type": "stream",
     "text": [
      "tensor(-10.6876) tensor(4.6971) tensor(46.4277) tensor(63.6808)\n"
     ]
    }
   ],
   "source": [
    "print(lon.min(), lon.max(), lat.min(), lat.max())"
   ]
  }
 ],
 "metadata": {
  "kernelspec": {
   "display_name": "Python 3",
   "language": "python",
   "name": "python3"
  },
  "language_info": {
   "codemirror_mode": {
    "name": "ipython",
    "version": 3
   },
   "file_extension": ".py",
   "mimetype": "text/x-python",
   "name": "python",
   "nbconvert_exporter": "python",
   "pygments_lexer": "ipython3",
   "version": "3.9.19"
  }
 },
 "nbformat": 4,
 "nbformat_minor": 2
}
