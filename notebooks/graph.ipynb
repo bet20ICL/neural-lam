{
 "cells": [
  {
   "cell_type": "code",
   "execution_count": 2,
   "metadata": {},
   "outputs": [],
   "source": [
    "import sys\n",
    "import os\n",
    "\n",
    "sys.path.append(os.path.dirname(os.getcwd()))\n",
    "\n",
    "os.chdir(\"../\")"
   ]
  },
  {
   "cell_type": "markdown",
   "metadata": {},
   "source": [
    "# Verify MEPS Graph"
   ]
  },
  {
   "cell_type": "code",
   "execution_count": null,
   "metadata": {},
   "outputs": [],
   "source": [
    "import torch\n",
    "import os\n",
    "\n",
    "graph_dir_path = \"/vol/bitbucket/bet20/neural-lam/graphs/multiscale\"\n",
    "static_dir_path = \"/vol/bitbucket/bet20/neural-lam/data/meps_example/static\""
   ]
  },
  {
   "cell_type": "code",
   "execution_count": null,
   "metadata": {},
   "outputs": [
    {
     "name": "stdout",
     "output_type": "stream",
     "text": [
      "torch.Size([63784, 4])\n",
      "torch.Size([6561, 2])\n"
     ]
    }
   ],
   "source": [
    "grid_features = torch.load(os.path.join(static_dir_path, \"grid_features.pt\"))\n",
    "print(grid_features.shape)\n",
    "\n",
    "mesh_features = torch.load(os.path.join(graph_dir_path, \"mesh_features.pt\"))\n",
    "print(mesh_features[0].shape)"
   ]
  },
  {
   "cell_type": "code",
   "execution_count": null,
   "metadata": {},
   "outputs": [],
   "source": []
  },
  {
   "cell_type": "code",
   "execution_count": null,
   "metadata": {},
   "outputs": [
    {
     "name": "stdout",
     "output_type": "stream",
     "text": [
      "torch.Size([2, 100656])\n",
      "tensor(6561) tensor(70344) tensor(0) tensor(6560)\n",
      "tensor(63784) tensor(6561)\n",
      "100656\n"
     ]
    }
   ],
   "source": [
    "g2m_features = torch.load(os.path.join(graph_dir_path, \"g2m_features.pt\"))\n",
    "g2m_edge_index = torch.load(os.path.join(graph_dir_path, \"g2m_edge_index.pt\"))\n",
    "\n",
    "print(g2m_edge_index.shape)\n",
    "\n",
    "gmin, gmax = g2m_edge_index[0].min(), g2m_edge_index[0].max()\n",
    "mmin, mmax = g2m_edge_index[1].min(), g2m_edge_index[1].max()\n",
    "print(gmin, gmax, mmin, mmax)\n",
    "print(gmax - gmin + 1, mmax - mmin + 1)\n",
    "print(g2m_features.shape[0])\n",
    "\n",
    "# print(g2m_edge_index.min(dim=1, keepdim=True)[0])\n",
    "# print(g2m_edge_index.min(dim=1, keepdim=True).values[0])\n",
    "\n",
    "g2m_edge_index = g2m_edge_index - g2m_edge_index.min(dim=1, keepdim=True)[0]"
   ]
  },
  {
   "cell_type": "code",
   "execution_count": null,
   "metadata": {},
   "outputs": [
    {
     "data": {
      "text/plain": [
       "tensor([[    0,     1,     2,  ..., 63781, 63782, 63783],\n",
       "        [    0,     0,     0,  ...,  6560,  6560,  6560]])"
      ]
     },
     "metadata": {},
     "output_type": "display_data"
    }
   ],
   "source": [
    "g2m_edge_index"
   ]
  },
  {
   "cell_type": "code",
   "execution_count": null,
   "metadata": {},
   "outputs": [],
   "source": [
    "num_rec = g2m_edge_index[1].max() + 1"
   ]
  },
  {
   "cell_type": "code",
   "execution_count": null,
   "metadata": {},
   "outputs": [
    {
     "name": "stdout",
     "output_type": "stream",
     "text": [
      "tensor([[    0,     1,     2,  ..., 63781, 63782, 63783],\n",
      "        [-6561, -6561, -6561,  ...,    -1,    -1,    -1]])\n"
     ]
    }
   ],
   "source": [
    "g2m_edge_index[0] = (\n",
    "    g2m_edge_index[0] + num_rec\n",
    ")\n",
    "\n",
    "print(g2m_edge_index)"
   ]
  },
  {
   "cell_type": "code",
   "execution_count": null,
   "metadata": {},
   "outputs": [],
   "source": []
  },
  {
   "cell_type": "markdown",
   "metadata": {},
   "source": [
    "# Sanity Check Graph"
   ]
  },
  {
   "cell_type": "code",
   "execution_count": 3,
   "metadata": {},
   "outputs": [],
   "source": [
    "import numpy as np\n",
    "import torch\n",
    "import os"
   ]
  },
  {
   "cell_type": "code",
   "execution_count": 4,
   "metadata": {},
   "outputs": [],
   "source": [
    "dir = \"./data/era5_uk/static/nwp_xy.npy\"\n",
    "grid_xy = torch.tensor(np.load(dir))\n",
    "_, lon, lat = grid_xy.shape\n",
    "\n",
    "graph_name = \"uk_graphcast\"\n",
    "graph_dir_path = os.path.join(\"graphs\", graph_name)"
   ]
  },
  {
   "cell_type": "code",
   "execution_count": null,
   "metadata": {},
   "outputs": [
    {
     "name": "stdout",
     "output_type": "stream",
     "text": [
      "57 65\n",
      "Local grid nodes 3705\n",
      "Global grid nodes 1038240\n",
      "Local : Global 0.0035685390661118815\n"
     ]
    }
   ],
   "source": [
    "print(lon, lat)\n",
    "print(\"Local grid nodes\", lon * lat)\n",
    "\n",
    "X, Y = 1440, 721\n",
    "fraction = (lon * lat) / (X * Y)\n",
    "print(\"Global grid nodes\", X * Y)\n",
    "print(\"Local : Global\", fraction)"
   ]
  },
  {
   "cell_type": "markdown",
   "metadata": {},
   "source": [
    "### Verify M2M Graph"
   ]
  },
  {
   "cell_type": "code",
   "execution_count": null,
   "metadata": {},
   "outputs": [
    {
     "name": "stdout",
     "output_type": "stream",
     "text": [
      "torch.Size([355, 3])\n",
      "torch.Size([2584, 4])\n",
      "torch.Size([2, 2584])\n",
      "torch.Size([355])\n",
      "Expected mesh nodes 146.1744972260749\n",
      "Expected mesh edges 1169.2675104022192\n"
     ]
    }
   ],
   "source": [
    "N_MESH_NODES = 40962\n",
    "N_MESH_EDGES = 327660 \n",
    "\n",
    "mesh_features = torch.load(os.path.join(graph_dir_path, \"mesh_features.pt\"))\n",
    "m2m_features = torch.load(os.path.join(graph_dir_path, \"m2m_features.pt\"))\n",
    "m2m_edge_index = torch.load(os.path.join(graph_dir_path, \"m2m_edge_index.pt\"))\n",
    "\n",
    "print(mesh_features[0].shape)\n",
    "print(m2m_features[0].shape)\n",
    "print(m2m_edge_index[0].shape)\n",
    "print(m2m_edge_index[0].unique().shape)\n",
    "\n",
    "print(\"Expected mesh nodes\", N_MESH_NODES * fraction)\n",
    "print(\"Expected mesh edges\", N_MESH_EDGES * fraction)"
   ]
  },
  {
   "cell_type": "code",
   "execution_count": null,
   "metadata": {},
   "outputs": [
    {
     "name": "stdout",
     "output_type": "stream",
     "text": [
      "torch.Size([7719, 4])\n",
      "torch.Size([2, 7719])\n",
      "torch.Size([3705])\n",
      "torch.Size([355])\n",
      "3705\n",
      "Expected g2m edges 5776.558339112344\n"
     ]
    }
   ],
   "source": [
    "N_G2M_EDGES = 1618746\n",
    "\n",
    "g2m_features = torch.load(os.path.join(graph_dir_path, \"g2m_features.pt\"))\n",
    "g2m_edge_index = torch.load(os.path.join(graph_dir_path, \"g2m_edge_index.pt\"))\n",
    "\n",
    "print(g2m_features.shape)\n",
    "print(g2m_edge_index.shape)\n",
    "print(g2m_edge_index[0].unique().shape)\n",
    "print(g2m_edge_index[1].unique().shape)\n",
    "print(lat * lon)\n",
    "print(\"Expected g2m edges\", N_G2M_EDGES * fraction)"
   ]
  },
  {
   "cell_type": "markdown",
   "metadata": {},
   "source": [
    "### Verify G2M Graph"
   ]
  },
  {
   "cell_type": "markdown",
   "metadata": {},
   "source": [
    "### Verify M2G Graph"
   ]
  },
  {
   "cell_type": "code",
   "execution_count": null,
   "metadata": {},
   "outputs": [
    {
     "name": "stdout",
     "output_type": "stream",
     "text": [
      "torch.Size([11094, 4])\n",
      "torch.Size([2, 11094])\n",
      "torch.Size([355])\n",
      "torch.Size([3705])\n",
      "3705\n",
      "Expected m2g edges 11115.0\n"
     ]
    }
   ],
   "source": [
    "N_M2G_EDGES = 3114720\n",
    "\n",
    "m2g_features = torch.load(os.path.join(graph_dir_path, \"m2g_features.pt\"))\n",
    "m2g_edge_index = torch.load(os.path.join(graph_dir_path, \"m2g_edge_index.pt\"))\n",
    "\n",
    "print(m2g_features.shape)\n",
    "print(m2g_edge_index.shape)\n",
    "print(m2g_edge_index[0].unique().shape)\n",
    "print(m2g_edge_index[1].unique().shape)\n",
    "print(lat * lon)\n",
    "print(\"Expected m2g edges\", N_M2G_EDGES * fraction)"
   ]
  },
  {
   "cell_type": "markdown",
   "metadata": {},
   "source": [
    "### Verify against full graphcast"
   ]
  },
  {
   "cell_type": "code",
   "execution_count": null,
   "metadata": {},
   "outputs": [],
   "source": [
    "# num_grid_nodes = \n",
    "num_m2m_edges = 327660\n",
    "num_m2g_edges = 3114720\n",
    "  "
   ]
  },
  {
   "cell_type": "markdown",
   "metadata": {},
   "source": [
    "```\n",
    "g2m graph: Graph(num_nodes={'grid': 3705, 'mesh': 355},\n",
    "      num_edges={('grid', 'g2m', 'mesh'): 7719},\n",
    "      metagraph=[('grid', 'mesh', 'g2m')])\n",
    "m2g graph: Graph(num_nodes={'grid': 3705, 'mesh': 355},\n",
    "      num_edges={('mesh', 'm2g', 'grid'): 11094},\n",
    "      metagraph=[('mesh', 'grid', 'm2g')])\n",
    "mesh graph: Graph(num_nodes=355, num_edges=2584,\n",
    "      ndata_schemes={'x': Scheme(shape=(3,), dtype=torch.float32)}\n",
    "      edata_schemes={'x': Scheme(shape=(4,), dtype=torch.float32)})\n",
    "```"
   ]
  }
 ],
 "metadata": {
  "kernelspec": {
   "display_name": "Python 3",
   "language": "python",
   "name": "python3"
  },
  "language_info": {
   "codemirror_mode": {
    "name": "ipython",
    "version": 3
   },
   "file_extension": ".py",
   "mimetype": "text/x-python",
   "name": "python",
   "nbconvert_exporter": "python",
   "pygments_lexer": "ipython3",
   "version": "3.9.19"
  }
 },
 "nbformat": 4,
 "nbformat_minor": 2
}
