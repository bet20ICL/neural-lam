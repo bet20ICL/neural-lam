{
 "cells": [
  {
   "cell_type": "code",
   "execution_count": 3,
   "metadata": {},
   "outputs": [],
   "source": [
    "import sys\n",
    "import os\n",
    "\n",
    "sys.path.append(os.path.dirname(os.getcwd()))\n",
    "\n",
    "os.chdir(\"../\")"
   ]
  },
  {
   "cell_type": "markdown",
   "metadata": {},
   "source": [
    "# Number of files in train vs val"
   ]
  },
  {
   "cell_type": "code",
   "execution_count": 4,
   "metadata": {},
   "outputs": [],
   "source": [
    "import torch\n",
    "import math"
   ]
  },
  {
   "cell_type": "code",
   "execution_count": 5,
   "metadata": {},
   "outputs": [
    {
     "name": "stdout",
     "output_type": "stream",
     "text": [
      "Training:\n",
      "num_files: 1460\n",
      "total_time_steps: 1460\n",
      "total_days: 365\n",
      "total_samples: 1458\n",
      "total_batches: 365\n"
     ]
    }
   ],
   "source": [
    "samples_dir = \"./data/era5_uk/samples/train\"\n",
    "num_files = len(os.listdir(samples_dir))\n",
    "total_days = 31 * 7 + 28 + 30 * 4 # Jan, Mar, May, Jul, Aug, Oct, Dec\n",
    "\n",
    "total_time_steps = total_days * 4\n",
    "pred_length = 1\n",
    "sample_length = pred_length + 2\n",
    "total_samples = total_time_steps - sample_length + 1\n",
    "total_batches = math.ceil(total_samples / 4) \n",
    "\n",
    "print(\"Training:\")\n",
    "print(\"num_files:\", num_files)\n",
    "print(\"total_time_steps:\", total_time_steps)\n",
    "print(\"total_days:\", total_days)\n",
    "print(\"total_samples:\", total_samples)\n",
    "print(\"total_batches:\", total_batches)"
   ]
  },
  {
   "cell_type": "code",
   "execution_count": 6,
   "metadata": {},
   "outputs": [
    {
     "name": "stdout",
     "output_type": "stream",
     "text": [
      "['10', '04', '01', '07']\n",
      "4\n"
     ]
    }
   ],
   "source": [
    "# Finding the validation files \n",
    "\n",
    "samples_dir = \"./data/era5_uk/samples/val\"\n",
    "dirs = os.listdir(samples_dir)\n",
    "num_files = len(dirs)\n",
    "print(dirs)\n",
    "print(num_files)"
   ]
  },
  {
   "cell_type": "code",
   "execution_count": 7,
   "metadata": {},
   "outputs": [
    {
     "name": "stdout",
     "output_type": "stream",
     "text": [
      "Validation:\n",
      "total_files: 492\n",
      "total_time_steps: 492\n",
      "total_days: 123\n",
      "total_samples: 463\n"
     ]
    }
   ],
   "source": [
    "# Verify number of validation samples\n",
    "total_files = 0\n",
    "for m in ['01', '04', '07', '10']:\n",
    "    total_files += len(os.listdir(os.path.join(samples_dir, m)))\n",
    "    \n",
    "\n",
    "total_days = 31 + 30 + 31 + 31\n",
    "total_time_steps = total_days * 4\n",
    "pred_length = 28\n",
    "sample_length = pred_length + 2\n",
    "total_samples = total_time_steps - sample_length + 1\n",
    "total_batches = math.ceil(total_samples / 4) \n",
    "\n",
    "print(\"Validation:\")\n",
    "print(\"total_files:\", total_files)\n",
    "print(\"total_time_steps:\", total_time_steps)\n",
    "print(\"total_days:\", total_days)\n",
    "print(\"total_samples:\", total_samples)"
   ]
  },
  {
   "cell_type": "code",
   "execution_count": 8,
   "metadata": {},
   "outputs": [
    {
     "name": "stdout",
     "output_type": "stream",
     "text": [
      "total_batches: 94\n"
     ]
    }
   ],
   "source": [
    "def steps(total_days):\n",
    "    total_time_steps = total_days * 4\n",
    "    pred_length = 28\n",
    "    sample_length = pred_length + 2\n",
    "    total_samples = total_time_steps - sample_length + 1\n",
    "    return total_samples\n",
    "\n",
    "days = [31, 30, 31, 31]\n",
    "total_samples = sum([steps(d) for d in days])\n",
    "total_batches = math.ceil(total_samples / 4)\n",
    "print(\"total_batches:\", total_batches)"
   ]
  },
  {
   "cell_type": "code",
   "execution_count": 9,
   "metadata": {},
   "outputs": [],
   "source": [
    "import torch\n",
    "from neural_lam.era5_dataset import ERA5UKDataset"
   ]
  },
  {
   "cell_type": "code",
   "execution_count": 10,
   "metadata": {},
   "outputs": [
    {
     "name": "stdout",
     "output_type": "stream",
     "text": [
      "training_batches: 365\n"
     ]
    }
   ],
   "source": [
    "dataset_name = \"era5_uk\"\n",
    "batch_size = 4\n",
    "n_workers = 4\n",
    "\n",
    "train_set = ERA5UKDataset(\n",
    "    dataset_name,\n",
    "    pred_length=1,\n",
    "    split=\"train\",\n",
    "    standardize=False,\n",
    ")\n",
    "train_loader = torch.utils.data.DataLoader(\n",
    "    train_set,\n",
    "    batch_size,\n",
    "    shuffle=True,\n",
    "    num_workers=n_workers,\n",
    ")\n",
    "\n",
    "print(\"training_batches:\", len(train_loader))"
   ]
  },
  {
   "cell_type": "code",
   "execution_count": 12,
   "metadata": {},
   "outputs": [
    {
     "data": {
      "text/plain": [
       "tensor([[[[ 2.0544e+05,  1.3444e+05,  1.0096e+05,  ..., -2.0289e-01,\n",
       "           -1.5528e-02,  3.0334e-02],\n",
       "          [ 2.0545e+05,  1.3444e+05,  1.0093e+05,  ..., -1.7996e-01,\n",
       "           -8.8169e-03,  3.5368e-02],\n",
       "          [ 2.0545e+05,  1.3444e+05,  1.0091e+05,  ..., -1.5256e-01,\n",
       "            2.0826e-02,  3.8724e-02],\n",
       "          ...,\n",
       "          [ 2.0565e+05,  1.3685e+05,  1.0477e+05,  ...,  2.5573e-01,\n",
       "           -2.7840e-01, -6.5797e-03],\n",
       "          [ 2.0565e+05,  1.3686e+05,  1.0476e+05,  ...,  1.0696e-01,\n",
       "           -2.9741e-01, -2.0562e-02],\n",
       "          [ 2.0564e+05,  1.3686e+05,  1.0475e+05,  ..., -2.2974e-01,\n",
       "           -4.0424e-01,  2.0826e-02]],\n",
       "\n",
       "         [[ 2.0540e+05,  1.3449e+05,  1.0143e+05,  ...,  4.9909e-02,\n",
       "            8.9620e-02,  7.0044e-02],\n",
       "          [ 2.0541e+05,  1.3449e+05,  1.0142e+05,  ...,  3.1453e-02,\n",
       "            9.6891e-02,  6.8926e-02],\n",
       "          [ 2.0541e+05,  1.3449e+05,  1.0139e+05,  ...,  1.1877e-02,\n",
       "            1.0640e-01,  6.6688e-02],\n",
       "          ...,\n",
       "          [ 2.0548e+05,  1.3676e+05,  1.0471e+05,  ...,  1.7519e-01,\n",
       "            3.1334e-01,  3.3690e-02],\n",
       "          [ 2.0549e+05,  1.3678e+05,  1.0472e+05,  ...,  2.1546e-01,\n",
       "            2.9097e-01,  2.5300e-02],\n",
       "          [ 2.0549e+05,  1.3680e+05,  1.0472e+05,  ...,  1.7184e-01,\n",
       "            2.5629e-01,  3.8724e-02]]],\n",
       "\n",
       "\n",
       "        [[[ 2.0585e+05,  1.3510e+05,  1.0183e+05,  ...,  1.8284e-01,\n",
       "            1.4505e-01, -1.8661e-03],\n",
       "          [ 2.0585e+05,  1.3509e+05,  1.0183e+05,  ...,  1.5694e-01,\n",
       "            1.3401e-01, -2.7153e-03],\n",
       "          [ 2.0585e+05,  1.3508e+05,  1.0182e+05,  ...,  1.2934e-01,\n",
       "            1.2637e-01,  1.0023e-02],\n",
       "          ...,\n",
       "          [ 2.0522e+05,  1.3695e+05,  1.0511e+05,  ..., -7.2582e-01,\n",
       "           -7.6743e-01,  3.6773e-02],\n",
       "          [ 2.0522e+05,  1.3695e+05,  1.0512e+05,  ..., -4.1968e-01,\n",
       "           -5.0927e-01,  9.1972e-02],\n",
       "          [ 2.0521e+05,  1.3695e+05,  1.0513e+05,  ..., -5.2626e-01,\n",
       "           -5.2711e-01,  7.3290e-02]],\n",
       "\n",
       "         [[ 2.0559e+05,  1.3500e+05,  1.0176e+05,  ...,  8.7302e-02,\n",
       "            2.1256e-01,  2.5309e-02],\n",
       "          [ 2.0559e+05,  1.3499e+05,  1.0174e+05,  ...,  9.9615e-02,\n",
       "            2.0577e-01,  2.4460e-02],\n",
       "          [ 2.0559e+05,  1.3497e+05,  1.0172e+05,  ...,  1.0981e-01,\n",
       "            2.0195e-01,  2.9980e-02],\n",
       "          ...,\n",
       "          [ 2.0508e+05,  1.3669e+05,  1.0462e+05,  ..., -4.8762e-01,\n",
       "           -1.3477e-01,  6.0127e-02],\n",
       "          [ 2.0508e+05,  1.3671e+05,  1.0468e+05,  ..., -5.9335e-01,\n",
       "            2.1935e-01,  1.3486e-01],\n",
       "          [ 2.0509e+05,  1.3674e+05,  1.0475e+05,  ..., -6.5406e-01,\n",
       "            3.3485e-01,  8.0508e-02]]],\n",
       "\n",
       "\n",
       "        [[[ 2.0576e+05,  1.3478e+05,  1.0209e+05,  ...,  4.8232e-02,\n",
       "           -1.8325e-02, -7.1390e-03],\n",
       "          [ 2.0576e+05,  1.3480e+05,  1.0211e+05,  ...,  4.8232e-02,\n",
       "           -1.8325e-02, -7.1390e-03],\n",
       "          [ 2.0577e+05,  1.3482e+05,  1.0214e+05,  ...,  5.1028e-02,\n",
       "           -1.6088e-02, -1.3851e-02],\n",
       "          ...,\n",
       "          [ 2.0603e+05,  1.3785e+05,  1.0562e+05,  ...,  9.5772e-02,\n",
       "           -2.4428e-01,  5.3265e-02],\n",
       "          [ 2.0603e+05,  1.3784e+05,  1.0561e+05,  ...,  1.4723e-01,\n",
       "           -1.8947e-01,  1.2038e-01],\n",
       "          [ 2.0602e+05,  1.3782e+05,  1.0560e+05,  ...,  2.4958e-01,\n",
       "           -5.0205e-02,  9.0738e-02]],\n",
       "\n",
       "         [[ 2.0580e+05,  1.3481e+05,  1.0223e+05,  ...,  4.0470e-03,\n",
       "            1.9148e-02, -3.8460e-02],\n",
       "          [ 2.0580e+05,  1.3482e+05,  1.0226e+05,  ...,  1.0759e-02,\n",
       "            1.6352e-02, -3.3985e-02],\n",
       "          [ 2.0580e+05,  1.3484e+05,  1.0227e+05,  ...,  1.7470e-02,\n",
       "            1.2996e-02, -3.1189e-02],\n",
       "          ...,\n",
       "          [ 2.0624e+05,  1.3778e+05,  1.0556e+05,  ..., -1.4193e-01,\n",
       "            9.6891e-02,  5.7740e-02],\n",
       "          [ 2.0623e+05,  1.3778e+05,  1.0555e+05,  ..., -8.9915e-02,\n",
       "            2.9284e-03,  1.0752e-01],\n",
       "          [ 2.0623e+05,  1.3778e+05,  1.0554e+05,  ...,  2.5300e-02,\n",
       "           -2.0289e-01,  3.3131e-02]]],\n",
       "\n",
       "\n",
       "        [[[ 2.0268e+05,  1.3338e+05,  1.0099e+05,  ..., -3.0686e-02,\n",
       "           -1.3791e-01, -2.9269e-02],\n",
       "          [ 2.0267e+05,  1.3337e+05,  1.0098e+05,  ..., -7.9812e-02,\n",
       "           -6.8003e-02, -4.4384e-02],\n",
       "          [ 2.0266e+05,  1.3336e+05,  1.0096e+05,  ..., -1.1713e-01,\n",
       "            1.1355e-02, -4.9108e-02],\n",
       "          ...,\n",
       "          [ 2.0055e+05,  1.3425e+05,  1.0234e+05,  ...,  8.0484e-03,\n",
       "           -4.2023e-02,  5.2923e-02],\n",
       "          [ 2.0052e+05,  1.3423e+05,  1.0235e+05,  ...,  1.7496e-02,\n",
       "           -3.7299e-02,  1.1480e-01],\n",
       "          [ 2.0050e+05,  1.3422e+05,  1.0235e+05,  ...,  4.1587e-02,\n",
       "           -5.4304e-02,  8.2683e-02]],\n",
       "\n",
       "         [[ 2.0296e+05,  1.3371e+05,  1.0156e+05,  ..., -1.4153e-02,\n",
       "            9.8743e-02, -1.0846e-02],\n",
       "          [ 2.0295e+05,  1.3371e+05,  1.0156e+05,  ..., -1.9821e-02,\n",
       "            9.6381e-02, -1.6515e-02],\n",
       "          [ 2.0295e+05,  1.3371e+05,  1.0155e+05,  ...,  3.3247e-03,\n",
       "            1.2472e-01, -1.3989e-03],\n",
       "          ...,\n",
       "          [ 2.0077e+05,  1.3450e+05,  1.0256e+05,  ...,  6.6313e-03,\n",
       "            2.7777e-01,  5.5285e-02],\n",
       "          [ 2.0073e+05,  1.3447e+05,  1.0256e+05,  ...,  7.4652e-02,\n",
       "            3.1462e-01,  8.0793e-02],\n",
       "          [ 2.0070e+05,  1.3446e+05,  1.0257e+05,  ...,  6.7094e-02,\n",
       "            1.6535e-01,  1.0063e-01]]]])"
      ]
     },
     "execution_count": 12,
     "metadata": {},
     "output_type": "execute_result"
    }
   ],
   "source": [
    "dataiter = iter(train_loader)\n",
    "init_states, target_states, forcing = next(dataiter)\n",
    "init_states"
   ]
  },
  {
   "cell_type": "code",
   "execution_count": 13,
   "metadata": {},
   "outputs": [
    {
     "name": "stdout",
     "output_type": "stream",
     "text": [
      "validation_set batches: 94\n"
     ]
    }
   ],
   "source": [
    "val_set = ERA5UKDataset(\n",
    "    dataset_name,\n",
    "    pred_length=28,\n",
    "    split=\"val\",\n",
    "    standardize=False,\n",
    ")\n",
    "val_loader = torch.utils.data.DataLoader(\n",
    "    val_set,\n",
    "    batch_size,\n",
    "    shuffle=True,\n",
    "    num_workers=n_workers,\n",
    ")\n",
    "\n",
    "print(\"validation_set batches:\", len(val_loader))"
   ]
  },
  {
   "cell_type": "code",
   "execution_count": 14,
   "metadata": {},
   "outputs": [],
   "source": [
    "init_states, target_states, forcing = val_set[0]"
   ]
  },
  {
   "cell_type": "code",
   "execution_count": 15,
   "metadata": {},
   "outputs": [
    {
     "name": "stdout",
     "output_type": "stream",
     "text": [
      "init_states: torch.Size([2, 3705, 48])\n",
      "target_states: torch.Size([28, 3705, 48])\n",
      "forcing: torch.Size([28, 3705, 12])\n"
     ]
    }
   ],
   "source": [
    "print(\"init_states:\", init_states.shape)\n",
    "print(\"target_states:\", target_states.shape)\n",
    "print(\"forcing:\", forcing.shape)"
   ]
  },
  {
   "cell_type": "markdown",
   "metadata": {},
   "source": [
    "# Test Time Resolution Dataset"
   ]
  },
  {
   "cell_type": "code",
   "execution_count": 19,
   "metadata": {},
   "outputs": [
    {
     "name": "stdout",
     "output_type": "stream",
     "text": [
      "training_batches: 182\n"
     ]
    }
   ],
   "source": [
    "dataset_name = \"era5_uk\"\n",
    "batch_size = 4\n",
    "n_workers = 4\n",
    "subsample_step = 2\n",
    "\n",
    "train_set = ERA5UKDataset(\n",
    "    dataset_name,\n",
    "    pred_length=1,\n",
    "    subsample_step=subsample_step,\n",
    "    split=\"train\",\n",
    "    standardize=False,\n",
    ")\n",
    "train_loader = torch.utils.data.DataLoader(\n",
    "    train_set,\n",
    "    batch_size,\n",
    "    shuffle=True,\n",
    "    num_workers=n_workers,\n",
    ")\n",
    "\n",
    "print(\"training_batches:\", len(train_loader))"
   ]
  },
  {
   "cell_type": "code",
   "execution_count": 20,
   "metadata": {},
   "outputs": [
    {
     "name": "stdout",
     "output_type": "stream",
     "text": [
      "validation_set batches: 33\n"
     ]
    }
   ],
   "source": [
    "val_set = ERA5UKDataset(\n",
    "    dataset_name,\n",
    "    pred_length=28,\n",
    "    subsample_step=subsample_step,\n",
    "    split=\"val\",\n",
    "    standardize=False,\n",
    ")\n",
    "val_loader = torch.utils.data.DataLoader(\n",
    "    val_set,\n",
    "    batch_size,\n",
    "    shuffle=True,\n",
    "    num_workers=n_workers,\n",
    ")\n",
    "\n",
    "print(\"validation_set batches:\", len(val_loader))"
   ]
  },
  {
   "cell_type": "markdown",
   "metadata": {},
   "source": [
    "# Test Multi Resolution Dataset + Dataloader"
   ]
  },
  {
   "cell_type": "code",
   "execution_count": 2,
   "metadata": {},
   "outputs": [],
   "source": [
    "import torch \n",
    "from neural_lam.era5_dataset import ERA5MultiResolutionDataset"
   ]
  },
  {
   "cell_type": "code",
   "execution_count": 9,
   "metadata": {},
   "outputs": [],
   "source": [
    "datasets = [\"era5_uk_small\", \"era5_uk_big_coarse\"]\n",
    "train_set = ERA5MultiResolutionDataset(\n",
    "    datasets,\n",
    "    split=\"train\",\n",
    ")\n",
    "\n",
    "batch_size = 4\n",
    "n_workers = 4\n",
    "train_loader = torch.utils.data.DataLoader(\n",
    "    train_set,\n",
    "    batch_size=batch_size,\n",
    "    shuffle=False,\n",
    "    num_workers=n_workers,\n",
    ")\n",
    "dataiter = iter(train_loader)"
   ]
  },
  {
   "cell_type": "code",
   "execution_count": 10,
   "metadata": {},
   "outputs": [],
   "source": [
    "init_states, target_states, forcing = next(dataiter)"
   ]
  },
  {
   "cell_type": "code",
   "execution_count": 13,
   "metadata": {},
   "outputs": [
    {
     "data": {
      "text/plain": [
       "torch.Size([4, 2, 1840, 48])"
      ]
     },
     "execution_count": 13,
     "metadata": {},
     "output_type": "execute_result"
    }
   ],
   "source": [
    "init_states[0].shape"
   ]
  }
 ],
 "metadata": {
  "kernelspec": {
   "display_name": "Python 3",
   "language": "python",
   "name": "python3"
  },
  "language_info": {
   "codemirror_mode": {
    "name": "ipython",
    "version": 3
   },
   "file_extension": ".py",
   "mimetype": "text/x-python",
   "name": "python",
   "nbconvert_exporter": "python",
   "pygments_lexer": "ipython3",
   "version": "3.9.12"
  }
 },
 "nbformat": 4,
 "nbformat_minor": 2
}
