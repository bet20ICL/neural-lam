{
 "cells": [
  {
   "cell_type": "code",
   "execution_count": 2,
   "metadata": {},
   "outputs": [],
   "source": [
    "import sys\n",
    "import os\n",
    "\n",
    "sys.path.append(os.path.dirname(os.getcwd()))\n",
    "\n",
    "os.chdir(\"../\")"
   ]
  },
  {
   "cell_type": "markdown",
   "metadata": {},
   "source": [
    "# Number of files in train vs val"
   ]
  },
  {
   "cell_type": "code",
   "execution_count": 3,
   "metadata": {},
   "outputs": [],
   "source": [
    "import torch\n",
    "import math"
   ]
  },
  {
   "cell_type": "code",
   "execution_count": 4,
   "metadata": {},
   "outputs": [
    {
     "name": "stdout",
     "output_type": "stream",
     "text": [
      "Training:\n",
      "num_files: 1460\n",
      "total_time_steps: 1460\n",
      "total_days: 365\n",
      "total_samples: 1458\n",
      "total_batches: 365\n"
     ]
    }
   ],
   "source": [
    "samples_dir = \"/vol/bitbucket/bet20/neural-lam/data/era5_uk/samples/train\"\n",
    "num_files = len(os.listdir(samples_dir))\n",
    "total_days = 31 * 7 + 28 + 30 * 4 # Jan, Mar, May, Jul, Aug, Oct, Dec\n",
    "\n",
    "total_time_steps = total_days * 4\n",
    "pred_length = 1\n",
    "sample_length = pred_length + 2\n",
    "total_samples = total_time_steps - sample_length + 1\n",
    "total_batches = math.ceil(total_samples / 4) \n",
    "\n",
    "print(\"Training:\")\n",
    "print(\"num_files:\", num_files)\n",
    "print(\"total_time_steps:\", total_time_steps)\n",
    "print(\"total_days:\", total_days)\n",
    "print(\"total_samples:\", total_samples)\n",
    "print(\"total_batches:\", total_batches)"
   ]
  },
  {
   "cell_type": "code",
   "execution_count": 5,
   "metadata": {},
   "outputs": [
    {
     "name": "stdout",
     "output_type": "stream",
     "text": [
      "['01', '10', '04', 'other', '07']\n",
      "5\n"
     ]
    }
   ],
   "source": [
    "# Finding the validation files \n",
    "\n",
    "samples_dir = \"/vol/bitbucket/bet20/neural-lam/data/era5_uk/samples/val\"\n",
    "dirs = os.listdir(samples_dir)\n",
    "num_files = len(dirs)\n",
    "print(dirs)\n",
    "print(num_files)"
   ]
  },
  {
   "cell_type": "code",
   "execution_count": 6,
   "metadata": {},
   "outputs": [
    {
     "name": "stdout",
     "output_type": "stream",
     "text": [
      "Validation:\n",
      "total_files: 492\n",
      "total_time_steps: 492\n",
      "total_days: 123\n",
      "total_samples: 463\n"
     ]
    }
   ],
   "source": [
    "# Verify number of validation samples\n",
    "total_files = 0\n",
    "for m in ['01', '04', '07', '10']:\n",
    "    total_files += len(os.listdir(os.path.join(samples_dir, m)))\n",
    "    \n",
    "\n",
    "total_days = 31 + 30 + 31 + 31\n",
    "total_time_steps = total_days * 4\n",
    "pred_length = 28\n",
    "sample_length = pred_length + 2\n",
    "total_samples = total_time_steps - sample_length + 1\n",
    "total_batches = math.ceil(total_samples / 4) \n",
    "\n",
    "print(\"Validation:\")\n",
    "print(\"total_files:\", total_files)\n",
    "print(\"total_time_steps:\", total_time_steps)\n",
    "print(\"total_days:\", total_days)\n",
    "print(\"total_samples:\", total_samples)"
   ]
  },
  {
   "cell_type": "code",
   "execution_count": 7,
   "metadata": {},
   "outputs": [
    {
     "name": "stdout",
     "output_type": "stream",
     "text": [
      "total_batches: 94\n"
     ]
    }
   ],
   "source": [
    "def steps(total_days):\n",
    "    total_time_steps = total_days * 4\n",
    "    pred_length = 28\n",
    "    sample_length = pred_length + 2\n",
    "    total_samples = total_time_steps - sample_length + 1\n",
    "    return total_samples\n",
    "\n",
    "days = [31, 30, 31, 31]\n",
    "total_samples = sum([steps(d) for d in days])\n",
    "total_batches = math.ceil(total_samples / 4)\n",
    "print(\"total_batches:\", total_batches)"
   ]
  },
  {
   "cell_type": "code",
   "execution_count": 8,
   "metadata": {},
   "outputs": [],
   "source": [
    "import torch\n",
    "from neural_lam.era5_dataset import ERA5UKDataset"
   ]
  },
  {
   "cell_type": "code",
   "execution_count": 9,
   "metadata": {},
   "outputs": [
    {
     "name": "stdout",
     "output_type": "stream",
     "text": [
      "training_batches: 365\n"
     ]
    }
   ],
   "source": [
    "dataset_name = \"era5_uk\"\n",
    "batch_size = 4\n",
    "n_workers = 4\n",
    "\n",
    "train_set = ERA5UKDataset(\n",
    "    dataset_name,\n",
    "    pred_length=1,\n",
    "    split=\"train\",\n",
    "    standardize=False,\n",
    ")\n",
    "train_loader = torch.utils.data.DataLoader(\n",
    "    train_set,\n",
    "    batch_size,\n",
    "    shuffle=True,\n",
    "    num_workers=n_workers,\n",
    ")\n",
    "\n",
    "print(\"training_batches:\", len(train_loader))"
   ]
  },
  {
   "cell_type": "code",
   "execution_count": 10,
   "metadata": {},
   "outputs": [
    {
     "data": {
      "text/plain": [
       "tensor([[[[ 1.9972e+05,  1.3039e+05,  9.8666e+04,  ...,  1.4843e-02,\n",
       "            9.5106e-02, -2.3201e-02],\n",
       "          [ 1.9972e+05,  1.3041e+05,  9.8663e+04,  ...,  1.9946e-02,\n",
       "            6.3557e-02, -4.0367e-02],\n",
       "          [ 1.9973e+05,  1.3043e+05,  9.8660e+04,  ...,  2.2730e-02,\n",
       "            4.7319e-02, -2.8305e-02],\n",
       "          ...,\n",
       "          [ 1.9832e+05,  1.2941e+05,  9.6925e+04,  ...,  2.3893e-01,\n",
       "           -4.6117e-01, -2.0646e-01],\n",
       "          [ 1.9840e+05,  1.2945e+05,  9.6922e+04,  ...,  2.6259e-01,\n",
       "           -1.7630e-01, -1.5450e-01],\n",
       "          [ 1.9848e+05,  1.2949e+05,  9.6918e+04,  ...,  8.3043e-02,\n",
       "            1.3593e-01, -4.6774e-04]],\n",
       "\n",
       "         [[ 1.9984e+05,  1.3060e+05,  9.8931e+04,  ...,  1.4011e-01,\n",
       "            1.2248e-01,  7.0517e-02],\n",
       "          [ 1.9985e+05,  1.3063e+05,  9.8960e+04,  ...,  1.6331e-01,\n",
       "            1.3269e-01,  6.3557e-02],\n",
       "          [ 1.9986e+05,  1.3065e+05,  9.8989e+04,  ...,  1.8743e-01,\n",
       "            1.3593e-01,  8.1651e-02],\n",
       "          ...,\n",
       "          [ 1.9856e+05,  1.2964e+05,  9.7187e+04,  ..., -2.6446e-01,\n",
       "           -2.1296e-01, -1.9811e-01],\n",
       "          [ 1.9863e+05,  1.2967e+05,  9.7171e+04,  ..., -1.8883e-01,\n",
       "           -7.2844e-02, -1.2898e-01],\n",
       "          [ 1.9869e+05,  1.2970e+05,  9.7161e+04,  ..., -2.3291e-01,\n",
       "            1.5403e-01,  6.4021e-02]]],\n",
       "\n",
       "\n",
       "        [[[ 1.9086e+05,  1.2616e+05,  9.5347e+04,  ...,  1.2146e-01,\n",
       "            1.0629e-01, -7.3207e-03],\n",
       "          [ 1.9106e+05,  1.2623e+05,  9.5398e+04,  ...,  1.2753e-01,\n",
       "            8.8942e-02, -6.4535e-03],\n",
       "          [ 1.9126e+05,  1.2631e+05,  9.5449e+04,  ...,  1.2060e-01,\n",
       "            5.6854e-02, -3.8518e-03],\n",
       "          ...,\n",
       "          [ 1.9936e+05,  1.3144e+05,  1.0061e+05,  ...,  3.2179e-01,\n",
       "            5.9757e-01,  2.5849e-01],\n",
       "          [ 1.9943e+05,  1.3149e+05,  1.0065e+05,  ...,  4.9307e-01,\n",
       "            3.6819e-01,  1.6959e-01],\n",
       "          [ 1.9948e+05,  1.3154e+05,  1.0070e+05,  ...,  1.7957e-01,\n",
       "           -6.8506e-01, -6.8027e-02]],\n",
       "\n",
       "         [[ 1.9092e+05,  1.2601e+05,  9.5273e+04,  ...,  1.9735e-01,\n",
       "            1.9301e-01,  9.1793e-04],\n",
       "          [ 1.9111e+05,  1.2609e+05,  9.5318e+04,  ...,  2.1859e-01,\n",
       "            1.6743e-01, -1.2501e-03],\n",
       "          [ 1.9130e+05,  1.2616e+05,  9.5363e+04,  ...,  2.2596e-01,\n",
       "            1.4184e-01,  6.1213e-03],\n",
       "          ...,\n",
       "          [ 1.9926e+05,  1.3114e+05,  9.9727e+04,  ...,  8.0703e-02,\n",
       "            2.3900e-02,  1.7003e-01],\n",
       "          [ 1.9932e+05,  1.3119e+05,  9.9772e+04,  ...,  1.2493e-01,\n",
       "           -1.9247e-01,  3.1271e-02],\n",
       "          [ 1.9937e+05,  1.3124e+05,  9.9807e+04,  ..., -1.9896e-02,\n",
       "           -8.2945e-01, -2.0462e-01]]],\n",
       "\n",
       "\n",
       "        [[[ 2.0492e+05,  1.3419e+05,  1.0143e+05,  ..., -1.9404e-01,\n",
       "           -1.1124e-01, -5.9340e-02],\n",
       "          [ 2.0492e+05,  1.3421e+05,  1.0143e+05,  ..., -2.1562e-01,\n",
       "           -3.2991e-01, -6.6921e-02],\n",
       "          [ 2.0492e+05,  1.3423e+05,  1.0144e+05,  ..., -7.7833e-01,\n",
       "           -6.3139e-01, -4.8261e-02],\n",
       "          ...,\n",
       "          [ 2.0535e+05,  1.3762e+05,  1.0587e+05,  ...,  2.0307e-01,\n",
       "            4.7305e-01, -2.0854e-02],\n",
       "          [ 2.0534e+05,  1.3766e+05,  1.0592e+05,  ...,  2.4563e-01,\n",
       "            5.2495e-01,  7.7191e-03],\n",
       "          [ 2.0534e+05,  1.3770e+05,  1.0596e+05,  ...,  3.2027e-01,\n",
       "            3.7334e-01,  6.6032e-02]],\n",
       "\n",
       "         [[ 2.0510e+05,  1.3438e+05,  1.0177e+05,  ..., -7.2169e-02,\n",
       "           -4.9727e-01, -6.8591e-03],\n",
       "          [ 2.0510e+05,  1.3440e+05,  1.0181e+05,  ..., -4.1263e-02,\n",
       "           -3.3166e-01, -1.1524e-02],\n",
       "          [ 2.0511e+05,  1.3442e+05,  1.0184e+05,  ...,  3.5709e-02,\n",
       "           -1.5147e-01, -1.6110e-03],\n",
       "          ...,\n",
       "          [ 2.0556e+05,  1.3788e+05,  1.0611e+05,  ...,  4.0957e-02,\n",
       "            3.9550e-01, -4.2430e-02],\n",
       "          [ 2.0555e+05,  1.3790e+05,  1.0614e+05,  ...,  1.4942e-01,\n",
       "            6.3116e-02, -5.8757e-02],\n",
       "          [ 2.0554e+05,  1.3793e+05,  1.0617e+05,  ...,  2.2114e-01,\n",
       "           -1.6197e-01, -8.9080e-02]]],\n",
       "\n",
       "\n",
       "        [[[ 2.0640e+05,  1.3524e+05,  1.0275e+05,  ...,  5.8218e-02,\n",
       "            6.8215e-02,  2.3228e-02],\n",
       "          [ 2.0639e+05,  1.3528e+05,  1.0281e+05,  ..., -1.9621e-01,\n",
       "           -3.2917e-01,  8.7318e-03],\n",
       "          [ 2.0639e+05,  1.3531e+05,  1.0287e+05,  ..., -3.7366e-01,\n",
       "           -5.9510e-01, -2.6758e-02],\n",
       "          ...,\n",
       "          [ 2.0586e+05,  1.3767e+05,  1.0599e+05,  ...,  1.6869e-01,\n",
       "            1.2920e-01, -1.1263e-02],\n",
       "          [ 2.0585e+05,  1.3773e+05,  1.0604e+05,  ...,  1.6719e-01,\n",
       "            2.0968e-01,  3.7724e-02],\n",
       "          [ 2.0584e+05,  1.3777e+05,  1.0609e+05,  ...,  1.0371e-01,\n",
       "            1.9618e-01,  1.4170e-01]],\n",
       "\n",
       "         [[ 2.0656e+05,  1.3526e+05,  1.0235e+05,  ..., -1.1973e-01,\n",
       "           -1.6422e-01, -5.7250e-02],\n",
       "          [ 2.0656e+05,  1.3529e+05,  1.0241e+05,  ..., -1.7572e-01,\n",
       "           -2.4020e-01, -5.6750e-02],\n",
       "          [ 2.0655e+05,  1.3533e+05,  1.0247e+05,  ..., -1.7222e-01,\n",
       "           -3.3817e-01, -4.6753e-02],\n",
       "          ...,\n",
       "          [ 2.0618e+05,  1.3791e+05,  1.0608e+05,  ..., -3.7647e-03,\n",
       "            1.9229e-02, -1.0774e-01],\n",
       "          [ 2.0618e+05,  1.3797e+05,  1.0614e+05,  ...,  3.9223e-02,\n",
       "            7.3401e-04, -5.7750e-02],\n",
       "          [ 2.0618e+05,  1.3802e+05,  1.0620e+05,  ...,  8.9210e-02,\n",
       "           -2.6758e-02,  7.4714e-02]]]])"
      ]
     },
     "execution_count": 10,
     "metadata": {},
     "output_type": "execute_result"
    }
   ],
   "source": [
    "dataiter = iter(train_loader)\n",
    "init_states, target_states, forcing = next(dataiter)\n",
    "init_states"
   ]
  },
  {
   "cell_type": "code",
   "execution_count": 11,
   "metadata": {},
   "outputs": [
    {
     "name": "stdout",
     "output_type": "stream",
     "text": [
      "validation_set batches: 94\n"
     ]
    }
   ],
   "source": [
    "val_set = ERA5UKDataset(\n",
    "    dataset_name,\n",
    "    pred_length=28,\n",
    "    split=\"val\",\n",
    "    standardize=False,\n",
    ")\n",
    "val_loader = torch.utils.data.DataLoader(\n",
    "    val_set,\n",
    "    batch_size,\n",
    "    shuffle=True,\n",
    "    num_workers=n_workers,\n",
    ")\n",
    "\n",
    "print(\"validation_set batches:\", len(val_loader))"
   ]
  },
  {
   "cell_type": "code",
   "execution_count": 13,
   "metadata": {},
   "outputs": [],
   "source": [
    "init_states, target_states, forcing = val_set[0]"
   ]
  },
  {
   "cell_type": "code",
   "execution_count": 14,
   "metadata": {},
   "outputs": [
    {
     "name": "stdout",
     "output_type": "stream",
     "text": [
      "init_states: torch.Size([2, 3705, 48])\n",
      "target_states: torch.Size([28, 3705, 48])\n",
      "forcing: torch.Size([28, 3705, 0])\n"
     ]
    }
   ],
   "source": [
    "print(\"init_states:\", init_states.shape)\n",
    "print(\"target_states:\", target_states.shape)\n",
    "print(\"forcing:\", forcing.shape)"
   ]
  },
  {
   "cell_type": "code",
   "execution_count": null,
   "metadata": {},
   "outputs": [],
   "source": []
  }
 ],
 "metadata": {
  "kernelspec": {
   "display_name": "Python 3",
   "language": "python",
   "name": "python3"
  },
  "language_info": {
   "codemirror_mode": {
    "name": "ipython",
    "version": 3
   },
   "file_extension": ".py",
   "mimetype": "text/x-python",
   "name": "python",
   "nbconvert_exporter": "python",
   "pygments_lexer": "ipython3",
   "version": "3.9.19"
  }
 },
 "nbformat": 4,
 "nbformat_minor": 2
}
