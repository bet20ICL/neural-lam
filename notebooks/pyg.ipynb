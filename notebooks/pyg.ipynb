{
 "cells": [
  {
   "cell_type": "markdown",
   "metadata": {},
   "source": [
    "## Tensor Reshaping"
   ]
  },
  {
   "cell_type": "code",
   "execution_count": 46,
   "metadata": {},
   "outputs": [
    {
     "name": "stdout",
     "output_type": "stream",
     "text": [
      "torch.Size([3, 2, 4])\n",
      "torch.Size([2, 3, 4])\n"
     ]
    },
    {
     "data": {
      "text/plain": [
       "tensor([[[0, 1, 1, 2],\n",
       "         [2, 3, 3, 4],\n",
       "         [5, 6, 6, 7]],\n",
       "\n",
       "        [[1, 0, 2, 1],\n",
       "         [3, 2, 4, 3],\n",
       "         [6, 5, 7, 6]]])"
      ]
     },
     "execution_count": 46,
     "metadata": {},
     "output_type": "execute_result"
    }
   ],
   "source": [
    "import torch\n",
    "\n",
    "# Define the tensor (example with more than 2 rectangles)\n",
    "tensor = torch.tensor([[[0, 1, 1, 2],\n",
    "                        [1, 0, 2, 1]],\n",
    "\n",
    "                       [[2, 3, 3, 4],\n",
    "                        [3, 2, 4, 3]],\n",
    "\n",
    "                       [[5, 6, 6, 7],\n",
    "                        [6, 5, 7, 6]]])\n",
    "print(tensor.shape)\n",
    "tmp = tensor.permute(1, 0, 2)\n",
    "print(tmp.shape)\n",
    "tmp"
   ]
  },
  {
   "cell_type": "code",
   "execution_count": 48,
   "metadata": {},
   "outputs": [
    {
     "data": {
      "text/plain": [
       "tensor([[0, 1, 1, 2, 2, 3, 3, 4, 5, 6, 6, 7],\n",
       "        [1, 0, 2, 1, 3, 2, 4, 3, 6, 5, 7, 6]])"
      ]
     },
     "execution_count": 48,
     "metadata": {},
     "output_type": "execute_result"
    }
   ],
   "source": [
    "result = tmp.reshape(tensor.shape[1], -1)\n",
    "result"
   ]
  },
  {
   "cell_type": "code",
   "execution_count": null,
   "metadata": {},
   "outputs": [],
   "source": [
    "\n",
    "# # Reshape the tensor to concatenate all rectangles along the second dimension\n",
    "# result = tensor.permute(1, 0, 2).reshape(tensor.shape[1], -1)\n",
    "\n",
    "# print(result)\n"
   ]
  },
  {
   "cell_type": "markdown",
   "metadata": {},
   "source": [
    "## Investigate GATConv"
   ]
  },
  {
   "cell_type": "code",
   "execution_count": 1,
   "metadata": {},
   "outputs": [],
   "source": [
    "import torch\n",
    "from torch_geometric.nn import GCNConv, GATConv\n",
    "from torch_geometric.data import Data, Batch"
   ]
  },
  {
   "cell_type": "code",
   "execution_count": 124,
   "metadata": {},
   "outputs": [],
   "source": [
    "layer = GATConv(2, 8, heads=4)\n",
    "# layer = GCNConv(2, 32)"
   ]
  },
  {
   "cell_type": "code",
   "execution_count": 125,
   "metadata": {},
   "outputs": [],
   "source": [
    "# Original Data\n",
    "edge_index = torch.tensor([[0, 1],\n",
    "                           [1, 0],\n",
    "                           [1, 2],\n",
    "                           [2, 1]], dtype=torch.long)\n",
    "edge_index=edge_index.t().contiguous()\n",
    "x = torch.tensor([[-1, 2], [0, 3], [1, 4]], dtype=torch.float)"
   ]
  },
  {
   "cell_type": "code",
   "execution_count": 126,
   "metadata": {},
   "outputs": [
    {
     "name": "stdout",
     "output_type": "stream",
     "text": [
      "torch.Size([2, 3, 2])\n",
      "torch.Size([2, 2, 4])\n"
     ]
    }
   ],
   "source": [
    "# Create mini-batch\n",
    "x1 = torch.tensor([[-1, 3], [0, 4], [1, 5]], dtype=torch.float)\n",
    "x_batch = torch.stack([x, x1])\n",
    "\n",
    "edge_index1 = edge_index + x.shape[0]\n",
    "edge_index_batch = torch.stack([edge_index, edge_index1])\n",
    "\n",
    "print(x_batch.shape)\n",
    "print(edge_index_batch.shape)\n"
   ]
  },
  {
   "cell_type": "code",
   "execution_count": 127,
   "metadata": {},
   "outputs": [
    {
     "data": {
      "text/plain": [
       "tensor([[[-1.,  2.],\n",
       "         [ 0.,  3.],\n",
       "         [ 1.,  4.]],\n",
       "\n",
       "        [[-1.,  3.],\n",
       "         [ 0.,  4.],\n",
       "         [ 1.,  5.]]])"
      ]
     },
     "execution_count": 127,
     "metadata": {},
     "output_type": "execute_result"
    }
   ],
   "source": [
    "x_batch"
   ]
  },
  {
   "cell_type": "code",
   "execution_count": 128,
   "metadata": {},
   "outputs": [
    {
     "data": {
      "text/plain": [
       "tensor([[[0, 1, 1, 2],\n",
       "         [1, 0, 2, 1]],\n",
       "\n",
       "        [[3, 4, 4, 5],\n",
       "         [4, 3, 5, 4]]])"
      ]
     },
     "execution_count": 128,
     "metadata": {},
     "output_type": "execute_result"
    }
   ],
   "source": [
    "edge_index_batch"
   ]
  },
  {
   "cell_type": "code",
   "execution_count": 129,
   "metadata": {},
   "outputs": [
    {
     "name": "stdout",
     "output_type": "stream",
     "text": [
      "torch.Size([6, 2])\n"
     ]
    },
    {
     "data": {
      "text/plain": [
       "tensor([[-1.,  2.],\n",
       "        [ 0.,  3.],\n",
       "        [ 1.,  4.],\n",
       "        [-1.,  3.],\n",
       "        [ 0.,  4.],\n",
       "        [ 1.,  5.]])"
      ]
     },
     "execution_count": 129,
     "metadata": {},
     "output_type": "execute_result"
    }
   ],
   "source": [
    "x_b = x_batch.view(-1, x_batch.size(-1))\n",
    "print(x_b.shape)\n",
    "x_b"
   ]
  },
  {
   "cell_type": "code",
   "execution_count": 130,
   "metadata": {},
   "outputs": [
    {
     "name": "stdout",
     "output_type": "stream",
     "text": [
      "torch.Size([6, 2])\n"
     ]
    },
    {
     "data": {
      "text/plain": [
       "tensor([[-1.,  2.],\n",
       "        [ 0.,  3.],\n",
       "        [ 1.,  4.],\n",
       "        [-1.,  3.],\n",
       "        [ 0.,  4.],\n",
       "        [ 1.,  5.]])"
      ]
     },
     "execution_count": 130,
     "metadata": {},
     "output_type": "execute_result"
    }
   ],
   "source": [
    "# Create collated minibatch manually\n",
    "x_batch_pyg = torch.reshape(x_batch, (-1, x_batch.shape[-1]))\n",
    "print(x_batch_pyg.shape)\n",
    "x_batch_pyg"
   ]
  },
  {
   "cell_type": "code",
   "execution_count": 131,
   "metadata": {},
   "outputs": [
    {
     "name": "stdout",
     "output_type": "stream",
     "text": [
      "torch.Size([2, 8])\n"
     ]
    }
   ],
   "source": [
    "# (B, 2, E) -> (2, B, E) -> (2, B*E)\n",
    "# edge_index_batch_pyg = torch.permute(edge_index_batch, (1, 0, 2)).reshape(2, -1)\n",
    "# print(edge_index_batch_pyg.shape)\n",
    "# edge_index_batch_pyg\n",
    "\n",
    "N_nodes = x_batch.size(1)\n",
    "batch_size = x_batch.size(0)\n",
    "edge_index_batch_pyg = torch.cat([edge_index + i * N_nodes for i in range(batch_size)], dim=1)\n",
    "\n",
    "print(edge_index_batch_pyg.shape)"
   ]
  },
  {
   "cell_type": "code",
   "execution_count": 132,
   "metadata": {},
   "outputs": [
    {
     "data": {
      "text/plain": [
       "DataBatch(x=[6, 2], edge_index=[2, 8], batch=[6], ptr=[3])"
      ]
     },
     "execution_count": 132,
     "metadata": {},
     "output_type": "execute_result"
    }
   ],
   "source": [
    "# Create a minibatch using PyG Data objects\n",
    "data_list = [Data(x=x, edge_index=edge_index) for x in x_batch]\n",
    "batch = Batch.from_data_list(data_list)\n",
    "\n",
    "batch"
   ]
  },
  {
   "cell_type": "code",
   "execution_count": 114,
   "metadata": {},
   "outputs": [
    {
     "data": {
      "text/plain": [
       "tensor([[-1.,  2.],\n",
       "        [ 0.,  3.],\n",
       "        [ 1.,  4.],\n",
       "        [-1.,  3.],\n",
       "        [ 0.,  4.],\n",
       "        [ 1.,  5.]])"
      ]
     },
     "execution_count": 114,
     "metadata": {},
     "output_type": "execute_result"
    }
   ],
   "source": [
    "batch.x"
   ]
  },
  {
   "cell_type": "code",
   "execution_count": 115,
   "metadata": {},
   "outputs": [
    {
     "data": {
      "text/plain": [
       "tensor([[0, 1, 1, 2, 0, 3, 4, 4, 5, 3],\n",
       "        [1, 0, 2, 1, 2, 4, 3, 5, 4, 5]])"
      ]
     },
     "execution_count": 115,
     "metadata": {},
     "output_type": "execute_result"
    }
   ],
   "source": [
    "batch.edge_index"
   ]
  },
  {
   "cell_type": "code",
   "execution_count": 116,
   "metadata": {},
   "outputs": [
    {
     "name": "stdout",
     "output_type": "stream",
     "text": [
      "tensor(True)\n",
      "tensor(True)\n"
     ]
    }
   ],
   "source": [
    "print(torch.isclose(x_batch_pyg, batch.x).all())\n",
    "print(torch.isclose(edge_index_batch_pyg, batch.edge_index).all())"
   ]
  },
  {
   "cell_type": "code",
   "execution_count": 60,
   "metadata": {},
   "outputs": [],
   "source": [
    "y_batch = layer(batch.x, batch.edge_index)"
   ]
  },
  {
   "cell_type": "code",
   "execution_count": 61,
   "metadata": {},
   "outputs": [
    {
     "data": {
      "text/plain": [
       "torch.Size([6, 32])"
      ]
     },
     "execution_count": 61,
     "metadata": {},
     "output_type": "execute_result"
    }
   ],
   "source": [
    "y_batch.shape"
   ]
  },
  {
   "cell_type": "code",
   "execution_count": 70,
   "metadata": {},
   "outputs": [
    {
     "name": "stdout",
     "output_type": "stream",
     "text": [
      "torch.Size([2, 3, 32])\n"
     ]
    }
   ],
   "source": [
    "y_b = torch.reshape(y_batch, (x_batch.shape[0], x_batch.shape[1], -1))\n",
    "print(y_b.shape)"
   ]
  },
  {
   "cell_type": "code",
   "execution_count": null,
   "metadata": {},
   "outputs": [
    {
     "name": "stdout",
     "output_type": "stream",
     "text": [
      "torch.Size([100, 10])\n"
     ]
    }
   ],
   "source": [
    "import torch\n",
    "import os\n",
    "\n",
    "# Define the dimensions\n",
    "N_rec = 50\n",
    "N_send = 50\n",
    "d_h = 10\n",
    "\n",
    "# Create the tensors\n",
    "rec_rep = torch.randn(N_rec, d_h)\n",
    "send_rep = torch.randn(N_send, d_h)\n",
    "\n",
    "# Concatenate the tensors\n",
    "node_reps = torch.cat((rec_rep, send_rep), dim=-2)\n",
    "\n",
    "# Print the shape of the resulting tensor\n",
    "print(node_reps.shape)"
   ]
  },
  {
   "cell_type": "markdown",
   "metadata": {},
   "source": [
    "# Learn PyG"
   ]
  },
  {
   "cell_type": "code",
   "execution_count": null,
   "metadata": {},
   "outputs": [],
   "source": [
    "import torch\n",
    "from torch.nn import Linear, Parameter\n",
    "from torch_geometric.nn import MessagePassing\n",
    "from torch_geometric.utils import add_self_loops, degree\n",
    "\n",
    "class GCNConv(MessagePassing):\n",
    "    def __init__(self, in_channels, out_channels):\n",
    "        super().__init__(aggr='add')  # \"Add\" aggregation (Step 5).\n",
    "        self.lin = Linear(in_channels, out_channels, bias=False)\n",
    "        self.bias = Parameter(torch.empty(out_channels))\n",
    "\n",
    "        self.reset_parameters()\n",
    "\n",
    "    def reset_parameters(self):\n",
    "        self.lin.reset_parameters()\n",
    "        self.bias.data.zero_()\n",
    "\n",
    "    def forward(self, x, edge_index):\n",
    "        # x has shape [N, in_channels]\n",
    "        # edge_index has shape [2, E]\n",
    "        \n",
    "        print(\"edge_index.shape\")\n",
    "        print(edge_index.shape)\n",
    "        # Step 1: Add self-loops to the adjacency matrix.\n",
    "        edge_index, _ = add_self_loops(edge_index, num_nodes=x.size(0))\n",
    "        # [2, E] -> [2, E + N]\n",
    "        print(\"edge_index.shape (self loops added)\")\n",
    "        print(edge_index.shape)\n",
    "        \n",
    "        # Step 2: Linearly transform node feature matrix.\n",
    "        x = self.lin(x) # [N, in_channels] -> [N, out_channels]\n",
    "        print(\"x.shape\")\n",
    "        print(x.shape)\n",
    "\n",
    "        # Step 3: Compute normalization.\n",
    "        row, col = edge_index\n",
    "\n",
    "        # Diagonal of degree matrix (all elements not on diagonal are 0)\n",
    "        deg = degree(col, x.size(0), dtype=x.dtype) # [N]\n",
    "        deg_inv_sqrt = deg.pow(-0.5)\n",
    "        deg_inv_sqrt[deg_inv_sqrt == float('inf')] = 0\n",
    "        print(\"degree shapes\")\n",
    "        print(deg.shape)\n",
    "        print(deg_inv_sqrt.shape)\n",
    "        \n",
    "        # Elementwise multiplication\n",
    "        norm = deg_inv_sqrt[row] * deg_inv_sqrt[col] # [E]\n",
    "        print(\"norm.shape\")\n",
    "        print(norm.shape)\n",
    "\n",
    "        # Step 4-5: Start propagating messages.\n",
    "        # calculate message by passing x, norm to self.message() (internally)\n",
    "        # for each node, use edge_index to determine incoming messages\n",
    "        out = self.propagate(edge_index, x=x, norm=norm)\n",
    "\n",
    "        # Step 6: Apply a final bias vector.\n",
    "        out += self.bias\n",
    "\n",
    "        return out\n",
    "\n",
    "    def message(self, x_j, norm):\n",
    "        # calculates the message for node i (that is, x_i)\n",
    "        # x_j has shape [E, out_channels]\n",
    "        # Step 4: Normalize node features.\n",
    "        \n",
    "        print(\"x_j.shape\")\n",
    "        print(x_j.shape)\n",
    "        print(\"norm.view(-1, 1).shape\")\n",
    "        print(norm.view(-1, 1).shape)\n",
    "        print(\"message shape\")\n",
    "        print((norm.view(-1, 1) * x_j).shape)\n",
    "        return norm.view(-1, 1) * x_j\n",
    "    \n",
    "    def update(self, aggr_out, x):\n",
    "        print(\"aggr_out.shape\")\n",
    "        print(aggr_out.shape)\n",
    "        print(\"x.shape\")\n",
    "        print(x.shape)\n",
    "        return aggr_out + x"
   ]
  },
  {
   "cell_type": "code",
   "execution_count": null,
   "metadata": {},
   "outputs": [
    {
     "name": "stdout",
     "output_type": "stream",
     "text": [
      "edge_index.shape\n",
      "torch.Size([2, 11])\n",
      "edge_index.shape (self loops added)\n",
      "torch.Size([2, 21])\n",
      "x.shape\n",
      "torch.Size([10, 128])\n",
      "degree shapes\n",
      "torch.Size([10])\n",
      "torch.Size([10])\n",
      "norm.shape\n",
      "torch.Size([21])\n",
      "x_j.shape\n",
      "torch.Size([21, 128])\n",
      "norm.view(-1, 1).shape\n",
      "torch.Size([21, 1])\n",
      "message shape\n",
      "torch.Size([21, 128])\n",
      "aggr_out.shape\n",
      "torch.Size([10, 128])\n",
      "x.shape\n",
      "torch.Size([10, 128])\n",
      "tensor([[ 0.5136, -0.7564, -0.1948,  ..., -0.0750,  0.2263, -0.8994],\n",
      "        [ 0.5533, -0.5819, -0.0547,  ...,  0.6010, -0.3274, -0.3957],\n",
      "        [ 0.3818,  0.1921,  0.9273,  ..., -0.3475, -0.1355, -0.7313],\n",
      "        ...,\n",
      "        [-0.0356,  0.4850, -0.4018,  ..., -0.4825,  0.5431,  1.2539],\n",
      "        [-1.2525,  0.2215,  0.4838,  ..., -0.0128,  0.4759,  0.0181],\n",
      "        [ 0.4090, -0.0837, -0.1797,  ...,  0.2653, -0.4348, -0.2556]],\n",
      "       grad_fn=<AddBackward0>)\n",
      "torch.Size([10, 128])\n"
     ]
    }
   ],
   "source": [
    "# Create an instance of GCNConv\n",
    "gcn = GCNConv(in_channels=64, out_channels=128)\n",
    "\n",
    "# Create sample input data\n",
    "x = torch.randn(10, 64)  # Node feature matrix\n",
    "edge_index = torch.tensor([[0, 1, 2, 3, 4, 5, 6, 7, 8, 9, 8],\n",
    "                           [1, 0, 3, 2, 5, 4, 7, 6, 9, 8, 7]])  # Edge indices\n",
    "\n",
    "# Pass the input data through GCNConv\n",
    "output = gcn(x, edge_index)\n",
    "\n",
    "# Print the output\n",
    "print(output)\n",
    "print(output.shape)"
   ]
  },
  {
   "cell_type": "code",
   "execution_count": null,
   "metadata": {},
   "outputs": [],
   "source": [
    "import torch\n",
    "from torch_geometric.data import Data\n",
    "\n",
    "edge_index = torch.tensor([[0, 1],\n",
    "                           [1, 0],\n",
    "                           [1, 2],\n",
    "                           [2, 1]], dtype=torch.long)\n",
    "\n",
    "x = torch.tensor([[-1], [0], [1]], dtype=torch.float)\n",
    "\n",
    "data = Data(x=x, edge_index=edge_index.t().contiguous())"
   ]
  },
  {
   "cell_type": "code",
   "execution_count": null,
   "metadata": {},
   "outputs": [],
   "source": [
    "from torch_geometric.datasets import TUDataset\n",
    "from torch_geometric.loader import DataLoader\n",
    "\n",
    "dataset = TUDataset(root='/tmp/ENZYMES', name='ENZYMES', use_node_attr=True)\n",
    "loader = DataLoader(dataset, batch_size=32, shuffle=True)\n",
    "\n",
    "data = dataset[0]"
   ]
  },
  {
   "cell_type": "code",
   "execution_count": null,
   "metadata": {},
   "outputs": [
    {
     "data": {
      "text/plain": [
       "600"
      ]
     },
     "metadata": {},
     "output_type": "display_data"
    }
   ],
   "source": [
    "len(dataset)"
   ]
  },
  {
   "cell_type": "code",
   "execution_count": null,
   "metadata": {},
   "outputs": [
    {
     "data": {
      "text/plain": [
       "Data(edge_index=[2, 168], x=[37, 21], y=[1])"
      ]
     },
     "metadata": {},
     "output_type": "display_data"
    }
   ],
   "source": [
    "data"
   ]
  },
  {
   "cell_type": "code",
   "execution_count": null,
   "metadata": {},
   "outputs": [],
   "source": [
    "batch = next(iter(loader))"
   ]
  },
  {
   "cell_type": "code",
   "execution_count": null,
   "metadata": {},
   "outputs": [
    {
     "data": {
      "text/plain": [
       "DataBatch(edge_index=[2, 4388], x=[1228, 21], y=[32], batch=[1228], ptr=[33])"
      ]
     },
     "metadata": {},
     "output_type": "display_data"
    }
   ],
   "source": [
    "batch"
   ]
  },
  {
   "cell_type": "code",
   "execution_count": null,
   "metadata": {},
   "outputs": [
    {
     "data": {
      "text/plain": [
       "32"
      ]
     },
     "metadata": {},
     "output_type": "display_data"
    }
   ],
   "source": [
    "batch.num_graphs"
   ]
  },
  {
   "cell_type": "code",
   "execution_count": null,
   "metadata": {},
   "outputs": [
    {
     "data": {
      "text/plain": [
       "1228"
      ]
     },
     "metadata": {},
     "output_type": "display_data"
    }
   ],
   "source": [
    "batch.num_nodes"
   ]
  },
  {
   "cell_type": "code",
   "execution_count": null,
   "metadata": {},
   "outputs": [
    {
     "data": {
      "text/plain": [
       "torch.Size([1024])"
      ]
     },
     "metadata": {},
     "output_type": "display_data"
    }
   ],
   "source": [
    "batch.batch.shape"
   ]
  },
  {
   "cell_type": "code",
   "execution_count": null,
   "metadata": {},
   "outputs": [
    {
     "data": {
      "text/plain": [
       "torch.Size([1024, 21])"
      ]
     },
     "metadata": {},
     "output_type": "display_data"
    }
   ],
   "source": [
    "batch.x.shape"
   ]
  },
  {
   "cell_type": "code",
   "execution_count": null,
   "metadata": {},
   "outputs": [],
   "source": [
    "from torch_geometric.utils import scatter\n",
    "\n",
    "\n",
    "x = scatter(batch.x, batch.batch, dim=0, reduce='mean')"
   ]
  },
  {
   "cell_type": "code",
   "execution_count": null,
   "metadata": {},
   "outputs": [
    {
     "data": {
      "text/plain": [
       "torch.Size([32, 21])"
      ]
     },
     "metadata": {},
     "output_type": "display_data"
    }
   ],
   "source": [
    "x.shape"
   ]
  }
 ],
 "metadata": {
  "kernelspec": {
   "display_name": "Python 3",
   "language": "python",
   "name": "python3"
  },
  "language_info": {
   "codemirror_mode": {
    "name": "ipython",
    "version": 3
   },
   "file_extension": ".py",
   "mimetype": "text/x-python",
   "name": "python",
   "nbconvert_exporter": "python",
   "pygments_lexer": "ipython3",
   "version": "3.9.19"
  }
 },
 "nbformat": 4,
 "nbformat_minor": 2
}
