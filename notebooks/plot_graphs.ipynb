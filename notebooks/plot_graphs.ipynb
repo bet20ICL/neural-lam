{
 "cells": [
  {
   "cell_type": "code",
   "execution_count": 12,
   "metadata": {},
   "outputs": [],
   "source": [
    "import matplotlib.pyplot as plt\n",
    "import cartopy.crs as ccrs\n",
    "import cartopy.feature as cfeature"
   ]
  },
  {
   "cell_type": "code",
   "execution_count": null,
   "metadata": {},
   "outputs": [],
   "source": [
    "def add_geo_features(ax):\n",
    "    ax.add_feature(cfeature.BORDERS, linestyle=':')\n",
    "    ax.add_feature(cfeature.STATES.with_scale('10m'))  \n",
    "      \n",
    "    ax.coastlines()\n",
    "    ax.add_feature(cfeature.OCEAN)\n",
    "    ax.add_feature(cfeature.LAND, edgecolor='black')\n",
    "    ax.add_feature(cfeature.LAKES, edgecolor='black', alpha=0.5)\n",
    "    ax.add_feature(cfeature.RIVERS)\n",
    "    \n",
    "def add_cities(ax, cities):\n",
    "    for city, (lon, lat) in cities.items():\n",
    "        ax.plot(lon, lat, 'ro', transform=ccrs.PlateCarree())\n",
    "        ax.text(lon + 0.1, lat + 0.1, city, transform=ccrs.PlateCarree())\n"
   ]
  },
  {
   "cell_type": "code",
   "execution_count": null,
   "metadata": {},
   "outputs": [],
   "source": [
    "\n",
    "# Create a map with PlateCarree projection\n",
    "fig, ax = plt.subplots(subplot_kw={'projection': ccrs.PlateCarree()})\n",
    "\n",
    "# Set the extent to focus on the UK\n",
    "uk_extent = [-10, 5, 49, 61]\n",
    "expanded_extent = [-20, 20, 40, 70]\n",
    "\n",
    "ax.set_extent(uk_extent)\n",
    "# ax.set_extent(expanded_extent)\n",
    "\n",
    "add_geo_features(ax)\n",
    "\n",
    "cities = {\n",
    "    'London': (-0.1276, 51.5074),\n",
    "    'Edinburgh': (-3.1883, 55.9533),\n",
    "    'Cardiff': (-3.1791, 51.4816),\n",
    "    'Belfast': (-5.9301, 54.5973)\n",
    "}\n",
    "add_cities(ax, cities)\n",
    "\n",
    "# Add gridlines\n",
    "gl = ax.gridlines(draw_labels=True)\n",
    "gl.top_lables = False\n",
    "gl.right_labels = False\n",
    "\n",
    "plt.title('Basic Map of the UK')"
   ]
  },
  {
   "cell_type": "code",
   "execution_count": null,
   "metadata": {},
   "outputs": [],
   "source": []
  }
 ],
 "metadata": {
  "kernelspec": {
   "display_name": "graph",
   "language": "python",
   "name": "python3"
  },
  "language_info": {
   "codemirror_mode": {
    "name": "ipython",
    "version": 3
   },
   "file_extension": ".py",
   "mimetype": "text/x-python",
   "name": "python",
   "nbconvert_exporter": "python",
   "pygments_lexer": "ipython3",
   "version": "3.10.6"
  }
 },
 "nbformat": 4,
 "nbformat_minor": 2
}
