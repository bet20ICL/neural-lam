{
 "cells": [
  {
   "cell_type": "code",
   "execution_count": 1,
   "metadata": {},
   "outputs": [],
   "source": [
    "import sys\n",
    "import os\n",
    "\n",
    "sys.path.append(os.path.dirname(os.getcwd()))\n",
    "\n",
    "os.chdir(\"../\")"
   ]
  },
  {
   "cell_type": "markdown",
   "metadata": {},
   "source": [
    "## Sanity Check: Load Param files"
   ]
  },
  {
   "cell_type": "code",
   "execution_count": 2,
   "metadata": {},
   "outputs": [],
   "source": [
    "import numpy as np"
   ]
  },
  {
   "cell_type": "code",
   "execution_count": 6,
   "metadata": {},
   "outputs": [
    {
     "name": "stdout",
     "output_type": "stream",
     "text": [
      "(3705, 48)\n"
     ]
    },
    {
     "data": {
      "text/plain": [
       "array([[0.00016076, 0.00048229, 0.00080381, ..., 0.00192915, 0.00273296,\n",
       "        0.00321525],\n",
       "       [0.00016076, 0.00048229, 0.00080381, ..., 0.00192915, 0.00273296,\n",
       "        0.00321525],\n",
       "       [0.00016076, 0.00048229, 0.00080381, ..., 0.00192915, 0.00273296,\n",
       "        0.00321525],\n",
       "       ...,\n",
       "       [0.0002415 , 0.00072451, 0.00120751, ..., 0.00289803, 0.00410554,\n",
       "        0.00483005],\n",
       "       [0.0002415 , 0.00072451, 0.00120751, ..., 0.00289803, 0.00410554,\n",
       "        0.00483005],\n",
       "       [0.0002415 , 0.00072451, 0.00120751, ..., 0.00289803, 0.00410554,\n",
       "        0.00483005]], dtype=float32)"
      ]
     },
     "execution_count": 6,
     "metadata": {},
     "output_type": "execute_result"
    }
   ],
   "source": [
    "era5_weights = np.load(\"./data/era5_uk_small/static/parameter_weights.npy\")\n",
    "print(era5_weights.shape)\n",
    "era5_weights"
   ]
  },
  {
   "cell_type": "code",
   "execution_count": 3,
   "metadata": {},
   "outputs": [
    {
     "name": "stdout",
     "output_type": "stream",
     "text": [
      "(17,)\n"
     ]
    },
    {
     "data": {
      "text/plain": [
       "array([0.1  , 0.1  , 0.1  , 0.1  , 1.   , 0.065, 1.   , 0.065, 0.03 ,\n",
       "       0.05 , 0.065, 0.05 , 0.065, 0.05 , 0.1  , 0.1  , 0.03 ],\n",
       "      dtype=float32)"
      ]
     },
     "execution_count": 3,
     "metadata": {},
     "output_type": "execute_result"
    }
   ],
   "source": [
    "meps_weights = np.load(\"/vol/bitbucket/bet20/neural-lam/data/meps_example/static/parameter_weights.npy\")\n",
    "print(meps_weights.shape)\n",
    "meps_weights"
   ]
  },
  {
   "cell_type": "code",
   "execution_count": 4,
   "metadata": {},
   "outputs": [
    {
     "name": "stdout",
     "output_type": "stream",
     "text": [
      "(3705, 48)\n"
     ]
    },
    {
     "data": {
      "text/plain": [
       "array([[0.00016076, 0.00048229, 0.00080381, ..., 0.00192915, 0.00273296,\n",
       "        0.00321525],\n",
       "       [0.00016076, 0.00048229, 0.00080381, ..., 0.00192915, 0.00273296,\n",
       "        0.00321525],\n",
       "       [0.00016076, 0.00048229, 0.00080381, ..., 0.00192915, 0.00273296,\n",
       "        0.00321525],\n",
       "       ...,\n",
       "       [0.0002415 , 0.00072451, 0.00120751, ..., 0.00289803, 0.00410554,\n",
       "        0.00483005],\n",
       "       [0.0002415 , 0.00072451, 0.00120751, ..., 0.00289803, 0.00410554,\n",
       "        0.00483005],\n",
       "       [0.0002415 , 0.00072451, 0.00120751, ..., 0.00289803, 0.00410554,\n",
       "        0.00483005]], dtype=float32)"
      ]
     },
     "execution_count": 4,
     "metadata": {},
     "output_type": "execute_result"
    }
   ],
   "source": [
    "era5_weights = np.load(\"/vol/bitbucket/bet20/neural-lam/data/era5_uk/static/parameter_weights.npy\")\n",
    "print(era5_weights.shape)\n",
    "era5_weights"
   ]
  },
  {
   "cell_type": "markdown",
   "metadata": {},
   "source": [
    "# Parameter weighting"
   ]
  },
  {
   "cell_type": "code",
   "execution_count": 2,
   "metadata": {},
   "outputs": [],
   "source": [
    "import os\n",
    "import numpy as np\n",
    "import torch\n",
    "import matplotlib.pyplot as plt\n",
    "from neural_lam.constants import ERA5UKConstants"
   ]
  },
  {
   "cell_type": "code",
   "execution_count": 3,
   "metadata": {},
   "outputs": [],
   "source": [
    "levels = np.array(ERA5UKConstants.LEVELS).astype(int)\n",
    "\n",
    "weighting = levels / sum(levels) # (N_levels,)\n",
    "weighting = np.tile(weighting, 6) # (N_levels * N_vars)"
   ]
  },
  {
   "cell_type": "code",
   "execution_count": 8,
   "metadata": {},
   "outputs": [
    {
     "data": {
      "text/plain": [
       "array([0.01315789, 0.03947368, 0.06578947, 0.10526316, 0.13157895,\n",
       "       0.15789474, 0.22368421, 0.26315789])"
      ]
     },
     "execution_count": 8,
     "metadata": {},
     "output_type": "execute_result"
    }
   ],
   "source": []
  },
  {
   "cell_type": "code",
   "execution_count": 11,
   "metadata": {},
   "outputs": [
    {
     "data": {
      "text/plain": [
       "Text(0, 0.5, 'Weighting')"
      ]
     },
     "execution_count": 11,
     "metadata": {},
     "output_type": "execute_result"
    },
    {
     "data": {
      "image/png": "[encoded data removed]",
      "text/plain": [
       "<Figure size 640x480 with 1 Axes>"
      ]
     },
     "metadata": {},
     "output_type": "display_data"
    }
   ],
   "source": [
    "fig, ax = plt.subplots()\n",
    "\n",
    "ax.plot(levels, weighting[:8], marker='o')\n",
    "ax.set_xticks(levels)\n",
    "ax.set_xlabel(\"Pressure level (hPa)\")\n",
    "ax.set_ylabel(\"Weighting\")"
   ]
  },
  {
   "cell_type": "markdown",
   "metadata": {},
   "source": [
    "### numpy version"
   ]
  },
  {
   "cell_type": "code",
   "execution_count": 17,
   "metadata": {},
   "outputs": [
    {
     "name": "stdout",
     "output_type": "stream",
     "text": [
      "(2, 57, 65)\n",
      "(3705, 2)\n",
      "(3705,)\n",
      "(3705, 48)\n"
     ]
    }
   ],
   "source": [
    "# load nwp_xy.npy\n",
    "static_dir_path = \"data/era5_uk/static\"\n",
    "grid_xy = np.load(os.path.join(static_dir_path, \"nwp_xy.npy\")) # (2, N_x, N_y)\n",
    "_, _, n_lat = grid_xy.shape\n",
    "print(grid_xy.shape)\n",
    "grid_xy = grid_xy.reshape(2, -1).T # (N_x * N_y, 2)\n",
    "print(grid_xy.shape)\n",
    "lats = grid_xy[:, 1] # (N_x * N_y,)\n",
    "cos_lats = np.cos(np.deg2rad(lats))\n",
    "lat_weights = n_lat * cos_lats / cos_lats.sum() # scale to unit mean over grid \n",
    "print(lat_weights.shape)\n",
    "param_weights = np.expand_dims(lat_weights, axis=1) * weighting\n",
    "print(param_weights.shape)"
   ]
  },
  {
   "cell_type": "code",
   "execution_count": 24,
   "metadata": {},
   "outputs": [
    {
     "data": {
      "text/plain": [
       "array([63.  , 62.75, 62.5 , ..., 47.5 , 47.25, 47.  ], dtype=float32)"
      ]
     },
     "execution_count": 24,
     "metadata": {},
     "output_type": "execute_result"
    }
   ],
   "source": [
    "lats"
   ]
  },
  {
   "cell_type": "code",
   "execution_count": 23,
   "metadata": {},
   "outputs": [
    {
     "name": "stdout",
     "output_type": "stream",
     "text": [
      "[0.45399055 0.45787394 0.4617486  ... 0.67559016 0.67880076 0.6819983 ]\n"
     ]
    }
   ],
   "source": [
    "print(cos_lats)"
   ]
  },
  {
   "cell_type": "markdown",
   "metadata": {},
   "source": [
    "## torch version"
   ]
  },
  {
   "cell_type": "code",
   "execution_count": 5,
   "metadata": {},
   "outputs": [
    {
     "name": "stdout",
     "output_type": "stream",
     "text": [
      "torch.Size([2, 57, 65])\n",
      "torch.Size([3705, 2])\n",
      "torch.Size([3705, 48])\n"
     ]
    }
   ],
   "source": [
    "# load nwp_xy.npy\n",
    "static_dir_path = \"data/era5_uk/static\"\n",
    "grid_xy = torch.tensor(\n",
    "    np.load(os.path.join(static_dir_path, \"nwp_xy.npy\"))\n",
    ")  # (2, N_x, N_y)\n",
    "_, _, n_lat = grid_xy.shape\n",
    "print(grid_xy.shape)\n",
    "grid_xy = grid_xy.reshape(2, -1).T # (N_x * N_y, 2)\n",
    "print(grid_xy.shape)\n",
    "lats = grid_xy[:, 1] # (N_x * N_y,)\n",
    "cos_lats = torch.cos(torch.deg2rad(lats))\n",
    "lat_weights = n_lat * cos_lats / cos_lats.sum() # scale to unit mean over grid \n",
    "lat_weights = lat_weights.unsqueeze(1) * weighting\n",
    "print(lat_weights.shape)"
   ]
  },
  {
   "cell_type": "code",
   "execution_count": 6,
   "metadata": {},
   "outputs": [
    {
     "data": {
      "text/plain": [
       "tensor([[0.0002, 0.0005, 0.0009,  ..., 0.0022, 0.0031, 0.0037],\n",
       "        [0.0002, 0.0006, 0.0009,  ..., 0.0022, 0.0031, 0.0037],\n",
       "        [0.0002, 0.0006, 0.0009,  ..., 0.0022, 0.0032, 0.0037],\n",
       "        ...,\n",
       "        [0.0003, 0.0008, 0.0014,  ..., 0.0033, 0.0046, 0.0055],\n",
       "        [0.0003, 0.0008, 0.0014,  ..., 0.0033, 0.0047, 0.0055],\n",
       "        [0.0003, 0.0008, 0.0014,  ..., 0.0033, 0.0047, 0.0055]],\n",
       "       dtype=torch.float64)"
      ]
     },
     "execution_count": 6,
     "metadata": {},
     "output_type": "execute_result"
    }
   ],
   "source": [
    "lat_weights"
   ]
  },
  {
   "cell_type": "code",
   "execution_count": 7,
   "metadata": {},
   "outputs": [],
   "source": [
    "lat_weights = lat_weights.numpy()"
   ]
  },
  {
   "cell_type": "code",
   "execution_count": 8,
   "metadata": {},
   "outputs": [
    {
     "data": {
      "text/plain": [
       "True"
      ]
     },
     "execution_count": 8,
     "metadata": {},
     "output_type": "execute_result"
    }
   ],
   "source": [
    "np.isclose(param_weights, lat_weights).all()"
   ]
  },
  {
   "cell_type": "code",
   "execution_count": 9,
   "metadata": {},
   "outputs": [
    {
     "data": {
      "text/plain": [
       "array([0.01315789, 0.03947368, 0.06578947, 0.10526316, 0.13157895,\n",
       "       0.15789474, 0.22368421, 0.26315789, 0.01315789, 0.03947368,\n",
       "       0.06578947, 0.10526316, 0.13157895, 0.15789474, 0.22368421,\n",
       "       0.26315789, 0.01315789, 0.03947368, 0.06578947, 0.10526316,\n",
       "       0.13157895, 0.15789474, 0.22368421, 0.26315789, 0.01315789,\n",
       "       0.03947368, 0.06578947, 0.10526316, 0.13157895, 0.15789474,\n",
       "       0.22368421, 0.26315789, 0.01315789, 0.03947368, 0.06578947,\n",
       "       0.10526316, 0.13157895, 0.15789474, 0.22368421, 0.26315789,\n",
       "       0.01315789, 0.03947368, 0.06578947, 0.10526316, 0.13157895,\n",
       "       0.15789474, 0.22368421, 0.26315789])"
      ]
     },
     "execution_count": 9,
     "metadata": {},
     "output_type": "execute_result"
    }
   ],
   "source": [
    "weighting"
   ]
  },
  {
   "cell_type": "code",
   "execution_count": null,
   "metadata": {},
   "outputs": [
    {
     "data": {
      "text/plain": [
       "[<matplotlib.axis.YTick at 0x7b8ee80e12b0>,\n",
       " <matplotlib.axis.YTick at 0x7b8ee80c6c10>,\n",
       " <matplotlib.axis.YTick at 0x7b8ee80c6100>,\n",
       " <matplotlib.axis.YTick at 0x7b8e1ceaaa30>,\n",
       " <matplotlib.axis.YTick at 0x7b8e1cebf520>,\n",
       " <matplotlib.axis.YTick at 0x7b8e1cebffd0>,\n",
       " <matplotlib.axis.YTick at 0x7b8e1ce45ac0>,\n",
       " <matplotlib.axis.YTick at 0x7b8e1cebf790>,\n",
       " <matplotlib.axis.YTick at 0x7b8e1ce4b7f0>,\n",
       " <matplotlib.axis.YTick at 0x7b8e1ce522e0>,\n",
       " <matplotlib.axis.YTick at 0x7b8e1ce52d90>,\n",
       " <matplotlib.axis.YTick at 0x7b8e1ce598b0>,\n",
       " <matplotlib.axis.YTick at 0x7b8e1ce4b0a0>,\n",
       " <matplotlib.axis.YTick at 0x7b8e1ce5e1f0>,\n",
       " <matplotlib.axis.YTick at 0x7b8e1ce5eca0>]"
      ]
     },
     "metadata": {},
     "output_type": "display_data"
    },
    {
     "data": {
      "image/png": "[encoded data removed]",
      "text/plain": [
       "<Figure size 640x480 with 1 Axes>"
      ]
     },
     "metadata": {},
     "output_type": "display_data"
    }
   ],
   "source": [
    "pressure_levels = np.array([1, 2, 3, 5, 7, 10, 20, 30, 50, 70, 100, 125, 150, 175, 200, 225, 250, 300, 350,\n",
    "400, 450, 500, 550, 600, 650, 700, 750, 775, 800, 825, 850, 875, 900, 925, 950, 975, 1000])\n",
    "# x_axis = np.linspace(0, )\n",
    "\n",
    "weighting = pressure_levels / sum(pressure_levels)\n",
    "fig, ax = plt.subplots()\n",
    "\n",
    "ax.plot(pressure_levels, weighting, marker='o')\n",
    "y_ticks = np.arange(0, 0.07, 0.005)\n",
    "ax.set_yticks(y_ticks)"
   ]
  },
  {
   "cell_type": "code",
   "execution_count": null,
   "metadata": {},
   "outputs": [
    {
     "data": {
      "text/plain": [
       "array([0.00321585, 0.00964754, 0.01607924, 0.02572678, 0.03215848,\n",
       "       0.03859017, 0.05466941, 0.06431695])"
      ]
     },
     "metadata": {},
     "output_type": "display_data"
    }
   ],
   "source": [
    "subset_levels = [int(i) for i in ['50', '150', '250', '400', '500', '600', '850', '1000']]\n",
    "subset_weighting = np.array([weighting[pressure_levels == i][0] for i in subset_levels])\n",
    "subset_weighting"
   ]
  },
  {
   "cell_type": "code",
   "execution_count": null,
   "metadata": {},
   "outputs": [
    {
     "data": {
      "text/plain": [
       "[<matplotlib.lines.Line2D at 0x7127d92b0940>]"
      ]
     },
     "metadata": {},
     "output_type": "display_data"
    },
    {
     "data": {
      "image/png": "[encoded data removed]",
      "text/plain": [
       "<Figure size 640x480 with 1 Axes>"
      ]
     },
     "metadata": {},
     "output_type": "display_data"
    }
   ],
   "source": [
    "pressure_levels = np.array(['50', '150', '250', '400', '500', '600', '850', '1000']).astype(int)\n",
    "# x_axis = np.linspace(0, )\n",
    "\n",
    "weighting = pressure_levels / sum(pressure_levels)\n",
    "fig, ax = plt.subplots()\n",
    "\n",
    "ax.plot(pressure_levels, weighting, marker='o')\n",
    "# y_ticks = np.arange(0, 0.07, 0.005)\n",
    "# ax.set_yticks(y_ticks)"
   ]
  },
  {
   "cell_type": "code",
   "execution_count": null,
   "metadata": {},
   "outputs": [
    {
     "data": {
      "text/plain": [
       "array([0.01315789, 0.03947368, 0.06578947, 0.10526316, 0.13157895,\n",
       "       0.15789474, 0.22368421, 0.26315789])"
      ]
     },
     "metadata": {},
     "output_type": "display_data"
    }
   ],
   "source": [
    "subset_levels = [int(i) for i in ['50', '150', '250', '400', '500', '600', '850', '1000']]\n",
    "subset_weighting_1 = np.array([weighting[pressure_levels == i][0] for i in subset_levels])\n",
    "subset_weighting_1"
   ]
  },
  {
   "cell_type": "code",
   "execution_count": null,
   "metadata": {},
   "outputs": [
    {
     "data": {
      "text/plain": [
       "array([4.09157895, 4.09157895, 4.09157895, 4.09157895, 4.09157895,\n",
       "       4.09157895, 4.09157895, 4.09157895])"
      ]
     },
     "metadata": {},
     "output_type": "display_data"
    }
   ],
   "source": [
    "subset_weighting_1 / subset_weighting\n"
   ]
  }
 ],
 "metadata": {
  "kernelspec": {
   "display_name": "Python 3",
   "language": "python",
   "name": "python3"
  },
  "language_info": {
   "codemirror_mode": {
    "name": "ipython",
    "version": 3
   },
   "file_extension": ".py",
   "mimetype": "text/x-python",
   "name": "python",
   "nbconvert_exporter": "python",
   "pygments_lexer": "ipython3",
   "version": "3.9.12"
  }
 },
 "nbformat": 4,
 "nbformat_minor": 2
}
