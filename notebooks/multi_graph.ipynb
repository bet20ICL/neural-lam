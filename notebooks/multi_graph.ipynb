{
 "cells": [
  {
   "cell_type": "code",
   "execution_count": 1,
   "metadata": {},
   "outputs": [],
   "source": [
    "import sys\n",
    "import os\n",
    "\n",
    "sys.path.append(os.path.dirname(os.getcwd()))\n",
    "os.chdir(\"../\")"
   ]
  },
  {
   "cell_type": "code",
   "execution_count": 2,
   "metadata": {},
   "outputs": [],
   "source": [
    "import os\n",
    "import json\n",
    "import logging\n",
    "\n",
    "import numpy as np\n",
    "import torch\n",
    "from sklearn.neighbors import NearestNeighbors\n",
    "from torch import Tensor\n",
    "\n",
    "from graphcast_utils import (\n",
    "    add_edge_features,\n",
    "    add_node_features,\n",
    "    cell_to_adj,\n",
    "    create_graph,\n",
    "    create_heterograph,\n",
    "    get_edge_len,\n",
    "    latlon2xyz,\n",
    "    xyz2latlon,\n",
    "    find_subset_indices,\n",
    ")"
   ]
  },
  {
   "cell_type": "markdown",
   "metadata": {},
   "source": [
    "# Fully Connected Graph"
   ]
  },
  {
   "cell_type": "code",
   "execution_count": 11,
   "metadata": {},
   "outputs": [],
   "source": [
    "# This makes an example bipartite graph\n",
    "# each fine mesh node is connected to all coarse mesh nodes\n",
    "\n",
    "n_fine_mesh = torch.arange(4)\n",
    "n_coarse_mesh = torch.arange(5)\n",
    "grid_m, grid_n = torch.meshgrid(n_coarse_mesh, n_fine_mesh, indexing='ij')\n",
    "\n",
    "# Stack and reshape to get a 2D tensor with pairs (i, j)\n",
    "# Coarse2Fine Edges\n",
    "edges = torch.stack([grid_m.reshape(-1), grid_n.reshape(-1)], dim=1).T"
   ]
  },
  {
   "cell_type": "code",
   "execution_count": 12,
   "metadata": {},
   "outputs": [
    {
     "data": {
      "text/plain": [
       "tensor([[0, 0, 0, 0, 1, 1, 1, 1, 2, 2, 2, 2, 3, 3, 3, 3, 4, 4, 4, 4],\n",
       "        [0, 1, 2, 3, 0, 1, 2, 3, 0, 1, 2, 3, 0, 1, 2, 3, 0, 1, 2, 3]])"
      ]
     },
     "execution_count": 12,
     "metadata": {},
     "output_type": "execute_result"
    }
   ],
   "source": [
    "edges"
   ]
  },
  {
   "cell_type": "markdown",
   "metadata": {},
   "source": [
    "# Randomly Connected Graph"
   ]
  },
  {
   "cell_type": "code",
   "execution_count": 13,
   "metadata": {},
   "outputs": [],
   "source": [
    "# this makes a randomly connected bipartite graph\n",
    "N_coarse = 10\n",
    "N_fine = 5\n",
    "coarse_idxs = torch.randint(0, N_coarse, (6,))\n",
    "fine_idxs = torch.randint(0, N_fine, (6,))"
   ]
  },
  {
   "cell_type": "code",
   "execution_count": 14,
   "metadata": {},
   "outputs": [
    {
     "name": "stdout",
     "output_type": "stream",
     "text": [
      "tensor([[0, 2, 6, 9, 4, 8],\n",
      "        [3, 2, 4, 4, 3, 3]])\n",
      "tensor([[ 0,  2,  6,  9,  4,  8, 10, 12, 16, 19, 14, 18],\n",
      "        [ 3,  2,  4,  4,  3,  3,  8,  7,  9,  9,  8,  8]])\n"
     ]
    }
   ],
   "source": [
    "edge_index = torch.stack([coarse_idxs, fine_idxs])\n",
    "idx_offset = torch.tensor([[N_coarse], [N_fine]])\n",
    "\n",
    "edge_index_batch = torch.cat([\n",
    "    edge_index + idx_offset * i for i in range(2)\n",
    "], dim=1)\n",
    "\n",
    "print(edge_index)\n",
    "print(edge_index_batch)"
   ]
  },
  {
   "cell_type": "markdown",
   "metadata": {},
   "source": [
    "# Check Bipartite Graph Operation"
   ]
  },
  {
   "cell_type": "code",
   "execution_count": 15,
   "metadata": {},
   "outputs": [
    {
     "name": "stdout",
     "output_type": "stream",
     "text": [
      "torch.Size([2, 1])\n",
      "tensor([[6.],\n",
      "        [6.]])\n"
     ]
    }
   ],
   "source": [
    "import torch\n",
    "from torch_geometric.nn import MessagePassing\n",
    "\n",
    "class BipartiteGraphOperator(MessagePassing):\n",
    "        def __init__(self):\n",
    "            super(BipartiteGraphOperator, self).__init__('add')\n",
    "   \n",
    "        def forward(self, x, assign_index, N, M):\n",
    "            return self.propagate(assign_index, size=(N, M), x=x)\n",
    "\n",
    "conv = BipartiteGraphOperator()\n",
    "\n",
    "x = torch.Tensor([[1], [2], [3]])\n",
    "row = torch.tensor([0, 1, 2, 0, 1, 2])\n",
    "col = torch.tensor([0, 0, 0, 1, 1, 1])\n",
    "index = torch.stack([row, col], dim=0)\n",
    "\n",
    "out = conv(x, index, N=3, M=2)\n",
    "print(out.size())\n",
    "print(out)"
   ]
  },
  {
   "cell_type": "code",
   "execution_count": 16,
   "metadata": {},
   "outputs": [
    {
     "name": "stdout",
     "output_type": "stream",
     "text": [
      "tensor([[1.],\n",
      "        [2.],\n",
      "        [3.]])\n",
      "tensor([[ 7.],\n",
      "        [10.],\n",
      "        [10.]])\n"
     ]
    }
   ],
   "source": [
    "class SumGraphOperator(MessagePassing):\n",
    "    def __init__(self):\n",
    "        super(SumGraphOperator, self).__init__('add')\n",
    "\n",
    "    def forward(self, x, edge_index):\n",
    "        if isinstance(x, tuple):\n",
    "            return self.propagate(\n",
    "                edge_index, \n",
    "                size=(x[0].size(0), x[1].size(0)), \n",
    "                x=x\n",
    "            )\n",
    "        return self.propagate(edge_index, x=x)\n",
    "    \n",
    "    def message(self, x_i, x_j):\n",
    "        return x_j\n",
    "    \n",
    "    def update(self, aggr_out, x):\n",
    "        if isinstance(x, tuple):\n",
    "            return x[0], aggr_out + x[1]\n",
    "        return aggr_out + x\n",
    "    \n",
    "conv = SumGraphOperator()\n",
    "x = torch.Tensor([[1], [2], [3]])\n",
    "y = torch.Tensor([[4], [5], [6]])\n",
    "# row = torch.tensor([0, 1, 2, 0, 1, 2])\n",
    "# col = torch.tensor([0, 0, 0, 1, 1, 1])\n",
    "# index = torch.stack([row, col], dim=0)\n",
    "\n",
    "index = torch.tensor([\n",
    "    [0, 0, 1, 1, 2, 2],\n",
    "    [0, 2, 0, 1, 1, 2], \n",
    "])\n",
    "\n",
    "# out = conv((x, y), index)\n",
    "out = conv((x, y), index)\n",
    "# print(out.size())\n",
    "print(out[0])\n",
    "print(out[1])"
   ]
  },
  {
   "cell_type": "markdown",
   "metadata": {},
   "source": [
    "Conclusion:\n",
    "\n",
    "conv((src, dst), index)\n",
    "\n",
    "index = [\n",
    "    [src1, src2, ...],\n",
    "    [dst1, dst2, ...]\n",
    "]"
   ]
  },
  {
   "cell_type": "code",
   "execution_count": 24,
   "metadata": {},
   "outputs": [
    {
     "data": {
      "text/plain": [
       "tensor([[0, 1, 2, 0, 1, 2],\n",
       "        [0, 0, 0, 1, 1, 1]])"
      ]
     },
     "execution_count": 24,
     "metadata": {},
     "output_type": "execute_result"
    }
   ],
   "source": [
    "index"
   ]
  },
  {
   "cell_type": "markdown",
   "metadata": {},
   "source": [
    "# Transformer Conv"
   ]
  },
  {
   "cell_type": "code",
   "execution_count": null,
   "metadata": {},
   "outputs": [],
   "source": []
  },
  {
   "cell_type": "markdown",
   "metadata": {},
   "source": [
    "# Multiscale Graph"
   ]
  },
  {
   "cell_type": "code",
   "execution_count": 3,
   "metadata": {},
   "outputs": [],
   "source": [
    "big_dataset = \"era5_uk_big\"\n",
    "small_dataset = \"era5_uk_small\"\n",
    "\n",
    "big_grid_xy = np.load(f\"data/{big_dataset}/static/nwp_xy.npy\")\n",
    "small_grid_xy = np.load(f\"data/{small_dataset}/static/nwp_xy.npy\")"
   ]
  }
 ],
 "metadata": {
  "kernelspec": {
   "display_name": "Python 3",
   "language": "python",
   "name": "python3"
  },
  "language_info": {
   "codemirror_mode": {
    "name": "ipython",
    "version": 3
   },
   "file_extension": ".py",
   "mimetype": "text/x-python",
   "name": "python",
   "nbconvert_exporter": "python",
   "pygments_lexer": "ipython3",
   "version": "3.9.12"
  }
 },
 "nbformat": 4,
 "nbformat_minor": 2
}
