{
 "cells": [
  {
   "cell_type": "code",
   "execution_count": 1,
   "metadata": {},
   "outputs": [],
   "source": [
    "import sys\n",
    "import os\n",
    "\n",
    "sys.path.append(os.path.dirname(os.getcwd()))\n",
    "os.chdir(\"../\")"
   ]
  },
  {
   "cell_type": "code",
   "execution_count": 2,
   "metadata": {},
   "outputs": [],
   "source": [
    "import matplotlib.pyplot as plt\n",
    "import cartopy.crs as ccrs\n",
    "import cartopy.feature as cfeature\n",
    "\n",
    "import numpy as np\n",
    "import torch\n",
    "import pandas as pd\n",
    "\n",
    "from graph_utils import GraphData, load_graph, verify_graph, degrees, grid_extent"
   ]
  },
  {
   "cell_type": "code",
   "execution_count": 3,
   "metadata": {},
   "outputs": [],
   "source": [
    "def make_table_row(graph):\n",
    "    grid_shape = graph.grid_xy_rect.shape[1:]\n",
    "    box = grid_extent(graph.grid_xy)\n",
    "    num_grid_nodes = graph.grid_xy.shape[0] * graph.grid_xy.shape[1]\n",
    "    num_mesh = graph.mesh_pos.shape[1]\n",
    "    num_m2m_edges = len(graph.m2m_edge_index.T)\n",
    "    num_m2g_edges = len(graph.m2g_edge_index.T)\n",
    "    num_g2m_edges = len(graph.g2m_edge_index.T)\n",
    "    return [\n",
    "        grid_shape,\n",
    "        tuple(box[:2]),\n",
    "        tuple(box[2:]),\n",
    "        num_grid_nodes,\n",
    "        num_mesh,\n",
    "        num_m2m_edges,\n",
    "        num_m2g_edges,\n",
    "        num_g2m_edges,\n",
    "    ]"
   ]
  },
  {
   "cell_type": "code",
   "execution_count": 4,
   "metadata": {},
   "outputs": [
    {
     "name": "stdout",
     "output_type": "stream",
     "text": [
      "(2, 46, 40)\n",
      "(2, 81, 81)\n",
      "(2, 27, 27)\n",
      "(2, 137, 137)\n",
      "(2, 46, 46)\n"
     ]
    }
   ],
   "source": [
    "df = pd.DataFrame(columns=[\n",
    "    \"Name\",\n",
    "    \"Grid Shape\",\n",
    "    \"Longitude Range\",\n",
    "    \"Latitude Range\",\n",
    "    \"Num Grid Nodes\",\n",
    "    \"Num Mesh Nodes\",\n",
    "    \"Num M2M Edges\",\n",
    "    \"Num M2G Edges\",\n",
    "    \"Num G2M Edges\",\n",
    "    \"Resolution\",\n",
    "])\n",
    "\n",
    "small_graph = load_graph(\"era5_uk_small\", \"uk_small_ico\")\n",
    "r = [\"UK Small\"] + make_table_row(small_graph) + [\"0.25\"]\n",
    "df.loc[0] = r\n",
    "\n",
    "big_graph = load_graph(\"era5_uk_big\", \"uk_big_ico\")\n",
    "r = [\"UK Big\"] + make_table_row(big_graph) + [\"0.25\"]\n",
    "df.loc[1] = r\n",
    "\n",
    "big_coarse_graph = load_graph(\"era5_uk_big_coarse\", \"uk_big_coarse_ico\")\n",
    "r = [\"UK Big Coarse\"] + make_table_row(big_coarse_graph) + [\"1.25\"]\n",
    "df.loc[2] = r\n",
    "\n",
    "max_graph = load_graph(\"era5_uk_max\", \"uk_max_ico\")\n",
    "r = [\"UK Max\"] + make_table_row(max_graph) + [\"0.25\"]\n",
    "df.loc[3] = r\n",
    "\n",
    "max_coarse_graph = load_graph(\"era5_uk_max_coarse\", \"uk_max_coarse_ico\")\n",
    "r = [\"UK Max Coarse\"] + make_table_row(max_coarse_graph) + [\"1.25\"]\n",
    "df.loc[4] = r\n"
   ]
  },
  {
   "cell_type": "code",
   "execution_count": 5,
   "metadata": {},
   "outputs": [],
   "source": [
    "df.to_latex(\"graph_table.tex\", index=False)"
   ]
  },
  {
   "cell_type": "code",
   "execution_count": 6,
   "metadata": {},
   "outputs": [
    {
     "data": {
      "text/plain": [
       "Index([0, 1, 2, 3, 4], dtype='int64')"
      ]
     },
     "execution_count": 6,
     "metadata": {},
     "output_type": "execute_result"
    }
   ],
   "source": [
    "df.index"
   ]
  }
 ],
 "metadata": {
  "kernelspec": {
   "display_name": "Python 3",
   "language": "python",
   "name": "python3"
  },
  "language_info": {
   "codemirror_mode": {
    "name": "ipython",
    "version": 3
   },
   "file_extension": ".py",
   "mimetype": "text/x-python",
   "name": "python",
   "nbconvert_exporter": "python",
   "pygments_lexer": "ipython3",
   "version": "3.9.12"
  }
 },
 "nbformat": 4,
 "nbformat_minor": 2
}
